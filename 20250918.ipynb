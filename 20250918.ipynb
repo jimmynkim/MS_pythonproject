{
 "cells": [
  {
   "cell_type": "code",
   "execution_count": 4,
   "id": "1a88c708",
   "metadata": {},
   "outputs": [
    {
     "name": "stdout",
     "output_type": "stream",
     "text": [
      "Hello python\n"
     ]
    }
   ],
   "source": [
    "print(\"Hello python\")"
   ]
  }
 ],
 "metadata": {
  "language_info": {
   "name": "python"
  }
 },
 "nbformat": 4,
 "nbformat_minor": 5
}
