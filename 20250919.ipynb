{
 "cells": [
  {
   "cell_type": "markdown",
   "id": "e0a5bb9d",
   "metadata": {},
   "source": [
    "## 파이썬 기본"
   ]
  },
  {
   "cell_type": "markdown",
   "id": "ebce42f9",
   "metadata": {},
   "source": [
    "### 자료형과 변수"
   ]
  },
  {
   "cell_type": "markdown",
   "id": "85e402ad",
   "metadata": {},
   "source": [
    "#### 변수: 데이터(값)를 저장하는 메모리 공간\n",
    "\n",
    "- 파이썬에서 변수는 값을 가리키는 이름\n",
    "- 파이썬에서는 변수에 값이 할당될 때 그 값의 데이터 형에 따라 변수 타입이 결정\n",
    "- 변수 이름은 영문, 숫자, _(underbar)로 만들 수 있으며 숫자로 시작할 수 없음\n",
    "- 변수 이름은 영문의 대, 소문자를 구별"
   ]
  },
  {
   "cell_type": "code",
   "execution_count": 1,
   "id": "d62c02d3",
   "metadata": {},
   "outputs": [
    {
     "data": {
      "text/plain": [
       "19"
      ]
     },
     "execution_count": 1,
     "metadata": {},
     "output_type": "execute_result"
    }
   ],
   "source": [
    "# mynumber라는 변수 생성\n",
    "\n",
    "mynumber = 19\n",
    "\n",
    "mynumber"
   ]
  },
  {
   "cell_type": "markdown",
   "id": "dab79ae7",
   "metadata": {},
   "source": [
    "#### 자료형: 프로그램에서 사용할 수 있는 자료의 종류\n",
    "\n",
    "- 변수에는 정수, 실수, 문자열 등의 다양한 값들을 대입하여 저장할 수 있음\n",
    "\n",
    "기본 자료형: 정수형(int), 실수형(float), 문자열형(str), 부울형(bool)\n",
    "\n",
    "<br>\n",
    "\n",
    "| 데이터 타입 | 의미 | 예시 |\n",
    "|:---:|:---:|:---:|\n",
    "| 정수(integer) | 소수점이 없는 수 | -5, 100, 12345 |\n",
    "| 실수(floating-point) | 소수점이 있는 수 | -5.0, 3.14, 95.33 |\n",
    "| 문자열(string) | 따옴표로 에워싼 문자 또는 숫자 | 'Python', \"123\" |\n",
    "| 부울형(boolean) | 논리값 | True, False |\n"
   ]
  },
  {
   "cell_type": "code",
   "execution_count": null,
   "id": "211220a9",
   "metadata": {},
   "outputs": [],
   "source": [
    "123 # 정수형 데이터(integer)\n",
    "36.5 # 실수형 데이터(float)\n",
    "\"Hello\" # 문자열(string)\n",
    "'123' # 문자열(string)\n",
    "True, False # 논리데이터(boolean)"
   ]
  },
  {
   "cell_type": "code",
   "execution_count": 2,
   "id": "d5f620c4",
   "metadata": {},
   "outputs": [
    {
     "data": {
      "text/plain": [
       "int"
      ]
     },
     "execution_count": 2,
     "metadata": {},
     "output_type": "execute_result"
    }
   ],
   "source": [
    "# type()으로 mynumber 자료형 알기\n",
    "\n",
    "type(mynumber)"
   ]
  },
  {
   "cell_type": "markdown",
   "id": "5f95aa2b",
   "metadata": {},
   "source": [
    "##### 숫자형 데이터 타입\n",
    "\n",
    "- 소수점이 없는 숫자 데이터 '정수형'과 소수점이 있는 숫자 데이터 '실수형'\n",
    "- 변수에 저장할 때는 숫자만 입력\n",
    "- '실수형'은 소수점 16번째 자리까지만 메모리에 저장하고 나머지는 손실 (메모리 크기 제약)\n",
    "\n",
    "##### 자료형 변환\n",
    "\n",
    "- 자료형은 서로 간에 변환이 가능하며, '형 변환'이라고도 함\n",
    "- 자료형을 변환하기 위해서는 함수를 사용  \n",
    "  각 함수의 괄호 안에 데이터를 넣으면 데이터의 자료형이 변환\n",
    "\n",
    "<br>\n",
    "\n",
    "| 함수 | 의미 | 사용 예 |\n",
    "|:---:|:---:|:---:|\n",
    "| str() | 문자형으로 변환 | str(5), str(1.23), str(True) |\n",
    "| int() | 정수형으로 변환 | int('100'), int(True) |\n",
    "| float() | 실수형으로 변환 | float('3.14') |\n",
    "| bool() | 논리형으로 변환 | bool('True'), bool(0) |"
   ]
  },
  {
   "cell_type": "code",
   "execution_count": 4,
   "id": "1f170fbe",
   "metadata": {},
   "outputs": [
    {
     "data": {
      "text/plain": [
       "19.0"
      ]
     },
     "execution_count": 4,
     "metadata": {},
     "output_type": "execute_result"
    }
   ],
   "source": [
    "# int형인 mynumber를 float형으로 변환\n",
    "\n",
    "float(mynumber)"
   ]
  },
  {
   "cell_type": "markdown",
   "id": "5851216f",
   "metadata": {},
   "source": [
    "#### 연산자\n",
    "\n",
    "- 수식: 연산자와 피연산자로 이루어지는 계산식  \n",
    "<br> 연산자: 컴퓨터에 복잡한 계산을 시키기 위해 사용함  \n",
    "피연산자: 연산의 대상, 연산에 필요한 데이터\n",
    "\n",
    "<br>\n",
    "\n",
    "| 구분 | 연산자 | 설명 |\n",
    "|:---:|:---:|:---:|\n",
    "| 산술 연산자 | +, -, *, /, %, //, ** | 덧셈, 뺄셈 등 산술 연산 |\n",
    "| 할당 연산자 | =, +=, -=, *=, /=, %=, //=, **= | 오른쪽의 값을 연산하여 왼쪽에 대입 |\n",
    "| 비교 연산자 | ==, !=, >, >=, <, <= | 크고 작음을 비교 |\n",
    "| 논리 연산자 | and, or, not | 참(True)과 거짓(False)을 판별 |"
   ]
  },
  {
   "cell_type": "code",
   "execution_count": 3,
   "id": "aedb59e5",
   "metadata": {},
   "outputs": [
    {
     "data": {
      "text/plain": [
       "2.5"
      ]
     },
     "execution_count": 3,
     "metadata": {},
     "output_type": "execute_result"
    }
   ],
   "source": [
    "# 산술 연산 해보기\n",
    "num1 = 1\n",
    "num2= 1.5\n",
    "\n",
    "num1 + num2"
   ]
  },
  {
   "cell_type": "code",
   "execution_count": 4,
   "id": "6dfb9c58",
   "metadata": {},
   "outputs": [
    {
     "data": {
      "text/plain": [
       "'HelloWorld!'"
      ]
     },
     "execution_count": 4,
     "metadata": {},
     "output_type": "execute_result"
    }
   ],
   "source": [
    "str1 = \"Hello\"\n",
    "str2 = \"World!\"\n",
    "\n",
    "str1 + str2"
   ]
  },
  {
   "cell_type": "code",
   "execution_count": 5,
   "id": "fcf49674",
   "metadata": {},
   "outputs": [
    {
     "name": "stdout",
     "output_type": "stream",
     "text": [
      "Hello World!\n"
     ]
    }
   ],
   "source": [
    "# print 함수 사용해서 출력\n",
    "print(str1, str2)"
   ]
  },
  {
   "cell_type": "code",
   "execution_count": 6,
   "id": "a2ca7044",
   "metadata": {},
   "outputs": [
    {
     "data": {
      "text/plain": [
       "'Hello'"
      ]
     },
     "execution_count": 6,
     "metadata": {},
     "output_type": "execute_result"
    }
   ],
   "source": [
    "num1 * str1"
   ]
  },
  {
   "cell_type": "code",
   "execution_count": 7,
   "id": "1fabadc9",
   "metadata": {},
   "outputs": [
    {
     "data": {
      "text/plain": [
       "False"
      ]
     },
     "execution_count": 7,
     "metadata": {},
     "output_type": "execute_result"
    }
   ],
   "source": [
    "# 비교 연산 해보기\n",
    "num1 == num2"
   ]
  },
  {
   "cell_type": "code",
   "execution_count": 8,
   "id": "57abde71",
   "metadata": {},
   "outputs": [
    {
     "name": "stdout",
     "output_type": "stream",
     "text": [
      "True\n",
      "True\n",
      "False\n"
     ]
    }
   ],
   "source": [
    "# 논리 연산\n",
    "print((3<5) and (3>0))\n",
    "print((4<7) or (5>8))\n",
    "print(not(5<9))"
   ]
  },
  {
   "cell_type": "markdown",
   "id": "66d116dc",
   "metadata": {},
   "source": [
    "#### 문자열 자료형\n",
    "\n",
    "- 문자 형태로 이루어진 자료형\n",
    "\n",
    "문자열 인덱싱(Indexing)\n",
    "- 문자열 내의 어떤 문자 값을 가져오기 위해서 문자열의 모든 문자마다 위치 값을 주는 것\n",
    "- 중괄호[ ]를 사용하고 인덱스는 0부터 시작\n",
    "- 뒤에서부터 인덱싱을 하려면 음수를 사용하여 -1부터 시작\n",
    "\n",
    "문자열 슬라이싱(Slicing)\n",
    "- 문자열 내의 일부분의 값(하나 이상의 문자 값)을 가져오는 것\n",
    "- [시작 인덱스 : 끝 인덱스 : (간격)] 에서 인덱스의 범위 지정\n",
    "- 처음 인덱스와 끝 인덱스는 생략 가능"
   ]
  },
  {
   "cell_type": "markdown",
   "id": "8693c4ca",
   "metadata": {},
   "source": [
    "#### 사용자 입력 함수\n",
    "\n",
    "- 사용자가 입력한 데이터는 **문자열** 형태로 반환(저장)\n",
    "- 즉, 입력 받은 데이터를 이용하여 **계산**하려면 **숫자형으로 변환**해야 함"
   ]
  },
  {
   "cell_type": "code",
   "execution_count": 9,
   "id": "f63b5e64",
   "metadata": {},
   "outputs": [
    {
     "name": "stdout",
     "output_type": "stream",
     "text": [
      "김지민 님 환영합니다!\n"
     ]
    }
   ],
   "source": [
    "# 이름 입력해보기\n",
    "\n",
    "name = input(\"이름을 입력하세요: \")\n",
    "print(name, \"님 환영합니다!\")"
   ]
  },
  {
   "cell_type": "code",
   "execution_count": 10,
   "id": "da9b8c06",
   "metadata": {},
   "outputs": [
    {
     "name": "stdout",
     "output_type": "stream",
     "text": [
      "3 + 7 = 10\n",
      "3 - 7 = -4\n",
      "3 * 7 = 21\n",
      "3 / 7 = 0.42857142857142855\n"
     ]
    }
   ],
   "source": [
    "## 미션: 사용자로부터 숫자 입력을 받아서 +, -, *, / 연산 결과를 출력해주세요\n",
    "\n",
    "num1 = int(input(\"첫 번째 숫자를 입력하세요:\"))\n",
    "num2 = int(input(\"두 번째 숫자를 입력하세요:\"))\n",
    "\n",
    "print(num1 ,\"+\", num2, \"=\" ,num1+num2)\n",
    "print(num1 ,\"-\", num2, \"=\" ,num1-num2)\n",
    "print(num1 ,\"*\", num2, \"=\" ,num1*num2)\n",
    "print(num1 ,\"/\", num2, \"=\" ,num1/num2)"
   ]
  },
  {
   "cell_type": "markdown",
   "id": "15f5c1a1",
   "metadata": {},
   "source": [
    "#### 출력 함수\n",
    "\n",
    "표준 출력 print() 함수\n",
    "- 실행한 결과를 기기의 화면을 통해 보여주는 함수\n",
    "\n",
    "print(값, ..., [sep=' '], [end=' '])\n",
    "- 값: 출력 대상(숫자, 문자열, 변수, 계산식)\n",
    "- sep: 출력 대상들 사이에 넣을 구분 기호 지정, 기본값은 공백\n",
    "- end: 값 출력하고 마지막에 출력할 문자열 지정, 기본값은 줄바꿈\n"
   ]
  },
  {
   "cell_type": "code",
   "execution_count": 11,
   "id": "b42cc40b",
   "metadata": {},
   "outputs": [
    {
     "name": "stdout",
     "output_type": "stream",
     "text": [
      "Hello,Hello,"
     ]
    }
   ],
   "source": [
    "print(\"Hello\",\"Hello\", sep=\",\", end=\",\")"
   ]
  },
  {
   "cell_type": "code",
   "execution_count": 12,
   "id": "2aea7d64",
   "metadata": {},
   "outputs": [
    {
     "name": "stdout",
     "output_type": "stream",
     "text": [
      "Hello,Hello/"
     ]
    }
   ],
   "source": [
    "print(\"Hello\",\"Hello\", sep=\",\", end=\"/\")"
   ]
  },
  {
   "cell_type": "markdown",
   "id": "6cd0bbd5",
   "metadata": {},
   "source": [
    "출력 형태 - 콤마(,)로 구분하여 출력하는 형태\n",
    "- 화면에 출력되지는 않지만 출력 결과를 제어하는 문자\n",
    "- \\ (백슬래시) 뒤에 문자나 숫자가 오는 조합\n",
    "\n",
    "<br>\n",
    "\n",
    "| 이스케이프 시퀀스 | 표현 내용 | 설명 |\n",
    "|:---:|:---:|:---:|\n",
    "| \\n | 새로운 줄 | Enter와 같은 줄바꿈 |\n",
    "| \\t | 탭 | Tab 키를 누른 효과(4칸 띄움) |\n",
    "| \\' | 작은 따옴표 문자 | '(작은 따옴표) 자체를 출력 |\n",
    "| \\\" | 큰 따옴표 문자 | \"(큰 따옴표) 자체를 출력 |\n",
    "| \\\\ | \\ 문자 | \\(백슬래시) 자체를 출력 |\n"
   ]
  },
  {
   "cell_type": "code",
   "execution_count": 13,
   "id": "0f14e5c7",
   "metadata": {},
   "outputs": [
    {
     "name": "stdout",
     "output_type": "stream",
     "text": [
      "\"안녕\"이라고 말했다.\n",
      "\n",
      "안녕\n",
      "반가워\n",
      "추워\n",
      "\n"
     ]
    }
   ],
   "source": [
    "print(\"\\\"안녕\\\"이라고 말했다.\")\n",
    "\n",
    "sentence = \"\"\"\n",
    "안녕\n",
    "반가워\n",
    "추워\n",
    "\"\"\"\n",
    "print(sentence)"
   ]
  },
  {
   "cell_type": "code",
   "execution_count": 14,
   "id": "e8f0b199",
   "metadata": {},
   "outputs": [
    {
     "name": "stdout",
     "output_type": "stream",
     "text": [
      "'낮말'은 새가 듣고 '밤말'은 쥐가 듣는다.\n"
     ]
    }
   ],
   "source": [
    "## 미션\n",
    "\n",
    "print(\"'낮말'은 새가 듣고 '밤말'은 쥐가 듣는다.\")"
   ]
  },
  {
   "cell_type": "markdown",
   "id": "13fc8b9f",
   "metadata": {},
   "source": [
    "출력 형태 - 서식 지정자를 이용하는 형태\n",
    "- 서식 지정자: %로 시작하고 자료형을 뜻하는 문자로 구성  \n",
    "<br> ' %자료형 ' %(값)\n",
    "\n",
    "<br>\n",
    "\n",
    "| 서식 지정자 | 설명 | \n",
    "|:---:|:---:|\n",
    "| %d  | 정수 | \n",
    "| %f | 실수 | \n",
    "| %s | 문자열 |\n",
    "| %c | 문자 |\n",
    "| %x | 16진수 | \n",
    "| %o | 8진수 |\n",
    "| %e | 지수 | \n",
    "\n",
    "<br>\n",
    "\n",
    "출력 형태 - format() 이용하는 형태\n",
    "- { }(중괄호)와 format() 함수 안의 값들을 순서대로 대응하여 출력하는 형태  \n",
    "<br> **'{인덱스}'.format(값)**  \n",
    "**'{인덱스: 서식지정자}'.format(값)**\n",
    "\n",
    "출력 형태 - f-문자열(f-string)을 이용하는 형태\n",
    "- format() 함수 업그레이드 버전, 파이썬 버전 v3.6 이상부터 가능\n",
    "- f를 접두사와 출력하고 싶은 '값'을 { }(중괄호)로 감싸서 넣는 방법  \n",
    "<br> **f'{값: 서식지정자}'**"
   ]
  },
  {
   "cell_type": "code",
   "execution_count": 15,
   "id": "b85acc10",
   "metadata": {},
   "outputs": [
    {
     "name": "stdout",
     "output_type": "stream",
     "text": [
      "100 * 123 = 12,300\n"
     ]
    }
   ],
   "source": [
    "# 두 수를 입력 받아 곱 계산\n",
    "# format() 함수 이용, 계산 결과 천단위 쉼표(,) 표시\n",
    "\n",
    "a = int(input(\"첫 번째 정수 입력: \"))\n",
    "b = int(input(\"두 번쨰 정수 입력: \"))\n",
    "\n",
    "print('{0} * {1} = {2:,}'.format(a,b,a*b))"
   ]
  },
  {
   "cell_type": "code",
   "execution_count": 16,
   "id": "8c1ec224",
   "metadata": {},
   "outputs": [
    {
     "name": "stdout",
     "output_type": "stream",
     "text": [
      "결과 : 1000.12 * 12.135 = 12,136.46\n"
     ]
    }
   ],
   "source": [
    "# 두 수를 입력받아 곱 계산\n",
    "# f-string 이용\n",
    "\n",
    "a = float(input(\"첫 번째 값 입력: \"))\n",
    "b = float(input(\"두 번째 값 입력: \"))\n",
    "\n",
    "print(f'결과 : {a:.2f} * {b:.3f} = {a*b:,.2f}')"
   ]
  },
  {
   "cell_type": "code",
   "execution_count": 17,
   "id": "f6838dfa",
   "metadata": {},
   "outputs": [
    {
     "name": "stdout",
     "output_type": "stream",
     "text": [
      "김밥 주문 갯수: 2\n",
      "떡볶이 주문 갯수: 1\n",
      "라면 주문 갯수: 2\n",
      "지불하신 금액은 14500 원 입니다.\n"
     ]
    }
   ],
   "source": [
    "## 미션: 분식집 주문 프로그램\n",
    "\n",
    "a = int(input(\"김밥 주문 갯수: \"))\n",
    "b = int(input(\"떡볶이 주문 갯수: \"))\n",
    "c = int(input(\"라면 주문 갯수: \"))\n",
    "\n",
    "print(\"김밥 주문 갯수:\", a)\n",
    "print(\"떡볶이 주문 갯수:\", b)\n",
    "print(\"라면 주문 갯수:\", c)\n",
    "print(\"지불하신 금액은\", a*3000+b*3500+c*2500, \"원 입니다.\")"
   ]
  },
  {
   "cell_type": "code",
   "execution_count": 18,
   "id": "46ec3380",
   "metadata": {},
   "outputs": [
    {
     "name": "stdout",
     "output_type": "stream",
     "text": [
      "김밥 주문 갯수: 5\n",
      "떡볶이 주문 갯수: 4\n",
      "라면 주문 갯수: 3\n",
      "지불하신 금액은 36,500원 입니다.\n"
     ]
    }
   ],
   "source": [
    "## 미션: 분식집 주문 프로그램 (f-string 사용)\n",
    "\n",
    "a = int(input(\"김밥 주문 갯수: \"))\n",
    "b = int(input(\"떡볶이 주문 갯수: \"))\n",
    "c = int(input(\"라면 주문 갯수: \"))\n",
    "\n",
    "print(f\"김밥 주문 갯수: {a}\")\n",
    "print(f\"떡볶이 주문 갯수: {b}\")\n",
    "print(f\"라면 주문 갯수: {c}\")\n",
    "print(f\"지불하신 금액은 {a*3000+b*3500+c*2500:,}원 입니다.\")"
   ]
  },
  {
   "cell_type": "code",
   "execution_count": 19,
   "id": "e6bf072d",
   "metadata": {},
   "outputs": [
    {
     "name": "stdout",
     "output_type": "stream",
     "text": [
      "반지름 입력(cm): 37.45\n",
      "반지름: 37.5cm\n",
      "원의 둘레: 235.2cm\n",
      "원의 넓이: 4,403.9㎠\n"
     ]
    }
   ],
   "source": [
    "### 교재: 반지름을 입력 받아, 원의 둘레와 넓이 계산하기\n",
    "# 반지름 실수값을 입력 받아, 원의 둘레와 넓이 계산\n",
    "# 소숫점 이하 1자리로 표시, 원의 넓이는 천단위 쉼표(,) 표시\n",
    "# f-string 이용\n",
    "\n",
    "r = float(input(\"반지름 입력(cm): \"))\n",
    "\n",
    "print(\"반지름 입력(cm):\", r)\n",
    "print(f\"반지름: {r:.1f}cm\")\n",
    "print(f\"원의 둘레: {2*r*3.14:.1f}cm\")\n",
    "print(f\"원의 넓이: {r**2*3.14:,.1f}㎠\")"
   ]
  },
  {
   "cell_type": "markdown",
   "id": "1ecb4210",
   "metadata": {},
   "source": [
    "#### 프로그램의 3가지 기본 제어 구조\n",
    "\n",
    "제어구조: 프로그램에서 해야 할 동작의 흐름이나 순서를 처리하는 방법\n",
    "- 순차구조: 명령들이 순차적으로 실행되는 구조\n",
    "- 선택구조: 조건에 따라 명령을 선택하여 실행되는 구조\n",
    "- 반복구조: 동일한 명령이 반복되면서 실행되는 구조"
   ]
  },
  {
   "cell_type": "markdown",
   "id": "53b1f79a",
   "metadata": {},
   "source": [
    "조건문\n",
    "- 조건문은 특정 조건을 만족할 때 어떤 동작을 수행하도록 하는 문장\n",
    "- 조건식의 참(True)과 거짓(False)의 상태에 따라 그 상태에서 필요로 하는 코드들을 수행"
   ]
  },
  {
   "cell_type": "markdown",
   "id": "9db213e0",
   "metadata": {},
   "source": [
    "if 문의 조건식\n",
    "- 관계 연산자나 논리 연산자 등이 사용된 수식  \n",
    "<br> ※ 관계 연산자: 두 개의 피연산자를 비교 (>, >=, <, <=, ==, !=)  \n",
    "※ 논리 연산자: 여러 조건을 조합하여 참인지, 거짓인지 파악 (and, or, not)\n",
    "\n",
    "if 문\n",
    "- 선택 구조를 위한 기본적인 문장\n",
    "- 조건에 맞으면 문장/블록을 실행하고, 그렇지 않으면 건너뜀\n",
    "\n",
    "> if 조건식:  \n",
    "    문장(또는 블록)    \n",
    "\n",
    "if ~ else 문\n",
    "- 조건식의 값이 참과 거짓일 경우 구분하여 실행\n",
    "- 참이나 거짓에 해당하는 부분을 반드시 한 부분은 실행\n",
    "\n",
    "> if 조건식:  \n",
    "    문장(또는 블록)  \n",
    "    > else:  \n",
    "    문장(또는 블록)    \n",
    "\n",
    "if ~ elif 문\n",
    "- 다중 비교를 할 때 사용하는 조건문\n",
    "- elif는 else if의 줄임말로 '그렇지 않고 ~라면'\n",
    "\n",
    "> if 조건식1:  \n",
    "    문장(또는 블록)  \n",
    "    > elif 조건식2:  \n",
    "    문장(또는 블록)  \n",
    "    > else:  \n",
    "    문장(또는 블록)    \n",
    "\n",
    "\n",
    "중첩 조건문(중첩 if 문)\n",
    "- 조건문 내에 또 다른 조건문을 사용한 조건문"
   ]
  },
  {
   "cell_type": "code",
   "execution_count": 20,
   "id": "c452cc9e",
   "metadata": {},
   "outputs": [
    {
     "name": "stdout",
     "output_type": "stream",
     "text": [
      "스테이크를 먹는다.\n",
      "커피도 마신다.\n",
      "조건문 종료\n"
     ]
    }
   ],
   "source": [
    "money = True\n",
    "\n",
    "if money:\n",
    "    print(\"스테이크를 먹는다.\")\n",
    "    print(\"커피도 마신다.\")\n",
    "print(\"조건문 종료\")"
   ]
  },
  {
   "cell_type": "code",
   "execution_count": 21,
   "id": "25afec0f",
   "metadata": {},
   "outputs": [
    {
     "name": "stdout",
     "output_type": "stream",
     "text": [
      "조건문 종료\n"
     ]
    }
   ],
   "source": [
    "money = False\n",
    "\n",
    "if money:\n",
    "    print(\"스테이크를 먹는다.\")\n",
    "print(\"조건문 종료\")"
   ]
  },
  {
   "cell_type": "code",
   "execution_count": 22,
   "id": "e4331632",
   "metadata": {},
   "outputs": [
    {
     "name": "stdout",
     "output_type": "stream",
     "text": [
      "입력하신 숫자 7의 결과는 홀수입니다.\n"
     ]
    }
   ],
   "source": [
    "## 미션: 숫자를 입력받아 홀수와 짝수 구분하기\n",
    "\n",
    "num = int(input(\"숫자를 입력하세요: \"))\n",
    "if num%2==0:\n",
    "    print(f\"입력하신 숫자 {num}의 결과는 짝수입니다.\")\n",
    "else:\n",
    "    print(f\"입력하신 숫자 {num}의 결과는 홀수입니다.\")"
   ]
  },
  {
   "cell_type": "code",
   "execution_count": 23,
   "id": "084e38e5",
   "metadata": {},
   "outputs": [
    {
     "name": "stdout",
     "output_type": "stream",
     "text": [
      "85의 등급은 B 입니다.\n"
     ]
    }
   ],
   "source": [
    "## 미션 & 교재\n",
    "# 점수가 90점 이상이면 A, 80점 이상 90점 미만이면 B, 70점 이상 80점 미만이면 C\n",
    "# 60점 이상 70점 미만이면 D, 60점 미만이면 F 출력\n",
    "\n",
    "score = int(input(\"점수를 입력하세요: \"))\n",
    "if score >= 90:\n",
    "    print(f\"{score}의 등급은 A 입니다.\")\n",
    "elif score >= 80:\n",
    "    print(f\"{score}의 등급은 B 입니다.\")\n",
    "elif score >= 70:\n",
    "    print(f\"{score}의 등급은 C 입니다.\")\n",
    "elif score >=60:\n",
    "    print(f\"{score}의 등급은 D 입니다.\")\n",
    "else:\n",
    "    print(f\"{score}의 등급은 F 입니다.\")\n"
   ]
  },
  {
   "cell_type": "code",
   "execution_count": 24,
   "id": "caece18a",
   "metadata": {},
   "outputs": [
    {
     "name": "stdout",
     "output_type": "stream",
     "text": [
      "출생년도 끝자리 0의 구매 요일은 금 입니다.\n"
     ]
    }
   ],
   "source": [
    "### 교재: 출생 연도 끝자리와 나이를 입력하여 마스크 구매 가능한 요일을 출력\n",
    "# 출생 연도 끝자리(구매 요일): 1,6 (월) / 2,7 (화) / 3,8 (수) / 4,9 (목) / 5,0 (금)\n",
    "# 단, 65세 이상 어르신은 언제든지 구매 가능\n",
    "\n",
    "birth = int(input(\"출생 연도 끝자리를 입력하세요: \"))\n",
    "age = int(input(\"나이를 입력하세요: \"))\n",
    "\n",
    "if age>=65:\n",
    "    print(\"65세 이상이므로 구매 요일은 월, 화, 수, 목, 금 입니다.\")\n",
    "elif birth%5==1:\n",
    "    print(f\"출생년도 끝자리 {birth}의 구매 요일은 월 입니다.\")\n",
    "elif birth%5==2:\n",
    "    print(f\"출생년도 끝자리 {birth}의 구매 요일은 화 입니다.\")\n",
    "elif birth%5==3:\n",
    "    print(f\"출생년도 끝자리 {birth}의 구매 요일은 수 입니다.\")\n",
    "elif birth%5==4:\n",
    "    print(f\"출생년도 끝자리 {birth}의 구매 요일은 목 입니다.\")\n",
    "else:\n",
    "    print(f\"출생년도 끝자리 {birth}의 구매 요일은 금 입니다.\")"
   ]
  },
  {
   "cell_type": "code",
   "execution_count": 25,
   "id": "5d050d27",
   "metadata": {},
   "outputs": [
    {
     "name": "stdout",
     "output_type": "stream",
     "text": [
      "입력 일: 19\n",
      "입력 차량번호: 6399\n",
      "홀수 차량 운행날 입니다.\n",
      "차량 운행 가능합니다.\n"
     ]
    }
   ],
   "source": [
    "### 교재: 차량 2부제(홀짝제) 실시로, 차량번호가 홀수이면 홀수날, 짝수이면 짝수날 운행가능\n",
    "# 일(Day)과 차량번호를 입력하여 운행 여부를 출력\n",
    "\n",
    "# 일(day): 1 ~ 31 이외의 값이 입력되면 오류 메시지 출력하고 프로그램 종료\n",
    "# 차량번호: 4자리가 입력되지 않으면 오류 메시지 출력하고 프로그램 종료\n",
    "# len() 함수 이용: 문자열 길이 계산 함수\n",
    "\n",
    "day = int(input(\"오늘은 몇 일인지 입력하세요: \"))\n",
    "car = int(input(\"차량번호 4자리를 입력하세요: \"))\n",
    "\n",
    "if day<1 or day>31:\n",
    "    print(\"입력 일:\", day)\n",
    "    print(\"일(day) 입력 오류 입니다.\")\n",
    "\n",
    "elif len(str(car))!=4:\n",
    "    print(\"입력 차량번호:\", car)\n",
    "    print(\"차량번호 입력 오류 입니다.\")\n",
    "\n",
    "elif day%2==0 and car%2==0:\n",
    "    print(\"입력 일:\", day)\n",
    "    print(\"입력 차량번호:\", car)\n",
    "    print(\"짝수 차량 운행날 입니다.\")\n",
    "    print(\"차량 운행 가능합니다.\")\n",
    "\n",
    "elif day%2==0 and car%2!=0:\n",
    "    print(\"입력 일:\", day)\n",
    "    print(\"입력 차량번호:\", car) \n",
    "    print(\"짝수 차량 운행날 입니다.\")\n",
    "    print(\"차량 운행 불가능합니다.\")\n",
    "\n",
    "elif day%2==1 and car%2==1: \n",
    "    print(\"입력 일:\", day)\n",
    "    print(\"입력 차량번호:\", car)\n",
    "    print(\"홀수 차량 운행날 입니다.\")\n",
    "    print(\"차량 운행 가능합니다.\")\n",
    "\n",
    "else: \n",
    "    print(\"입력 일:\", day)\n",
    "    print(\"입력 차량번호:\", car)\n",
    "    print(\"홀수 차량 운행날 입니다.\")\n",
    "    print(\"차량 운행 불가능합니다.\")"
   ]
  },
  {
   "cell_type": "code",
   "execution_count": 26,
   "id": "57ce0f60",
   "metadata": {},
   "outputs": [
    {
     "name": "stdout",
     "output_type": "stream",
     "text": [
      "키: 188.5m, 몸무게: 80.2kg는 저체중입니다.\n"
     ]
    }
   ],
   "source": [
    "### 교재: 키와 몸무게를 입력받아, BMI 지수를 계산하고 비만유무를 출력하는 프로그램\n",
    "# BMI 지수 = 몸무게(kg) / (신장(m) * 신장(m))\n",
    "# BMI 18.5 미만 저체중, 18.5 ~ 22.9 정상, 23 이상 비만\n",
    "\n",
    "height = float(input(\"키를 입력하세요(m): \"))\n",
    "weight = float(input(\"몸무게를 입력하세요(kg): \"))\n",
    "bmi = weight / (height**2)\n",
    "\n",
    "if bmi >= 23:\n",
    "    print(f\"키: {height}m, 몸무게: {weight}kg는 비만입니다.\")\n",
    "elif bmi >= 18.5:\n",
    "    print(f\"키: {height}m, 몸무게: {weight}kg는 정상입니다.\")\n",
    "else:\n",
    "    print(f\"키: {height}m, 몸무게: {weight}kg는 저체중입니다.\")"
   ]
  },
  {
   "cell_type": "markdown",
   "id": "b61d19c9",
   "metadata": {},
   "source": [
    "#### 반복문\n",
    "- 반복은 동일한 문장을 여러 번 반복시키는 구조\n",
    "- 명령문, 루프문(loop statement)이라고도 함\n",
    "\n",
    "<br>\n",
    "\n",
    "|  | 조건 반복 | 횟수 반복 | 무한 반복 |\n",
    "|:---:|:---:|:---:|:---:|\n",
    "| 반복 기준 | 조건의 충족 | 반복 횟수 | 무한 실행 |\n",
    "| 사용 예 | 지칠 때까지 반복 | 10번 반복 | 계속 실행 |\n",
    "| 반복문 | while | for | while True|\n"
   ]
  },
  {
   "cell_type": "markdown",
   "id": "f866617b",
   "metadata": {},
   "source": [
    "while 문\n",
    "- **조건**에 따른 반복\n",
    "- 조건식의 값이 참(True)인 경우 문장(또는 블록)을 반복하고,\n",
    "- 조건식의 값이 거짓(False)이면 반복을 종료하여 빠져 나감"
   ]
  },
  {
   "cell_type": "code",
   "execution_count": 27,
   "id": "0c89c966",
   "metadata": {},
   "outputs": [
    {
     "name": "stdout",
     "output_type": "stream",
     "text": [
      "1부터 5까지의 합: 15\n"
     ]
    }
   ],
   "source": [
    "## 미션 & 교재: while문을 이용해서 1부터 사용자로부터 입력받은 정수값까지의 합\n",
    "\n",
    "num = int(input(\"정수값을 입력하세요: \"))\n",
    "\n",
    "sum = 0\n",
    "i = 1\n",
    "\n",
    "while i <= num:\n",
    "    sum = sum+i\n",
    "    i = i + 1\n",
    "\n",
    "print(f\"1부터 {num}까지의 합: {sum}\")"
   ]
  },
  {
   "cell_type": "code",
   "execution_count": 29,
   "id": "95548e5c",
   "metadata": {},
   "outputs": [
    {
     "name": "stdout",
     "output_type": "stream",
     "text": [
      "1부터 10까지의 합: 55\n"
     ]
    }
   ],
   "source": [
    "## 미션: while문을 사용해서 1부터 10까지의 합을 출력\n",
    "\n",
    "sum = 0\n",
    "i = 1\n",
    "\n",
    "while i <= 10:\n",
    "    sum = sum+i\n",
    "    i = i + 1\n",
    "    \n",
    "print(\"1부터 10까지의 합:\", sum)"
   ]
  },
  {
   "cell_type": "code",
   "execution_count": 30,
   "id": "28964d80",
   "metadata": {},
   "outputs": [
    {
     "name": "stdout",
     "output_type": "stream",
     "text": [
      "1부터 10까지의 곱: 3628800\n"
     ]
    }
   ],
   "source": [
    "## 미션: while문을 사용해서 1부터 10까지의 곱을 출력\n",
    "\n",
    "muitl = 1\n",
    "i = 1\n",
    "while i <= 10:\n",
    "    muitl = muitl * i\n",
    "    i = i + 1\n",
    "print(\"1부터 10까지의 곱:\", muitl)"
   ]
  },
  {
   "cell_type": "code",
   "execution_count": 31,
   "id": "9da496dd",
   "metadata": {},
   "outputs": [
    {
     "name": "stdout",
     "output_type": "stream",
     "text": [
      "4 * 1 = 4\n",
      "4 * 2 = 8\n",
      "4 * 3 = 12\n",
      "4 * 4 = 16\n",
      "4 * 5 = 20\n",
      "4 * 6 = 24\n",
      "4 * 7 = 28\n",
      "4 * 8 = 32\n",
      "4 * 9 = 36\n"
     ]
    }
   ],
   "source": [
    "## 미션: while문을 사용해서 사용자로부터 입력받은 숫자의 구구단을 출력\n",
    "\n",
    "gu = int(input(\"원하는 구구단의 단을 입력하세요: \"))\n",
    "\n",
    "dan = 1\n",
    "i = 1\n",
    "\n",
    "while i <= 9:\n",
    "    dan = gu*i\n",
    "    print(gu, \"*\", i, \"=\", dan)\n",
    "    i = i+1"
   ]
  },
  {
   "cell_type": "code",
   "execution_count": 32,
   "id": "7f77a983",
   "metadata": {},
   "outputs": [],
   "source": [
    "prompt = \"\"\"\n",
    "1. Add\n",
    "2. Del\n",
    "3. List\n",
    "4. Quit\n",
    "\n",
    "Enter number:\"\"\""
   ]
  },
  {
   "cell_type": "code",
   "execution_count": 33,
   "id": "153d9289",
   "metadata": {},
   "outputs": [
    {
     "name": "stdout",
     "output_type": "stream",
     "text": [
      "\n",
      "1. Add\n",
      "2. Del\n",
      "3. List\n",
      "4. Quit\n",
      "\n",
      "Enter number:\n",
      "\n",
      "1. Add\n",
      "2. Del\n",
      "3. List\n",
      "4. Quit\n",
      "\n",
      "Enter number:\n",
      "\n",
      "1. Add\n",
      "2. Del\n",
      "3. List\n",
      "4. Quit\n",
      "\n",
      "Enter number:\n"
     ]
    }
   ],
   "source": [
    "number = 0\n",
    "while number !=4:\n",
    "    print(prompt)\n",
    "    number = int(input(\"원하는 메뉴의 번호를 입력하세요: \"))\n",
    "\n",
    "# 4번 Quit 나가기 누를때까지 출력"
   ]
  },
  {
   "cell_type": "markdown",
   "id": "d0b876af",
   "metadata": {},
   "source": [
    "for 문\n",
    "- 지정된 횟수만큼 반복하는 횟수 제어 반복\n",
    "- for 변수 in **시퀀스(문자열 또는 리스트)**\n",
    "- for 변수 in **range(정수)**\n",
    "\n",
    "range() 함수\n",
    "- range([시작 값],[끝 값],[증가 값 step])"
   ]
  },
  {
   "cell_type": "code",
   "execution_count": 34,
   "id": "2d569500",
   "metadata": {},
   "outputs": [
    {
     "name": "stdout",
     "output_type": "stream",
     "text": [
      "10번째 Hello\n",
      "9번째 Hello\n",
      "8번째 Hello\n",
      "7번째 Hello\n",
      "6번째 Hello\n",
      "5번째 Hello\n",
      "4번째 Hello\n",
      "3번째 Hello\n",
      "2번째 Hello\n",
      "1번째 Hello\n"
     ]
    }
   ],
   "source": [
    "for i in range(10, 0, -1): # start, end, step\n",
    "    print(f\"{i}번째 Hello\")"
   ]
  },
  {
   "cell_type": "code",
   "execution_count": 35,
   "id": "1d35b0b4",
   "metadata": {},
   "outputs": [
    {
     "name": "stdout",
     "output_type": "stream",
     "text": [
      "1부터 10까지의 합: 55\n"
     ]
    }
   ],
   "source": [
    "## 미션 & 교재: for 반복문과 range() 함수를 사용해서 1부터 10까지의 합을 출력\n",
    "\n",
    "sum = 0\n",
    "for i in range(1, 11):\n",
    "    sum = sum+i\n",
    "print(\"1부터 10까지의 합:\", sum)"
   ]
  },
  {
   "cell_type": "code",
   "execution_count": 36,
   "id": "3f895ce5",
   "metadata": {},
   "outputs": [
    {
     "name": "stdout",
     "output_type": "stream",
     "text": [
      "1부터 10까지의 곱: 3628800\n"
     ]
    }
   ],
   "source": [
    "## 미션 for 반복문과 range() 함수를 사용해서 1부터 10까지의 곱을 출력\n",
    "\n",
    "multi = 1\n",
    "for i in range(1, 11):\n",
    "    multi = multi*i\n",
    "print(\"1부터 10까지의 곱:\", multi)"
   ]
  },
  {
   "cell_type": "code",
   "execution_count": 37,
   "id": "8910908a",
   "metadata": {},
   "outputs": [
    {
     "name": "stdout",
     "output_type": "stream",
     "text": [
      "12 * 1 = 12\n",
      "12 * 2 = 24\n",
      "12 * 3 = 36\n",
      "12 * 4 = 48\n",
      "12 * 5 = 60\n",
      "12 * 6 = 72\n",
      "12 * 7 = 84\n",
      "12 * 8 = 96\n",
      "12 * 9 = 108\n"
     ]
    }
   ],
   "source": [
    "## 미션 & 교재: for 반복문과 range() 함수를 사용해서 사용자로부터 입력받은 숫자의 구구단을 출력\n",
    "\n",
    "gu = int(input(\"원하는 구구단의 단을 입력하세요: \"))\n",
    "\n",
    "dan = 1\n",
    "\n",
    "for i in range(1, 10):\n",
    "    dan = gu*i\n",
    "    print(gu, \"*\", i, \"=\", dan)\n"
   ]
  },
  {
   "cell_type": "markdown",
   "id": "ba8fbb79",
   "metadata": {},
   "source": [
    "break 키워드\n",
    "- 실행을 중단하고 반복문을 빠져나옴"
   ]
  },
  {
   "cell_type": "code",
   "execution_count": 38,
   "id": "f75bd7fd",
   "metadata": {},
   "outputs": [
    {
     "name": "stdout",
     "output_type": "stream",
     "text": [
      "정수: 6, 합: 21\n"
     ]
    }
   ],
   "source": [
    "### 교재: 1~10까지 더하되, 합이 20 이상이 될 때 정수값 찾기\n",
    "\n",
    "sum = 0\n",
    "for i in range(1, 11):\n",
    "    sum = sum+i\n",
    "    if sum >= 20:\n",
    "        print(f\"정수: {i}, 합: {sum}\")\n",
    "        break"
   ]
  },
  {
   "cell_type": "markdown",
   "id": "0b51d192",
   "metadata": {},
   "source": [
    "continue 키워드\n",
    "- 반복문의 흐름을 깨지는 않고, continue를 만나면 밑에 문장을 하지 않고 다시 위로 시작"
   ]
  },
  {
   "cell_type": "code",
   "execution_count": 39,
   "id": "a6569d4c",
   "metadata": {},
   "outputs": [
    {
     "name": "stdout",
     "output_type": "stream",
     "text": [
      "1 3 5 7 9 \n",
      "1~10까지의 정수 중 홀수 합: 25\n"
     ]
    }
   ],
   "source": [
    "### 교재: 1~10까지의 정수 중 홀수와 홀수 합 출력\n",
    "# continue 키워드 사용\n",
    "\n",
    "sum = 0\n",
    "for i in range(1, 11):\n",
    "    if i%2==0:\n",
    "        continue\n",
    "    print(i, end=\" \")\n",
    "    sum = sum+i\n",
    "print()\n",
    "print(f\"1~10까지의 정수 중 홀수 합: {sum}\")"
   ]
  },
  {
   "cell_type": "code",
   "execution_count": 40,
   "id": "8b909b39",
   "metadata": {},
   "outputs": [
    {
     "name": "stdout",
     "output_type": "stream",
     "text": [
      "51\n",
      "숫자가 너무 작습니다.\n",
      "숫자가 너무 큽니다.\n",
      "정답입니다.\n"
     ]
    }
   ],
   "source": [
    "## 미션: 숫자 맞추기 게임\n",
    "# (+ 도전 횟수, 횟수 제한, 1~100 이외 숫자 제한 등 추후 규칙 추가)\n",
    "\n",
    "import random\n",
    "\n",
    "answer = random.randint(1, 100)\n",
    "print(answer)\n",
    "\n",
    "while True:\n",
    "    guess = int(input(\"1부터 100 사이의 숫자를 입력해주세요: \"))\n",
    "    if guess > answer:\n",
    "        print(\"숫자가 너무 큽니다.\")\n",
    "    elif guess < answer:\n",
    "        print(\"숫자가 너무 작습니다.\")\n",
    "    else:\n",
    "        print(\"정답입니다.\")\n",
    "        break\n"
   ]
  },
  {
   "cell_type": "code",
   "execution_count": 41,
   "id": "0278efc1",
   "metadata": {},
   "outputs": [
    {
     "name": "stdout",
     "output_type": "stream",
     "text": [
      "1 2 4 7 8 11 13 14 16 17 19 "
     ]
    }
   ],
   "source": [
    "## 미션 & 교재: 20보다 작은 정수 중에서 3의 배수와 5의 배수를 제외하고 출력\n",
    "# 단, 무한 반복 while True 구문 이용\n",
    "\n",
    "i = 0\n",
    "while True:\n",
    "    i = i+1\n",
    "    if i >= 20:\n",
    "        break\n",
    "    if i % 3 != 0 and i % 5 != 0:\n",
    "        print(i, end=\" \")\n",
    "    "
   ]
  },
  {
   "cell_type": "code",
   "execution_count": 42,
   "id": "d8ab4264",
   "metadata": {},
   "outputs": [
    {
     "name": "stdout",
     "output_type": "stream",
     "text": [
      "2 * 1 = 2\n",
      "2 * 2 = 4\n",
      "2 * 3 = 6\n",
      "2 * 4 = 8\n",
      "2 * 5 = 10\n",
      "2 * 6 = 12\n",
      "2 * 7 = 14\n",
      "2 * 8 = 16\n",
      "2 * 9 = 18\n",
      "3 * 1 = 3\n",
      "3 * 2 = 6\n",
      "3 * 3 = 9\n",
      "3 * 4 = 12\n",
      "3 * 5 = 15\n",
      "3 * 6 = 18\n",
      "3 * 7 = 21\n",
      "3 * 8 = 24\n",
      "3 * 9 = 27\n",
      "4 * 1 = 4\n",
      "4 * 2 = 8\n",
      "4 * 3 = 12\n",
      "4 * 4 = 16\n",
      "4 * 5 = 20\n",
      "4 * 6 = 24\n",
      "4 * 7 = 28\n",
      "4 * 8 = 32\n",
      "4 * 9 = 36\n",
      "5 * 1 = 5\n",
      "5 * 2 = 10\n",
      "5 * 3 = 15\n",
      "5 * 4 = 20\n",
      "5 * 5 = 25\n",
      "5 * 6 = 30\n",
      "5 * 7 = 35\n",
      "5 * 8 = 40\n",
      "5 * 9 = 45\n",
      "6 * 1 = 6\n",
      "6 * 2 = 12\n",
      "6 * 3 = 18\n",
      "6 * 4 = 24\n",
      "6 * 5 = 30\n",
      "6 * 6 = 36\n",
      "6 * 7 = 42\n",
      "6 * 8 = 48\n",
      "6 * 9 = 54\n",
      "7 * 1 = 7\n",
      "7 * 2 = 14\n",
      "7 * 3 = 21\n",
      "7 * 4 = 28\n",
      "7 * 5 = 35\n",
      "7 * 6 = 42\n",
      "7 * 7 = 49\n",
      "7 * 8 = 56\n",
      "7 * 9 = 63\n",
      "8 * 1 = 8\n",
      "8 * 2 = 16\n",
      "8 * 3 = 24\n",
      "8 * 4 = 32\n",
      "8 * 5 = 40\n",
      "8 * 6 = 48\n",
      "8 * 7 = 56\n",
      "8 * 8 = 64\n",
      "8 * 9 = 72\n",
      "9 * 1 = 9\n",
      "9 * 2 = 18\n",
      "9 * 3 = 27\n",
      "9 * 4 = 36\n",
      "9 * 5 = 45\n",
      "9 * 6 = 54\n",
      "9 * 7 = 63\n",
      "9 * 8 = 72\n",
      "9 * 9 = 81\n"
     ]
    }
   ],
   "source": [
    "## 미션: 구구단 2단 ~ 9단까지 출력\n",
    "\n",
    "for dan in range(2, 10):\n",
    "    for i in range(1, 10):\n",
    "        print(dan, \"*\", i, \"=\", dan*i)\n",
    "\n"
   ]
  },
  {
   "cell_type": "code",
   "execution_count": 43,
   "id": "c1e6e5e5",
   "metadata": {},
   "outputs": [
    {
     "name": "stdout",
     "output_type": "stream",
     "text": [
      "    *\n",
      "   ***\n",
      "  *****\n",
      " *******\n",
      "*********\n"
     ]
    }
   ],
   "source": [
    "## 미션: 크리스마스 트리 만들기\n",
    "\n",
    "rows = int(input(\"원하는 트리의 줄 수: \"))\n",
    "\n",
    "for i in range(1, rows+1, 1):\n",
    "    spaces = \" \" * (rows - i)\n",
    "    stars = \"*\" * (2 * i - 1)\n",
    "    print(spaces + stars)"
   ]
  },
  {
   "cell_type": "markdown",
   "id": "a89c2325",
   "metadata": {},
   "source": [
    "##### 크리스마스 트리 만드는 코드 과정"
   ]
  },
  {
   "cell_type": "code",
   "execution_count": 44,
   "id": "88846bf1",
   "metadata": {},
   "outputs": [
    {
     "name": "stdout",
     "output_type": "stream",
     "text": [
      "*****\n",
      "****\n",
      "***\n",
      "**\n",
      "*\n"
     ]
    }
   ],
   "source": [
    "# 위에서부터 -1개씩 줄어드는 코드\n",
    "\n",
    "rows = int(input('원하는 트리의 줄 수: '))\n",
    "for i in range(rows, 0, -1):\n",
    "    print(\"*\"*(i))"
   ]
  },
  {
   "cell_type": "code",
   "execution_count": 45,
   "id": "f6f07bf2",
   "metadata": {},
   "outputs": [
    {
     "name": "stdout",
     "output_type": "stream",
     "text": [
      "*\n",
      "**\n",
      "***\n",
      "****\n",
      "*****\n"
     ]
    }
   ],
   "source": [
    "# 밑에서부터 1개씩 늘어나는 코드\n",
    "\n",
    "rows = int(input(\"원하는 트리의 줄 수: \"))\n",
    "for i in range(1, rows+1, 1):\n",
    "    print(\"*\"*(i))"
   ]
  },
  {
   "cell_type": "code",
   "execution_count": 46,
   "id": "4f709d8f",
   "metadata": {},
   "outputs": [
    {
     "name": "stdout",
     "output_type": "stream",
     "text": [
      "    *\n",
      "   **\n",
      "  ***\n",
      " ****\n",
      "*****\n"
     ]
    }
   ],
   "source": [
    "# 밑에서부터 1개씩 늘어나는 코드 (좌우반전)\n",
    "# 각 줄에 별을 찍기 전에 공백 필수\n",
    "# i번째 줄: (총 줄 수 - i)개의 공백 + i개의 별\n",
    "\n",
    "rows = int(input(\"원하는 트리의 줄 수: \"))\n",
    "for i in range(1, rows+1, 1):\n",
    "    spaces = \" \" * (rows - i)      # 공백 출력\n",
    "\n",
    "    stars = \"*\" * i             # 별 출력\n",
    "\n",
    "    print(spaces + stars)       # 공백과 별 합쳐서 출력"
   ]
  },
  {
   "cell_type": "code",
   "execution_count": 47,
   "id": "30e9414b",
   "metadata": {},
   "outputs": [
    {
     "name": "stdout",
     "output_type": "stream",
     "text": [
      "    *\n",
      "   ***\n",
      "  *****\n",
      " *******\n",
      "*********\n"
     ]
    }
   ],
   "source": [
    "# 좌우반전된 두 개의 코드를 합치기\n",
    "\n",
    "rows = int(input(\"원하는 트리의 줄 수: \"))\n",
    "for i in range(1, rows+1, 1):\n",
    "    spaces = \" \" * (rows - i)\n",
    "    stars = \"*\" * (2 * i - 1)       # 별의 개수를 홀수로 생성\n",
    "    print(spaces + stars)"
   ]
  }
 ],
 "metadata": {
  "kernelspec": {
   "display_name": "Python 3",
   "language": "python",
   "name": "python3"
  },
  "language_info": {
   "codemirror_mode": {
    "name": "ipython",
    "version": 3
   },
   "file_extension": ".py",
   "mimetype": "text/x-python",
   "name": "python",
   "nbconvert_exporter": "python",
   "pygments_lexer": "ipython3",
   "version": "3.10.11"
  }
 },
 "nbformat": 4,
 "nbformat_minor": 5
}
