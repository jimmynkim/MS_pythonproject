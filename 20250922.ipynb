{
 "cells": [
  {
   "cell_type": "markdown",
   "id": "2391e9e7",
   "metadata": {},
   "source": [
    "## 파이썬 기본2"
   ]
  },
  {
   "cell_type": "markdown",
   "id": "b2afe6e7",
   "metadata": {},
   "source": [
    "##### 지난 내용 복습"
   ]
  },
  {
   "cell_type": "code",
   "execution_count": 69,
   "id": "7d267b79",
   "metadata": {},
   "outputs": [
    {
     "name": "stdout",
     "output_type": "stream",
     "text": [
      "    *\n",
      "   ***\n",
      "  *****\n",
      " *******\n",
      "*********\n"
     ]
    }
   ],
   "source": [
    "# 크리스마스 트리 만들기\n",
    "\n",
    "rows = int(input(\"크리스마스 트리 몇 줄이 필요하십니까?: \"))\n",
    "for i in range(1, rows+1, 1):\n",
    "    spaces = \" \" * (rows - i)\n",
    "    stars = \"*\" * (2 * i -1)\n",
    "    print(spaces + stars)"
   ]
  },
  {
   "cell_type": "code",
   "execution_count": 70,
   "id": "9f9d1c1a",
   "metadata": {},
   "outputs": [
    {
     "name": "stdout",
     "output_type": "stream",
     "text": [
      "(i = 0, j = 0)\n",
      "(i = 0, j = 1)\n",
      "(i = 0, j = 2)\n",
      "(i = 0, j = 3)\n",
      "(i = 0, j = 4)\n",
      "(i = 1, j = 0)\n",
      "(i = 1, j = 1)\n",
      "(i = 1, j = 2)\n",
      "(i = 1, j = 3)\n",
      "(i = 1, j = 4)\n",
      "(i = 2, j = 0)\n",
      "(i = 2, j = 1)\n",
      "(i = 2, j = 2)\n",
      "(i = 2, j = 3)\n",
      "6\n"
     ]
    }
   ],
   "source": [
    "# for, while에서의 탈출 -> break\n",
    "# 중첩 반복문에서 탈출 -> break 2번 입력\n",
    "\n",
    "number = 0\n",
    "for i in range(5):\n",
    "    for j in range(5):\n",
    "        print(f\"(i = {i}, j = {j})\")    # 탈출하는 지 확인하는 임시 코드\n",
    "        number = i * j\n",
    "        if i == 2 and j ==3:\n",
    "            break\n",
    "    if i == 2 and j ==3:\n",
    "        break\n",
    "\n",
    "print(number)"
   ]
  },
  {
   "cell_type": "code",
   "execution_count": 71,
   "id": "4ffc6789",
   "metadata": {},
   "outputs": [
    {
     "name": "stdout",
     "output_type": "stream",
     "text": [
      "6\n"
     ]
    }
   ],
   "source": [
    "# 중첩 반복문에서 탈출하는 다른 방법\n",
    "\n",
    "number = 0\n",
    "break_all = False   # 상태 플래그 생성\n",
    "for i in range(5):\n",
    "    for j in range(5):\n",
    "        if i == 2 and j == 3:\n",
    "            number = i * j\n",
    "            break_all = True\n",
    "            break\n",
    "    if break_all:\n",
    "        break \n",
    "    \n",
    "print(number)"
   ]
  },
  {
   "cell_type": "code",
   "execution_count": 72,
   "id": "2272682e",
   "metadata": {},
   "outputs": [
    {
     "name": "stdout",
     "output_type": "stream",
     "text": [
      "         *\n",
      "        ***\n",
      "       *****\n",
      "      *******\n",
      "     *********\n",
      "    ***********\n",
      "   *************\n",
      "  *"
     ]
    }
   ],
   "source": [
    "# 사용자로부터 n개의 별의 갯수를 입력받은 뒤\n",
    "# 별을 출력하되 별의 갯수만큼만 출력하다가 별이 다 소진되면 멈추는 코드 작성\n",
    "# 트리의 최대 높이는 10층\n",
    "\n",
    "# 사용자로부터 별의 갯수 입력받기\n",
    "num = int(input(\"별의 갯수를 입력하시오: \"))\n",
    "\n",
    "# 총 출력된 별의 개수\n",
    "total_stars_printed = 0\n",
    "\n",
    "# 트리의 최대 층은 10층으로 가정\n",
    "max_height = 10\n",
    "\n",
    "# 트리의 층을 순회하는 루프\n",
    "for i in range(1, max_height + 1):\n",
    "    # 만약 남은 별이 없다면 루프 종료\n",
    "    if total_stars_printed >= num:\n",
    "        break\n",
    "    \n",
    "    # 현재 층에 필요한 별의 개수\n",
    "    stars_on_this_floor = 2 * i - 1\n",
    "\n",
    "    # 공백 출력\n",
    "    print(' ' * (max_height - i), end='')\n",
    "\n",
    "    # 현재 층에 별을 출력하는 루프\n",
    "    for j in range(stars_on_this_floor):\n",
    "        # 만약 남은 별이 없다면 루프 종료\n",
    "        if total_stars_printed >= num:\n",
    "            break\n",
    "        print(\"*\", end='')\n",
    "        total_stars_printed += 1\n",
    "\n",
    "    # 한 층의 출력이 끝나면 줄 바꿈\n",
    "    # 단, 별이 모두 출력되었으면 마지막 줄바꿈은 피함\n",
    "    if total_stars_printed < num:\n",
    "        print()"
   ]
  },
  {
   "cell_type": "code",
   "execution_count": 73,
   "id": "782fdfb3",
   "metadata": {},
   "outputs": [
    {
     "name": "stdout",
     "output_type": "stream",
     "text": [
      "*\n",
      "**\n",
      "***\n",
      "****\n",
      "*****\n",
      "******\n",
      "*******\n",
      "********\n",
      "*********\n",
      "*****"
     ]
    }
   ],
   "source": [
    "# 위의 문제를 푸는 단계\n",
    "\n",
    "num = int(input(\"별의 갯수를 입력하시오: \"))\n",
    "star = 0\n",
    "break_all = False\n",
    "\n",
    "for i in range(1, 11):     # 최대 별의 높이 10층\n",
    "    for j in range(i):\n",
    "        star = star + 1\n",
    "        if star > num:\n",
    "            break_all = True\n",
    "            break\n",
    "        print(\"*\", end=\"\")\n",
    "    if break_all:\n",
    "        break\n",
    "    print()"
   ]
  },
  {
   "cell_type": "markdown",
   "id": "b0d0a2f7",
   "metadata": {},
   "source": [
    "#### 문자열 자료형\n",
    "\n",
    "- 문자 형태로 이루어진 자료형\n",
    "\n",
    "문자열 인덱싱(Indexing)\n",
    "- 문자열 내의 어떤 문자 값을 가져오기 위해서 문자열의 모든 문자마다 위치 값을 주는 것\n",
    "- 중괄호[ ]를 사용하고 인덱스는 0부터 시작\n",
    "- 뒤에서부터 인덱싱을 하려면 음수를 사용하여 -1부터 시작\n",
    "\n",
    "문자열 슬라이싱(Slicing)\n",
    "- 문자열 내의 일부분의 값(하나 이상의 문자 값)을 가져오는 것\n",
    "- [시작 인덱스 : 끝 인덱스 : (간격)] 에서 인덱스의 범위 지정\n",
    "- 처음 인덱스와 끝 인덱스는 생략 가능\n",
    "\n",
    "다양한 문자열 함수 기능\n",
    "- len() : 문자열 길이 출력\n",
    "- .lower() : 전체 문자열 소문자로 변환\n",
    "- .upper() : 전체 문자열 대문자로 변환\n",
    "- .split() : 문자열을 쪼갬  \n",
    "    ex) abc.split(\",\")    # abc문자열을 , 기준으로 쪼갬"
   ]
  },
  {
   "cell_type": "code",
   "execution_count": 74,
   "id": "3a4b5a14",
   "metadata": {},
   "outputs": [
    {
     "name": "stdout",
     "output_type": "stream",
     "text": [
      "P\n",
      "n\n",
      "Pyth\n",
      "Hlo yhn\n",
      "nohtyP ,olleH\n"
     ]
    },
    {
     "data": {
      "text/plain": [
       "13"
      ]
     },
     "execution_count": 74,
     "metadata": {},
     "output_type": "execute_result"
    }
   ],
   "source": [
    "my_str = \"Hello, Python\"\n",
    "\n",
    "a = my_str[7]   # 7번째 문자 출력\n",
    "print(a)\n",
    "\n",
    "b = my_str[-1]  # 뒤에서 1번째 출력\n",
    "print(b)\n",
    "\n",
    "c = my_str[7:11]    # 7번째부터 10번째 문자 출력\n",
    "print(c) \n",
    "\n",
    "d = my_str[::2]     # 2칸씩 띄우면서 문자 출력\n",
    "print(d)\n",
    "\n",
    "e = my_str[::-1]    # 거꾸로 출력\n",
    "print(e)\n",
    "\n",
    "len(my_str)     # len 함수를 통해 문자열 길이 알기"
   ]
  },
  {
   "cell_type": "code",
   "execution_count": 75,
   "id": "240ffd34",
   "metadata": {},
   "outputs": [
    {
     "name": "stdout",
     "output_type": "stream",
     "text": [
      "H\n",
      "e\n",
      "l\n",
      "l\n",
      "o\n",
      ",\n",
      " \n",
      "P\n",
      "y\n",
      "t\n",
      "h\n",
      "o\n",
      "n\n"
     ]
    }
   ],
   "source": [
    "# 문자열 데이터로 for문 돌리기\n",
    "for i in my_str:\n",
    "    print(i)\n",
    "    "
   ]
  },
  {
   "cell_type": "code",
   "execution_count": 76,
   "id": "12e65514",
   "metadata": {},
   "outputs": [
    {
     "name": "stdout",
     "output_type": "stream",
     "text": [
      "H\n",
      "e\n",
      "l\n",
      "l\n",
      "o\n",
      ",\n",
      " \n",
      "P\n",
      "y\n",
      "t\n",
      "h\n",
      "o\n",
      "n\n"
     ]
    }
   ],
   "source": [
    "# 문자열 데이터로 for문 돌리기2\n",
    "for i in range(len(my_str)):\n",
    "    print(my_str[i])"
   ]
  },
  {
   "cell_type": "markdown",
   "id": "60536cf5",
   "metadata": {},
   "source": [
    "### 복합 자료형"
   ]
  },
  {
   "cell_type": "markdown",
   "id": "dd32a7c6",
   "metadata": {},
   "source": [
    "#### 자료형\n",
    "\n",
    "- 자료형: 프로그래밍을 할 때 쓰이는 숫자, 문자열 등 자료 형태로 사용하는 모든 것\n",
    "\n",
    "- 컬렉션 자료형: 여러 개의 요소를 하나로 묶어 사용하는 자료형\n",
    "\n",
    "<br>\n",
    "\n",
    "| 컬렉션 자료형 종류 | 생성 방법 | 예시 |\n",
    "|:---:|:---:|:---:|\n",
    "| **리스트(list)** | [ ] | adress = [['박연호', '1234'], ['이진수', '5678']] |\n",
    "| 튜플(tuple) | ( ) | name = ('박연호', '이진수') |\n",
    "| **딕셔너리(dictionary)** | {키 : 값} | address = {'박연호' : '01012345678'} |\n",
    "| 세트(set) | { } | phone = {'01012345678'} |\n",
    "\n",
    "* 리스트는 순서가 있는 데이터, 딕셔너리는 순서가 없는 데이터"
   ]
  },
  {
   "cell_type": "markdown",
   "id": "02004b2e",
   "metadata": {},
   "source": [
    "##### 리스트\n"
   ]
  },
  {
   "cell_type": "markdown",
   "id": "759145aa",
   "metadata": {},
   "source": [
    "리스트(list): 복수의 다양한 데이터를 순서대로 저장하고 조작하는 기본 자료형\n",
    "\n",
    "- 여러 개의 데이터를 하나의 이름으로 저장하는 형태  \n",
    "    \n",
    "    > 리스트명 = [값1, 값2, ...]\n",
    "- 리스트에 저장되는 각각의 데이터를 항목 또는 원소라고 하며,  \n",
    "    항목은 숫자나 문자, 다른 리스트 등 다양한 종류로 구성\n",
    "- 각 항목은 순서대로 인덱스라고 하는 번호가 정해지며 0부터 시작"
   ]
  },
  {
   "cell_type": "code",
   "execution_count": 1,
   "id": "794a490b",
   "metadata": {},
   "outputs": [
    {
     "data": {
      "text/plain": [
       "list"
      ]
     },
     "execution_count": 1,
     "metadata": {},
     "output_type": "execute_result"
    }
   ],
   "source": [
    "# 리스트 생성\n",
    "numbers = []\n",
    "type(numbers)"
   ]
  },
  {
   "cell_type": "markdown",
   "id": "77e92825",
   "metadata": {},
   "source": [
    "< 리스트 다루기 >\n",
    "\n",
    "- 리스트 인덱싱(Indexing)  \n",
    "    > 리스트명[인덱스]\n",
    "\n",
    "- 리스트 슬라이싱(Slicing)  \n",
    "    - 슬라이싱은 리스트 안에서 범위를 지정하여 원하는 요소들을 선택하는 연산\n",
    "\n",
    "<br>\n",
    "\n",
    "| 리스트 슬라이싱 | 설명 |\n",
    "|:---:|:---:|\n",
    "| 리스트명[인덱스1 : 인덱스2] | 인덱스1 요소부터 인덱스2 앞 요소까지 선택|\n",
    "| 리스트명[인덱스1 : ] | 인덱스1부터 마지막 요소까지 선택 |\n",
    "| 리스트명[ : 인덱스2] | 첫 번째부터 인덱스2 앞 요소까지 선택 |\n",
    "| 리스트명[ : ] | 리스트 전체 요소 선택 |\n",
    "\n",
    "- 리스트 값 변경하기  \n",
    "    \n",
    "    > 리스트명[인덱스] = 값"
   ]
  },
  {
   "cell_type": "code",
   "execution_count": 23,
   "id": "3591ef30",
   "metadata": {},
   "outputs": [
    {
     "name": "stdout",
     "output_type": "stream",
     "text": [
      "[1, 2, 3, 4, 5]\n",
      "['apple', 'banana', 'orange']\n",
      "[1, 'apple', True, [10, 20, 30]]\n",
      "[1, 2, 3, 4, 5, 'apple', 'banana', 'orange']\n",
      "[1, 2, 3, 4, 5, 1, 2, 3, 4, 5]\n",
      "banana\n",
      "[1, True]\n",
      "['grape', 'banana', 'orange']\n"
     ]
    }
   ],
   "source": [
    "# <리스트 다루기>\n",
    "a = [1, 2, 3, 4, 5]\n",
    "print(a)\n",
    "b = ['apple', 'banana', 'orange']\n",
    "print(b)\n",
    "c = [1, \"apple\", True, [10, 20, 30]]    # 리스트 안에 리스트 가능\n",
    "print(c)\n",
    "\n",
    "print(a + b)    # 덧셈 연산자는 연결 연산자\n",
    "print(a * 2)    # 곱셈 연산자는 반복 연산자\n",
    "\n",
    "print(b[1])     # 리스트 인덱싱\n",
    "print(c[::2])   # 리스트 슬라이싱\n",
    "\n",
    "b[0] = \"grape\"  # 리스트 값 변경 (없는 인덱스 번호로 추가는 X)\n",
    "print(b)"
   ]
  },
  {
   "cell_type": "markdown",
   "id": "7199aa57",
   "metadata": {},
   "source": [
    "< 리스트 조작함수 >\n",
    "\n",
    "- 리스트 변수 이름 뒤에 마침표(.)를 붙인 다음 함수 이름 사용  \n",
    "    \n",
    "    > 리스트명.함수명(인수)\n",
    "1) 리스트 값 추가 : append() 함수, insert() 함수\n",
    "2) 리스트 값 삭제 : pop() 함수, remove() 함수\n",
    "3) 리스트 정렬 : sort(), sort(reverse=True) 함수, 리스트에서 찾을 값의 개수: count(요소) 함수 \n",
    "\n",
    "<br>\n",
    "\n",
    "| 함수 | 설명 | 사용법 |\n",
    "|:---:|:---:|:---:|\n",
    "| append() | 리스트에 요소를 마지막 위치에 새로 추가 | 리스트.append(값) |\n",
    "| insert() | 리스트의 해당 위치에 요소를 새로 삽입 | 리스트.insert(위치, 값) |\n",
    "| sort() | 오름차순, 내림차순 정렬 | 리스트.sort(), 리스트.sort(reverse=True) |\n",
    "| reverse() | 현재의 리스트를 그대로 거꾸로 뒤집음 | 리스트.reverse() |\n",
    "| pop() | 리스트 제일 뒤 항목 또는 제거할 위치의 항목 삭제 | 리스트.pop(), 리스트.pop(위치) |\n",
    "| remove() | 해당 요소를 찾아 삭제 | 리스트.remove(삭제할 값) |\n",
    "| count() | 해당 요소의 개수를 반환 | 리스트.count(찾을 값) |\n",
    "| index() | 리스트에 위치 값이 있으면 위치 값을 반환 | 리스트.index(값) |"
   ]
  },
  {
   "cell_type": "code",
   "execution_count": 24,
   "id": "38bed572",
   "metadata": {},
   "outputs": [
    {
     "name": "stdout",
     "output_type": "stream",
     "text": [
      "[1, 2, 3, 4, 5]\n",
      "['grape', 'banana', 'orange']\n"
     ]
    }
   ],
   "source": [
    "print(a)\n",
    "print(b)"
   ]
  },
  {
   "cell_type": "code",
   "execution_count": 25,
   "id": "2a87d9e6",
   "metadata": {},
   "outputs": [
    {
     "data": {
      "text/plain": [
       "['grape', 'banana', 'orange', 'cherry']"
      ]
     },
     "execution_count": 25,
     "metadata": {},
     "output_type": "execute_result"
    }
   ],
   "source": [
    "# <리스트 조작함수>\n",
    "\n",
    "# 리스트 끝에 값 추가\n",
    "b.append(\"cherry\")\n",
    "b"
   ]
  },
  {
   "cell_type": "code",
   "execution_count": 26,
   "id": "678ab621",
   "metadata": {},
   "outputs": [
    {
     "data": {
      "text/plain": [
       "['grape', 'banana', 'kiwi', 'orange', 'cherry']"
      ]
     },
     "execution_count": 26,
     "metadata": {},
     "output_type": "execute_result"
    }
   ],
   "source": [
    "# 특정 위치에 값 추가\n",
    "b.insert(2, \"kiwi\") \n",
    "b"
   ]
  },
  {
   "cell_type": "code",
   "execution_count": 27,
   "id": "7d9345ca",
   "metadata": {},
   "outputs": [
    {
     "data": {
      "text/plain": [
       "['grape', 'banana', 'kiwi', 'orange', 'cherry', 'mango', 'peach']"
      ]
     },
     "execution_count": 27,
     "metadata": {},
     "output_type": "execute_result"
    }
   ],
   "source": [
    "# 리스트 안에 여러 값 추가\n",
    "b.extend(['mango', 'peach'])\n",
    "b"
   ]
  },
  {
   "cell_type": "code",
   "execution_count": 28,
   "id": "65b78a18",
   "metadata": {},
   "outputs": [
    {
     "data": {
      "text/plain": [
       "['grape', 'banana', 'kiwi', 'orange', 'cherry', 'mango']"
      ]
     },
     "execution_count": 28,
     "metadata": {},
     "output_type": "execute_result"
    }
   ],
   "source": [
    "# 마지막 값 삭제\n",
    "b.pop()\n",
    "b"
   ]
  },
  {
   "cell_type": "code",
   "execution_count": 29,
   "id": "32d3c9b4",
   "metadata": {},
   "outputs": [
    {
     "data": {
      "text/plain": [
       "['grape', 'kiwi', 'orange', 'cherry', 'mango']"
      ]
     },
     "execution_count": 29,
     "metadata": {},
     "output_type": "execute_result"
    }
   ],
   "source": [
    "# 특정 위치의 값 삭제\n",
    "b.pop(1)\n",
    "b"
   ]
  },
  {
   "cell_type": "code",
   "execution_count": 30,
   "id": "a0522a2f",
   "metadata": {},
   "outputs": [
    {
     "data": {
      "text/plain": [
       "['grape', 'kiwi', 'orange', 'mango']"
      ]
     },
     "execution_count": 30,
     "metadata": {},
     "output_type": "execute_result"
    }
   ],
   "source": [
    "# 특정 값 삭제, 만약 동일한 값 여러 개면 맨 앞에 있는 값 삭제\n",
    "b.remove(\"cherry\")\n",
    "b"
   ]
  },
  {
   "cell_type": "code",
   "execution_count": 34,
   "id": "b42414e1",
   "metadata": {},
   "outputs": [
    {
     "name": "stdout",
     "output_type": "stream",
     "text": [
      "['grape', 'kiwi', 'orange', 'mango']\n"
     ]
    },
    {
     "data": {
      "text/plain": [
       "1"
      ]
     },
     "execution_count": 34,
     "metadata": {},
     "output_type": "execute_result"
    }
   ],
   "source": [
    "# 특정 값으로 인덱스 번호 찾기\n",
    "print(b)\n",
    "b.index('kiwi')\n"
   ]
  },
  {
   "cell_type": "code",
   "execution_count": 41,
   "id": "ba293e8d",
   "metadata": {},
   "outputs": [
    {
     "data": {
      "text/plain": [
       "True"
      ]
     },
     "execution_count": 41,
     "metadata": {},
     "output_type": "execute_result"
    }
   ],
   "source": [
    "# 리스트 안에 특정 값이 있는지 확인\n",
    "'kiwi' in b"
   ]
  },
  {
   "cell_type": "code",
   "execution_count": 35,
   "id": "0c184452",
   "metadata": {},
   "outputs": [
    {
     "data": {
      "text/plain": [
       "['grape', 'kiwi', 'mango', 'orange']"
      ]
     },
     "execution_count": 35,
     "metadata": {},
     "output_type": "execute_result"
    }
   ],
   "source": [
    "# 알파벳 사전 순(오름차순) 정렬\n",
    "b.sort()\n",
    "b"
   ]
  },
  {
   "cell_type": "code",
   "execution_count": 36,
   "id": "3cf916f8",
   "metadata": {},
   "outputs": [
    {
     "data": {
      "text/plain": [
       "['orange', 'mango', 'kiwi', 'grape']"
      ]
     },
     "execution_count": 36,
     "metadata": {},
     "output_type": "execute_result"
    }
   ],
   "source": [
    "# 알파벳 사전 순(내림차순) 정렬\n",
    "b.sort(reverse=True)\n",
    "b"
   ]
  },
  {
   "cell_type": "markdown",
   "id": "9ee4e4ca",
   "metadata": {},
   "source": [
    "< 리스트 적용 내장 함수 >\n",
    "\n",
    "| 연산자 | 의미 |\n",
    "|:---:|:---:|\n",
    "| len(리스트) | 리스트에 포함된 원소들의 개수 반환, 반복문에서 원소들을 하나씩 접근할 때 유용  |\n",
    "| max(리스트) | 리스트에 포함된 원소들의 최대값 반환 |\n",
    "| min(리스트) | 리스트에 포함된 원소들의 최소값 반환 |\n",
    "| sum(리스트) | 리스트에 포함된 원소들의 합을 반환 |\n"
   ]
  },
  {
   "cell_type": "code",
   "execution_count": null,
   "id": "22dfbb8b",
   "metadata": {},
   "outputs": [
    {
     "name": "stdout",
     "output_type": "stream",
     "text": [
      "[1, 2, 3, 4, 5]\n"
     ]
    },
    {
     "data": {
      "text/plain": [
       "5"
      ]
     },
     "execution_count": 38,
     "metadata": {},
     "output_type": "execute_result"
    }
   ],
   "source": [
    "# <리스트 적용 내장 함수>\n",
    "print(a)\n",
    "\n",
    "# 리스트 안의 값들의 개수 출력\n",
    "len(a)"
   ]
  },
  {
   "cell_type": "code",
   "execution_count": 43,
   "id": "eea38148",
   "metadata": {},
   "outputs": [
    {
     "data": {
      "text/plain": [
       "1"
      ]
     },
     "execution_count": 43,
     "metadata": {},
     "output_type": "execute_result"
    }
   ],
   "source": [
    "# 리스트 안의 특정 값의 개수 출력\n",
    "a.count(3)\n"
   ]
  },
  {
   "cell_type": "code",
   "execution_count": 39,
   "id": "15796989",
   "metadata": {},
   "outputs": [
    {
     "data": {
      "text/plain": [
       "5"
      ]
     },
     "execution_count": 39,
     "metadata": {},
     "output_type": "execute_result"
    }
   ],
   "source": [
    "# 리스트 안의 값들 중 최대값 출력\n",
    "max(a)"
   ]
  },
  {
   "cell_type": "code",
   "execution_count": 40,
   "id": "13436c25",
   "metadata": {},
   "outputs": [
    {
     "data": {
      "text/plain": [
       "1"
      ]
     },
     "execution_count": 40,
     "metadata": {},
     "output_type": "execute_result"
    }
   ],
   "source": [
    "# 리스트 안의 값들 중 최소값 출력\n",
    "min(a)"
   ]
  },
  {
   "cell_type": "code",
   "execution_count": 42,
   "id": "b96ffaf0",
   "metadata": {},
   "outputs": [
    {
     "data": {
      "text/plain": [
       "15"
      ]
     },
     "execution_count": 42,
     "metadata": {},
     "output_type": "execute_result"
    }
   ],
   "source": [
    "# 리스트 안의 값들의 합\n",
    "sum(a)"
   ]
  },
  {
   "cell_type": "code",
   "execution_count": 44,
   "id": "09545caa",
   "metadata": {},
   "outputs": [
    {
     "data": {
      "text/plain": [
       "['orange', 'mango', 'kiwi', 'grape']"
      ]
     },
     "execution_count": 44,
     "metadata": {},
     "output_type": "execute_result"
    }
   ],
   "source": [
    "b"
   ]
  },
  {
   "cell_type": "code",
   "execution_count": 45,
   "id": "9d42318d",
   "metadata": {},
   "outputs": [
    {
     "name": "stdout",
     "output_type": "stream",
     "text": [
      "orange\n",
      "mango\n",
      "kiwi\n",
      "grape\n"
     ]
    }
   ],
   "source": [
    "# for문 안에 리스트 사용\n",
    "for i in b:\n",
    "    print(i)"
   ]
  },
  {
   "cell_type": "code",
   "execution_count": 46,
   "id": "a9cbf112",
   "metadata": {},
   "outputs": [
    {
     "name": "stdout",
     "output_type": "stream",
     "text": [
      "1번째 과일: orange\n",
      "2번째 과일: mango\n",
      "3번째 과일: kiwi\n",
      "4번째 과일: grape\n"
     ]
    }
   ],
   "source": [
    "# for문 안에 리스트 사용2\n",
    "for i in range(len(b)):\n",
    "    print(f\"{i+1}번째 과일: {b[i]}\")"
   ]
  },
  {
   "cell_type": "code",
   "execution_count": 55,
   "id": "962a6826",
   "metadata": {},
   "outputs": [
    {
     "name": "stdout",
     "output_type": "stream",
     "text": [
      "[1, 2, 3, 4, 5, 6, 7, 8, 9, 10]\n"
     ]
    }
   ],
   "source": [
    "# 반복문을 이용해서 리스트 간단히 생성 1 -> 리스트 컴프리핸션\n",
    "num_list = []\n",
    "for i in range(10):\n",
    "    num_list.append(i+1)\n",
    "print(num_list)"
   ]
  },
  {
   "cell_type": "code",
   "execution_count": 54,
   "id": "c27004d4",
   "metadata": {},
   "outputs": [
    {
     "data": {
      "text/plain": [
       "[1, 2, 3, 4, 5, 6, 7, 8, 9, 10]"
      ]
     },
     "execution_count": 54,
     "metadata": {},
     "output_type": "execute_result"
    }
   ],
   "source": [
    "# 리스트 컴프리핸션2\n",
    "num1 = [i for i in range(1, 11)]\n",
    "num1"
   ]
  },
  {
   "cell_type": "code",
   "execution_count": 49,
   "id": "a15e7888",
   "metadata": {},
   "outputs": [
    {
     "data": {
      "text/plain": [
       "[2, 4, 6, 8, 10, 12, 14, 16, 18, 20]"
      ]
     },
     "execution_count": 49,
     "metadata": {},
     "output_type": "execute_result"
    }
   ],
   "source": [
    "# 리스트 컴프리핸션3\n",
    "num2 = [i*2 for i in range(1, 11)]\n",
    "num2"
   ]
  },
  {
   "cell_type": "code",
   "execution_count": 53,
   "id": "43c66f9d",
   "metadata": {},
   "outputs": [
    {
     "data": {
      "text/plain": [
       "[2, 4, 6, 8, 10]"
      ]
     },
     "execution_count": 53,
     "metadata": {},
     "output_type": "execute_result"
    }
   ],
   "source": [
    "# 리스트 컴프리핸션4\n",
    "num3 = [i for i in range(1, 11) if i % 2 == 0]\n",
    "num3"
   ]
  },
  {
   "cell_type": "code",
   "execution_count": 50,
   "id": "77affc39",
   "metadata": {},
   "outputs": [
    {
     "name": "stdout",
     "output_type": "stream",
     "text": [
      "1번 학생은 합격입니다.\n",
      "2번 학생은 불합격입니다.\n",
      "3번 학생은 합격입니다.\n",
      "4번 학생은 불합격입니다.\n",
      "5번 학생은 합격입니다.\n"
     ]
    }
   ],
   "source": [
    "## 미션: 학생들 점수가 60점 이상이면 합격, 그렇지 않으면 불합격 출력\n",
    "marks = [90, 25, 67, 45, 80]\n",
    "\n",
    "for i in range(len(marks)):\n",
    "    if marks[i] >= 60:\n",
    "        print(f\"{i+1}번 학생은 합격입니다.\")\n",
    "    else:\n",
    "        print(f\"{i+1}번 학생은 불합격입니다.\")"
   ]
  },
  {
   "cell_type": "code",
   "execution_count": 52,
   "id": "8cf9eb81",
   "metadata": {},
   "outputs": [
    {
     "name": "stdout",
     "output_type": "stream",
     "text": [
      "끝말잇기 게임\n",
      "시작\n",
      "가나\n",
      "나비\n",
      "비옷\n",
      "옷걸이\n",
      "사탕\n",
      "땡\n"
     ]
    }
   ],
   "source": [
    "## 미션: 끝말 잇기 게임 만들기\n",
    "print(\"끝말잇기 게임\")\n",
    "print(\"시작\")\n",
    "\n",
    "word = input(\"단어를 입력해주세요: \")\n",
    "print(word)\n",
    "\n",
    "while True:\n",
    "    other = input(\"단어를 입력해주세요: \")\n",
    "    print(other)\n",
    "\n",
    "    if word[-1] == other[0]:\n",
    "        word = other\n",
    "    else:\n",
    "        print(\"땡\")\n",
    "        break"
   ]
  },
  {
   "attachments": {
    "image.png": {
     "image/png": "[encoded data removed]"
    }
   },
   "cell_type": "markdown",
   "id": "91a6f61e",
   "metadata": {},
   "source": [
    "미션 \n",
    "<br>\n",
    "\n",
    "![image.png](attachment:image.png)"
   ]
  },
  {
   "cell_type": "code",
   "execution_count": 57,
   "id": "000d38b9",
   "metadata": {},
   "outputs": [
    {
     "data": {
      "text/plain": [
       "[4, 3]"
      ]
     },
     "execution_count": 57,
     "metadata": {},
     "output_type": "execute_result"
    }
   ],
   "source": [
    "numbers = [4, 4, 4, 3, 3]\n",
    "\n",
    "answer = []\n",
    "comp = numbers[0]\n",
    "answer.append(comp)\n",
    "\n",
    "for i in numbers:\n",
    "    if comp != i:\n",
    "        comp = i\n",
    "        answer.append(comp)\n",
    "\n",
    "answer"
   ]
  },
  {
   "cell_type": "markdown",
   "id": "02dcc54c",
   "metadata": {},
   "source": [
    "##### 딕셔너리"
   ]
  },
  {
   "cell_type": "markdown",
   "id": "83ef249a",
   "metadata": {},
   "source": [
    "딕셔너리(dictionary): 키와 값이 한 쌍으로 이루어져 순서에 상관없이 데이터를 저장하는 자료구조\n",
    "\n",
    "- 순서가 없는 컬렉션 자료형으로 각각의 요소는 {키 : 값} 형태로 저장 \n",
    "    \n",
    "    > 딕셔너리명 = {키1:값1, 키2:값2, 키3:값3, ...}\n",
    "- 딕셔너리에서 키는 중복할 수 없지만, 값은 중복이 가능"
   ]
  },
  {
   "cell_type": "code",
   "execution_count": 77,
   "id": "6a74b9a8",
   "metadata": {},
   "outputs": [
    {
     "data": {
      "text/plain": [
       "{'name': 'chrs', 'age': 30}"
      ]
     },
     "execution_count": 77,
     "metadata": {},
     "output_type": "execute_result"
    }
   ],
   "source": [
    "# 딕셔너리 생성\n",
    "person = dict(name='chrs', age = 30)\n",
    "person"
   ]
  },
  {
   "cell_type": "markdown",
   "id": "d036a151",
   "metadata": {},
   "source": [
    "< 딕셔러니 탐색 >\n",
    "\n",
    "- 딕셔너리 조회  \n",
    "    > 딕셔너리명[키]\n",
    "\n",
    "- 딕셔너리 값 삽입 및 변경 \n",
    "    - 새로 추가하는 키는 기존에 있는 키와 중복 안 됨\n",
    "    - 만약 키가 중복되면 기존 키에 저장되어 있는 값이 변경\n",
    "    > 딕셔너리명[키] = 값"
   ]
  },
  {
   "cell_type": "code",
   "execution_count": null,
   "id": "e3d6d6eb",
   "metadata": {},
   "outputs": [
    {
     "data": {
      "text/plain": [
       "{'name': 'Jimin', 'age': 26, 'hobby': 'movie'}"
      ]
     },
     "execution_count": 80,
     "metadata": {},
     "output_type": "execute_result"
    }
   ],
   "source": [
    "# <딕셔너리 탐색>\n",
    "\n",
    "# 키는 고유한 값을 지님\n",
    "student = {'name': 'Jimin', 'age': 26, 'hobby': 'movie'}\n",
    "student"
   ]
  },
  {
   "cell_type": "code",
   "execution_count": 81,
   "id": "7c890457",
   "metadata": {},
   "outputs": [
    {
     "data": {
      "text/plain": [
       "{'name': 'potato', 'age': 26, 'hobby': 'movie'}"
      ]
     },
     "execution_count": 81,
     "metadata": {},
     "output_type": "execute_result"
    }
   ],
   "source": [
    "# 중복된 키 값은 기존의 키 값을 덮어씌움\n",
    "student = {'name': 'Jimin', 'age': 26, 'hobby': 'movie', 'name': 'potato'}\n",
    "student"
   ]
  },
  {
   "cell_type": "code",
   "execution_count": 82,
   "id": "728f5a7a",
   "metadata": {},
   "outputs": [
    {
     "data": {
      "text/plain": [
       "26"
      ]
     },
     "execution_count": 82,
     "metadata": {},
     "output_type": "execute_result"
    }
   ],
   "source": [
    "# 딕셔너리 값 조회\n",
    "student['age']"
   ]
  },
  {
   "cell_type": "markdown",
   "id": "fff860e7",
   "metadata": {},
   "source": [
    "< 딕셔러니 조작 함수 >\n",
    "\n",
    "- 딕셔너리 키(key), 값(value) 반환: keys() 함수, values() 함수, items() 함수\n",
    "    - 딕셔너리.items() 함수: 키(key)와 값(value)의 쌍을 튜플로 묶은 값을 반환"
   ]
  },
  {
   "cell_type": "code",
   "execution_count": 83,
   "id": "926f0580",
   "metadata": {},
   "outputs": [
    {
     "name": "stdout",
     "output_type": "stream",
     "text": [
      "dict_keys(['name', 'age', 'hobby'])\n",
      "dict_values(['potato', 26, 'movie'])\n",
      "dict_items([('name', 'potato'), ('age', 26), ('hobby', 'movie')])\n"
     ]
    }
   ],
   "source": [
    "# 딕셔너리 키, 값, 키와 값 모두 출력\n",
    "print(student.keys()) \n",
    "print(student.values())\n",
    "print(student.items()) "
   ]
  },
  {
   "cell_type": "code",
   "execution_count": 84,
   "id": "8a85ab04",
   "metadata": {},
   "outputs": [
    {
     "name": "stdout",
     "output_type": "stream",
     "text": [
      "name\n",
      "age\n",
      "hobby\n",
      "\n",
      "potato\n",
      "26\n",
      "movie\n",
      "\n",
      "('name', 'potato')\n",
      "('age', 26)\n",
      "('hobby', 'movie')\n",
      "\n",
      "name potato\n",
      "age 26\n",
      "hobby movie\n",
      "\n",
      "name potato\n",
      "age 26\n",
      "hobby movie\n"
     ]
    }
   ],
   "source": [
    "# 딕셔너리 키, 값, 키와 값 모두 출력2\n",
    "\n",
    "for i in student.keys():\n",
    "    print(i)\n",
    "print()\n",
    "\n",
    "for i in student.values():\n",
    "    print(i)\n",
    "print()\n",
    "\n",
    "for i in student.items():\n",
    "    print(i)\n",
    "print()\n",
    "\n",
    "for i in student.items():\n",
    "    print(i[0], i[1])\n",
    "print()\n",
    "\n",
    "for i, j in student.items():\n",
    "    print(i, j)"
   ]
  },
  {
   "cell_type": "code",
   "execution_count": 86,
   "id": "3045a59e",
   "metadata": {},
   "outputs": [
    {
     "data": {
      "text/plain": [
       "{'name': 'potato', 'age': 26, 'hobby': 'movie', 'nickname': 'jimin'}"
      ]
     },
     "execution_count": 86,
     "metadata": {},
     "output_type": "execute_result"
    }
   ],
   "source": [
    "# 키 값 생성 후 값 할당\n",
    "student['nickname'] = 'jimin'\n",
    "student"
   ]
  },
  {
   "cell_type": "markdown",
   "id": "43e8015a",
   "metadata": {},
   "source": [
    "< 딕셔너리 메소드 >\n",
    "\n",
    "| 함수 | 설명 | 사용법 |\n",
    "|:---:|:---:|:---:|\n",
    "| get() | 항목 접근하기  | 딕셔너리.get(key) |\n",
    "| pop() | 항목 꺼내고 삭제하기 | 딕셔너리.pop(key) |\n",
    "| del() | 항목 삭제하기 | del(딕셔너리[key]) |\n",
    "| items() | 딕셔너리에 저장된 모든 항목 | 딕셔너리.items() |\n",
    "| keys() | 딕셔너리에 저장된 키 | 딕셔너리.keys() |\n",
    "| values() | 딕셔너리에 저장된 값 | 딕셔너리.values() |"
   ]
  },
  {
   "cell_type": "code",
   "execution_count": 87,
   "id": "7255ca4a",
   "metadata": {},
   "outputs": [
    {
     "data": {
      "text/plain": [
       "{'name': 'potato', 'age': 26, 'hobby': 'movie', 'nickname': 'jimin'}"
      ]
     },
     "execution_count": 87,
     "metadata": {},
     "output_type": "execute_result"
    }
   ],
   "source": [
    "student"
   ]
  },
  {
   "cell_type": "code",
   "execution_count": null,
   "id": "1b2c2b6e",
   "metadata": {},
   "outputs": [
    {
     "data": {
      "text/plain": [
       "'값이 존재하지 않음'"
      ]
     },
     "execution_count": 92,
     "metadata": {},
     "output_type": "execute_result"
    }
   ],
   "source": [
    "# 키 값이 존재하는지 판단하는 방법\n",
    "student.get('add','값이 존재하지 않음')     #add 값이 존재하지 않으면 , 뒤 출력"
   ]
  },
  {
   "cell_type": "code",
   "execution_count": null,
   "id": "37f3c920",
   "metadata": {},
   "outputs": [
    {
     "data": {
      "text/plain": [
       "{'name': 'potato', 'age': 26, 'hobby': 'movie'}"
      ]
     },
     "execution_count": 93,
     "metadata": {},
     "output_type": "execute_result"
    }
   ],
   "source": [
    "# 마지막 항목 삭제\n",
    "student.popitem()\n",
    "student"
   ]
  },
  {
   "cell_type": "code",
   "execution_count": 94,
   "id": "c3e0be64",
   "metadata": {},
   "outputs": [
    {
     "data": {
      "text/plain": [
       "True"
      ]
     },
     "execution_count": 94,
     "metadata": {},
     "output_type": "execute_result"
    }
   ],
   "source": [
    "# 키가 있는 지 없는 지 확인\n",
    "'name' in student.keys()"
   ]
  },
  {
   "cell_type": "code",
   "execution_count": 95,
   "id": "22737f6f",
   "metadata": {},
   "outputs": [
    {
     "data": {
      "text/plain": [
       "True"
      ]
     },
     "execution_count": 95,
     "metadata": {},
     "output_type": "execute_result"
    }
   ],
   "source": [
    "# 값이 있는 지 없는 지 확인\n",
    "26 in student.values()"
   ]
  },
  {
   "cell_type": "code",
   "execution_count": 99,
   "id": "98a887c6",
   "metadata": {},
   "outputs": [
    {
     "data": {
      "text/plain": [
       "True"
      ]
     },
     "execution_count": 99,
     "metadata": {},
     "output_type": "execute_result"
    }
   ],
   "source": [
    "# 키와 값 모두 있는지 없는지 확인\n",
    "('age', 26) in student.items()"
   ]
  },
  {
   "cell_type": "markdown",
   "id": "c0760a2f",
   "metadata": {},
   "source": [
    "미션 (도전 13-2) : 모스부호\n",
    "\n",
    "문자열 letter가 주어질 때, letter를 영어 소문자로 바꾼 문자열을 출력 하도록 코드작성 \n",
    "\n",
    "모스부호는 다음과 같습니다. \n",
    "\n",
    "morse = { \n",
    "\n",
    "    '.-':'a','-...':'b','-.-.':'c','-..':'d','.':'e','..-.':'f', \n",
    "\n",
    "    '--.':'g','....':'h','..':'i','.---':'j','-.-':'k','.-..':'l', \n",
    "\n",
    "    '--':'m','-.':'n','---':'o','.--.':'p','--.-':'q','.-.':'r', \n",
    "\n",
    "    '...':'s','-':'t','..-':'u','...-':'v','.--':'w','-..-':'x', \n",
    "\n",
    "    '-.--':'y','--..':'z' } \n",
    "\n",
    "입출력 예\n",
    "\n",
    "\".... . .-.. .-.. ---\"  \"hello\" \n",
    "\n",
    "\".--. -.-- - .... --- -.\"   \"python\" \n",
    "\n",
    " "
   ]
  },
  {
   "cell_type": "code",
   "execution_count": 104,
   "id": "ef4c156b",
   "metadata": {},
   "outputs": [
    {
     "data": {
      "text/plain": [
       "'hello'"
      ]
     },
     "execution_count": 104,
     "metadata": {},
     "output_type": "execute_result"
    }
   ],
   "source": [
    "morse = { \n",
    "\n",
    "    '.-':'a','-...':'b','-.-.':'c','-..':'d','.':'e','..-.':'f', \n",
    "\n",
    "    '--.':'g','....':'h','..':'i','.---':'j','-.-':'k','.-..':'l', \n",
    "\n",
    "    '--':'m','-.':'n','---':'o','.--.':'p','--.-':'q','.-.':'r', \n",
    "\n",
    "    '...':'s','-':'t','..-':'u','...-':'v','.--':'w','-..-':'x', \n",
    "\n",
    "    '-.--':'y','--..':'z' \n",
    "} \n",
    "\n",
    "letter = \".... . .-.. .-.. ---\" \n",
    "\n",
    "a = letter.split()  # 인수를 지정하지 않으면 공백을 기준으로 나눔\n",
    "\n",
    "answer = \"\"\n",
    "\n",
    "for i in a:     # a의 값을 반복해서 i 변수에 할당\n",
    "    answer = answer + morse[i] # 기존의 answer에 morse 딕셔너리에서 찾은 모스 부호를 이어붙임\n",
    "\n",
    "answer\n"
   ]
  },
  {
   "cell_type": "code",
   "execution_count": 105,
   "id": "c408ad12",
   "metadata": {},
   "outputs": [
    {
     "name": "stdout",
     "output_type": "stream",
     "text": [
      "hello"
     ]
    }
   ],
   "source": [
    "morse = { \n",
    "\n",
    "    '.-':'a','-...':'b','-.-.':'c','-..':'d','.':'e','..-.':'f', \n",
    "\n",
    "    '--.':'g','....':'h','..':'i','.---':'j','-.-':'k','.-..':'l', \n",
    "\n",
    "    '--':'m','-.':'n','---':'o','.--.':'p','--.-':'q','.-.':'r', \n",
    "\n",
    "    '...':'s','-':'t','..-':'u','...-':'v','.--':'w','-..-':'x', \n",
    "\n",
    "    '-.--':'y','--..':'z' \n",
    "} \n",
    "\n",
    "morse_input = input(\"모스 부호를 입력하세요: \").split(' ')\n",
    "\n",
    "for i in morse_input:\n",
    "    print(morse[i], end = \"\")\n"
   ]
  },
  {
   "cell_type": "markdown",
   "id": "ec1edc6d",
   "metadata": {},
   "source": [
    "set 자료형\n",
    "중복을 허용하지 않고, 순서가 없는 데이터 (집합)"
   ]
  },
  {
   "cell_type": "code",
   "execution_count": 190,
   "id": "6c2d9040",
   "metadata": {},
   "outputs": [
    {
     "name": "stdout",
     "output_type": "stream",
     "text": [
      "{1, 2, 3, 4}\n"
     ]
    }
   ],
   "source": [
    "s = {1, 2, 3, 4, 2, 3}\n",
    "type(s)\n",
    "print(s) # 중복된 값을 알아서 제거해줌\n",
    "\n",
    "# 리스트에서 중복을 제거하기 위해 세트로 변형해주면 됨 또는 교집합, 차집합 할 때 사용"
   ]
  },
  {
   "cell_type": "code",
   "execution_count": 191,
   "id": "0baa280d",
   "metadata": {},
   "outputs": [
    {
     "name": "stdout",
     "output_type": "stream",
     "text": [
      "{1, 2, 3, 4, 5}\n",
      "1\n",
      "{2, 3, 4, 5}\n",
      "{2, 4, 5}\n"
     ]
    }
   ],
   "source": [
    "# 요소 추가\n",
    "s.add(5)\n",
    "print(s)\n",
    "\n",
    "# 임의의 요소 제거\n",
    "print(s.pop())\n",
    "print(s)\n",
    "\n",
    "# 특정 값 제거\n",
    "s.remove(3)\n",
    "print(s)"
   ]
  },
  {
   "cell_type": "code",
   "execution_count": 194,
   "id": "fc3d7382",
   "metadata": {},
   "outputs": [
    {
     "name": "stdout",
     "output_type": "stream",
     "text": [
      "[1, 2, 3, 5, 1, 2, 3]\n",
      "[1, 2, 3, 5]\n",
      "[1, 2, 3, 5, 1, 2, 3]\n"
     ]
    }
   ],
   "source": [
    "# 리스트 생성\n",
    "my_list = [1, 2, 3, 5, 1, 2, 3]\n",
    "# 중복된 값 제거\n",
    "set(my_list)\n",
    "print(my_list)\n",
    "# 다시 원래 리스트로 변경\n",
    "print(list(set(my_list)))\n",
    "print(my_list)"
   ]
  },
  {
   "cell_type": "code",
   "execution_count": 196,
   "id": "d92e8325",
   "metadata": {},
   "outputs": [
    {
     "name": "stdout",
     "output_type": "stream",
     "text": [
      "{1, 2, 3, 4, 5, 6}\n",
      "{1, 2, 3, 4, 5, 6}\n",
      "{3, 4}\n",
      "{3, 4}\n",
      "{1, 2}\n",
      "{1, 2}\n"
     ]
    }
   ],
   "source": [
    "a = {1, 2, 3, 4}\n",
    "b = {3, 4, 5, 6}\n",
    "\n",
    "print(a.union(b)) # 합집합\n",
    "print(a | b)\n",
    "print(a & b)  # 교집합\n",
    "print(a.intersection(b))\n",
    "print(a - b) # 차집합\n",
    "print(a.difference(b))"
   ]
  },
  {
   "cell_type": "markdown",
   "id": "8eaadc85",
   "metadata": {},
   "source": [
    "튜플\n",
    "immutable 변경 불가능"
   ]
  },
  {
   "cell_type": "code",
   "execution_count": 197,
   "id": "e2e36be1",
   "metadata": {},
   "outputs": [
    {
     "data": {
      "text/plain": [
       "tuple"
      ]
     },
     "execution_count": 197,
     "metadata": {},
     "output_type": "execute_result"
    }
   ],
   "source": [
    "t1 = ()\n",
    "t2 = (1, 2, 3)\n",
    "type(t2)"
   ]
  },
  {
   "cell_type": "code",
   "execution_count": 199,
   "id": "df2e75ff",
   "metadata": {},
   "outputs": [
    {
     "name": "stdout",
     "output_type": "stream",
     "text": [
      "1\n",
      "('a', 3, ('ab', 'g'))\n"
     ]
    }
   ],
   "source": [
    "print(t2[0])\n",
    "t3 = ('a', 3, ('ab','g'))\n",
    "print(t3)"
   ]
  },
  {
   "cell_type": "code",
   "execution_count": 201,
   "id": "d2dbb10c",
   "metadata": {},
   "outputs": [
    {
     "ename": "TypeError",
     "evalue": "'tuple' object does not support item assignment",
     "output_type": "error",
     "traceback": [
      "\u001b[1;31m---------------------------------------------------------------------------\u001b[0m",
      "\u001b[1;31mTypeError\u001b[0m                                 Traceback (most recent call last)",
      "Cell \u001b[1;32mIn[201], line 2\u001b[0m\n\u001b[0;32m      1\u001b[0m \u001b[38;5;66;03m# 이미 있는 값에 업데이트 불가\u001b[39;00m\n\u001b[1;32m----> 2\u001b[0m \u001b[43mt2\u001b[49m\u001b[43m[\u001b[49m\u001b[38;5;241;43m0\u001b[39;49m\u001b[43m]\u001b[49m \u001b[38;5;241m=\u001b[39m \u001b[38;5;241m10\u001b[39m\n",
      "\u001b[1;31mTypeError\u001b[0m: 'tuple' object does not support item assignment"
     ]
    }
   ],
   "source": [
    "# 이미 있는 값에 업데이트 불가\n",
    "t2[0] = 10"
   ]
  },
  {
   "cell_type": "code",
   "execution_count": 203,
   "id": "b0e452b9",
   "metadata": {},
   "outputs": [
    {
     "name": "stdout",
     "output_type": "stream",
     "text": [
      "<class 'tuple'>\n",
      "(1, 2, 3, 4)\n"
     ]
    }
   ],
   "source": [
    "t4 = 1, 2, 3, 4\n",
    "print(type(t4))\n",
    "print(t4)"
   ]
  },
  {
   "cell_type": "code",
   "execution_count": null,
   "id": "55f4df18",
   "metadata": {},
   "outputs": [],
   "source": [
    "# 미션: 빼빼로데이\n",
    "\n",
    "# 빼빼로의 종류는 6가지 맛('누드초코', '아몬드', '초코', '크런키', '크림치즈', '화이트쿠키')이 있었습니다.\n",
    "# 이벤트 빼빼로는 한가지 맛에 하나만 구매할 수 있습니다.\n",
    "# 구매한 빼빼로를 오름차순으로 정렬하여 결과를 나타내 주세요.\n",
    "\n",
    "입력1\n",
    "[\"초코\", \"누드초코\", \"크런키\", \"아몬드\", \"초코\", \"누드초코\", \"아몬드\", \"화이트쿠키\", \"초코\", \"초코\"]\n",
    "\n",
    "출력1\n",
    "['누드초코', '아몬드', '초코', '크런키', '화이트쿠키']"
   ]
  },
  {
   "cell_type": "code",
   "execution_count": 209,
   "id": "2aa71e44",
   "metadata": {},
   "outputs": [
    {
     "data": {
      "text/plain": [
       "['누드초코', '아몬드', '초코', '크런키', '화이트쿠키']"
      ]
     },
     "execution_count": 209,
     "metadata": {},
     "output_type": "execute_result"
    }
   ],
   "source": [
    "# 강사 코드 수정해야 됨\n",
    "pe = ['누드초코', '아몬드', '초코', '크런키', '크림치즈', '화이트쿠키']\n",
    "\n",
    "an = [\"초코\", \"누드초코\", \"크런키\", \"아몬드\", \"초코\", \"누드초코\", \"아몬드\", \"화이트쿠키\", \"초코\", \"초코\"]\n",
    "an = list(set(an))\n",
    "an.sort()\n",
    "an"
   ]
  },
  {
   "cell_type": "code",
   "execution_count": 205,
   "id": "5149a9c1",
   "metadata": {},
   "outputs": [
    {
     "name": "stdout",
     "output_type": "stream",
     "text": [
      "초코, 크런키, 초코, 아몬드\n"
     ]
    }
   ],
   "source": [
    "pe = input(\"원하는 빼빼로의 맛을 입력해주세요: \")\n",
    "set(pe)\n",
    "sorted(pe)\n",
    "print(pe)"
   ]
  },
  {
   "cell_type": "code",
   "execution_count": null,
   "id": "c2fdffc7",
   "metadata": {},
   "outputs": [],
   "source": [
    "print(sorted(set(pepero)))"
   ]
  },
  {
   "cell_type": "code",
   "execution_count": 216,
   "id": "8ca85ce6",
   "metadata": {},
   "outputs": [
    {
     "data": {
      "text/plain": [
       "9"
      ]
     },
     "execution_count": 216,
     "metadata": {},
     "output_type": "execute_result"
    }
   ],
   "source": [
    "# 영단어 갯수 세기\n",
    "\n",
    "words = 'culture experience symbol is one school culture why effect eduaction one'\n",
    "len(set(words.split()))"
   ]
  },
  {
   "cell_type": "code",
   "execution_count": null,
   "id": "2f32627d",
   "metadata": {},
   "outputs": [],
   "source": []
  },
  {
   "cell_type": "markdown",
   "id": "d0a219ac",
   "metadata": {},
   "source": [
    "함수"
   ]
  },
  {
   "cell_type": "code",
   "execution_count": 218,
   "id": "09f679c8",
   "metadata": {},
   "outputs": [
    {
     "name": "stdout",
     "output_type": "stream",
     "text": [
      "내가 만든 함수입니다.\n"
     ]
    }
   ],
   "source": [
    "# 함수 생성\n",
    "def my_func():\n",
    "    print(\"내가 만든 함수입니다.\")\n",
    "\n",
    "my_func()"
   ]
  },
  {
   "cell_type": "code",
   "execution_count": 219,
   "id": "2891d925",
   "metadata": {},
   "outputs": [
    {
     "name": "stdout",
     "output_type": "stream",
     "text": [
      "Hey, 내가 만든 함수입니다.\n",
      "Hello, 내가 만든 함수입니다.\n",
      "Hi, 내가 만든 함수입니다.\n"
     ]
    }
   ],
   "source": [
    "# 입력 값을 포함한 함수 생성\n",
    "def my_func(a):\n",
    "    print(f\"{a}, 내가 만든 함수입니다.\")\n",
    "\n",
    "my_func('Hey')\n",
    "my_func('Hello')\n",
    "my_func('Hi')"
   ]
  },
  {
   "cell_type": "code",
   "execution_count": 226,
   "id": "454facae",
   "metadata": {},
   "outputs": [
    {
     "name": "stdout",
     "output_type": "stream",
     "text": [
      "1와 2의 합은 3입니다.\n",
      "3와 7의 합은 10입니다.\n"
     ]
    }
   ],
   "source": [
    "# 합을 리턴해주는 함수\n",
    "def my_sum(a, b):\n",
    "    result = a + b\n",
    "    print(f\"{a}와 {b}의 합은 {result}입니다.\")\n",
    "\n",
    "my_sum(1, 2)\n",
    "my_sum(3, 7)"
   ]
  },
  {
   "cell_type": "code",
   "execution_count": 230,
   "id": "1fed11d3",
   "metadata": {},
   "outputs": [
    {
     "name": "stdout",
     "output_type": "stream",
     "text": [
      "3\n",
      "10\n"
     ]
    }
   ],
   "source": [
    "# 합을 리턴해주는 함수 2\n",
    "def my_sum(a, b):\n",
    "    result = a + b\n",
    "    return result   # 함수는 값을 '반환'만 하고 출력은 하지 않음\n",
    "\n",
    "print(my_sum(1, 2))\n",
    "print(my_sum(3, 7))"
   ]
  },
  {
   "cell_type": "code",
   "execution_count": 235,
   "id": "c9ce500a",
   "metadata": {},
   "outputs": [
    {
     "data": {
      "text/plain": [
       "7"
      ]
     },
     "execution_count": 235,
     "metadata": {},
     "output_type": "execute_result"
    }
   ],
   "source": [
    "# 미션: 세 개의 숫자를 입력받아 가장 큰 수를 출력하는 num_max 함수\n",
    "\n",
    "def max_num(a, b, c):\n",
    "    max_val = a\n",
    "    if b > max_val:\n",
    "        max_val = b\n",
    "    if c > max_val:\n",
    "        max_val = c\n",
    "    return max_val\n",
    "\n",
    "num = max_num (3, 7, 0)\n",
    "num"
   ]
  },
  {
   "cell_type": "code",
   "execution_count": 237,
   "id": "3f09460f",
   "metadata": {},
   "outputs": [
    {
     "data": {
      "text/plain": [
       "24"
      ]
     },
     "execution_count": 237,
     "metadata": {},
     "output_type": "execute_result"
    }
   ],
   "source": [
    "def min_num(a, b, c, d, e, f, g):\n",
    "    min_val = a\n",
    "    if b < min_val:\n",
    "        min_val = b\n",
    "    if c < min_val:\n",
    "        min_val = c\n",
    "    if d < min_val:\n",
    "        min_val = d\n",
    "    if e < min_val:\n",
    "        min_val = e\n",
    "    if f < min_val:\n",
    "        min_val = f\n",
    "    if g < min_val:\n",
    "        min_val = g        \n",
    "    return min_val\n",
    "\n",
    "num = min_num (52, 273, 32, 103, 275, 24, 57)\n",
    "num"
   ]
  },
  {
   "cell_type": "code",
   "execution_count": 241,
   "id": "80a43941",
   "metadata": {},
   "outputs": [
    {
     "ename": "TypeError",
     "evalue": "'function' object is not subscriptable",
     "output_type": "error",
     "traceback": [
      "\u001b[1;31m---------------------------------------------------------------------------\u001b[0m",
      "\u001b[1;31mTypeError\u001b[0m                                 Traceback (most recent call last)",
      "Cell \u001b[1;32mIn[241], line 8\u001b[0m\n\u001b[0;32m      5\u001b[0m             answer \u001b[38;5;241m=\u001b[39m i\n\u001b[0;32m      6\u001b[0m     \u001b[38;5;28;01mreturn\u001b[39;00m answer       \n\u001b[1;32m----> 8\u001b[0m \u001b[38;5;28mprint\u001b[39m(\u001b[43mmin_num\u001b[49m\u001b[43m[\u001b[49m\u001b[43m(\u001b[49m\u001b[38;5;241;43m52\u001b[39;49m\u001b[43m,\u001b[49m\u001b[43m \u001b[49m\u001b[38;5;241;43m273\u001b[39;49m\u001b[43m,\u001b[49m\u001b[43m \u001b[49m\u001b[38;5;241;43m32\u001b[39;49m\u001b[43m,\u001b[49m\u001b[43m \u001b[49m\u001b[38;5;241;43m103\u001b[39;49m\u001b[43m,\u001b[49m\u001b[43m \u001b[49m\u001b[38;5;241;43m275\u001b[39;49m\u001b[43m,\u001b[49m\u001b[43m \u001b[49m\u001b[38;5;241;43m24\u001b[39;49m\u001b[43m,\u001b[49m\u001b[43m \u001b[49m\u001b[38;5;241;43m57\u001b[39;49m\u001b[43m)\u001b[49m\u001b[43m]\u001b[49m)\n\u001b[0;32m      9\u001b[0m \u001b[38;5;28mprint\u001b[39m(min_num[(\u001b[38;5;241m3\u001b[39m, \u001b[38;5;241m7\u001b[39m, \u001b[38;5;241m2000\u001b[39m, \u001b[38;5;241m26\u001b[39m, \u001b[38;5;241m-\u001b[39m\u001b[38;5;241m155\u001b[39m)])\n",
      "\u001b[1;31mTypeError\u001b[0m: 'function' object is not subscriptable"
     ]
    }
   ],
   "source": [
    "def num_min(arr):\n",
    "    answer = arr[0]\n",
    "    for i in arr:\n",
    "        if answer > i:\n",
    "            answer = i\n",
    "    return answer       \n",
    "\n",
    "print(min_num[(52, 273, 32, 103, 275, 24, 57)])\n",
    "print(min_num[(3, 7, 2000, 26, -155)])"
   ]
  },
  {
   "cell_type": "code",
   "execution_count": null,
   "id": "41b08b97",
   "metadata": {},
   "outputs": [],
   "source": [
    "def morse_to_string(letter):\n",
    "    morse = { \n",
    "\n",
    "    '.-':'a','-...':'b','-.-.':'c','-..':'d','.':'e','..-.':'f', \n",
    "\n",
    "    '--.':'g','....':'h','..':'i','.---':'j','-.-':'k','.-..':'l', \n",
    "\n",
    "    '--':'m','-.':'n','---':'o','.--.':'p','--.-':'q','.-.':'r', \n",
    "\n",
    "    '...':'s','-':'t','..-':'u','...-':'v','.--':'w','-..-':'x', \n",
    "\n",
    "    '-.--':'y','--..':'z' \n",
    "} \n",
    "a = letter.split()\n",
    "\n",
    "answer = \"\"\n",
    "\n",
    "for i in a:\n",
    "    answer = answer + morse+i\n",
    "\n",
    "    "
   ]
  },
  {
   "cell_type": "code",
   "execution_count": null,
   "id": "dc657938",
   "metadata": {},
   "outputs": [],
   "source": [
    "letter = \n",
    "morse_to_string(letter)"
   ]
  },
  {
   "cell_type": "code",
   "execution_count": 247,
   "id": "ef0bb0ed",
   "metadata": {},
   "outputs": [
    {
     "name": "stdout",
     "output_type": "stream",
     "text": [
      "(1, 2)\n"
     ]
    }
   ],
   "source": [
    "def add_many(*args):\n",
    "    print(args)\n",
    "    pass\n",
    "\n",
    "add_many(1, 2)"
   ]
  },
  {
   "cell_type": "code",
   "execution_count": 248,
   "id": "4ad8e80c",
   "metadata": {},
   "outputs": [
    {
     "data": {
      "text/plain": [
       "15"
      ]
     },
     "execution_count": 248,
     "metadata": {},
     "output_type": "execute_result"
    }
   ],
   "source": [
    "def add_many(*args):\n",
    "    sum = 0\n",
    "    for i in args:\n",
    "        sum +=i\n",
    "    return sum\n",
    "\n",
    "add_many(1, 2, 3, 4, 5)"
   ]
  },
  {
   "cell_type": "code",
   "execution_count": 249,
   "id": "6cbf01dc",
   "metadata": {},
   "outputs": [],
   "source": [
    "def add_mul(choice, *args):\n",
    "    print(choice, args)\n",
    "   "
   ]
  }
 ],
 "metadata": {
  "kernelspec": {
   "display_name": "Python 3",
   "language": "python",
   "name": "python3"
  },
  "language_info": {
   "codemirror_mode": {
    "name": "ipython",
    "version": 3
   },
   "file_extension": ".py",
   "mimetype": "text/x-python",
   "name": "python",
   "nbconvert_exporter": "python",
   "pygments_lexer": "ipython3",
   "version": "3.10.11"
  }
 },
 "nbformat": 4,
 "nbformat_minor": 5
}
