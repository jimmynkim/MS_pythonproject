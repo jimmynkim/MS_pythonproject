{
 "cells": [
  {
   "cell_type": "markdown",
   "id": "08343961",
   "metadata": {},
   "source": [
    "## 데이터 분석 및 인공지능 개발환경"
   ]
  },
  {
   "cell_type": "markdown",
   "id": "a574e100",
   "metadata": {},
   "source": [
    "### 파이썬 프로그래밍 개발 환경\n",
    "\n",
    "Python을 이용하여 데이터 분석을 하는 경우  \n",
    "1. Visual Studio Code와 같은 IDE를 사용  \n",
    "2. Jupyter Notebook과 같은 computational notebook을 사용\n",
    "\n",
    "#### IDE (Integrated Development Environment)\n",
    "- 코딩을 할 때 가장 많이 사용되는 도구\n",
    "- 코드를 작성, 편집하고 실행 및 디버깅하는 환경이 통합\n",
    "- 대부분의 IDE에서 다양한 확장 프로그램을 제공하여 생산성 높임\n",
    "- 인터프리터 및 컴파일러 언어에 모두 적용\n",
    "\n",
    "#### Computational notebook\n",
    "- 인터프리터 언어에 적용하기 용이\n",
    "- 데이터를 탐색하면서 바로 결과를 확인할 수 있어서 데이터 분석에 많이 활용"
   ]
  },
  {
   "cell_type": "markdown",
   "id": "7cb40336",
   "metadata": {},
   "source": [
    "### Git, Github\n",
    "\n",
    "#### 버전 관리 소프트웨어의 대표적인 기능\n",
    "- 버전관리: 서로 다른 버전의 파일을 추적, 관리하여 사용자 접근 가능, 과거 버전 비교 가능\n",
    "- 분기 & 병합: 코드라인을 분리하여 독립적인 개발 가능, 변경사항 메인 코드라인에 병합 가능\n",
    "- 커밋: 수정 사항을 저장소에 저장하여 보관, 커싯 메시지를 통해 변경사항 한 눈에 파악 가능\n",
    "- 충돌 해결: 하나의 코드 파일을 여러 개발자가 동시 수정할 때 충돌 해결방안 제시\n",
    "- 히스토리 & 로그: 코드라인에 적용된 모든 수정 사항에 대한 상세한 히스토리 로그 관리\n",
    "\n",
    "### GitHub\n",
    "- Git: 분산형 소프트웨어 형상 관리 도구\n",
    "- 단순 코드 호스팅 플랫폼이 아닌 개발 플랫폼으로 확장\n",
    "- 개발환경의 'Hub' 역할을 가능하게 하는 다양한 서비스와의 연계 용이\n",
    "- Codespaces 서비스를 이용하여 Python 개발 가능\n",
    "- Web 지원으로 언제 어디서나 개발이 가능 "
   ]
  },
  {
   "cell_type": "markdown",
   "id": "81258cfd",
   "metadata": {},
   "source": [
    "<br>\n",
    "- 새로운 리포지토리 생성 (하나의 프로젝트 폴더라고 생각)\n",
    "\n",
    "1. 깃허브 상단에 있는 + 버튼 안의 New repository 클릭\n",
    "2. Repository name 생성\n",
    "3. Desciption에 간단한 저장소 설명\n",
    "4. Add README를 On으로 설정  \n",
    "    - README.md는 리포지토리의 대문이라고 생각\n",
    "\n",
    "<br>\n",
    "- 리포지토리 삭제 방법\n",
    "\n",
    "1. 삭제할 리포지토리 클릭\n",
    "2. 오른쪽 상단 Settings 클릭\n",
    "3. 맨 아래에 Danger Zone의 Delete this repository 클릭\n",
    "\n",
    "<br>\n",
    "- 리포지토리 안에 새로운 파일 추가\n",
    "\n",
    "1. 원하는 리포지토리 클릭 후 main 가지 옆 + 버튼 안 파일 생성 또는 파일 업로드 클릭\n",
    "\n",
    "<br>\n",
    "- 웹 페이지처럼 게시하는 방법 (링크 생성)\n",
    "\n",
    "1. 오른쪽 상단에 Settings 클릭\n",
    "2. 왼쪽 메뉴 중 Pages 클릭\n",
    "3. Build and depolyment에 Branch에서 None -> main으로 변경 후 Save\n",
    "4. 몇 분 후, 새로고침하면 웹 페이지 링크 생성 완료\n",
    "\n",
    "<br>\n",
    "- git.dev를 이용해서 코드 수정하는 방법 (github.dev는 가벼운 웹 기반 코드 편집기)\n",
    "\n",
    "1. 연필 옆 드롭 다운 버튼 클릭 후 github.dev 클릭 (클라우드에서 개발환경 이용 가능)  \n",
    "    (깃허브 원본 파일의 직접 수정이 아닌 클라우드 공간의 사본 수정, 커밋 과정 필요)\n",
    "2. 수정 한 파일 저장 후 커밋을 위해 왼쪽 소스 제어 아이콘 클릭\n",
    "3. 커밋 메시지 필수로 작성 후, 커밋 및 푸시\n",
    "\n",
    "<br>\n",
    "- 리포지토리의 완전한 개발 환경인 코드스페이스를 쓰는 경우\n",
    "\n",
    "1. 원하는 리포지토리 main 가지 옆 초록색 <> code 버튼 클릭 후 코드스페이스 생성\n",
    "2. 파일 생성 또는 수정 후 상단의 커널 선택 및 추천 커널 설치\n",
    "3. 그 후 코드 실행 후 저장\n",
    "4. 서버에 갱신 하기 위해 왼쪽 소스 제어 아이콘 클릭 후 수정 파일에서 + 버튼 클릭\n",
    "5. 커밋 메시지 필수로 작성 후, 커밋 및 푸시\n",
    "6. 무료 버전의 한계가 있으므로 <> code 버튼의 코드스페이스에서 active면 더보기 눌러서 멈춤\n",
    "\n",
    "<br>\n",
    "- 코드스페이스 사용량 확인 방법\n",
    "\n",
    "1. 계정 버튼 클릭 후, Settings 클릭\n",
    "2. Billing and licensing의 Overview 클릭\n",
    "3. 중앙 아래 쪽의 Metered usage에서 Codespaces 보기"
   ]
  },
  {
   "cell_type": "markdown",
   "id": "aac88e39",
   "metadata": {},
   "source": [
    "<br>\n",
    "- 로컬에서 리퍼지토리와 연동 (add, commit, push)\n",
    "\n",
    "* 깃에 로컬과 깃허브가 연동이 안 된 경우 (Git bash 검은 창에)  \n",
    "(1) git config --global user.name \"kimabc\"  \n",
    "(2) git config --global user.email \"kimabc@gmail.com\"  \n",
    "(3) git config --list\n",
    "\n",
    "1. 로컬에 리퍼지토리와 연동시킬 디렉토리 폴더 생성 (알기 쉽게 리퍼지토리 이름과 동일하게 생성)\n",
    "2. 파일에서 오른쪽 버튼 클릭 후 추가 옵션 표시, Open Git Bash here 클릭\n",
    "3. 깃허브의 리퍼지토리와 로컬의 파일을 동기화 시킴  \n",
    "3-1. 초록색 <> code의 로컬에서 https 주소 복사  \n",
    "3-2. Git bash 검은 창에 git clone 복사한 https 주소 친 후 한 칸 띄우고 . 찍기  \n",
    "ex) git clone https://github.com/kimabc/testRepo.git .  \n",
    "3-3. clone 한 다음 서버에서 작업했다면 git pull로 당겨오기 (main이 작성되어 있는 경우)  \n",
    "ex) git pull\n",
    "4. 서버 파일에 파일 생성 및 수정 후 git add 친 후 한 칸 띄우고 . 찍기  \n",
    "    (.은 모든 파일 연동, 특정 파일만 연동 가능)  \n",
    "ex) git add . &emsp; ex) git add newfile.txt\n",
    "5. git commit -m \"커밋 메시지 작성\"  \n",
    "6. git push "
   ]
  },
  {
   "cell_type": "markdown",
   "id": "ecaf6613",
   "metadata": {},
   "source": [
    "<br>\n",
    "- VSCode와 깃허브 연동\n",
    "\n",
    "1. 리퍼지토리와 연동할 로컬 폴더 open folder로 열기  \n",
    "또는 VSCode에서 왼쪽 Explorer 아이콘에서 Clone Repository 클릭 후, 리포지토리 URL 복사 후 연결할 폴더 선택  \n",
    "2. 상단에 커널 선택 (Python 3.10.11)  \n",
    "3. 파일 작업 후 왼쪽에 소스 제어 아이콘 클릭  \n",
    "4. 커밋 메시지 작성 후 커밋"
   ]
  }
 ],
 "metadata": {
  "kernelspec": {
   "display_name": "Python 3",
   "language": "python",
   "name": "python3"
  },
  "language_info": {
   "name": "python",
   "version": "3.10.11"
  }
 },
 "nbformat": 4,
 "nbformat_minor": 5
}
