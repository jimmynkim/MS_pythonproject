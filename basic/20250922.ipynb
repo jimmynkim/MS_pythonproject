{
 "cells": [
  {
   "cell_type": "markdown",
   "id": "2391e9e7",
   "metadata": {},
   "source": [
    "## 파이썬 기본2"
   ]
  },
  {
   "cell_type": "markdown",
   "id": "b2afe6e7",
   "metadata": {},
   "source": [
    "##### 지난 내용 복습"
   ]
  },
  {
   "cell_type": "code",
   "execution_count": 1,
   "id": "7d267b79",
   "metadata": {},
   "outputs": [
    {
     "name": "stdout",
     "output_type": "stream",
     "text": [
      "    *\n",
      "   ***\n",
      "  *****\n",
      " *******\n",
      "*********\n"
     ]
    }
   ],
   "source": [
    "# 크리스마스 트리 만들기\n",
    "\n",
    "rows = int(input(\"크리스마스 트리 몇 줄이 필요하십니까?: \"))\n",
    "for i in range(1, rows+1, 1):\n",
    "    spaces = \" \" * (rows - i)\n",
    "    stars = \"*\" * (2 * i -1)\n",
    "    print(spaces + stars)"
   ]
  },
  {
   "cell_type": "code",
   "execution_count": 2,
   "id": "9f9d1c1a",
   "metadata": {},
   "outputs": [
    {
     "name": "stdout",
     "output_type": "stream",
     "text": [
      "(i = 0, j = 0)\n",
      "(i = 0, j = 1)\n",
      "(i = 0, j = 2)\n",
      "(i = 0, j = 3)\n",
      "(i = 0, j = 4)\n",
      "(i = 1, j = 0)\n",
      "(i = 1, j = 1)\n",
      "(i = 1, j = 2)\n",
      "(i = 1, j = 3)\n",
      "(i = 1, j = 4)\n",
      "(i = 2, j = 0)\n",
      "(i = 2, j = 1)\n",
      "(i = 2, j = 2)\n",
      "(i = 2, j = 3)\n",
      "6\n"
     ]
    }
   ],
   "source": [
    "# for, while에서의 탈출 -> break\n",
    "# 중첩 반복문에서 탈출 -> break 2번 입력\n",
    "\n",
    "number = 0\n",
    "for i in range(5):\n",
    "    for j in range(5):\n",
    "        print(f\"(i = {i}, j = {j})\")    # 탈출하는 지 확인하는 임시 코드\n",
    "        number = i * j\n",
    "        if i == 2 and j ==3:\n",
    "            break\n",
    "    if i == 2 and j ==3:\n",
    "        break\n",
    "\n",
    "print(number)"
   ]
  },
  {
   "cell_type": "code",
   "execution_count": 3,
   "id": "4ffc6789",
   "metadata": {},
   "outputs": [
    {
     "name": "stdout",
     "output_type": "stream",
     "text": [
      "6\n"
     ]
    }
   ],
   "source": [
    "# 중첩 반복문에서 탈출하는 다른 방법\n",
    "\n",
    "number = 0\n",
    "break_all = False   # 상태 플래그 생성\n",
    "for i in range(5):\n",
    "    for j in range(5):\n",
    "        if i == 2 and j == 3:\n",
    "            number = i * j\n",
    "            break_all = True\n",
    "            break\n",
    "    if break_all:\n",
    "        break \n",
    "    \n",
    "print(number)"
   ]
  },
  {
   "cell_type": "code",
   "execution_count": 4,
   "id": "2272682e",
   "metadata": {},
   "outputs": [
    {
     "name": "stdout",
     "output_type": "stream",
     "text": [
      "         *\n",
      "        ***\n",
      "       *****\n",
      "      *******\n",
      "     *********\n",
      "    ***********\n",
      "   *************\n",
      "  *"
     ]
    }
   ],
   "source": [
    "# 사용자로부터 n개의 별의 갯수를 입력받은 뒤\n",
    "# 별을 출력하되 별의 갯수만큼만 출력하다가 별이 다 소진되면 멈추는 코드 작성\n",
    "# 트리의 최대 높이는 10층\n",
    "\n",
    "# 사용자로부터 별의 갯수 입력받기\n",
    "num = int(input(\"별의 갯수를 입력하시오: \"))\n",
    "\n",
    "# 총 출력된 별의 개수\n",
    "total_stars_printed = 0\n",
    "\n",
    "# 트리의 최대 층은 10층으로 가정\n",
    "max_height = 10\n",
    "\n",
    "# 트리의 층을 순회하는 루프\n",
    "for i in range(1, max_height + 1):\n",
    "    # 만약 남은 별이 없다면 루프 종료\n",
    "    if total_stars_printed >= num:\n",
    "        break\n",
    "    \n",
    "    # 현재 층에 필요한 별의 개수\n",
    "    stars_on_this_floor = 2 * i - 1\n",
    "\n",
    "    # 공백 출력\n",
    "    print(' ' * (max_height - i), end='')\n",
    "\n",
    "    # 현재 층에 별을 출력하는 루프\n",
    "    for j in range(stars_on_this_floor):\n",
    "        # 만약 남은 별이 없다면 루프 종료\n",
    "        if total_stars_printed >= num:\n",
    "            break\n",
    "        print(\"*\", end='')\n",
    "        total_stars_printed += 1\n",
    "\n",
    "    # 한 층의 출력이 끝나면 줄 바꿈\n",
    "    # 단, 별이 모두 출력되었으면 마지막 줄바꿈은 피함\n",
    "    if total_stars_printed < num:\n",
    "        print()"
   ]
  },
  {
   "cell_type": "code",
   "execution_count": 5,
   "id": "782fdfb3",
   "metadata": {},
   "outputs": [
    {
     "name": "stdout",
     "output_type": "stream",
     "text": [
      "*\n",
      "**\n",
      "***\n",
      "****\n",
      "*****\n",
      "******\n",
      "*******\n",
      "********\n",
      "*********\n",
      "*****"
     ]
    }
   ],
   "source": [
    "# 위의 문제를 푸는 단계\n",
    "\n",
    "num = int(input(\"별의 갯수를 입력하시오: \"))\n",
    "star = 0\n",
    "break_all = False\n",
    "\n",
    "for i in range(1, 11):     # 최대 별의 높이 10층\n",
    "    for j in range(i):\n",
    "        star = star + 1\n",
    "        if star > num:\n",
    "            break_all = True\n",
    "            break\n",
    "        print(\"*\", end=\"\")\n",
    "    if break_all:\n",
    "        break\n",
    "    print()"
   ]
  },
  {
   "cell_type": "markdown",
   "id": "b0d0a2f7",
   "metadata": {},
   "source": [
    "#### 문자열 자료형\n",
    "\n",
    "- 문자 형태로 이루어진 자료형\n",
    "\n",
    "문자열 인덱싱(Indexing)\n",
    "- 문자열 내의 어떤 문자 값을 가져오기 위해서 문자열의 모든 문자마다 위치 값을 주는 것\n",
    "- 중괄호[ ]를 사용하고 인덱스는 0부터 시작\n",
    "- 뒤에서부터 인덱싱을 하려면 음수를 사용하여 -1부터 시작\n",
    "\n",
    "문자열 슬라이싱(Slicing)\n",
    "- 문자열 내의 일부분의 값(하나 이상의 문자 값)을 가져오는 것\n",
    "- [시작 인덱스 : 끝 인덱스 : (간격)] 에서 인덱스의 범위 지정\n",
    "- 처음 인덱스와 끝 인덱스는 생략 가능\n",
    "\n",
    "다양한 문자열 함수 기능\n",
    "- len() : 문자열 길이 출력\n",
    "- .lower() : 전체 문자열 소문자로 변환\n",
    "- .upper() : 전체 문자열 대문자로 변환\n",
    "- .split() : 문자열을 쪼갬  \n",
    "    ex) abc.split(\",\")    # abc문자열을 , 기준으로 쪼갬"
   ]
  },
  {
   "cell_type": "code",
   "execution_count": 6,
   "id": "3a4b5a14",
   "metadata": {},
   "outputs": [
    {
     "name": "stdout",
     "output_type": "stream",
     "text": [
      "P\n",
      "n\n",
      "Pyth\n",
      "Hlo yhn\n",
      "nohtyP ,olleH\n"
     ]
    },
    {
     "data": {
      "text/plain": [
       "13"
      ]
     },
     "execution_count": 6,
     "metadata": {},
     "output_type": "execute_result"
    }
   ],
   "source": [
    "my_str = \"Hello, Python\"\n",
    "\n",
    "a = my_str[7]   # 7번째 문자 출력\n",
    "print(a)\n",
    "\n",
    "b = my_str[-1]  # 뒤에서 1번째 출력\n",
    "print(b)\n",
    "\n",
    "c = my_str[7:11]    # 7번째부터 10번째 문자 출력\n",
    "print(c) \n",
    "\n",
    "d = my_str[::2]     # 2칸씩 띄우면서 문자 출력\n",
    "print(d)\n",
    "\n",
    "e = my_str[::-1]    # 거꾸로 출력\n",
    "print(e)\n",
    "\n",
    "len(my_str)     # len 함수를 통해 문자열 길이 알기"
   ]
  },
  {
   "cell_type": "code",
   "execution_count": 7,
   "id": "240ffd34",
   "metadata": {},
   "outputs": [
    {
     "name": "stdout",
     "output_type": "stream",
     "text": [
      "H\n",
      "e\n",
      "l\n",
      "l\n",
      "o\n",
      ",\n",
      " \n",
      "P\n",
      "y\n",
      "t\n",
      "h\n",
      "o\n",
      "n\n"
     ]
    }
   ],
   "source": [
    "# 문자열 데이터로 for문 돌리기\n",
    "for i in my_str:\n",
    "    print(i)\n",
    "    "
   ]
  },
  {
   "cell_type": "code",
   "execution_count": 8,
   "id": "12e65514",
   "metadata": {},
   "outputs": [
    {
     "name": "stdout",
     "output_type": "stream",
     "text": [
      "H\n",
      "e\n",
      "l\n",
      "l\n",
      "o\n",
      ",\n",
      " \n",
      "P\n",
      "y\n",
      "t\n",
      "h\n",
      "o\n",
      "n\n"
     ]
    }
   ],
   "source": [
    "# 문자열 데이터로 for문 돌리기2\n",
    "for i in range(len(my_str)):\n",
    "    print(my_str[i])"
   ]
  },
  {
   "cell_type": "markdown",
   "id": "60536cf5",
   "metadata": {},
   "source": [
    "### 복합 자료형"
   ]
  },
  {
   "cell_type": "markdown",
   "id": "dd32a7c6",
   "metadata": {},
   "source": [
    "#### 자료형\n",
    "\n",
    "- 자료형: 프로그래밍을 할 때 쓰이는 숫자, 문자열 등 자료 형태로 사용하는 모든 것\n",
    "\n",
    "- 컬렉션 자료형: 여러 개의 요소를 하나로 묶어 사용하는 자료형\n",
    "\n",
    "<br>\n",
    "\n",
    "| 컬렉션 자료형 종류 | 생성 방법 | 예시 |\n",
    "|:---:|:---:|:---:|\n",
    "| **리스트(list)** | [ ] | adress = [['박연호', '1234'], ['이진수', '5678']] |\n",
    "| 튜플(tuple) | ( ) | name = ('박연호', '이진수') |\n",
    "| **딕셔너리(dictionary)** | {키 : 값} | address = {'박연호' : '01012345678'} |\n",
    "| 세트(set) | { } | phone = {'01012345678'} |\n",
    "\n",
    "* 리스트는 순서가 있는 데이터, 딕셔너리는 순서가 없는 데이터"
   ]
  },
  {
   "cell_type": "markdown",
   "id": "02004b2e",
   "metadata": {},
   "source": [
    "##### 리스트\n"
   ]
  },
  {
   "cell_type": "markdown",
   "id": "759145aa",
   "metadata": {},
   "source": [
    "리스트(list): 복수의 다양한 데이터를 순서대로 저장하고 조작하는 기본 자료형\n",
    "\n",
    "- 여러 개의 데이터를 하나의 이름으로 저장하는 형태  \n",
    "    \n",
    "    > 리스트명 = [값1, 값2, ...]\n",
    "- 리스트에 저장되는 각각의 데이터를 항목 또는 원소라고 하며,  \n",
    "    항목은 숫자나 문자, 다른 리스트 등 다양한 종류로 구성\n",
    "- 각 항목은 순서대로 인덱스라고 하는 번호가 정해지며 0부터 시작"
   ]
  },
  {
   "cell_type": "code",
   "execution_count": 9,
   "id": "794a490b",
   "metadata": {},
   "outputs": [
    {
     "data": {
      "text/plain": [
       "list"
      ]
     },
     "execution_count": 9,
     "metadata": {},
     "output_type": "execute_result"
    }
   ],
   "source": [
    "# 리스트 생성\n",
    "numbers = []\n",
    "type(numbers)"
   ]
  },
  {
   "cell_type": "markdown",
   "id": "77e92825",
   "metadata": {},
   "source": [
    "< 리스트 다루기 >\n",
    "\n",
    "- 리스트 인덱싱(Indexing)  \n",
    "    > 리스트명[인덱스]\n",
    "\n",
    "- 리스트 슬라이싱(Slicing)  \n",
    "    - 슬라이싱은 리스트 안에서 범위를 지정하여 원하는 요소들을 선택하는 연산\n",
    "\n",
    "<br>\n",
    "\n",
    "| 리스트 슬라이싱 | 설명 |\n",
    "|:---:|:---:|\n",
    "| 리스트명[인덱스1 : 인덱스2] | 인덱스1 요소부터 인덱스2 앞 요소까지 선택|\n",
    "| 리스트명[인덱스1 : ] | 인덱스1부터 마지막 요소까지 선택 |\n",
    "| 리스트명[ : 인덱스2] | 첫 번째부터 인덱스2 앞 요소까지 선택 |\n",
    "| 리스트명[ : ] | 리스트 전체 요소 선택 |\n",
    "\n",
    "- 리스트 값 변경하기  \n",
    "    \n",
    "    > 리스트명[인덱스] = 값"
   ]
  },
  {
   "cell_type": "code",
   "execution_count": 10,
   "id": "3591ef30",
   "metadata": {},
   "outputs": [
    {
     "name": "stdout",
     "output_type": "stream",
     "text": [
      "[1, 2, 3, 4, 5]\n",
      "['apple', 'banana', 'orange']\n",
      "[1, 'apple', True, [10, 20, 30]]\n",
      "[1, 2, 3, 4, 5, 'apple', 'banana', 'orange']\n",
      "[1, 2, 3, 4, 5, 1, 2, 3, 4, 5]\n",
      "banana\n",
      "[1, True]\n",
      "['grape', 'banana', 'orange']\n"
     ]
    }
   ],
   "source": [
    "# <리스트 다루기>\n",
    "a = [1, 2, 3, 4, 5]\n",
    "print(a)\n",
    "b = ['apple', 'banana', 'orange']\n",
    "print(b)\n",
    "c = [1, \"apple\", True, [10, 20, 30]]    # 리스트 안에 리스트 가능\n",
    "print(c)\n",
    "\n",
    "print(a + b)    # 덧셈 연산자는 연결 연산자\n",
    "print(a * 2)    # 곱셈 연산자는 반복 연산자\n",
    "\n",
    "print(b[1])     # 리스트 인덱싱\n",
    "print(c[::2])   # 리스트 슬라이싱\n",
    "\n",
    "b[0] = \"grape\"  # 리스트 값 변경 (없는 인덱스 번호로 추가는 X)\n",
    "print(b)"
   ]
  },
  {
   "cell_type": "markdown",
   "id": "7199aa57",
   "metadata": {},
   "source": [
    "< 리스트 조작함수 >\n",
    "\n",
    "- 리스트 변수 이름 뒤에 마침표(.)를 붙인 다음 함수 이름 사용  \n",
    "    \n",
    "    > 리스트명.함수명(인수)\n",
    "1) 리스트 값 추가 : append() 함수, insert() 함수\n",
    "2) 리스트 값 삭제 : pop() 함수, remove() 함수\n",
    "3) 리스트 정렬 : sort(), sort(reverse=True) 함수, 리스트에서 찾을 값의 개수: count(요소) 함수 \n",
    "\n",
    "<br>\n",
    "\n",
    "| 함수 | 설명 | 사용법 |\n",
    "|:---:|:---:|:---:|\n",
    "| append() | 리스트에 요소를 마지막 위치에 새로 추가 | 리스트.append(값) |\n",
    "| insert() | 리스트의 해당 위치에 요소를 새로 삽입 | 리스트.insert(위치, 값) |\n",
    "| sort() | 오름차순, 내림차순 정렬 | 리스트.sort(), 리스트.sort(reverse=True) |\n",
    "| reverse() | 현재의 리스트를 그대로 거꾸로 뒤집음 | 리스트.reverse() |\n",
    "| pop() | 리스트 제일 뒤 항목 또는 제거할 위치의 항목 삭제 | 리스트.pop(), 리스트.pop(위치) |\n",
    "| remove() | 해당 요소를 찾아 삭제 | 리스트.remove(삭제할 값) |\n",
    "| count() | 해당 요소의 개수를 반환 | 리스트.count(찾을 값) |\n",
    "| index() | 리스트에 위치 값이 있으면 위치 값을 반환 | 리스트.index(값) |"
   ]
  },
  {
   "cell_type": "code",
   "execution_count": 11,
   "id": "38bed572",
   "metadata": {},
   "outputs": [
    {
     "name": "stdout",
     "output_type": "stream",
     "text": [
      "[1, 2, 3, 4, 5]\n",
      "['grape', 'banana', 'orange']\n"
     ]
    }
   ],
   "source": [
    "print(a)\n",
    "print(b)"
   ]
  },
  {
   "cell_type": "code",
   "execution_count": 12,
   "id": "2a87d9e6",
   "metadata": {},
   "outputs": [
    {
     "data": {
      "text/plain": [
       "['grape', 'banana', 'orange', 'cherry']"
      ]
     },
     "execution_count": 12,
     "metadata": {},
     "output_type": "execute_result"
    }
   ],
   "source": [
    "# <리스트 조작함수>\n",
    "\n",
    "# 리스트 끝에 값 추가\n",
    "b.append(\"cherry\")\n",
    "b"
   ]
  },
  {
   "cell_type": "code",
   "execution_count": 13,
   "id": "678ab621",
   "metadata": {},
   "outputs": [
    {
     "data": {
      "text/plain": [
       "['grape', 'banana', 'kiwi', 'orange', 'cherry']"
      ]
     },
     "execution_count": 13,
     "metadata": {},
     "output_type": "execute_result"
    }
   ],
   "source": [
    "# 특정 위치에 값 추가\n",
    "b.insert(2, \"kiwi\") \n",
    "b"
   ]
  },
  {
   "cell_type": "code",
   "execution_count": 14,
   "id": "7d9345ca",
   "metadata": {},
   "outputs": [
    {
     "data": {
      "text/plain": [
       "['grape', 'banana', 'kiwi', 'orange', 'cherry', 'mango', 'peach']"
      ]
     },
     "execution_count": 14,
     "metadata": {},
     "output_type": "execute_result"
    }
   ],
   "source": [
    "# 리스트 안에 여러 값 추가\n",
    "b.extend(['mango', 'peach'])\n",
    "b"
   ]
  },
  {
   "cell_type": "code",
   "execution_count": 15,
   "id": "65b78a18",
   "metadata": {},
   "outputs": [
    {
     "data": {
      "text/plain": [
       "['grape', 'banana', 'kiwi', 'orange', 'cherry', 'mango']"
      ]
     },
     "execution_count": 15,
     "metadata": {},
     "output_type": "execute_result"
    }
   ],
   "source": [
    "# 마지막 값 삭제\n",
    "b.pop()\n",
    "b"
   ]
  },
  {
   "cell_type": "code",
   "execution_count": 16,
   "id": "32d3c9b4",
   "metadata": {},
   "outputs": [
    {
     "data": {
      "text/plain": [
       "['grape', 'kiwi', 'orange', 'cherry', 'mango']"
      ]
     },
     "execution_count": 16,
     "metadata": {},
     "output_type": "execute_result"
    }
   ],
   "source": [
    "# 특정 위치의 값 삭제\n",
    "b.pop(1)\n",
    "b"
   ]
  },
  {
   "cell_type": "code",
   "execution_count": 17,
   "id": "a0522a2f",
   "metadata": {},
   "outputs": [
    {
     "data": {
      "text/plain": [
       "['grape', 'kiwi', 'orange', 'mango']"
      ]
     },
     "execution_count": 17,
     "metadata": {},
     "output_type": "execute_result"
    }
   ],
   "source": [
    "# 특정 값 삭제, 만약 동일한 값 여러 개면 맨 앞에 있는 값 삭제\n",
    "b.remove(\"cherry\")\n",
    "b"
   ]
  },
  {
   "cell_type": "code",
   "execution_count": 18,
   "id": "b42414e1",
   "metadata": {},
   "outputs": [
    {
     "name": "stdout",
     "output_type": "stream",
     "text": [
      "['grape', 'kiwi', 'orange', 'mango']\n"
     ]
    },
    {
     "data": {
      "text/plain": [
       "1"
      ]
     },
     "execution_count": 18,
     "metadata": {},
     "output_type": "execute_result"
    }
   ],
   "source": [
    "# 특정 값으로 인덱스 번호 찾기\n",
    "print(b)\n",
    "b.index('kiwi')\n"
   ]
  },
  {
   "cell_type": "code",
   "execution_count": 19,
   "id": "ba293e8d",
   "metadata": {},
   "outputs": [
    {
     "data": {
      "text/plain": [
       "True"
      ]
     },
     "execution_count": 19,
     "metadata": {},
     "output_type": "execute_result"
    }
   ],
   "source": [
    "# 리스트 안에 특정 값이 있는지 확인\n",
    "'kiwi' in b"
   ]
  },
  {
   "cell_type": "code",
   "execution_count": 20,
   "id": "0c184452",
   "metadata": {},
   "outputs": [
    {
     "data": {
      "text/plain": [
       "['grape', 'kiwi', 'mango', 'orange']"
      ]
     },
     "execution_count": 20,
     "metadata": {},
     "output_type": "execute_result"
    }
   ],
   "source": [
    "# 알파벳 사전 순(오름차순) 정렬\n",
    "b.sort()\n",
    "b"
   ]
  },
  {
   "cell_type": "code",
   "execution_count": 21,
   "id": "3cf916f8",
   "metadata": {},
   "outputs": [
    {
     "data": {
      "text/plain": [
       "['orange', 'mango', 'kiwi', 'grape']"
      ]
     },
     "execution_count": 21,
     "metadata": {},
     "output_type": "execute_result"
    }
   ],
   "source": [
    "# 알파벳 사전 순(내림차순) 정렬\n",
    "b.sort(reverse=True)\n",
    "b"
   ]
  },
  {
   "cell_type": "markdown",
   "id": "9ee4e4ca",
   "metadata": {},
   "source": [
    "< 리스트 적용 내장 함수 >\n",
    "\n",
    "| 연산자 | 의미 |\n",
    "|:---:|:---:|\n",
    "| len(리스트) | 리스트에 포함된 원소들의 개수 반환, 반복문에서 원소들을 하나씩 접근할 때 유용  |\n",
    "| max(리스트) | 리스트에 포함된 원소들의 최대값 반환 |\n",
    "| min(리스트) | 리스트에 포함된 원소들의 최소값 반환 |\n",
    "| sum(리스트) | 리스트에 포함된 원소들의 합을 반환 |\n"
   ]
  },
  {
   "cell_type": "code",
   "execution_count": 22,
   "id": "22dfbb8b",
   "metadata": {},
   "outputs": [
    {
     "name": "stdout",
     "output_type": "stream",
     "text": [
      "[1, 2, 3, 4, 5]\n"
     ]
    },
    {
     "data": {
      "text/plain": [
       "5"
      ]
     },
     "execution_count": 22,
     "metadata": {},
     "output_type": "execute_result"
    }
   ],
   "source": [
    "# <리스트 적용 내장 함수>\n",
    "print(a)\n",
    "\n",
    "# 리스트 안의 값들의 개수 출력\n",
    "len(a)"
   ]
  },
  {
   "cell_type": "code",
   "execution_count": 23,
   "id": "eea38148",
   "metadata": {},
   "outputs": [
    {
     "data": {
      "text/plain": [
       "1"
      ]
     },
     "execution_count": 23,
     "metadata": {},
     "output_type": "execute_result"
    }
   ],
   "source": [
    "# 리스트 안의 특정 값의 개수 출력\n",
    "a.count(3)\n"
   ]
  },
  {
   "cell_type": "code",
   "execution_count": 24,
   "id": "15796989",
   "metadata": {},
   "outputs": [
    {
     "data": {
      "text/plain": [
       "5"
      ]
     },
     "execution_count": 24,
     "metadata": {},
     "output_type": "execute_result"
    }
   ],
   "source": [
    "# 리스트 안의 값들 중 최대값 출력\n",
    "max(a)"
   ]
  },
  {
   "cell_type": "code",
   "execution_count": 25,
   "id": "13436c25",
   "metadata": {},
   "outputs": [
    {
     "data": {
      "text/plain": [
       "1"
      ]
     },
     "execution_count": 25,
     "metadata": {},
     "output_type": "execute_result"
    }
   ],
   "source": [
    "# 리스트 안의 값들 중 최소값 출력\n",
    "min(a)"
   ]
  },
  {
   "cell_type": "code",
   "execution_count": 26,
   "id": "b96ffaf0",
   "metadata": {},
   "outputs": [
    {
     "data": {
      "text/plain": [
       "15"
      ]
     },
     "execution_count": 26,
     "metadata": {},
     "output_type": "execute_result"
    }
   ],
   "source": [
    "# 리스트 안의 값들의 합\n",
    "sum(a)"
   ]
  },
  {
   "cell_type": "code",
   "execution_count": 27,
   "id": "09545caa",
   "metadata": {},
   "outputs": [
    {
     "data": {
      "text/plain": [
       "['orange', 'mango', 'kiwi', 'grape']"
      ]
     },
     "execution_count": 27,
     "metadata": {},
     "output_type": "execute_result"
    }
   ],
   "source": [
    "b"
   ]
  },
  {
   "cell_type": "code",
   "execution_count": 28,
   "id": "9d42318d",
   "metadata": {},
   "outputs": [
    {
     "name": "stdout",
     "output_type": "stream",
     "text": [
      "orange\n",
      "mango\n",
      "kiwi\n",
      "grape\n"
     ]
    }
   ],
   "source": [
    "# for문 안에 리스트 사용\n",
    "for i in b:\n",
    "    print(i)"
   ]
  },
  {
   "cell_type": "code",
   "execution_count": 29,
   "id": "a9cbf112",
   "metadata": {},
   "outputs": [
    {
     "name": "stdout",
     "output_type": "stream",
     "text": [
      "1번째 과일: orange\n",
      "2번째 과일: mango\n",
      "3번째 과일: kiwi\n",
      "4번째 과일: grape\n"
     ]
    }
   ],
   "source": [
    "# for문 안에 리스트 사용2\n",
    "for i in range(len(b)):\n",
    "    print(f\"{i+1}번째 과일: {b[i]}\")"
   ]
  },
  {
   "cell_type": "code",
   "execution_count": 30,
   "id": "962a6826",
   "metadata": {},
   "outputs": [
    {
     "name": "stdout",
     "output_type": "stream",
     "text": [
      "[1, 2, 3, 4, 5, 6, 7, 8, 9, 10]\n"
     ]
    }
   ],
   "source": [
    "# 반복문을 이용해서 리스트 간단히 생성 1 -> 리스트 컴프리핸션\n",
    "num_list = []\n",
    "for i in range(10):\n",
    "    num_list.append(i+1)\n",
    "print(num_list)"
   ]
  },
  {
   "cell_type": "code",
   "execution_count": 31,
   "id": "c27004d4",
   "metadata": {},
   "outputs": [
    {
     "data": {
      "text/plain": [
       "[1, 2, 3, 4, 5, 6, 7, 8, 9, 10]"
      ]
     },
     "execution_count": 31,
     "metadata": {},
     "output_type": "execute_result"
    }
   ],
   "source": [
    "# 리스트 컴프리핸션2\n",
    "num1 = [i for i in range(1, 11)]\n",
    "num1"
   ]
  },
  {
   "cell_type": "code",
   "execution_count": 32,
   "id": "a15e7888",
   "metadata": {},
   "outputs": [
    {
     "data": {
      "text/plain": [
       "[2, 4, 6, 8, 10, 12, 14, 16, 18, 20]"
      ]
     },
     "execution_count": 32,
     "metadata": {},
     "output_type": "execute_result"
    }
   ],
   "source": [
    "# 리스트 컴프리핸션3\n",
    "num2 = [i*2 for i in range(1, 11)]\n",
    "num2"
   ]
  },
  {
   "cell_type": "code",
   "execution_count": 33,
   "id": "43c66f9d",
   "metadata": {},
   "outputs": [
    {
     "data": {
      "text/plain": [
       "[2, 4, 6, 8, 10]"
      ]
     },
     "execution_count": 33,
     "metadata": {},
     "output_type": "execute_result"
    }
   ],
   "source": [
    "# 리스트 컴프리핸션4\n",
    "num3 = [i for i in range(1, 11) if i % 2 == 0]\n",
    "num3"
   ]
  },
  {
   "cell_type": "code",
   "execution_count": 34,
   "id": "77affc39",
   "metadata": {},
   "outputs": [
    {
     "name": "stdout",
     "output_type": "stream",
     "text": [
      "1번 학생은 합격입니다.\n",
      "2번 학생은 불합격입니다.\n",
      "3번 학생은 합격입니다.\n",
      "4번 학생은 불합격입니다.\n",
      "5번 학생은 합격입니다.\n"
     ]
    }
   ],
   "source": [
    "## 미션: 학생들 점수가 60점 이상이면 합격, 그렇지 않으면 불합격 출력\n",
    "marks = [90, 25, 67, 45, 80]\n",
    "\n",
    "for i in range(len(marks)):\n",
    "    if marks[i] >= 60:\n",
    "        print(f\"{i+1}번 학생은 합격입니다.\")\n",
    "    else:\n",
    "        print(f\"{i+1}번 학생은 불합격입니다.\")"
   ]
  },
  {
   "cell_type": "code",
   "execution_count": 35,
   "id": "8cf9eb81",
   "metadata": {},
   "outputs": [
    {
     "name": "stdout",
     "output_type": "stream",
     "text": [
      "끝말잇기 게임\n",
      "시작\n",
      "가나\n",
      "나비\n",
      "비옷\n",
      "옷걸이\n",
      "이런\n",
      "음..\n",
      "땡\n"
     ]
    }
   ],
   "source": [
    "## 미션: 끝말 잇기 게임 만들기\n",
    "print(\"끝말잇기 게임\")\n",
    "print(\"시작\")\n",
    "\n",
    "word = input(\"단어를 입력해주세요: \")\n",
    "print(word)\n",
    "\n",
    "while True:\n",
    "    other = input(\"단어를 입력해주세요: \")\n",
    "    print(other)\n",
    "\n",
    "    if word[-1] == other[0]:\n",
    "        word = other\n",
    "    else:\n",
    "        print(\"땡\")\n",
    "        break"
   ]
  },
  {
   "attachments": {
    "image.png": {
     "image/png": "[encoded data removed]"
    }
   },
   "cell_type": "markdown",
   "id": "91a6f61e",
   "metadata": {},
   "source": [
    "미션 \n",
    "<br>\n",
    "\n",
    "![image.png](attachment:image.png)"
   ]
  },
  {
   "cell_type": "code",
   "execution_count": 36,
   "id": "000d38b9",
   "metadata": {},
   "outputs": [
    {
     "data": {
      "text/plain": [
       "[4, 3]"
      ]
     },
     "execution_count": 36,
     "metadata": {},
     "output_type": "execute_result"
    }
   ],
   "source": [
    "numbers = [4, 4, 4, 3, 3]\n",
    "\n",
    "answer = []\n",
    "comp = numbers[0]\n",
    "answer.append(comp)\n",
    "\n",
    "for i in numbers:\n",
    "    if comp != i:\n",
    "        comp = i\n",
    "        answer.append(comp)\n",
    "\n",
    "answer"
   ]
  },
  {
   "cell_type": "markdown",
   "id": "02dcc54c",
   "metadata": {},
   "source": [
    "##### 딕셔너리"
   ]
  },
  {
   "cell_type": "markdown",
   "id": "83ef249a",
   "metadata": {},
   "source": [
    "딕셔너리(dictionary): 키와 값이 한 쌍으로 이루어져 순서에 상관없이 데이터를 저장하는 자료구조\n",
    "\n",
    "- 순서가 없는 컬렉션 자료형으로 각각의 요소는 {키 : 값} 형태로 저장 \n",
    "    \n",
    "    > 딕셔너리명 = {키1:값1, 키2:값2, 키3:값3, ...}\n",
    "- 딕셔너리에서 키는 중복할 수 없지만, 값은 중복이 가능"
   ]
  },
  {
   "cell_type": "code",
   "execution_count": 37,
   "id": "6a74b9a8",
   "metadata": {},
   "outputs": [
    {
     "data": {
      "text/plain": [
       "{'name': 'chrs', 'age': 30}"
      ]
     },
     "execution_count": 37,
     "metadata": {},
     "output_type": "execute_result"
    }
   ],
   "source": [
    "# 딕셔너리 생성\n",
    "person = dict(name='chrs', age = 30)\n",
    "person"
   ]
  },
  {
   "cell_type": "markdown",
   "id": "d036a151",
   "metadata": {},
   "source": [
    "< 딕셔러니 탐색 >\n",
    "\n",
    "- 딕셔너리 조회  \n",
    "    > 딕셔너리명[키]\n",
    "\n",
    "- 딕셔너리 값 삽입 및 변경 \n",
    "    - 새로 추가하는 키는 기존에 있는 키와 중복 안 됨\n",
    "    - 만약 키가 중복되면 기존 키에 저장되어 있는 값이 변경\n",
    "    > 딕셔너리명[키] = 값"
   ]
  },
  {
   "cell_type": "code",
   "execution_count": 38,
   "id": "e3d6d6eb",
   "metadata": {},
   "outputs": [
    {
     "data": {
      "text/plain": [
       "{'name': 'Jimin', 'age': 26, 'hobby': 'movie'}"
      ]
     },
     "execution_count": 38,
     "metadata": {},
     "output_type": "execute_result"
    }
   ],
   "source": [
    "# <딕셔너리 탐색>\n",
    "\n",
    "# 키는 고유한 값을 지님\n",
    "student = {'name': 'Jimin', 'age': 26, 'hobby': 'movie'}\n",
    "student"
   ]
  },
  {
   "cell_type": "code",
   "execution_count": 39,
   "id": "7c890457",
   "metadata": {},
   "outputs": [
    {
     "data": {
      "text/plain": [
       "{'name': 'potato', 'age': 26, 'hobby': 'movie'}"
      ]
     },
     "execution_count": 39,
     "metadata": {},
     "output_type": "execute_result"
    }
   ],
   "source": [
    "# 중복된 키 값은 기존의 키 값을 덮어씌움\n",
    "student = {'name': 'Jimin', 'age': 26, 'hobby': 'movie', 'name': 'potato'}\n",
    "student"
   ]
  },
  {
   "cell_type": "code",
   "execution_count": 40,
   "id": "728f5a7a",
   "metadata": {},
   "outputs": [
    {
     "data": {
      "text/plain": [
       "26"
      ]
     },
     "execution_count": 40,
     "metadata": {},
     "output_type": "execute_result"
    }
   ],
   "source": [
    "# 딕셔너리 값 조회\n",
    "student['age']"
   ]
  },
  {
   "cell_type": "markdown",
   "id": "fff860e7",
   "metadata": {},
   "source": [
    "< 딕셔러니 조작 함수 >\n",
    "\n",
    "- 딕셔너리 키(key), 값(value) 반환: keys() 함수, values() 함수, items() 함수\n",
    "    - 딕셔너리.items() 함수: 키(key)와 값(value)의 쌍을 튜플로 묶은 값을 반환"
   ]
  },
  {
   "cell_type": "code",
   "execution_count": 41,
   "id": "926f0580",
   "metadata": {},
   "outputs": [
    {
     "name": "stdout",
     "output_type": "stream",
     "text": [
      "dict_keys(['name', 'age', 'hobby'])\n",
      "dict_values(['potato', 26, 'movie'])\n",
      "dict_items([('name', 'potato'), ('age', 26), ('hobby', 'movie')])\n"
     ]
    }
   ],
   "source": [
    "# 딕셔너리 키, 값, 키와 값 모두 출력\n",
    "print(student.keys()) \n",
    "print(student.values())\n",
    "print(student.items()) "
   ]
  },
  {
   "cell_type": "code",
   "execution_count": 42,
   "id": "8a85ab04",
   "metadata": {},
   "outputs": [
    {
     "name": "stdout",
     "output_type": "stream",
     "text": [
      "name\n",
      "age\n",
      "hobby\n",
      "\n",
      "potato\n",
      "26\n",
      "movie\n",
      "\n",
      "('name', 'potato')\n",
      "('age', 26)\n",
      "('hobby', 'movie')\n",
      "\n",
      "name potato\n",
      "age 26\n",
      "hobby movie\n",
      "\n",
      "name potato\n",
      "age 26\n",
      "hobby movie\n"
     ]
    }
   ],
   "source": [
    "# 딕셔너리 키, 값, 키와 값 모두 출력2\n",
    "\n",
    "for i in student.keys():\n",
    "    print(i)\n",
    "print()\n",
    "\n",
    "for i in student.values():\n",
    "    print(i)\n",
    "print()\n",
    "\n",
    "for i in student.items():       # 튜플 형태로 출력\n",
    "    print(i)\n",
    "print()\n",
    "\n",
    "for i in student.items():\n",
    "    print(i[0], i[1])\n",
    "print()\n",
    "\n",
    "for i, j in student.items():\n",
    "    print(i, j)"
   ]
  },
  {
   "cell_type": "code",
   "execution_count": 43,
   "id": "3045a59e",
   "metadata": {},
   "outputs": [
    {
     "data": {
      "text/plain": [
       "{'name': 'potato', 'age': 26, 'hobby': 'movie', 'nickname': 'jimin'}"
      ]
     },
     "execution_count": 43,
     "metadata": {},
     "output_type": "execute_result"
    }
   ],
   "source": [
    "# 키 값 생성 후 값 할당\n",
    "student['nickname'] = 'jimin'\n",
    "student"
   ]
  },
  {
   "cell_type": "markdown",
   "id": "43e8015a",
   "metadata": {},
   "source": [
    "< 딕셔너리 메소드 >\n",
    "\n",
    "| 함수 | 설명 | 사용법 |\n",
    "|:---:|:---:|:---:|\n",
    "| get() | 항목 접근하기  | 딕셔너리.get(key) |\n",
    "| pop() | 항목 꺼내고 삭제하기 | 딕셔너리.pop(key) |\n",
    "| del() | 항목 삭제하기 | del(딕셔너리[key]) |\n",
    "| items() | 딕셔너리에 저장된 모든 항목 | 딕셔너리.items() |\n",
    "| keys() | 딕셔너리에 저장된 키 | 딕셔너리.keys() |\n",
    "| values() | 딕셔너리에 저장된 값 | 딕셔너리.values() |"
   ]
  },
  {
   "cell_type": "code",
   "execution_count": 44,
   "id": "7255ca4a",
   "metadata": {},
   "outputs": [
    {
     "data": {
      "text/plain": [
       "{'name': 'potato', 'age': 26, 'hobby': 'movie', 'nickname': 'jimin'}"
      ]
     },
     "execution_count": 44,
     "metadata": {},
     "output_type": "execute_result"
    }
   ],
   "source": [
    "student"
   ]
  },
  {
   "cell_type": "code",
   "execution_count": 45,
   "id": "1b2c2b6e",
   "metadata": {},
   "outputs": [
    {
     "data": {
      "text/plain": [
       "'값이 존재하지 않음'"
      ]
     },
     "execution_count": 45,
     "metadata": {},
     "output_type": "execute_result"
    }
   ],
   "source": [
    "# 키 값이 존재하는지 판단하는 방법\n",
    "student.get('add','값이 존재하지 않음')     #add 값이 존재하지 않으면 , 뒤 출력"
   ]
  },
  {
   "cell_type": "code",
   "execution_count": 46,
   "id": "37f3c920",
   "metadata": {},
   "outputs": [
    {
     "data": {
      "text/plain": [
       "{'name': 'potato', 'age': 26, 'hobby': 'movie'}"
      ]
     },
     "execution_count": 46,
     "metadata": {},
     "output_type": "execute_result"
    }
   ],
   "source": [
    "# 마지막 항목 삭제\n",
    "student.popitem()\n",
    "student"
   ]
  },
  {
   "cell_type": "code",
   "execution_count": 47,
   "id": "c3e0be64",
   "metadata": {},
   "outputs": [
    {
     "data": {
      "text/plain": [
       "True"
      ]
     },
     "execution_count": 47,
     "metadata": {},
     "output_type": "execute_result"
    }
   ],
   "source": [
    "# 키가 있는 지 없는 지 확인\n",
    "'name' in student.keys()"
   ]
  },
  {
   "cell_type": "code",
   "execution_count": 48,
   "id": "22737f6f",
   "metadata": {},
   "outputs": [
    {
     "data": {
      "text/plain": [
       "True"
      ]
     },
     "execution_count": 48,
     "metadata": {},
     "output_type": "execute_result"
    }
   ],
   "source": [
    "# 값이 있는 지 없는 지 확인\n",
    "26 in student.values()"
   ]
  },
  {
   "cell_type": "code",
   "execution_count": 49,
   "id": "98a887c6",
   "metadata": {},
   "outputs": [
    {
     "data": {
      "text/plain": [
       "True"
      ]
     },
     "execution_count": 49,
     "metadata": {},
     "output_type": "execute_result"
    }
   ],
   "source": [
    "# 키와 값 모두 있는지 없는지 확인\n",
    "('age', 26) in student.items()"
   ]
  },
  {
   "cell_type": "markdown",
   "id": "c0760a2f",
   "metadata": {},
   "source": [
    "미션 (도전 13-2) : 모스부호\n",
    "\n",
    "문자열 letter가 주어질 때, letter를 영어 소문자로 바꾼 문자열을 출력 하도록 코드작성 \n",
    "\n",
    "모스부호는 다음과 같습니다. \n",
    "\n",
    "morse = { \n",
    "\n",
    "    '.-':'a','-...':'b','-.-.':'c','-..':'d','.':'e','..-.':'f', \n",
    "\n",
    "    '--.':'g','....':'h','..':'i','.---':'j','-.-':'k','.-..':'l', \n",
    "\n",
    "    '--':'m','-.':'n','---':'o','.--.':'p','--.-':'q','.-.':'r', \n",
    "\n",
    "    '...':'s','-':'t','..-':'u','...-':'v','.--':'w','-..-':'x', \n",
    "\n",
    "    '-.--':'y','--..':'z' } \n",
    "\n",
    "입출력 예\n",
    "\n",
    "\".... . .-.. .-.. ---\"  \"hello\" \n",
    "\n",
    "\".--. -.-- - .... --- -.\"   \"python\" \n",
    "\n",
    " "
   ]
  },
  {
   "cell_type": "code",
   "execution_count": 50,
   "id": "ef4c156b",
   "metadata": {},
   "outputs": [
    {
     "data": {
      "text/plain": [
       "'hello'"
      ]
     },
     "execution_count": 50,
     "metadata": {},
     "output_type": "execute_result"
    }
   ],
   "source": [
    "morse = { \n",
    "\n",
    "    '.-':'a','-...':'b','-.-.':'c','-..':'d','.':'e','..-.':'f', \n",
    "\n",
    "    '--.':'g','....':'h','..':'i','.---':'j','-.-':'k','.-..':'l', \n",
    "\n",
    "    '--':'m','-.':'n','---':'o','.--.':'p','--.-':'q','.-.':'r', \n",
    "\n",
    "    '...':'s','-':'t','..-':'u','...-':'v','.--':'w','-..-':'x', \n",
    "\n",
    "    '-.--':'y','--..':'z' \n",
    "} \n",
    "\n",
    "letter = \".... . .-.. .-.. ---\" \n",
    "\n",
    "a = letter.split()  # 인수를 지정하지 않으면 공백을 기준으로 나눔\n",
    "\n",
    "answer = \"\"\n",
    "\n",
    "for i in a:     # a의 값을 반복해서 i 변수에 할당\n",
    "    answer = answer + morse[i] # 기존의 answer에 morse 딕셔너리에서 찾은 모스 부호를 이어붙임\n",
    "\n",
    "answer\n"
   ]
  },
  {
   "cell_type": "code",
   "execution_count": 51,
   "id": "c408ad12",
   "metadata": {},
   "outputs": [
    {
     "name": "stdout",
     "output_type": "stream",
     "text": [
      "hello"
     ]
    }
   ],
   "source": [
    "morse = { \n",
    "\n",
    "    '.-':'a','-...':'b','-.-.':'c','-..':'d','.':'e','..-.':'f', \n",
    "\n",
    "    '--.':'g','....':'h','..':'i','.---':'j','-.-':'k','.-..':'l', \n",
    "\n",
    "    '--':'m','-.':'n','---':'o','.--.':'p','--.-':'q','.-.':'r', \n",
    "\n",
    "    '...':'s','-':'t','..-':'u','...-':'v','.--':'w','-..-':'x', \n",
    "\n",
    "    '-.--':'y','--..':'z' \n",
    "} \n",
    "\n",
    "morse_input = input(\"모스 부호를 입력하세요: \").split(' ')\n",
    "\n",
    "for i in morse_input:\n",
    "    print(morse[i], end = \"\")\n"
   ]
  },
  {
   "cell_type": "markdown",
   "id": "23ac097b",
   "metadata": {},
   "source": [
    "##### 세트 자료형"
   ]
  },
  {
   "cell_type": "markdown",
   "id": "0a69c65f",
   "metadata": {},
   "source": [
    "세트(set): 중복을 허용하지 않고 순서가 없는 데이터 (집합)"
   ]
  },
  {
   "cell_type": "code",
   "execution_count": 52,
   "id": "237c48b4",
   "metadata": {},
   "outputs": [
    {
     "data": {
      "text/plain": [
       "set"
      ]
     },
     "execution_count": 52,
     "metadata": {},
     "output_type": "execute_result"
    }
   ],
   "source": [
    "# set 생성\n",
    "s = {1, 2, 3, 4, 2, 3}\n",
    "type(s)"
   ]
  },
  {
   "cell_type": "code",
   "execution_count": 53,
   "id": "459d2309",
   "metadata": {},
   "outputs": [
    {
     "data": {
      "text/plain": [
       "{1, 2, 3, 4}"
      ]
     },
     "execution_count": 53,
     "metadata": {},
     "output_type": "execute_result"
    }
   ],
   "source": [
    "s   # 중복된 값을 알아서 제거\n",
    "\n",
    "# 즉, 리스트에서 중복을 제거하기 위해 세트로 변형해줌\n",
    "# 주로 교집합, 차집합할 때 사용"
   ]
  },
  {
   "cell_type": "code",
   "execution_count": 54,
   "id": "79446659",
   "metadata": {},
   "outputs": [
    {
     "data": {
      "text/plain": [
       "{1, 2, 3, 4, 5}"
      ]
     },
     "execution_count": 54,
     "metadata": {},
     "output_type": "execute_result"
    }
   ],
   "source": [
    "# 요소 추가\n",
    "s.add(5)\n",
    "s"
   ]
  },
  {
   "cell_type": "code",
   "execution_count": 55,
   "id": "15f648e2",
   "metadata": {},
   "outputs": [
    {
     "name": "stdout",
     "output_type": "stream",
     "text": [
      "1\n"
     ]
    },
    {
     "data": {
      "text/plain": [
       "{2, 3, 4, 5}"
      ]
     },
     "execution_count": 55,
     "metadata": {},
     "output_type": "execute_result"
    }
   ],
   "source": [
    "# 임의의 요소 제거\n",
    "print(s.pop())\n",
    "s"
   ]
  },
  {
   "cell_type": "code",
   "execution_count": 56,
   "id": "0baa280d",
   "metadata": {},
   "outputs": [
    {
     "data": {
      "text/plain": [
       "{2, 4, 5}"
      ]
     },
     "execution_count": 56,
     "metadata": {},
     "output_type": "execute_result"
    }
   ],
   "source": [
    "# 특정 값 제거\n",
    "s.remove(3)\n",
    "s"
   ]
  },
  {
   "cell_type": "code",
   "execution_count": 57,
   "id": "fb252b1e",
   "metadata": {},
   "outputs": [
    {
     "name": "stdout",
     "output_type": "stream",
     "text": [
      "{1, 2, 3, 5}\n"
     ]
    },
    {
     "data": {
      "text/plain": [
       "[1, 2, 3, 5]"
      ]
     },
     "execution_count": 57,
     "metadata": {},
     "output_type": "execute_result"
    }
   ],
   "source": [
    "# 리스트 생성\n",
    "my_list = [1, 2, 3, 5, 1, 2, 3]\n",
    "\n",
    "# 세트로 변경 후 중복된 값 제거\n",
    "a = set(my_list)\n",
    "print(a)\n",
    "\n",
    "# 다시 원래 리스트로 변경\n",
    "my_list = list(set(a))\n",
    "my_list"
   ]
  },
  {
   "cell_type": "code",
   "execution_count": 58,
   "id": "fc3d7382",
   "metadata": {},
   "outputs": [
    {
     "data": {
      "text/plain": [
       "[1, 2, 3, 4, 5]"
      ]
     },
     "execution_count": 58,
     "metadata": {},
     "output_type": "execute_result"
    }
   ],
   "source": [
    "# 한 번에 리스트 -> 세트 -> 리스트 변경 방법\n",
    "my_list2 = [1, 2, 3, 4, 5, 2, 4, 1]\n",
    "list(set(my_list2))"
   ]
  },
  {
   "cell_type": "code",
   "execution_count": 59,
   "id": "d92e8325",
   "metadata": {},
   "outputs": [
    {
     "name": "stdout",
     "output_type": "stream",
     "text": [
      "{1, 2, 3, 4, 5, 6}\n",
      "{1, 2, 3, 4, 5, 6}\n",
      "{3, 4}\n",
      "{3, 4}\n",
      "{1, 2}\n",
      "{1, 2}\n"
     ]
    }
   ],
   "source": [
    "# 합집합과 교집합, 차집합\n",
    "a = {1, 2, 3, 4}\n",
    "b = {3, 4, 5, 6}\n",
    "\n",
    "print(a.union(b))           # 합집합\n",
    "print(a | b)                # 합집합\n",
    "print(a & b)                # 교집합\n",
    "print(a.intersection(b))    # 교집합\n",
    "print(a - b)                # 차집합\n",
    "print(a.difference(b))      # 차집합"
   ]
  },
  {
   "cell_type": "markdown",
   "id": "e8f8a3de",
   "metadata": {},
   "source": [
    "##### 튜플"
   ]
  },
  {
   "cell_type": "markdown",
   "id": "e4897ec6",
   "metadata": {},
   "source": [
    "튜플(tuple): 리스트와 마찬가지로 여러 데이터를 하나로 묶어 저장하는 자료의 집합\n",
    "\n",
    "- 인덱싱과 슬라이싱 가능\n",
    "- **초기화 후 편집 불가** \n",
    "- 즉, 한 번 생성된 튜플의 원소는 추가, 수정, 삭제 불가 (안정성)\n",
    "- 소괄호 사이에 각각의 요소를 컴마로 구분해서 입력\n",
    "- 생김새 : (90, 70, 'python', [1, 2, 3], 3.14)\n",
    "- 소괄호 없이 값만 나열해도 가능\n",
    "- 요소 하나의 튜플을 만드는 경우 값 뒤에 콤마를 넣어 튜플임을 나타냄"
   ]
  },
  {
   "cell_type": "code",
   "execution_count": 60,
   "id": "e2e36be1",
   "metadata": {},
   "outputs": [
    {
     "name": "stdout",
     "output_type": "stream",
     "text": [
      "<class 'tuple'>\n",
      "<class 'tuple'>\n"
     ]
    }
   ],
   "source": [
    "# 튜플 생성\n",
    "t1 = ()\n",
    "t2 = (1, 2, 3)\n",
    "t3 = ('a', 3, ('ab', 'g'))\n",
    "print(type(t2))\n",
    "print(type(t3))"
   ]
  },
  {
   "cell_type": "code",
   "execution_count": 61,
   "id": "df2e75ff",
   "metadata": {},
   "outputs": [
    {
     "data": {
      "text/plain": [
       "2"
      ]
     },
     "execution_count": 61,
     "metadata": {},
     "output_type": "execute_result"
    }
   ],
   "source": [
    "# 특정 값 출력\n",
    "t2[1]"
   ]
  },
  {
   "cell_type": "code",
   "execution_count": 62,
   "id": "d2dbb10c",
   "metadata": {},
   "outputs": [
    {
     "ename": "TypeError",
     "evalue": "'tuple' object does not support item assignment",
     "output_type": "error",
     "traceback": [
      "\u001b[1;31m---------------------------------------------------------------------------\u001b[0m",
      "\u001b[1;31mTypeError\u001b[0m                                 Traceback (most recent call last)",
      "Cell \u001b[1;32mIn[62], line 2\u001b[0m\n\u001b[0;32m      1\u001b[0m \u001b[38;5;66;03m# 이미 있는 값에 업데이트 불가\u001b[39;00m\n\u001b[1;32m----> 2\u001b[0m \u001b[43mt2\u001b[49m\u001b[43m[\u001b[49m\u001b[38;5;241;43m0\u001b[39;49m\u001b[43m]\u001b[49m \u001b[38;5;241m=\u001b[39m \u001b[38;5;241m10\u001b[39m\n",
      "\u001b[1;31mTypeError\u001b[0m: 'tuple' object does not support item assignment"
     ]
    }
   ],
   "source": [
    "# 이미 있는 값에 업데이트 불가\n",
    "t2[0] = 10"
   ]
  },
  {
   "cell_type": "code",
   "execution_count": 63,
   "id": "b0e452b9",
   "metadata": {},
   "outputs": [
    {
     "name": "stdout",
     "output_type": "stream",
     "text": [
      "<class 'tuple'>\n",
      "(1, 2, 3, 4)\n"
     ]
    }
   ],
   "source": [
    "# 괄호 없이도 튜플 생성 가능\n",
    "t4 = 1, 2, 3, 4\n",
    "print(type(t4))\n",
    "print(t4)"
   ]
  },
  {
   "cell_type": "code",
   "execution_count": 64,
   "id": "55f4df18",
   "metadata": {},
   "outputs": [],
   "source": [
    "## 미션: 빼빼로데이\n",
    "\n",
    "# 빼빼로의 종류는 6가지 맛('누드초코', '아몬드', '초코', '크런키', '크림치즈', '화이트쿠키')\n",
    "# 이벤트 빼빼로는 한가지 맛에 하나만 구매 가능\n",
    "# 구매한 빼빼로를 오름차순으로 정렬하여 결과 출력\n",
    "\n",
    "# 예) 입력1\n",
    "# [\"초코\", \"누드초코\", \"크런키\", \"아몬드\", \"초코\", \"누드초코\", \"아몬드\", \"화이트쿠키\", \"초코\", \"초코\"]\n",
    "\n",
    "# 출력1\n",
    "# ['누드초코', '아몬드', '초코', '크런키', '화이트쿠키']"
   ]
  },
  {
   "cell_type": "code",
   "execution_count": 65,
   "id": "2aa71e44",
   "metadata": {},
   "outputs": [
    {
     "data": {
      "text/plain": [
       "['누드초코', '아몬드', '초코', '크런키', '화이트쿠키']"
      ]
     },
     "execution_count": 65,
     "metadata": {},
     "output_type": "execute_result"
    }
   ],
   "source": [
    "an = [\"초코\", \"누드초코\", \"크런키\", \"아몬드\", \"초코\", \"누드초코\", \"아몬드\", \"화이트쿠키\", \"초코\", \"초코\"]\n",
    "an = list(set(an))\n",
    "an.sort()\n",
    "an"
   ]
  },
  {
   "cell_type": "code",
   "execution_count": null,
   "id": "5149a9c1",
   "metadata": {},
   "outputs": [
    {
     "data": {
      "text/plain": [
       "['아몬드']"
      ]
     },
     "execution_count": 66,
     "metadata": {},
     "output_type": "execute_result"
    }
   ],
   "source": [
    "pe = input(\"원하는 빼빼로의 맛을 입력해주세요(,로 구분하여 여러 맛 입력): \")\n",
    "pe_list = pe.split(',')\n",
    "pe_list = list(set(pe_list))\n",
    "pe_list.sort()\n",
    "pe_list"
   ]
  },
  {
   "cell_type": "code",
   "execution_count": 67,
   "id": "8ca85ce6",
   "metadata": {},
   "outputs": [
    {
     "data": {
      "text/plain": [
       "9"
      ]
     },
     "execution_count": 67,
     "metadata": {},
     "output_type": "execute_result"
    }
   ],
   "source": [
    "## 영단어 갯수 세기\n",
    "\n",
    "words = 'culture experience symbol is one school culture why effect eduaction one'\n",
    "len(set(words.split()))"
   ]
  },
  {
   "cell_type": "markdown",
   "id": "d1a32d30",
   "metadata": {},
   "source": [
    "##### 시퀀스 자료형"
   ]
  },
  {
   "cell_type": "markdown",
   "id": "33b868d5",
   "metadata": {},
   "source": [
    "- 각각의 요소들이 연속적으로 이어진 자료형 (리스트, 튜플, range, 문자열)\n",
    "- range로 생성된 숫자는 리스트나 튜플로 만들어서 사용 가능\n",
    "- 시퀀스 자료형은 공통된 동작과 기능을 제공  \n",
    "    - 시퀀스 객체: 시퀀스 자료형으로 만든 객체\n",
    "    - 요소(element): 시퀀스 객체에 들어있는 각 값\n",
    "- 시퀀스 객체 안에 특정 값이 있는지 확인하는 방법 - in 연산자 (**값 in 시퀀스 객체**)\n",
    "    - 시퀀스 객체에 특정한 값이 있으면 True 반환\n",
    "- 시퀀스 객체 안에 특정 값이 없는지 확인하는 방법 - not in 연산자 (**값 not in 시퀀스 객체**)\n",
    "    - 시퀀스 객체에 특정한 값이 없으면 True 반환"
   ]
  },
  {
   "attachments": {
    "image.png": {
     "image/png": "[encoded data removed]"
    }
   },
   "cell_type": "markdown",
   "id": "efc58ec1",
   "metadata": {},
   "source": [
    "교재\n",
    "<br>\n",
    "\n",
    "![image.png](attachment:image.png)"
   ]
  },
  {
   "cell_type": "code",
   "execution_count": 69,
   "id": "334ad65e",
   "metadata": {},
   "outputs": [
    {
     "name": "stdout",
     "output_type": "stream",
     "text": [
      "Alice 평균: 89.0 \n",
      "Bob 평균: 82.0 \n",
      "Charlie 평균: 92.0 \n",
      "\n",
      "전체 평균: 87.66666666666667\n",
      "\n",
      "90점 이상인 명단: ['Alice', 'Charlie']\n"
     ]
    }
   ],
   "source": [
    "name = ['Alice', 'Bob', 'Charlie']\n",
    "score = [[90, 85, 92],[78, 80, 88], [95, 92, 89]]\n",
    "\n",
    "student = {'Alice' : score[0], 'Bob' : score[1], 'Charlie' : score[2]}\n",
    "\n",
    "# 각 학생의 평균 구하기\n",
    "total_scores = []\n",
    "\n",
    "for sublist in score:\n",
    "    total = sum(sublist)/3\n",
    "    total_scores.append(total)\n",
    "\n",
    "print(f\"{name[0]} 평균: {total_scores[0]} \")\n",
    "print(f\"{name[1]} 평균: {total_scores[1]} \")\n",
    "print(f\"{name[2]} 평균: {total_scores[2]} \")\n",
    "print()\n",
    "\n",
    "# 전체 평균 구하기\n",
    "total = (total_scores[0] + total_scores[1] + total_scores[2])/3\n",
    "\n",
    "print(f\"전체 평균: {total}\")\n",
    "print()\n",
    "\n",
    "# 90점 이상의 점수가 있는 학생\n",
    "# zip() 함수로 이름과 점수 리스트를 묶어서 순회\n",
    "\n",
    "high_scorers = []\n",
    "\n",
    "for n, s_list in zip(name, score):\n",
    "    # 각 점수 리스트(s_list)에 90점 이상인 점수가 있는지 확인\n",
    "    for s in s_list:\n",
    "        if s >= 90:\n",
    "            high_scorers.append(n)\n",
    "            break # 90점 이상인 점수를 찾았으니 다음 학생으로 넘어감\n",
    "\n",
    "print(f\"90점 이상인 명단: {high_scorers}\")"
   ]
  },
  {
   "cell_type": "code",
   "execution_count": 70,
   "id": "11311042",
   "metadata": {},
   "outputs": [
    {
     "name": "stdout",
     "output_type": "stream",
     "text": [
      "Alice의 평균 점수: 89.0\n",
      "Bob의 평균 점수: 82.0\n",
      "Charlie의 평균 점수: 92.0\n",
      "\n",
      "전체 학생 평균 점수: 87.66666666666667\n",
      "\n",
      "90점 이상 점수가 있는 학생: Alice, Charlie\n"
     ]
    }
   ],
   "source": [
    "# 다른 방법\n",
    "\n",
    "name = ['Alice', 'Bob', 'Charlie']\n",
    "score = [[90, 85, 92],[78, 80, 88], [95, 92, 89]]\n",
    "\n",
    "# 각 학생의 평균 점수 계산 및 출력\n",
    "for i in range(len(name)):\n",
    "    student_name = name[i]\n",
    "    student_scores = score[i]\n",
    "    average_score = sum(student_scores) / len(student_scores)\n",
    "    print(f\"{student_name}의 평균 점수: {average_score:.1f}\")\n",
    "\n",
    "print()\n",
    "\n",
    "# 전체 평균 점수 계산 및 출력\n",
    "total_scores = []\n",
    "for student_scores in score:\n",
    "    total_scores.extend(student_scores)\n",
    "overall_average = sum(total_scores) / len(total_scores)\n",
    "print(f\"전체 학생 평균 점수: {overall_average}\")\n",
    "\n",
    "print()\n",
    "\n",
    "# 90점 이상 점수를 가진 학생 이름 출력\n",
    "high_achievers = []\n",
    "for i in range(len(name)):\n",
    "    if any(s >= 90 for s in score[i]):\n",
    "        high_achievers.append(name[i])\n",
    "\n",
    "print(f\"90점 이상 점수가 있는 학생: {', '.join(high_achievers)}\")"
   ]
  },
  {
   "cell_type": "markdown",
   "id": "f85ef78a",
   "metadata": {},
   "source": [
    "zip( ) 함수: 여러 개의 이터러블을 병렬로 묶어주는 Python 내장 함수\n",
    "- 전달받은 이터러블들의 각 요소를 순서대로 짝지어 새로운 튜플들의 이터레이터 생성\n",
    "- zip( ) 함수는 인자로 받은 이터러블들 중 가장 짧은 것의 길이에 맞춤\n",
    "- zip( ) 함수 자체는 튜플들의 리스트를 직접 반환이 아닌 이터레이터 반환\n",
    "- 즉, 결과 값을 보려면 list( ), dict( )와 같은 함수로 변환하거나 반복문 사용"
   ]
  },
  {
   "cell_type": "code",
   "execution_count": 71,
   "id": "324ba624",
   "metadata": {},
   "outputs": [
    {
     "name": "stdout",
     "output_type": "stream",
     "text": [
      "[('Alice', 90), ('Bob', 85), ('Charlie', 92)]\n",
      "[('Alice', 90, 'A'), ('Bob', 85, 'B'), ('Charlie', 92, 'A')]\n",
      "[(1, 'a'), (2, 'b'), (3, 'c')]\n"
     ]
    }
   ],
   "source": [
    "# 두 개의 리스트 묶기\n",
    "names = ['Alice', 'Bob', 'Charlie']\n",
    "scores = [90, 85, 92]\n",
    "\n",
    "zipped_list = zip(names, scores)\n",
    "print(list(zipped_list))\n",
    "\n",
    "# 세 개의 리스트 묶기\n",
    "subjects = ['Math', 'English', 'Science']\n",
    "grades = ['A', 'B', 'A']\n",
    "\n",
    "zipped_three = zip(names, scores, grades)\n",
    "print(list(zipped_three))\n",
    "\n",
    "# 길이가 다른 리스트 묶기 (가장 짧은 리스트를 기준으로 동작)\n",
    "list1 = [1, 2, 3, 4]\n",
    "list2 = ['a', 'b', 'c']\n",
    "\n",
    "zipped_short = zip(list1, list2)\n",
    "print(list(zipped_short))"
   ]
  }
 ],
 "metadata": {
  "kernelspec": {
   "display_name": "Python 3",
   "language": "python",
   "name": "python3"
  },
  "language_info": {
   "codemirror_mode": {
    "name": "ipython",
    "version": 3
   },
   "file_extension": ".py",
   "mimetype": "text/x-python",
   "name": "python",
   "nbconvert_exporter": "python",
   "pygments_lexer": "ipython3",
   "version": "3.10.11"
  }
 },
 "nbformat": 4,
 "nbformat_minor": 5
}
