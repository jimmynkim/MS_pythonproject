{
 "cells": [
  {
   "cell_type": "markdown",
   "id": "b5d2d05c",
   "metadata": {},
   "source": [
    "## 파이썬 기본2"
   ]
  },
  {
   "cell_type": "markdown",
   "id": "5394fd73",
   "metadata": {},
   "source": [
    "### 함수와 클래스"
   ]
  },
  {
   "cell_type": "markdown",
   "id": "baf7b1ad",
   "metadata": {},
   "source": [
    "#### 함수 및 사용자 정의 함수"
   ]
  },
  {
   "cell_type": "markdown",
   "id": "5e9017d0",
   "metadata": {},
   "source": [
    "##### 함수"
   ]
  },
  {
   "cell_type": "markdown",
   "id": "a1ebaa8b",
   "metadata": {},
   "source": [
    "함수: 특정 동작을 수행하는 일정한 코드의 모임\n",
    "- 재료(매개변수)를 받아서, 결과(반환 값)를 만들어주는 상자를 만드는 것\n",
    "- 지금까지 파이썬의 다양한 내장함수를 사용해 왔음  ex) print( ), input( ), int( )\n",
    "- 사용자 정의 함수 ex) def( )\n",
    "\n",
    "내장 함수: 프로그래밍을 편리하게 할 수 있도록 미리 만들어진 함수\n",
    "- 별도의 설치과정 없이, 파이썬을 설치하면 바로 사용할 수 있는 함수\n",
    "- ex) print( ), del( ), type( ), input( ), range( ), str( )\n",
    "- 파이썬 내장 함수: https://docs.python.org/ko/3/library/functions.html\n",
    "\n",
    "내장 함수 - map 함수)\n",
    "- map(function, iterable)\n",
    "- function에 iterable의 item들을 인자로 전달하여 실행\n",
    "- function의 parameter 수 만큼 iterable이 전달되어야 함\n",
    "- 결과는 map 타입\n",
    "\n",
    "내장 함수 - zip 함수)\n",
    "- zip(*iterable)\n",
    "- 각 iterable의 동일 인덱스의 item들을 튜플 쌍으로 반환\n",
    "- 결과는 zip 타입이며 iterable들의 길이는 달라도 무방\n",
    "\n",
    "내장함수 - enumerate 함수)\n",
    "- enumerate(iterable[, start = 0])\n",
    "- start는 시작 번호(생략 시 0)이며 결과는 enumerate 타입\n",
    "- item들의 번호를 부여하여 (idex, value)의 튜플 쌍을 생성\n",
    "\n",
    "내장함수 - filter 함수)\n",
    "- 반복 가능한 객체에서 특정 조건에 맞는 요소만 가져옴\n",
    "- filter에 지정한 함수의 반환값이 True일 때만 해당 요소를 가져옴\n",
    "- filter(함수, 반복가능한 객체)"
   ]
  },
  {
   "cell_type": "code",
   "execution_count": 1,
   "id": "c93d1886",
   "metadata": {},
   "outputs": [
    {
     "name": "stdout",
     "output_type": "stream",
     "text": [
      "result1: [2, 3, 4, 5, 6]\n",
      "result2: [2, 3, 4, 5, 6]\n",
      "result3: [2, 3, 4, 5, 6]\n"
     ]
    }
   ],
   "source": [
    "# map 함수: 각 리스트의 값에 1씩 더한 값\n",
    "myList = [1, 2, 3, 4, 5]\n",
    "\n",
    "# for 반복문 이용\n",
    "result1 = []\n",
    "for val in myList:\n",
    "    result1.append(val + 1)\n",
    "print(f'result1: {result1}')\n",
    "\n",
    "# map 함수 이용\n",
    "def add_one(n):\n",
    "    return n + 1\n",
    "\n",
    "result2 = list(map(add_one, myList))\n",
    "print(f'result2: {result2}')\n",
    "\n",
    "# map 함수와 lambda 함수를 사용하여 각 요소에 1을 더하기\n",
    "result3 = list(map(lambda val: val + 1, myList))\n",
    "\n",
    "print(f'result3: {result3}')"
   ]
  },
  {
   "cell_type": "code",
   "execution_count": 2,
   "id": "bd3be5bf",
   "metadata": {},
   "outputs": [
    {
     "name": "stdout",
     "output_type": "stream",
     "text": [
      "변환된 정수 값: (3, -6, 100, 26)\n"
     ]
    }
   ],
   "source": [
    "# map 함수2: 각각의 실수 값들을 가까운 정수값으로 변환 (round 이용)\n",
    "f = (3.14, -5.625, 100.4, 25.8)\n",
    "result4 = tuple(map(round, f))\n",
    "\n",
    "print(f'변환된 정수 값: {result4}')"
   ]
  },
  {
   "cell_type": "code",
   "execution_count": 3,
   "id": "8701db1c",
   "metadata": {},
   "outputs": [
    {
     "name": "stdout",
     "output_type": "stream",
     "text": [
      "이 이미지의 rgb 값: [(52, 19, 0), (255, 63, 68), (39, 227, 255), (132, 197, 187)]\n"
     ]
    }
   ],
   "source": [
    "# zip 함수: 이미지의 색상별 데이터를 묶어서 24bpp RGB 이미지 만들기\n",
    "# [조건]: red, green, blue 픽셀 값이 각각의 튜플 r, g, b에 저장\n",
    "# 이 세 개의 튜플에서 같은 인덱스의 값들을 모아 튜플로 (r[0], g[0], b[0])로 구성\n",
    "# 최종적으로 모아진 결과는 list로 만들고 이 내용들을 인쇄\n",
    "# 즉, 최종 결과 list가 img 라면 이 img는 [(r[0],g[0],b[0]), (r[1],g[1],b[1]), …] 형식\n",
    "\n",
    "r = (52, 255, 39, 132)\n",
    "g = (19, 63, 227, 197)\n",
    "b = (0, 68, 255, 187)\n",
    "\n",
    "img = list(zip(r, g, b))\n",
    "\n",
    "print(f'이 이미지의 rgb 값: {img}')"
   ]
  },
  {
   "cell_type": "code",
   "execution_count": 4,
   "id": "496a2226",
   "metadata": {},
   "outputs": [
    {
     "data": {
      "text/plain": [
       "{1: 'apple', 2: 'orange', 3: 'banana', 4: 'mango'}"
      ]
     },
     "execution_count": 4,
     "metadata": {},
     "output_type": "execute_result"
    }
   ],
   "source": [
    "# zip 함수2: 과일 품목별 일련번호 부여하기\n",
    "# # 튜플 f에 있는 과일들을 1번부터 차례대로 인쇄되도록 번호 부여\n",
    "# zip과 range를 이용하는 방법\n",
    "# 단, 결과는 dict로 생성되어야 함\n",
    "\n",
    "f = ('apple', 'orange', 'banana', 'mango')\n",
    "\n",
    "fruit1 = dict(zip(range(1, len(f) + 1),f))\n",
    "fruit1"
   ]
  },
  {
   "cell_type": "code",
   "execution_count": 5,
   "id": "7a04d84d",
   "metadata": {},
   "outputs": [
    {
     "data": {
      "text/plain": [
       "{1: 'apple', 2: 'orange', 3: 'banana', 4: 'mango'}"
      ]
     },
     "execution_count": 5,
     "metadata": {},
     "output_type": "execute_result"
    }
   ],
   "source": [
    "# enumerate 함수: 과일 품목별 일련번호 부여하기\n",
    "# 튜플 f에 있는 과일들을 1번부터 차례대로 인쇄되도록 번호 부여\n",
    "# 단, 결과는 dict로 생성되어야 함\n",
    "\n",
    "f = ('apple', 'orange', 'banana', 'mango')\n",
    "\n",
    "fruit2 = dict(enumerate(f, start=1))\n",
    "\n",
    "fruit2\n"
   ]
  },
  {
   "cell_type": "code",
   "execution_count": 6,
   "id": "5051d439",
   "metadata": {},
   "outputs": [
    {
     "data": {
      "text/plain": [
       "[8, 7, 9]"
      ]
     },
     "execution_count": 6,
     "metadata": {},
     "output_type": "execute_result"
    }
   ],
   "source": [
    "# filter 함수\n",
    "def f(x):\n",
    "    return x > 5 and x <10\n",
    "\n",
    "a = [8, 3, 2, 10, 15, 7, 1, 9, 0, 11]\n",
    "list(filter(f, a))"
   ]
  },
  {
   "cell_type": "markdown",
   "id": "be1fe76c",
   "metadata": {},
   "source": [
    "##### 사용자 정의 함수"
   ]
  },
  {
   "cell_type": "markdown",
   "id": "fc5dcb70",
   "metadata": {},
   "source": [
    "함수 def\n",
    "- 함수는 def* 키워드를 사용해서 정의\n",
    "1. 함수 이름\n",
    "2. 매개 변수\n",
    "3. 수행할 명령\n",
    "4. 반환 값\n",
    "\n",
    "- 매개 변수와 인수  \n",
    "\n",
    "    매개 변수(parameter)는 함수에 입력으로 전달된 값을 받는 변수  \n",
    "    인수(argument)는 함수를 호출할 때 전달하는 입력 값\n",
    "\n",
    "기본 함수: 입력값이 있고 리턴값이 있는 함수\n"
   ]
  },
  {
   "cell_type": "code",
   "execution_count": 7,
   "id": "24d20b33",
   "metadata": {},
   "outputs": [
    {
     "data": {
      "text/plain": [
       "7"
      ]
     },
     "execution_count": 7,
     "metadata": {},
     "output_type": "execute_result"
    }
   ],
   "source": [
    "# 기본 함수: 입력값이 있고 리턴값이 있는 함수\n",
    "\n",
    "def add(a, b):\n",
    "    result = a + b\n",
    "    return result\n",
    "\n",
    "a = add(3, 4)\n",
    "a"
   ]
  },
  {
   "cell_type": "code",
   "execution_count": 8,
   "id": "4e9546da",
   "metadata": {},
   "outputs": [
    {
     "name": "stdout",
     "output_type": "stream",
     "text": [
      "3\n",
      "10\n"
     ]
    }
   ],
   "source": [
    "# 합을 리턴해주는 함수 \n",
    "def my_sum(a, b):\n",
    "    result = a + b\n",
    "    return result   # 함수는 값을 '반환'만 하고 출력은 하지 않음\n",
    "\n",
    "print(my_sum(1, 2))\n",
    "print(my_sum(3, 7))"
   ]
  },
  {
   "cell_type": "markdown",
   "id": "95588491",
   "metadata": {},
   "source": [
    "입력값이 없는 함수\n",
    "\n",
    "- 고정된 결과를 반환할 때: 항상 같은 값을 반환해야 할 때 \n",
    "- 특정 작업을 시작할 때: 게임 시작이나 프로그램 초기화 등 단순히 특정 동작을 실행시킬 때\n",
    "- 내부 상태를 변경할 때: 함수가 외부로부터 값을 받지 않고, 클래스나 모듈 내의 변수를 변경할 때"
   ]
  },
  {
   "cell_type": "code",
   "execution_count": 9,
   "id": "dfe39fd9",
   "metadata": {},
   "outputs": [
    {
     "data": {
      "text/plain": [
       "'Hi'"
      ]
     },
     "execution_count": 9,
     "metadata": {},
     "output_type": "execute_result"
    }
   ],
   "source": [
    "# 입력값이 없는 함수\n",
    "\n",
    "def say():          # 괄호 안에 어떠한 값도 요구하지 않음\n",
    "    return 'Hi'\n",
    "\n",
    "a = say()\n",
    "a"
   ]
  },
  {
   "cell_type": "markdown",
   "id": "e167ec7e",
   "metadata": {},
   "source": [
    "리턴값이 없는 함수\n",
    "\n",
    "- 특정 작업을 수행하는데 주로 사용\n",
    "- 어떤 상태를 변경하거나 외부 시스템과 상호작용하는 등의 부수적인 효과\n",
    "- 예로 화면 출력, 파일 쓰기, 데이터베이스 조작, 상태 변경 등\n",
    "- '무엇인가를 해라'라는 명령을 내릴 때 유용하게 쓰임"
   ]
  },
  {
   "cell_type": "code",
   "execution_count": 10,
   "id": "47e7b2ea",
   "metadata": {},
   "outputs": [
    {
     "name": "stdout",
     "output_type": "stream",
     "text": [
      "3, 4의 합은 7입니다.\n"
     ]
    }
   ],
   "source": [
    "# 리턴값이 없는 함수\n",
    "\n",
    "def add(a, b):\n",
    "    print(\"%d, %d의 합은 %d입니다.\" %(a, b, a+b))\n",
    "\n",
    "add(3, 4)"
   ]
  },
  {
   "cell_type": "code",
   "execution_count": 11,
   "id": "a1fa6405",
   "metadata": {},
   "outputs": [
    {
     "name": "stdout",
     "output_type": "stream",
     "text": [
      "Hey, 내가 만든 함수입니다.\n",
      "Hello, 내가 만든 함수입니다.\n",
      "Hi, 내가 만든 함수입니다.\n"
     ]
    }
   ],
   "source": [
    "# 입력 값을 포함한 함수 생성\n",
    "def my_func(a):\n",
    "    print(f\"{a}, 내가 만든 함수입니다.\")\n",
    "\n",
    "my_func('Hey')\n",
    "my_func('Hello')\n",
    "my_func('Hi')"
   ]
  },
  {
   "cell_type": "code",
   "execution_count": 12,
   "id": "c195bd1b",
   "metadata": {},
   "outputs": [
    {
     "name": "stdout",
     "output_type": "stream",
     "text": [
      "1와 2의 합은 3입니다.\n",
      "3와 7의 합은 10입니다.\n"
     ]
    }
   ],
   "source": [
    "# 합을 리턴해주는 함수\n",
    "def my_sum(a, b):\n",
    "    result = a + b\n",
    "    print(f\"{a}와 {b}의 합은 {result}입니다.\")\n",
    "\n",
    "my_sum(1, 2)\n",
    "my_sum(3, 7)"
   ]
  },
  {
   "cell_type": "markdown",
   "id": "d23281cb",
   "metadata": {},
   "source": [
    "입력값도 리턴값도 없는 함수\n",
    "\n",
    "- 특정 작업을 실행하고 그 결과를 반환하지 않는 경우\n",
    "- 예로 GUI 이벤트 처리, 파일 로깅 및 저장, 상태 변경 등\n",
    "- '무엇인가를 해라'라는 단순 명령을 수행할 때 유용하며 오직 정해진 행동만을 수행하는 함수"
   ]
  },
  {
   "cell_type": "code",
   "execution_count": 13,
   "id": "a3895648",
   "metadata": {},
   "outputs": [
    {
     "name": "stdout",
     "output_type": "stream",
     "text": [
      "Hi\n"
     ]
    }
   ],
   "source": [
    "# 입력값도 리턴값도 없는 함수\n",
    "def say():\n",
    "    print(\"Hi\")\n",
    "\n",
    "say()"
   ]
  },
  {
   "cell_type": "code",
   "execution_count": 14,
   "id": "6ad1073e",
   "metadata": {},
   "outputs": [
    {
     "name": "stdout",
     "output_type": "stream",
     "text": [
      "내가 만든 함수입니다.\n"
     ]
    }
   ],
   "source": [
    "# 함수 생성\n",
    "def my_func():\n",
    "    print(\"내가 만든 함수입니다.\")\n",
    "\n",
    "# 함수 호출\n",
    "my_func()"
   ]
  },
  {
   "cell_type": "markdown",
   "id": "2f0eab03",
   "metadata": {},
   "source": [
    "여러 개의 입력값을 받는 함수\n",
    "\n",
    "def 함수이름(*변수):  \n",
    "\n",
    "*변수는 입력받은 변수들을 모두 모아서 튜플로 만듦\n"
   ]
  },
  {
   "cell_type": "code",
   "execution_count": 15,
   "id": "21c99d4d",
   "metadata": {},
   "outputs": [
    {
     "name": "stdout",
     "output_type": "stream",
     "text": [
      "(1, 2)\n",
      "(1, 2, 3)\n"
     ]
    }
   ],
   "source": [
    "# 여러 개의 입력값을 받는 함수\n",
    "def add_many(*args):\n",
    "    print(args)\n",
    "\n",
    "add_many(1, 2)\n",
    "add_many(1, 2, 3)"
   ]
  },
  {
   "cell_type": "code",
   "execution_count": 16,
   "id": "ebdaab59",
   "metadata": {},
   "outputs": [
    {
     "name": "stdout",
     "output_type": "stream",
     "text": [
      "3\n"
     ]
    },
    {
     "data": {
      "text/plain": [
       "6"
      ]
     },
     "execution_count": 16,
     "metadata": {},
     "output_type": "execute_result"
    }
   ],
   "source": [
    "# 여러 개의 입력값을 받는 함수2\n",
    "def add_many(*args):\n",
    "    sum = 0\n",
    "    for i in args:\n",
    "        sum = sum + i\n",
    "    return sum\n",
    "\n",
    "print(add_many(1, 2))\n",
    "add_many(1, 2, 3)"
   ]
  },
  {
   "cell_type": "code",
   "execution_count": 17,
   "id": "dea2f949",
   "metadata": {},
   "outputs": [
    {
     "name": "stdout",
     "output_type": "stream",
     "text": [
      "15\n"
     ]
    },
    {
     "data": {
      "text/plain": [
       "6"
      ]
     },
     "execution_count": 17,
     "metadata": {},
     "output_type": "execute_result"
    }
   ],
   "source": [
    "# 여러 개의 입력값을 받는 함수3\n",
    "# 합과 곱을 구하는 함수\n",
    "def add_mul(choice, *args):\n",
    "    if choice == 'add':\n",
    "        result = 0\n",
    "        for i in args:\n",
    "            result = result + i\n",
    "        pass\n",
    "    elif choice == 'mul':\n",
    "        result = 1\n",
    "        for i in args:\n",
    "            result = result * i\n",
    "        pass\n",
    "    else:\n",
    "        print(\"연산자 종류 확인 요망!\")\n",
    "        result = None\n",
    "    return result\n",
    "\n",
    "print(add_mul('add', 1, 2, 3, 4, 5))\n",
    "add_mul('mul', 1, 2, 3)\n"
   ]
  },
  {
   "cell_type": "code",
   "execution_count": 18,
   "id": "8c81fee6",
   "metadata": {},
   "outputs": [
    {
     "data": {
      "text/plain": [
       "(7, 12)"
      ]
     },
     "execution_count": 18,
     "metadata": {},
     "output_type": "execute_result"
    }
   ],
   "source": [
    "def add_and_mul(a, b):\n",
    "    return a+b, a*b\n",
    "\n",
    "add_and_mul(3, 4)   # 변수 이름이 하나이므로, 하나의 값만 리턴받음(튜플형식)"
   ]
  },
  {
   "cell_type": "code",
   "execution_count": 19,
   "id": "fd92d3e0",
   "metadata": {},
   "outputs": [
    {
     "name": "stdout",
     "output_type": "stream",
     "text": [
      "7\n"
     ]
    },
    {
     "data": {
      "text/plain": [
       "12"
      ]
     },
     "execution_count": 19,
     "metadata": {},
     "output_type": "execute_result"
    }
   ],
   "source": [
    "result1, result2 = add_and_mul(3, 4) \n",
    "print(result1)\n",
    "result2"
   ]
  },
  {
   "cell_type": "code",
   "execution_count": 20,
   "id": "6a525488",
   "metadata": {},
   "outputs": [
    {
     "name": "stdout",
     "output_type": "stream",
     "text": [
      "박지민, 29\n",
      "남자\n"
     ]
    }
   ],
   "source": [
    "# 매개변수를 초기화하여 구현 가능\n",
    "def say_myself(name, age, man=True):    # 성별을 적지 않아도 디폴트로 남자\n",
    "    print(f'{name}, {age}')\n",
    "    if man:\n",
    "        print(\"남자\")\n",
    "    else:\n",
    "        print(\"여자\")\n",
    "\n",
    "say_myself('박지민', 29)\n"
   ]
  },
  {
   "cell_type": "code",
   "execution_count": 21,
   "id": "51a746bd",
   "metadata": {},
   "outputs": [
    {
     "name": "stdout",
     "output_type": "stream",
     "text": [
      "김지민, 26\n",
      "여자\n"
     ]
    }
   ],
   "source": [
    "say_myself('김지민', 26, man=False)"
   ]
  },
  {
   "cell_type": "code",
   "execution_count": 22,
   "id": "3ed988a2",
   "metadata": {},
   "outputs": [
    {
     "data": {
      "text/plain": [
       "7"
      ]
     },
     "execution_count": 22,
     "metadata": {},
     "output_type": "execute_result"
    }
   ],
   "source": [
    "## 미션: 세 개의 숫자를 입력받아 가장 큰 수를 출력하는 num_max 함수\n",
    "\n",
    "def max_num(a, b, c):\n",
    "    max_val = a\n",
    "    if b > max_val:\n",
    "        max_val = b\n",
    "    if c > max_val:\n",
    "        max_val = c\n",
    "    return max_val\n",
    "\n",
    "num = max_num (3, 7, 0)\n",
    "num"
   ]
  },
  {
   "cell_type": "code",
   "execution_count": 23,
   "id": "618735b3",
   "metadata": {},
   "outputs": [
    {
     "data": {
      "text/plain": [
       "24"
      ]
     },
     "execution_count": 23,
     "metadata": {},
     "output_type": "execute_result"
    }
   ],
   "source": [
    "## 미션: 숫자들의 배열을 입력하면 가장 작은 값을 구하는 min_num 함수\n",
    "def min_num(arr):\n",
    "    answer = arr[0]\n",
    "    for i in arr:\n",
    "        if answer > i:\n",
    "            answer = i\n",
    "    return answer\n",
    "\n",
    "min_num([52, 273, 32, 103, 275, 24, 57])\n"
   ]
  },
  {
   "cell_type": "code",
   "execution_count": 24,
   "id": "a441436b",
   "metadata": {},
   "outputs": [
    {
     "data": {
      "text/plain": [
       "'hello'"
      ]
     },
     "execution_count": 24,
     "metadata": {},
     "output_type": "execute_result"
    }
   ],
   "source": [
    "# 모스부호 함수로 만들기\n",
    "\n",
    "def morse_to_string(letter):\n",
    "    \n",
    "    morse = { \n",
    "\n",
    "    '.-':'a','-...':'b','-.-.':'c','-..':'d','.':'e','..-.':'f', \n",
    "\n",
    "    '--.':'g','....':'h','..':'i','.---':'j','-.-':'k','.-..':'l', \n",
    "\n",
    "    '--':'m','-.':'n','---':'o','.--.':'p','--.-':'q','.-.':'r', \n",
    "\n",
    "    '...':'s','-':'t','..-':'u','...-':'v','.--':'w','-..-':'x', \n",
    "\n",
    "    '-.--':'y','--..':'z' \n",
    "    } \n",
    "\n",
    "    a = letter.split()  # 인수를 지정하지 않으면 공백을 기준으로 나눔\n",
    "\n",
    "    answer = \"\"\n",
    "\n",
    "    for i in a:     # a의 값을 반복해서 i 변수에 할당\n",
    "        answer = answer + morse[i] # 기존의 answer에 morse 딕셔너리에서 찾은 모스 부호를 이어붙임\n",
    "\n",
    "    return answer\n",
    "\n",
    "letter = \".... . .-.. .-.. ---\" \n",
    "morse_to_string(letter)"
   ]
  },
  {
   "cell_type": "code",
   "execution_count": 25,
   "id": "661c5d25",
   "metadata": {},
   "outputs": [
    {
     "name": "stdout",
     "output_type": "stream",
     "text": [
      "None\n",
      "1\n"
     ]
    }
   ],
   "source": [
    "# 함수와 변수의 효력 범위\n",
    "a = 1\n",
    "def vartest(a):\n",
    "    a = a + 1       # 로컬 변수는 위의 글로벌 변수에 어떠한 영향도 미치지 않음\n",
    "\n",
    "print(vartest(a)) # return문이 없는 함수는 기본적으로 아무 값도 반환하지 않아, None 값 출력\n",
    "print(a)"
   ]
  },
  {
   "cell_type": "markdown",
   "id": "78d40bfb",
   "metadata": {},
   "source": [
    "- 글로벌 변수: 함수 밖에서 선언된 변수, 프로그램 전체에서 사용\n",
    "- 로컬 변수: 함수 안에서 선언된 변수, 그 함수 안에서만 사용 가능(함수가 종료되면 사라짐)\n",
    "- return: 함수 안의 최종 결과를 밖으로 반환하여 전역 변수에 저장해 글로벌하게 사용"
   ]
  },
  {
   "cell_type": "code",
   "execution_count": 26,
   "id": "9157312e",
   "metadata": {},
   "outputs": [
    {
     "name": "stdout",
     "output_type": "stream",
     "text": [
      "함수 밖의 새로운 값: 2\n",
      "원래 글로벌 변수: 1\n"
     ]
    }
   ],
   "source": [
    "# 함수와 변수의 효력 범위\n",
    "# 글로벌 변수\n",
    "a = 1\n",
    "\n",
    "def vartest():\n",
    "    # 함수 안에서만 사용되는 로컬 변수\n",
    "    local_a = a + 1\n",
    "    # 로컬 변수 local_a의 값을 밖으로 반환\n",
    "    return local_a\n",
    "\n",
    "# 함수를 호출하고, 반환된 값을 새로운 글로벌 변수에 저장\n",
    "global_a_new = vartest() \n",
    "\n",
    "print(f\"함수 밖의 새로운 값: {global_a_new}\") # 출력: 함수 밖의 새로운 값: 2\n",
    "print(f\"원래 글로벌 변수: {a}\")               # 출력: 원래 글로벌 변수: 1"
   ]
  },
  {
   "cell_type": "code",
   "execution_count": 27,
   "id": "f1aa336a",
   "metadata": {},
   "outputs": [
    {
     "name": "stdout",
     "output_type": "stream",
     "text": [
      "1\n",
      "6\n"
     ]
    }
   ],
   "source": [
    "# global 변수를 로컬에 쓰는 방법 (권장하지 않음)\n",
    "a = 1\n",
    "def vartest():\n",
    "    global a    # a 변수를 글로벌 변수라고 선언\n",
    "    a = a + 5\n",
    "\n",
    "print(a)\n",
    "vartest()\n",
    "print(a)"
   ]
  },
  {
   "cell_type": "markdown",
   "id": "bd742da8",
   "metadata": {},
   "source": [
    "람다함수(익명함수)\n",
    "\n",
    "- 이름이 없는 함수  \n",
    "- 코드의 간결함, 메모리 절약\n",
    "- 익명 함수가 필요할 때, 코드 가독성을 높일 때, 한 번 사용하고 버릴 함수에 사용"
   ]
  },
  {
   "cell_type": "code",
   "execution_count": 28,
   "id": "c54752d7",
   "metadata": {},
   "outputs": [
    {
     "name": "stdout",
     "output_type": "stream",
     "text": [
      "result: [2, 3, 4, 5, 6]\n"
     ]
    }
   ],
   "source": [
    "# map 함수와 lambda 함수를 사용하여 각 요소에 1을 더하기\n",
    "myList = [1, 2, 3, 4, 5]\n",
    "\n",
    "result = list(map(lambda val: val + 1, myList))\n",
    "\n",
    "print(f'result: {result3}')"
   ]
  },
  {
   "cell_type": "code",
   "execution_count": 29,
   "id": "01146a9a",
   "metadata": {},
   "outputs": [
    {
     "data": {
      "text/plain": [
       "[8, 7, 9]"
      ]
     },
     "execution_count": 29,
     "metadata": {},
     "output_type": "execute_result"
    }
   ],
   "source": [
    "# 특정 범위 안에 있는 숫자 구하기\n",
    "a = [8, 3, 2, 10, 15, 7, 1, 9, 0, 11]\n",
    "\n",
    "list(filter(lambda x: x>5 and x<10, a))"
   ]
  },
  {
   "cell_type": "code",
   "execution_count": 30,
   "id": "e6b7d1de",
   "metadata": {},
   "outputs": [
    {
     "data": {
      "text/plain": [
       "[1, 4, 9, 16]"
      ]
     },
     "execution_count": 30,
     "metadata": {},
     "output_type": "execute_result"
    }
   ],
   "source": [
    "# 제곱 값 출력하기\n",
    "numbers = [1, 2, 3, 4]\n",
    "\n",
    "list(map(lambda x: x**2, numbers))\n"
   ]
  },
  {
   "cell_type": "code",
   "execution_count": 31,
   "id": "7a3adbd2",
   "metadata": {},
   "outputs": [
    {
     "data": {
      "text/plain": [
       "[2, 4]"
      ]
     },
     "execution_count": 31,
     "metadata": {},
     "output_type": "execute_result"
    }
   ],
   "source": [
    "# 짝수만 출력하기\n",
    "numbers = [1, 2, 3, 4, 5]\n",
    "list(filter(lambda x: x % 2 == 0, numbers))"
   ]
  },
  {
   "cell_type": "code",
   "execution_count": 32,
   "id": "2509ea07",
   "metadata": {},
   "outputs": [
    {
     "data": {
      "text/plain": [
       "[(5, 1), (1, 2), (3, 4)]"
      ]
     },
     "execution_count": 32,
     "metadata": {},
     "output_type": "execute_result"
    }
   ],
   "source": [
    "# 두 번째 값을 기준으로 정렬\n",
    "# sorted 함수의 키로 사용하여 특정 조건에 따라 데이터 정렬\n",
    "points = [(1, 2), (3, 4), (5, 1)]\n",
    "\n",
    "list(sorted(points, key = lambda x: x[1]))"
   ]
  },
  {
   "cell_type": "code",
   "execution_count": 33,
   "id": "f3daaaa5",
   "metadata": {},
   "outputs": [
    {
     "data": {
      "text/plain": [
       "[(4, 1), (5, 1), (1, 2), (3, 4)]"
      ]
     },
     "execution_count": 33,
     "metadata": {},
     "output_type": "execute_result"
    }
   ],
   "source": [
    "# 두 번째 값을 기준으로 하고, 동일 시 첫 번째 값도 정렬\n",
    "points = [(1, 2), (3, 4), (5, 1), (4, 1)]\n",
    "\n",
    "list(sorted(points, key = lambda x: (x[1], x[0])))"
   ]
  },
  {
   "cell_type": "code",
   "execution_count": 34,
   "id": "3978a1a7",
   "metadata": {},
   "outputs": [
    {
     "data": {
      "text/plain": [
       "[4, 4, 6, 2, 2, 1]"
      ]
     },
     "execution_count": 34,
     "metadata": {},
     "output_type": "execute_result"
    }
   ],
   "source": [
    "## 미션: 등수 구하기\n",
    "# 영어 점수와 수학 점수의 평균 점수를 기준으로 학생들의 등수를 매기려고 함\n",
    "# 영어 점수와 수학 점수를 담은 2차원 리스트 score가 주어질 때,\n",
    "# 영어 점수와 수학 점수의 평균을 기준으로 매긴 등수를 담은 리스트를 return 하는 함수\n",
    "\n",
    "# [[80, 70], [90, 50], [40, 70], [50, 80]] -> [1, 2, 4, 3]\n",
    "# [[80, 70], [70, 80], [30, 50], [90, 100], [100, 90], [100, 100]] -> [4, 4, 6, 2, 2, 1]\n",
    "\n",
    "score = [[80, 70], [70, 80], [30, 50], [90, 100], [100, 90], [100, 100]]\n",
    "\n",
    "def rank(score):\n",
    "    result = []\n",
    "    # 평균값을 가지는 리스트\n",
    "    avg = []\n",
    "    for i, j in score:\n",
    "        avg.append((i + j)/2)\n",
    "    # print(avg)\n",
    "    # [75.0, 75.0, 40.0, 95.0, 95.0, 100.0]    \n",
    "    \n",
    "    # 평균값을 내림차순으로 정렬\n",
    "    avg_sort = sorted(avg, reverse=True)\n",
    "    # print(avg_sort)\n",
    "    #[100.0, 95.0, 95.0, 75.0, 75.0, 40.0]\n",
    "   \n",
    "    # 비교해서 등수 처리\n",
    "    for i in avg:\n",
    "        result.append(avg_sort.index(i) + 1)\n",
    "    return result\n",
    "\n",
    "rank(score)"
   ]
  },
  {
   "cell_type": "code",
   "execution_count": 35,
   "id": "4f02e76e",
   "metadata": {},
   "outputs": [
    {
     "data": {
      "text/plain": [
       "[True, True, False, True, False, True, False, False]"
      ]
     },
     "execution_count": 35,
     "metadata": {},
     "output_type": "execute_result"
    }
   ],
   "source": [
    "## 미션: 소수 판별 함수\n",
    "# [2, 3, 4, 5, 6, 7, 8, 9] -> [True, True, False, True, False, True, False, False]\n",
    "\n",
    "num_list = [2, 3, 4, 5, 6, 7, 8, 9]\n",
    "\n",
    "def is_prime(num_list):\n",
    "    result = []\n",
    "    for num in num_list:\n",
    "        isprime = True\n",
    "        for i in range(2, num):\n",
    "            if num % i == 0:\n",
    "                isprime = False\n",
    "                break\n",
    "        result.append(isprime)\n",
    "    return result\n",
    "\n",
    "is_prime(num_list)"
   ]
  },
  {
   "cell_type": "markdown",
   "id": "1d56254d",
   "metadata": {},
   "source": [
    "#### 모듈과 표준모듈"
   ]
  },
  {
   "cell_type": "markdown",
   "id": "0e30245c",
   "metadata": {},
   "source": [
    "##### 모듈"
   ]
  },
  {
   "cell_type": "markdown",
   "id": "aa392ce5",
   "metadata": {},
   "source": [
    "모듈\n",
    "\n",
    "- 파이썬 코드로 이루어진 파일\n",
    "- 함수나 변수, 클래스 등의 코드가 들어있음\n",
    "- 직접 만들거나(사용자 정의 모듈), 다른 사람이 만들어 놓은 모듈을 가져와 사용\n",
    "\n",
    "사용법:\n",
    "> import 모듈명  &nbsp;&nbsp;&nbsp;&nbsp; # 모듈 전체를 가져옴, 뒷부분에 as...를 넣어 긴 모듈명을 줄일 수 있음  \n",
    "from 모듈명 import 함수1, 함수2, ... &nbsp;&nbsp;&nbsp;&nbsp; # 모듈 내 특정 함수만 가지고 오는 방법\n",
    "\n",
    "패키지\n",
    "\n",
    "- 관련 있는 모듈의 집합\n",
    "- 모듈을 담는 디렉토리\n",
    "- 파이썬 모듈을 계층적인 디렉토리 구조로 관리할 수 있게 함\n",
    "\n",
    "모듈 가져오기\n",
    "> import 모듈명(파일명)\n",
    "\n",
    "> from 모듈명 import 이름(함수명 or 클래스명)\n",
    "\n",
    "> import 모듈명 as 이름(별명)\n",
    "\n",
    "> from 모듈명 import 이름(함수명 or 클래스명) as 이름(별명)"
   ]
  },
  {
   "cell_type": "code",
   "execution_count": 36,
   "id": "fa654a23",
   "metadata": {},
   "outputs": [
    {
     "data": {
      "text/plain": [
       "49"
      ]
     },
     "execution_count": 36,
     "metadata": {},
     "output_type": "execute_result"
    }
   ],
   "source": [
    "# 모듈 불러오기\n",
    "import random\n",
    "random.randint(1, 100)"
   ]
  },
  {
   "cell_type": "code",
   "execution_count": 37,
   "id": "9119fda5",
   "metadata": {},
   "outputs": [
    {
     "data": {
      "text/plain": [
       "11.0"
      ]
     },
     "execution_count": 37,
     "metadata": {},
     "output_type": "execute_result"
    }
   ],
   "source": [
    "# 모듈 불러오기2\n",
    "import math\n",
    "num1 = math.pow(2, 3)  # 2**3\n",
    "num2 = math.sqrt(9)    # 루트 9\n",
    "\n",
    "num1 + num2"
   ]
  },
  {
   "cell_type": "code",
   "execution_count": 38,
   "id": "f31760f0",
   "metadata": {},
   "outputs": [
    {
     "data": {
      "text/plain": [
       "91"
      ]
     },
     "execution_count": 38,
     "metadata": {},
     "output_type": "execute_result"
    }
   ],
   "source": [
    "# 모듈명 축약\n",
    "import random as r\n",
    "r.randint(1, 100)"
   ]
  },
  {
   "cell_type": "code",
   "execution_count": 39,
   "id": "30f7798e",
   "metadata": {},
   "outputs": [
    {
     "data": {
      "text/plain": [
       "82"
      ]
     },
     "execution_count": 39,
     "metadata": {},
     "output_type": "execute_result"
    }
   ],
   "source": [
    "# 모듈에서 특정 함수만 불러오기\n",
    "from random import randint\n",
    "randint(1, 100)"
   ]
  },
  {
   "cell_type": "code",
   "execution_count": 40,
   "id": "c04ae044",
   "metadata": {},
   "outputs": [
    {
     "name": "stdout",
     "output_type": "stream",
     "text": [
      "85\n"
     ]
    },
    {
     "data": {
      "text/plain": [
       "4"
      ]
     },
     "execution_count": 40,
     "metadata": {},
     "output_type": "execute_result"
    }
   ],
   "source": [
    "# 모듈에서 특정 함수만 불러오기2\n",
    "from random import randint, randrange\n",
    "\n",
    "print(randint(1, 100))\n",
    "randrange (1, 5)"
   ]
  },
  {
   "cell_type": "code",
   "execution_count": 41,
   "id": "4e443a1f",
   "metadata": {},
   "outputs": [
    {
     "data": {
      "text/plain": [
       "11.0"
      ]
     },
     "execution_count": 41,
     "metadata": {},
     "output_type": "execute_result"
    }
   ],
   "source": [
    "# 모듈에서 특정 함수만 불러오기3 \n",
    "from math import *      # 전체를 불러오지만 여러 개 모듈 쓸 시, 권장하지 않음\n",
    "num1 = pow(2, 3)\n",
    "num2 = sqrt(9)\n",
    "\n",
    "num1 + num2"
   ]
  },
  {
   "cell_type": "code",
   "execution_count": 42,
   "id": "1d97ca38",
   "metadata": {},
   "outputs": [
    {
     "data": {
      "text/plain": [
       "11.0"
      ]
     },
     "execution_count": 42,
     "metadata": {},
     "output_type": "execute_result"
    }
   ],
   "source": [
    "# 모듈에서 특정 함수만 불러와 별명 붙이기 \n",
    "from math import pow as p, sqrt as sq   # 헷갈릴 수 있어서 권장하지 않음\n",
    "num1 = p(2, 3)\n",
    "num2 = sq(9)\n",
    "\n",
    "num1 + num2"
   ]
  },
  {
   "cell_type": "code",
   "execution_count": 43,
   "id": "6c4495de",
   "metadata": {},
   "outputs": [
    {
     "name": "stdout",
     "output_type": "stream",
     "text": [
      "42 31 31 32 41 28 "
     ]
    }
   ],
   "source": [
    "## 미션: 행운 번호 추첨기 (무작위 생성된 6개의 숫자 출력)\n",
    "\n",
    "import random\n",
    "for i in range(6):\n",
    "    lotto = random.randint(1, 45)\n",
    "    print(lotto, end=\" \")"
   ]
  },
  {
   "cell_type": "code",
   "execution_count": 44,
   "id": "9b87b1d8",
   "metadata": {},
   "outputs": [
    {
     "data": {
      "text/plain": [
       "[24, 12, 43, 28, 23, 37]"
      ]
     },
     "execution_count": 44,
     "metadata": {},
     "output_type": "execute_result"
    }
   ],
   "source": [
    "## 미션: 행운 번호 추첨기 (무작위 생성된 6개의 숫자 출력, 중복 X)2\n",
    "\n",
    "import random as r\n",
    "\n",
    "result = []\n",
    "while len(result) < 6:\n",
    "    num = r.randint(1, 45)\n",
    "    if num not in result:\n",
    "        result.append(num)\n",
    "\n",
    "result"
   ]
  },
  {
   "attachments": {
    "image.png": {
     "image/png": "[encoded data removed]"
    }
   },
   "cell_type": "markdown",
   "id": "acd31e1c",
   "metadata": {},
   "source": [
    "![image.png](attachment:image.png)"
   ]
  },
  {
   "cell_type": "code",
   "execution_count": 45,
   "id": "86dcaaa9",
   "metadata": {},
   "outputs": [
    {
     "name": "stdout",
     "output_type": "stream",
     "text": [
      "사용자: 가위, 컴퓨터: 보\n",
      "이겼다!\n",
      "사용자: 바위, 컴퓨터: 보\n",
      "졌다 ㅠ\n",
      "사용자: 보, 컴퓨터: 바위\n",
      "이겼다!\n",
      "게임을 종료합니다.\n"
     ]
    }
   ],
   "source": [
    "import random\n",
    "sel = ['가위', '바위', '보']\n",
    "\n",
    "# 승패 판정 함수\n",
    "def checkwin(user, com):\n",
    "    print(f'사용자: {user}, 컴퓨터: {com}')\n",
    "    if user == com:\n",
    "        print(\"비겼다.\")\n",
    "        return True\n",
    "    elif (user == '가위' and com == '보') or \\\n",
    "         (user == '바위' and com == '가위') or \\\n",
    "         (user == '보' and com == '바위'):\n",
    "        print(\"이겼다!\")\n",
    "        return True\n",
    "    else:\n",
    "        print(\"졌다 ㅠ\")\n",
    "        return True\n",
    "\n",
    "# 계속할 지 여부 묻는 함수\n",
    "def continueComfirm():\n",
    "    ans = input(\"계속 하시겠습니까? (y/n): \")\n",
    "    return ans.lower() == 'y'\n",
    "\n",
    "# 메인 게임 루프\n",
    "while True:\n",
    "    user = input(\"가위, 바위, 보: \")\n",
    "    com = sel[random.randint(0, 2)]\n",
    "    if checkwin(user, com):\n",
    "        if continueComfirm():\n",
    "            continue\n",
    "        else:\n",
    "            print(\"게임을 종료합니다.\")\n",
    "            break"
   ]
  },
  {
   "cell_type": "markdown",
   "id": "1c1e7fd2",
   "metadata": {},
   "source": [
    "##### 사용자 정의 모듈"
   ]
  },
  {
   "cell_type": "markdown",
   "id": "ac509cd0",
   "metadata": {},
   "source": [
    "사용자 정의 모듈"
   ]
  },
  {
   "cell_type": "code",
   "execution_count": 46,
   "id": "93cec261",
   "metadata": {},
   "outputs": [
    {
     "name": "stdout",
     "output_type": "stream",
     "text": [
      "mymodule 안에서의 __name__: mymodule\n",
      "10\n",
      "-2\n"
     ]
    }
   ],
   "source": [
    "import mymodule as mm\n",
    "\n",
    "print(mm.my_add(7, 3))\n",
    "print(mm.my_sub(3, 5))\n"
   ]
  },
  {
   "cell_type": "markdown",
   "id": "4bc1721d",
   "metadata": {},
   "source": [
    "if __ name __ == \"__ main __\": 의 의미  \n",
    "<br>\n",
    "만약에 name이 main이라는 이름을 가지고 있다면  \n",
    "<br>\n",
    "실행되고 있는게 main 스트링인지, 모듈로서 동작하는 것인지 구분"
   ]
  },
  {
   "cell_type": "code",
   "execution_count": 47,
   "id": "3684638d",
   "metadata": {},
   "outputs": [
    {
     "data": {
      "text/plain": [
       "'__main__'"
      ]
     },
     "execution_count": 47,
     "metadata": {},
     "output_type": "execute_result"
    }
   ],
   "source": [
    "__name__"
   ]
  },
  {
   "cell_type": "markdown",
   "id": "1289b887",
   "metadata": {},
   "source": [
    "__ name __ 변수\n",
    "\n",
    "- 파이썬이 내부적으로 사용하는 특별한 변수 이름  \n",
    "- myModule.py 파일을 실행할 경우, __ name __ 변수에는 __ main __값이 저장됨  \n",
    "- 그러나 다른 파이썬 모듈에서 myModule을 import할 경우에는 __ name __ 변수에  \n",
    "  myModule.py의 모듈 이름인 myModule이 저장됨 "
   ]
  },
  {
   "cell_type": "markdown",
   "id": "76aa264a",
   "metadata": {},
   "source": [
    "##### 표준모듈"
   ]
  },
  {
   "cell_type": "markdown",
   "id": "1966dfbb",
   "metadata": {},
   "source": [
    "표준모듈\n",
    "\n",
    "- 파이썬에서 기본으로 제공되는 모듈\n",
    "- 자주 사용하는 기능이 표준 모듈로 설치되어 있음\n",
    "- 현재 제공되는 모듈 목록 확인: https://docs.python.org/ko/3/library/index.html\n",
    "\n",
    "주요 표준 모듈\n",
    "\n",
    "- os 모듈: 운영체제와 상호 작용을 위한 함수 제공\n",
    "- time 모듈: 시간 관련 함수 제공\n",
    "- math 모듈: 수학 관련 연산 함수 제공\n",
    "- random 모듈: 다양한 랜덤(난수) 관련 함수 제공"
   ]
  },
  {
   "cell_type": "code",
   "execution_count": 48,
   "id": "59eee6e2",
   "metadata": {},
   "outputs": [
    {
     "name": "stdout",
     "output_type": "stream",
     "text": [
      "0.7988566446633685\n",
      "0.4239568716304326\n",
      "0.0460062670654221\n",
      "0.4002816425708957\n",
      "0.740437041225317\n"
     ]
    }
   ],
   "source": [
    "# random 모듈 (난수 생성)\n",
    "import random\n",
    "for i in range(5):\n",
    " print(random.random())"
   ]
  },
  {
   "cell_type": "code",
   "execution_count": 49,
   "id": "329712d0",
   "metadata": {},
   "outputs": [
    {
     "name": "stdout",
     "output_type": "stream",
     "text": [
      "2\n",
      "10\n",
      "3\n",
      "9\n",
      "3\n"
     ]
    }
   ],
   "source": [
    "# random 모듈2\n",
    "import random\n",
    "for i in range(5):\n",
    " print(random.randint(1, 10))   # 일정 범위(1~10) 내 임의의 정수 반환"
   ]
  },
  {
   "cell_type": "code",
   "execution_count": 50,
   "id": "8bb97aa1",
   "metadata": {},
   "outputs": [
    {
     "name": "stdout",
     "output_type": "stream",
     "text": [
      "2\n",
      "2\n",
      "2\n",
      "2\n",
      "3\n"
     ]
    }
   ],
   "source": [
    "# random 모듈3\n",
    "import random\n",
    "for i in range(5):\n",
    " print(random.randrange(1, 5))   # 일정 범위(1~4) 내 임의의 정수 반환"
   ]
  },
  {
   "cell_type": "code",
   "execution_count": 51,
   "id": "7001c95f",
   "metadata": {},
   "outputs": [
    {
     "name": "stdout",
     "output_type": "stream",
     "text": [
      "['사과', '딸기', '복숭아', '바나나']\n"
     ]
    }
   ],
   "source": [
    "# random 모듈4\n",
    "import random as rd\n",
    "\n",
    "fruits = ['사과', '바나나', '딸기', '복숭아']\n",
    "rd.shuffle(fruits)      # 리스트의 요소를 무작위로 섞음\n",
    "print(fruits)"
   ]
  },
  {
   "cell_type": "code",
   "execution_count": 52,
   "id": "80e9f4f4",
   "metadata": {},
   "outputs": [
    {
     "name": "stdout",
     "output_type": "stream",
     "text": [
      "바나나\n"
     ]
    }
   ],
   "source": [
    "# random 모듈5\n",
    "import random as rd\n",
    "\n",
    "fruits = ['사과', '바나나', '딸기', '복숭아']\n",
    "a = rd.choice(fruits)      # 리스트에서 임의의 요소를 하나 반환 (원본 리스트는 변경 X)\n",
    "print(a)"
   ]
  },
  {
   "cell_type": "code",
   "execution_count": 53,
   "id": "071e0919",
   "metadata": {},
   "outputs": [
    {
     "name": "stdout",
     "output_type": "stream",
     "text": [
      "['복숭아', '바나나']\n"
     ]
    }
   ],
   "source": [
    "# random 모듈6\n",
    "import random as rd\n",
    "\n",
    "fruits = ['사과', '바나나', '딸기', '복숭아']\n",
    "a = rd.sample(fruits, 2)      # 리스트 항목 중 n개를 무작위로 뽑아 새 리스트 생성\n",
    "print(a)\n"
   ]
  },
  {
   "cell_type": "markdown",
   "id": "7102bbce",
   "metadata": {},
   "source": [
    "#### 클래스 / 객체 / 메소드"
   ]
  },
  {
   "cell_type": "markdown",
   "id": "272697d6",
   "metadata": {},
   "source": [
    "##### 클래스"
   ]
  },
  {
   "cell_type": "markdown",
   "id": "13e85d6c",
   "metadata": {},
   "source": [
    "클래스\n",
    "\n",
    "- 객체지향의 가장 기본적인 개념\n",
    "- 객체를 표현하기 위한 문법  \n",
    "    - 객체: 체크박스, 스크롤바, 터틀객체 등 특정한 모양이나 개념이 존재하는 것\n",
    "- 현실세계 사물의 속성과 동작들을 코드로 구현한 것\n",
    "- 관련된 속성과 독장을 하나의 범주로 묶음\n",
    "- 사물의 속성은 변수로, 동작은 함수(메소드)로 표현  \n",
    "    - 속성은 매개변수를 받아 사용하기 위한 값을 정함\n",
    "    - 메소드는 만들어진 속성을 이용해 그에 따른 동작을 실행\n",
    "- 멤버: 클래스를 구성하는 변수와 함수\n",
    "- 매소드: 클래스에 속한 함수"
   ]
  },
  {
   "cell_type": "markdown",
   "id": "8d206eb5",
   "metadata": {},
   "source": [
    "클래스 (class)\n",
    "\n",
    "- 똑같은 것을 계속 만들어낼 수 있는 틀, 설계도 등으로 정의하기도 함  \n",
    "    ex) 자동차 공장의 자동차 형태, 쿠키 틀 등\n",
    "\n",
    "객체 (object)\n",
    "\n",
    "- 클래스에서 찍어낸 형태  \n",
    "    ex) 자동차, 쿠키틀에서 찍어낸 쿠키\n",
    "- 객체마다 고유한 성격을 가짐  \n",
    "    ex) 터틀객체가 각기 고유의 속성을 가질 수 있음(색, 커서 모양 등)\n",
    "- 클래스의 인스턴스라고 표현하기도 함"
   ]
  },
  {
   "cell_type": "code",
   "execution_count": 54,
   "id": "3294a9f3",
   "metadata": {},
   "outputs": [],
   "source": [
    "# 클래스 선언 형식\n",
    "\n",
    "# class 이름:\n",
    "    # def __init__(self, 초기값):\n",
    "        # 멤버 초기화\n",
    "    # 메소드 정의"
   ]
  },
  {
   "cell_type": "code",
   "execution_count": 55,
   "id": "73b9a237",
   "metadata": {},
   "outputs": [
    {
     "name": "stdout",
     "output_type": "stream",
     "text": [
      "My name is 터틀봇. I like 그림 그리기\n"
     ]
    }
   ],
   "source": [
    "# 클래스 선언하기\n",
    "class Human:\n",
    "    def __init__(self, name, hobby):\n",
    "        self.name = name\n",
    "        self.hobby = hobby\n",
    "    def intro(self):\n",
    "        print(f\"My name is {self.name}. I like {self.hobby}\")\n",
    "\n",
    "person01 = Human(\"터틀봇\", \"그림 그리기\")\n",
    "person01.intro()"
   ]
  },
  {
   "cell_type": "code",
   "execution_count": 56,
   "id": "13bcce6a",
   "metadata": {},
   "outputs": [
    {
     "name": "stdout",
     "output_type": "stream",
     "text": [
      "김지민이 걸어가요\n"
     ]
    }
   ],
   "source": [
    "# 클래스 선언하기2\n",
    "class Person:\n",
    "    def __init__(self, name, age):\n",
    "        self.name = name\n",
    "        self.age = age\n",
    "\n",
    "    def walk(self):\n",
    "        print(f'{self.name}이 걸어가요')\n",
    "\n",
    "person01 = Person(\"김지민\", 26)\n",
    "person01.walk()"
   ]
  },
  {
   "cell_type": "markdown",
   "id": "b40e0d6e",
   "metadata": {},
   "source": [
    "클래스의 상속\n",
    "\n",
    "- 어떤 클래스를 만들 떄 다른 클래스의 기능을 물려받을 수 있게 만드는 것\n",
    "- FourCal 클래스를 상속하는 MoreFourCal 클래스\n",
    "- 기능 추가"
   ]
  },
  {
   "cell_type": "code",
   "execution_count": 57,
   "id": "827bd30d",
   "metadata": {},
   "outputs": [
    {
     "name": "stdout",
     "output_type": "stream",
     "text": [
      "정호석이 날아가요\n"
     ]
    }
   ],
   "source": [
    "# 클래스 상속\n",
    "\n",
    "class NewPerson(Person):        # Person을 상속받음\n",
    "    def fly(self):\n",
    "        print(f\"{self.name}이 날아가요\")\n",
    "\n",
    "person3 = NewPerson(\"정호석\", 33)\n",
    "person3.fly()"
   ]
  },
  {
   "cell_type": "markdown",
   "id": "fac4f060",
   "metadata": {},
   "source": [
    "클래스 - 매서드 오버라이딩\n",
    "\n",
    "- 상속 관계에 있는 클래스에서 부모 클래스의 메서드를 자식 클래스에서 재정의하는 기술\n",
    "- 동일한 이름의 메서드를 덮어씀 (기능 확장 및 수정)"
   ]
  },
  {
   "cell_type": "code",
   "execution_count": 58,
   "id": "8e29247a",
   "metadata": {},
   "outputs": [
    {
     "name": "stdout",
     "output_type": "stream",
     "text": [
      "정호석이 너무 잘 걸어가요\n"
     ]
    }
   ],
   "source": [
    "# 클래스 오버라이딩\n",
    "\n",
    "class NewPerson(Person):        # Person을 상속받음\n",
    "    def fly(self):\n",
    "        print(f\"{self.name}이 날아가요\")\n",
    "    def walk(self):\n",
    "        print(f'{self.name}이 너무 잘 걸어가요')    # 클래스 오버라이딩\n",
    "\n",
    "person3 = NewPerson(\"정호석\", 33)\n",
    "person3.walk()"
   ]
  },
  {
   "cell_type": "markdown",
   "id": "cdfcc6ec",
   "metadata": {},
   "source": [
    "클래스 변수\n",
    "\n",
    "- 클래스 안에 변수를 선언하여 생성\n",
    "- 클래스_이름.클래스변수로 사용\n",
    "- 객체 변수와 달리 클래스로 만든 모든 객체에 공유\n",
    "- 실무에서 프로그래밍할 때 클래스 변수보다 객체 변수를 사용"
   ]
  },
  {
   "cell_type": "code",
   "execution_count": 59,
   "id": "1946188b",
   "metadata": {},
   "outputs": [
    {
     "name": "stdout",
     "output_type": "stream",
     "text": [
      "김\n",
      "김\n"
     ]
    }
   ],
   "source": [
    "# 클래스 변수\n",
    "\n",
    "class Family:\n",
    "    lastname = \"김\"\n",
    "\n",
    "a = Family()\n",
    "b = Family()\n",
    "\n",
    "print(a.lastname)\n",
    "print(b.lastname)"
   ]
  },
  {
   "cell_type": "code",
   "execution_count": 60,
   "id": "03c6c4f9",
   "metadata": {},
   "outputs": [],
   "source": [
    "# 결제 시스템\n",
    "# 신용카드, 포인트 결제"
   ]
  },
  {
   "cell_type": "code",
   "execution_count": 61,
   "id": "eacd4bd1",
   "metadata": {},
   "outputs": [],
   "source": [
    "def pay_credit_payment(card_info, amount):\n",
    "    \"\"\"신용카드 결제 로직\"\"\"\n",
    "    print(f\"{card_info['card_number']} 카드로 {amount}원 결제합니다.\")\n",
    "    print(\"결제 완료\")\n",
    "\n",
    "def pay_with_point(point_wallet, amount):\n",
    "    if point_wallet['balance'] >= amount:\n",
    "        point_wallet['balance'] -= amount\n",
    "        print(f'포인트 {amount}점을 사용해서 결제했습니다.')\n",
    "    else:\n",
    "        print(\"포인트가 부족합니다.\")"
   ]
  },
  {
   "cell_type": "code",
   "execution_count": 62,
   "id": "275c643b",
   "metadata": {},
   "outputs": [],
   "source": [
    "credit_card = {\n",
    "    'type': 'credit_card',\n",
    "    'card_number': '134-5678-xxxx',\n",
    "    'cvc': 123\n",
    "}\n",
    "\n",
    "my_points = {\n",
    "    'type': 'point_wallet',\n",
    "    'balance': 50000\n",
    "}"
   ]
  },
  {
   "cell_type": "code",
   "execution_count": 63,
   "id": "237a5028",
   "metadata": {},
   "outputs": [
    {
     "name": "stdout",
     "output_type": "stream",
     "text": [
      "134-5678-xxxx 카드로 2500원 결제합니다.\n",
      "결제 완료\n",
      "포인트 10000점을 사용해서 결제했습니다.\n",
      "포인트가 부족합니다.\n"
     ]
    }
   ],
   "source": [
    "def payment(payment_method, amount):\n",
    "    payment_type = payment_method['type']\n",
    "\n",
    "    if payment_type == 'credit_card':\n",
    "        pay_credit_payment(payment_method, amount)\n",
    "    elif payment_type == 'point_wallet':\n",
    "        pay_with_point(payment_method, amount)\n",
    "    else:\n",
    "        print(\"지원되지 않는 결제방식 입니다.\")\n",
    "\n",
    "payment(credit_card, 2500)\n",
    "payment(my_points, 10000)\n",
    "payment(my_points, 50000)\n"
   ]
  },
  {
   "cell_type": "code",
   "execution_count": 64,
   "id": "1ad8c6bf",
   "metadata": {},
   "outputs": [],
   "source": [
    "# 클래스 사용한 결제 시스템\n",
    "class PaymentMethod:\n",
    "    def pay(self, amount):\n",
    "        print(f\"{amount}원 결제\")"
   ]
  },
  {
   "cell_type": "code",
   "execution_count": 65,
   "id": "6974e82a",
   "metadata": {},
   "outputs": [],
   "source": [
    "class CreditCard(PaymentMethod):\n",
    "    def __init__(self, card_number, cvc):\n",
    "        self.card_number = card_number\n",
    "        self.cvc = cvc\n",
    "\n",
    "    def pay(self, amount):\n",
    "        print(f\"{self.card_number} 카드로 {amount}원 결제합니다.\")\n",
    "        print(\"결제 완료\")\n",
    "\n",
    "class PointWallet(PaymentMethod):\n",
    "    def __init__(self, balance):\n",
    "        self.balance = balance\n",
    "\n",
    "    def pay(self, amount):\n",
    "        if self.balance >= amount:\n",
    "            self.balance -= amount\n",
    "            print(f'포인트 {amount}점을 사용해서 결제했습니다.')\n",
    "        else:\n",
    "            print(\"포인트가 부족합니다.\")"
   ]
  },
  {
   "cell_type": "code",
   "execution_count": 66,
   "id": "ceac1038",
   "metadata": {},
   "outputs": [],
   "source": [
    "def process_payment(payment_method, amount):\n",
    "    payment_method.pay(amount)\n",
    "\n",
    "card_obj = CreditCard(\"4444-4444-xxxx\", 444)\n",
    "point_obj = PointWallet(50000)"
   ]
  },
  {
   "cell_type": "code",
   "execution_count": 67,
   "id": "0b8c781e",
   "metadata": {},
   "outputs": [
    {
     "name": "stdout",
     "output_type": "stream",
     "text": [
      "4444-4444-xxxx 카드로 2500원 결제합니다.\n",
      "결제 완료\n",
      "포인트 10000점을 사용해서 결제했습니다.\n",
      "포인트가 부족합니다.\n"
     ]
    }
   ],
   "source": [
    "process_payment(card_obj, 2500)\n",
    "process_payment(point_obj, 10000)\n",
    "process_payment(point_obj, 50000)"
   ]
  }
 ],
 "metadata": {
  "kernelspec": {
   "display_name": "Python 3",
   "language": "python",
   "name": "python3"
  },
  "language_info": {
   "codemirror_mode": {
    "name": "ipython",
    "version": 3
   },
   "file_extension": ".py",
   "mimetype": "text/x-python",
   "name": "python",
   "nbconvert_exporter": "python",
   "pygments_lexer": "ipython3",
   "version": "3.10.11"
  }
 },
 "nbformat": 4,
 "nbformat_minor": 5
}
