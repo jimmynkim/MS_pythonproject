{
 "cells": [
  {
   "cell_type": "markdown",
   "id": "b8364910",
   "metadata": {},
   "source": [
    "## 파이썬 기본3"
   ]
  },
  {
   "cell_type": "markdown",
   "id": "c62258f1",
   "metadata": {},
   "source": [
    "### Numpy, Pandas, Matplotlib"
   ]
  },
  {
   "cell_type": "markdown",
   "id": "ff88cb52",
   "metadata": {},
   "source": [
    "#### Numpy"
   ]
  },
  {
   "cell_type": "markdown",
   "id": "a2666a57",
   "metadata": {},
   "source": [
    "넘파이(Numpy)\n",
    "\n",
    "- 대수, 행렬, 통계 등 수학 및 과학 연산을 위한 라이브러리\n",
    "- ndarray라는 다차원 배열을 데이터로 나타내고 처리하는데 특화\n",
    "- **실행속도가 빠르고 짧고 간결한 코드 구현**이 가능\n",
    "- Numpy는 외부 라이브러리이므로, 설치 후 사용 가능\n",
    "\n",
    "Numpy 배열과 파이썬 리스트의 차이\n",
    "\n",
    "- 파이썬 리스트는 배열에 실제 데이터의 주소가 담겨져 있음\n",
    "- 이것으로 인해 서로 다른 데이터타입을 리스트 요소로 넣을 수 있음\n",
    "- 반면 numpy 배열은 실제 데이터가 배열에 들어 있음\n",
    "- 리스트는 데이터를 읽고 쓰기에 numpy 배열보다 2배의 시간이 걸림\n",
    "- 대량의 배열 연산 또는 행렬 연산에는 numpy가 유리함\n",
    "\n",
    "넘파이 배열(Numpy Array)\n",
    "\n",
    "- 넘파이는 다차원 배열을 지원함 (1차원: Vector, 2차원: Matrix, 3차원 이상: Tensor)\n",
    "- 넘파이 배열은 한 가지 자료형 데이터를 요소로 가짐"
   ]
  },
  {
   "cell_type": "code",
   "execution_count": 1,
   "id": "655a992a",
   "metadata": {},
   "outputs": [],
   "source": [
    "# 시작하기 전 패키지 실행\n",
    "import numpy\n",
    "from bs4 import BeautifulSoup"
   ]
  },
  {
   "cell_type": "code",
   "execution_count": 2,
   "id": "092a86fb",
   "metadata": {},
   "outputs": [],
   "source": [
    "# numpy를 간결하게 별명 붙이기\n",
    "import numpy as np"
   ]
  },
  {
   "cell_type": "code",
   "execution_count": 3,
   "id": "23c00704",
   "metadata": {},
   "outputs": [
    {
     "name": "stdout",
     "output_type": "stream",
     "text": [
      "211 μs ± 849 ns per loop (mean ± std. dev. of 7 runs, 10,000 loops each)\n",
      "917 ns ± 34.2 ns per loop (mean ± std. dev. of 7 runs, 1,000,000 loops each)\n"
     ]
    }
   ],
   "source": [
    "# 넘파이가 리스트보다 빠른지 확인\n",
    "\n",
    "# 리스트 소요 시간\n",
    "L = range(1000)\n",
    "%timeit L2 = [i **2 for i in L]\n",
    "\n",
    "# 넘파이 소요 시간\n",
    "arr = np.arange(1000)\n",
    "%timeit arr2 = arr**2"
   ]
  },
  {
   "cell_type": "markdown",
   "id": "c7ce34f9",
   "metadata": {},
   "source": [
    "넘파이 배열 직접 생성\n",
    "- 리스트 데이터를 넘파이 배열로 바꾸어 생성\n",
    "> np.array(리스트)"
   ]
  },
  {
   "cell_type": "code",
   "execution_count": 4,
   "id": "13e2d881",
   "metadata": {},
   "outputs": [
    {
     "name": "stdout",
     "output_type": "stream",
     "text": [
      "[1 2 3 4]\n"
     ]
    }
   ],
   "source": [
    "num_list = [1, 2, 3, 4]\n",
    "int_arr2 = np.array(num_list)\n",
    "print(int_arr2)     # 넘파이 배열은 ',' 없이 공백으로 데이터 구분"
   ]
  },
  {
   "cell_type": "markdown",
   "id": "a8efb3d7",
   "metadata": {},
   "source": [
    "배열의 범위를 지정하여 생성\n",
    "- 시작 인덱스부터 시작하여 끝 인덱스 전까지, 간격만큼 더해 넘파이 배열 생성\n",
    "> np.arange (시작 인덱스, 끝 인덱스, 간격)"
   ]
  },
  {
   "cell_type": "code",
   "execution_count": 5,
   "id": "b9a654f6",
   "metadata": {},
   "outputs": [
    {
     "data": {
      "text/plain": [
       "array([0, 1, 2, 3, 4, 5, 6, 7, 8, 9])"
      ]
     },
     "execution_count": 5,
     "metadata": {},
     "output_type": "execute_result"
    }
   ],
   "source": [
    "arr1 = np.arange(0, 10)\n",
    "arr1"
   ]
  },
  {
   "cell_type": "code",
   "execution_count": 6,
   "id": "6d1ec71a",
   "metadata": {},
   "outputs": [
    {
     "data": {
      "text/plain": [
       "array([0, 2, 4, 6, 8])"
      ]
     },
     "execution_count": 6,
     "metadata": {},
     "output_type": "execute_result"
    }
   ],
   "source": [
    "arr2 = np.arange(0, 10, 2)\n",
    "arr2"
   ]
  },
  {
   "cell_type": "code",
   "execution_count": 7,
   "id": "831a6a31",
   "metadata": {},
   "outputs": [
    {
     "data": {
      "text/plain": [
       "array([0, 1, 2, 3, 4])"
      ]
     },
     "execution_count": 7,
     "metadata": {},
     "output_type": "execute_result"
    }
   ],
   "source": [
    "arr3 = np.arange(5)\n",
    "arr3"
   ]
  },
  {
   "cell_type": "markdown",
   "id": "30a4b45a",
   "metadata": {},
   "source": [
    "넘파이 배열에 들어가는 자료형\n",
    "- 한 가지 데이터 타입으로 통일되어 처리됨\n"
   ]
  },
  {
   "cell_type": "code",
   "execution_count": 8,
   "id": "128cbec7",
   "metadata": {},
   "outputs": [
    {
     "name": "stdout",
     "output_type": "stream",
     "text": [
      "['1' '2' '3']\n"
     ]
    }
   ],
   "source": [
    "list_data = [1, '2', 3]\n",
    "arr = np.array(list_data)   # 문자열형으로 통일\n",
    "print(arr)  "
   ]
  },
  {
   "cell_type": "code",
   "execution_count": 9,
   "id": "430ab64d",
   "metadata": {},
   "outputs": [
    {
     "name": "stdout",
     "output_type": "stream",
     "text": [
      "[1. 2. 3.]\n"
     ]
    }
   ],
   "source": [
    "list_data = [1, 2., 3]\n",
    "arr = np.array(list_data)    # 실수형으로 통일\n",
    "print(arr)                   # 넘파이는 소수점 아래 0이 계속 되는 경우 이를 생략\n",
    "                             # 소수점만 표시해 해당 원소가 실수형임을 알림"
   ]
  },
  {
   "cell_type": "code",
   "execution_count": 10,
   "id": "03ffa905",
   "metadata": {},
   "outputs": [
    {
     "name": "stdout",
     "output_type": "stream",
     "text": [
      "[1 2 3]\n",
      "int64\n"
     ]
    }
   ],
   "source": [
    "# 실수 데이터를 정수 데이터로 변환\n",
    "list_data = [1, 2. , 3]\n",
    "arr = np.array(list_data, dtype='int')\n",
    "print(arr)\n",
    "print(arr.dtype)"
   ]
  },
  {
   "cell_type": "code",
   "execution_count": 11,
   "id": "7e35198f",
   "metadata": {},
   "outputs": [
    {
     "data": {
      "text/plain": [
       "array([ 1.,  2., nan,  4.])"
      ]
     },
     "execution_count": 11,
     "metadata": {},
     "output_type": "execute_result"
    }
   ],
   "source": [
    "# 데이터 중간에 비우려면 Nan 삽입 (데이터가 없거나 알 수 없는 경우\n",
    "# np.nan은 float 타입으로 전체가 실수형으로 변환\n",
    "np.array([1, 2, np.nan, 4])"
   ]
  },
  {
   "cell_type": "markdown",
   "id": "759bbd9a",
   "metadata": {},
   "source": [
    "2차원 배열 생성\n",
    "- 2차원 배열은 행렬(matrix)이라고 함\n",
    "- 가로줄은 행(row), 세로줄은 열(column)"
   ]
  },
  {
   "cell_type": "code",
   "execution_count": 12,
   "id": "db022998",
   "metadata": {},
   "outputs": [
    {
     "name": "stdout",
     "output_type": "stream",
     "text": [
      "[[ 1  2  3  4]\n",
      " [ 5  6  7  8]\n",
      " [ 9 10 11 12]]\n"
     ]
    }
   ],
   "source": [
    "arr = np.array([[1, 2, 3, 4], [5, 6, 7, 8], [9, 10, 11, 12]])  # 중첩된 2차원 리스트\n",
    "print(arr)"
   ]
  },
  {
   "cell_type": "markdown",
   "id": "a47cc44f",
   "metadata": {},
   "source": [
    "3차원 배열 생성\n",
    "- 3차원 이상의 배열은 tensor이라고 함"
   ]
  },
  {
   "cell_type": "code",
   "execution_count": 13,
   "id": "78f6cbc8",
   "metadata": {},
   "outputs": [
    {
     "name": "stdout",
     "output_type": "stream",
     "text": [
      "[[[ 1  2  3  4]\n",
      "  [ 5  6  7  8]]\n",
      "\n",
      " [[ 9 10 11 12]\n",
      "  [13 14 15 16]]\n",
      "\n",
      " [[17 18 19 20]\n",
      "  [21 22 23 24]]]\n"
     ]
    }
   ],
   "source": [
    "arr = np.array([[[1, 2, 3, 4], [5, 6, 7, 8]], \n",
    "                [[9, 10, 11, 12], [13, 14, 15, 16]],\n",
    "                [[17, 18, 19, 20], [21, 22, 23, 24]]])\n",
    "print(arr)"
   ]
  },
  {
   "cell_type": "markdown",
   "id": "19a30574",
   "metadata": {},
   "source": [
    "넘파이 배열의 차원\n",
    "> 넘파이 배열명.ndim"
   ]
  },
  {
   "cell_type": "code",
   "execution_count": 14,
   "id": "e2b9be29",
   "metadata": {},
   "outputs": [
    {
     "name": "stdout",
     "output_type": "stream",
     "text": [
      "[1 2 3 4]\n",
      "1\n"
     ]
    }
   ],
   "source": [
    "arr = np.array([1, 2, 3, 4])    # 1차원 리스트\n",
    "\n",
    "print(arr)\n",
    "print(arr.ndim)    "
   ]
  },
  {
   "cell_type": "code",
   "execution_count": 15,
   "id": "95ac250c",
   "metadata": {},
   "outputs": [
    {
     "name": "stdout",
     "output_type": "stream",
     "text": [
      "[[1 2 3 4]\n",
      " [5 6 7 8]]\n",
      "2\n"
     ]
    }
   ],
   "source": [
    "arr = np.array([[1, 2, 3, 4], [5, 6, 7, 8]])  # 중첩된 2차원 리스트\n",
    "print(arr)\n",
    "print(arr.ndim) "
   ]
  },
  {
   "cell_type": "markdown",
   "id": "3eaca262",
   "metadata": {},
   "source": [
    "넘파이 배열의 크기\n",
    "> 넘파이 배열명.shape"
   ]
  },
  {
   "cell_type": "code",
   "execution_count": 16,
   "id": "3073eba3",
   "metadata": {},
   "outputs": [
    {
     "name": "stdout",
     "output_type": "stream",
     "text": [
      "[1 2 3 4]\n",
      "(4,)\n"
     ]
    }
   ],
   "source": [
    "arr = np.array([1, 2, 3, 4])    # 1차원 요소수가 4개\n",
    "\n",
    "print(arr)\n",
    "print(arr.shape) "
   ]
  },
  {
   "cell_type": "code",
   "execution_count": 17,
   "id": "dba4e2e4",
   "metadata": {},
   "outputs": [
    {
     "name": "stdout",
     "output_type": "stream",
     "text": [
      "[[1 2 3 4]\n",
      " [5 6 7 8]]\n",
      "(2, 4)\n"
     ]
    }
   ],
   "source": [
    "arr = np.array([[1, 2, 3, 4], [5, 6, 7, 8]])  # 2차원 (2행 4열)\n",
    "print(arr)\n",
    "print(arr.shape) "
   ]
  },
  {
   "cell_type": "markdown",
   "id": "dab378db",
   "metadata": {},
   "source": [
    "넘파이 배열의 차원 변경\n",
    "> 넘파이 배열명.reshape(크기)"
   ]
  },
  {
   "cell_type": "code",
   "execution_count": 18,
   "id": "3a0236be",
   "metadata": {},
   "outputs": [
    {
     "name": "stdout",
     "output_type": "stream",
     "text": [
      "1\n",
      "(10,)\n",
      "[[ 1  2  3  4  5]\n",
      " [ 6  7  8  9 10]]\n",
      "2\n",
      "(2, 5)\n"
     ]
    }
   ],
   "source": [
    "arr = np.array([1, 2, 3, 4, 5, 6, 7, 8, 9, 10])\n",
    "print(arr.ndim)\n",
    "print(arr.shape)\n",
    "\n",
    "arr2 = arr.reshape(2, 5)    # 2행 5열로 변경\n",
    "print(arr2)\n",
    "print(arr2.ndim)\n",
    "print(arr2.shape)"
   ]
  },
  {
   "cell_type": "code",
   "execution_count": 19,
   "id": "c6616f6a",
   "metadata": {},
   "outputs": [
    {
     "name": "stdout",
     "output_type": "stream",
     "text": [
      "[[ 1  2  3  4  5]\n",
      " [ 6  7  8  9 10]]\n",
      "2\n",
      "(2, 5)\n"
     ]
    }
   ],
   "source": [
    "arr = np.array([1, 2, 3, 4, 5, 6, 7, 8, 9, 10])\n",
    "\n",
    "arr2 = arr.reshape(2, -1)   # -1은 NumPy가 배열의 크기를 자동으로 계산(열의 수 자동 결정)\n",
    "print(arr2)\n",
    "print(arr2.ndim)\n",
    "print(arr2.shape)"
   ]
  },
  {
   "cell_type": "code",
   "execution_count": 20,
   "id": "80819d46",
   "metadata": {},
   "outputs": [
    {
     "name": "stdout",
     "output_type": "stream",
     "text": [
      "[[ 1  2]\n",
      " [ 3  4]\n",
      " [ 5  6]\n",
      " [ 7  8]\n",
      " [ 9 10]]\n",
      "2\n",
      "(5, 2)\n"
     ]
    }
   ],
   "source": [
    "arr = np.array([1, 2, 3, 4, 5, 6, 7, 8, 9, 10])\n",
    "\n",
    "arr2 = arr.reshape(5, -1) \n",
    "print(arr2)\n",
    "print(arr2.ndim)\n",
    "print(arr2.shape)"
   ]
  },
  {
   "cell_type": "markdown",
   "id": "0d777bc1",
   "metadata": {},
   "source": [
    "넘파이 연산\n",
    "- shape이 같다면 덧셈, 뺄셈, 곱셈, 나눗셈 연산 가능"
   ]
  },
  {
   "cell_type": "code",
   "execution_count": 21,
   "id": "bc0cfb0d",
   "metadata": {},
   "outputs": [
    {
     "name": "stdout",
     "output_type": "stream",
     "text": [
      "[5 7 9]\n",
      "[-3 -3 -3]\n",
      "[ 4 10 18]\n",
      "[0.25 0.4  0.5 ]\n"
     ]
    }
   ],
   "source": [
    "a = np.array([1, 2, 3])     # 동일한 인덱스끼리 연산\n",
    "b = np.array([4, 5, 6])\n",
    "\n",
    "print(a + b)\n",
    "print(a - b)\n",
    "print(a * b)\n",
    "print(a / b)"
   ]
  },
  {
   "cell_type": "code",
   "execution_count": 22,
   "id": "cf4c1ec5",
   "metadata": {},
   "outputs": [
    {
     "name": "stdout",
     "output_type": "stream",
     "text": [
      "[2 3 4]\n",
      "[0 1 2]\n",
      "[3 6 9]\n",
      "[0.5 1.  1.5]\n"
     ]
    }
   ],
   "source": [
    "# 벡터화 연산 (모든 요소에 일괄적으로 연산 적용)\n",
    "a = np.array([1, 2, 3])\n",
    "\n",
    "print(a + 1)\n",
    "print(a - 1)\n",
    "print(a * 3)\n",
    "print(a / 2)"
   ]
  },
  {
   "cell_type": "markdown",
   "id": "c26cc39c",
   "metadata": {},
   "source": [
    "배열의 범위와 개수를 지정하여 생성\n",
    "- 시작 인덱스부터 끝 인덱스까지 n개의 요소를 갖는 넘파이을 생성\n",
    "> np.linspace(시작 인덱스, 끝 인덱스, 개수 n)"
   ]
  },
  {
   "cell_type": "code",
   "execution_count": 23,
   "id": "db0d64a0",
   "metadata": {},
   "outputs": [
    {
     "name": "stdout",
     "output_type": "stream",
     "text": [
      "[ 1.  2.  3.  4.  5.  6.  7.  8.  9. 10.]\n",
      "float64\n"
     ]
    }
   ],
   "source": [
    "arr = np.linspace(1, 10, 10)\n",
    "\n",
    "print(arr)\n",
    "print(arr.dtype)"
   ]
  },
  {
   "cell_type": "code",
   "execution_count": 24,
   "id": "374abe1d",
   "metadata": {},
   "outputs": [
    {
     "name": "stdout",
     "output_type": "stream",
     "text": [
      "[0.         0.34906585 0.6981317  1.04719755 1.3962634  1.74532925\n",
      " 2.0943951  2.44346095 2.7925268  3.14159265]\n",
      "float64\n"
     ]
    }
   ],
   "source": [
    "arr = np.linspace(0, np.pi, 10)     # 0부터 파이까지 동일한 간격으로 10개의 데이터 생성\n",
    "\n",
    "print(arr)\n",
    "print(arr.dtype)"
   ]
  },
  {
   "cell_type": "markdown",
   "id": "8e27aa26",
   "metadata": {},
   "source": [
    "< 특별한 값을 갖는 배열 생성 >"
   ]
  },
  {
   "cell_type": "markdown",
   "id": "551bc00d",
   "metadata": {},
   "source": [
    "np.zeros( ): 모든 요소가 0인 배열을 생성\n",
    "> np.zeros(shape, dtype=float)"
   ]
  },
  {
   "cell_type": "code",
   "execution_count": 25,
   "id": "82ba0827",
   "metadata": {},
   "outputs": [
    {
     "name": "stdout",
     "output_type": "stream",
     "text": [
      "[0. 0. 0. 0. 0. 0. 0. 0. 0. 0.]\n"
     ]
    }
   ],
   "source": [
    "# np.zeros()\n",
    "arr = np.zeros(10)\n",
    "print(arr)"
   ]
  },
  {
   "cell_type": "code",
   "execution_count": 26,
   "id": "0319665a",
   "metadata": {},
   "outputs": [
    {
     "name": "stdout",
     "output_type": "stream",
     "text": [
      "[0 0 0 0 0 0 0 0 0 0]\n"
     ]
    }
   ],
   "source": [
    "arr = np.zeros(10, dtype = int)\n",
    "print(arr)"
   ]
  },
  {
   "cell_type": "code",
   "execution_count": 27,
   "id": "7d987dad",
   "metadata": {},
   "outputs": [
    {
     "name": "stdout",
     "output_type": "stream",
     "text": [
      "[[0. 0. 0. 0. 0.]\n",
      " [0. 0. 0. 0. 0.]]\n"
     ]
    }
   ],
   "source": [
    "arr = np.zeros((2, 5))\n",
    "print(arr)"
   ]
  },
  {
   "cell_type": "markdown",
   "id": "93206a4b",
   "metadata": {},
   "source": [
    "np.ones( ): 모든 요소가 1인 배열을 생성\n",
    "> np.ones(shape, dtype=float)\n"
   ]
  },
  {
   "cell_type": "code",
   "execution_count": 28,
   "id": "afbd7b15",
   "metadata": {},
   "outputs": [
    {
     "name": "stdout",
     "output_type": "stream",
     "text": [
      "[1. 1. 1. 1. 1. 1. 1. 1. 1. 1.]\n"
     ]
    }
   ],
   "source": [
    "# np.ones()\n",
    "arr = np.ones(10)\n",
    "print(arr)"
   ]
  },
  {
   "cell_type": "code",
   "execution_count": 29,
   "id": "a00db6d3",
   "metadata": {},
   "outputs": [
    {
     "name": "stdout",
     "output_type": "stream",
     "text": [
      "[1 1 1 1 1 1 1 1 1 1]\n"
     ]
    }
   ],
   "source": [
    "arr = np.ones(10, dtype = int)\n",
    "print(arr)"
   ]
  },
  {
   "cell_type": "code",
   "execution_count": 30,
   "id": "ef0b2477",
   "metadata": {},
   "outputs": [
    {
     "name": "stdout",
     "output_type": "stream",
     "text": [
      "[[1. 1. 1. 1. 1.]\n",
      " [1. 1. 1. 1. 1.]]\n"
     ]
    }
   ],
   "source": [
    "arr = np.ones((2, 5))\n",
    "print(arr)"
   ]
  },
  {
   "cell_type": "markdown",
   "id": "c4670f88",
   "metadata": {},
   "source": [
    "np.eye( ): 단위 행렬을 생성\n",
    "- 단위 행렬은 주 대각선의 요소가 1, 나머지 요소는 모두 0인 정사각 행렬\n",
    "- 행렬 연산에서 곱셈의 항등원 역할\n",
    "> np.eye(N, M=None, k=0, dtype=float)\n",
    "\n",
    "N: 행의 개수  \n",
    "M: 열의 개수, N과 동일하게 지정하면 정사각 행렬, 생략 가능  \n",
    "k: 주 대각선의 위치를 지정, k=0이 기본값이며, k>0은 대각선을 위로, k<0은 아래로 이동시킴"
   ]
  },
  {
   "cell_type": "code",
   "execution_count": 31,
   "id": "7a875406",
   "metadata": {},
   "outputs": [
    {
     "name": "stdout",
     "output_type": "stream",
     "text": [
      "[[1. 0. 0. 0. 0.]\n",
      " [0. 1. 0. 0. 0.]\n",
      " [0. 0. 1. 0. 0.]\n",
      " [0. 0. 0. 1. 0.]\n",
      " [0. 0. 0. 0. 1.]]\n"
     ]
    }
   ],
   "source": [
    "# np.eye()\n",
    "arr = np.eye(5)\n",
    "print(arr)"
   ]
  },
  {
   "cell_type": "code",
   "execution_count": 32,
   "id": "999d5b01",
   "metadata": {},
   "outputs": [
    {
     "name": "stdout",
     "output_type": "stream",
     "text": [
      "[[1 0 0 0 0]\n",
      " [0 1 0 0 0]\n",
      " [0 0 1 0 0]\n",
      " [0 0 0 1 0]\n",
      " [0 0 0 0 1]]\n"
     ]
    }
   ],
   "source": [
    "arr = np.eye(5, dtype = int)\n",
    "print(arr)"
   ]
  },
  {
   "cell_type": "markdown",
   "id": "83938d4b",
   "metadata": {},
   "source": [
    "Numpy 배열 연산하기\n",
    "\n",
    "- 벡터화 연산(vectorized operation)을 지원\n",
    "- 배열의 각 원소에 대한 반복 연산을 하나의 명령어로 처리"
   ]
  },
  {
   "cell_type": "code",
   "execution_count": 33,
   "id": "f5cfc39b",
   "metadata": {},
   "outputs": [
    {
     "data": {
      "text/plain": [
       "array([ 0,  2,  4,  6,  8, 10, 12, 14, 16, 18])"
      ]
     },
     "execution_count": 33,
     "metadata": {},
     "output_type": "execute_result"
    }
   ],
   "source": [
    "# data의 값을 2배로 변경\n",
    "data = [0, 1, 2, 3, 4, 5, 6, 7, 8, 9]\n",
    "x = np.array(data)\n",
    "2*x"
   ]
  },
  {
   "cell_type": "code",
   "execution_count": 34,
   "id": "09759bb1",
   "metadata": {},
   "outputs": [
    {
     "name": "stdout",
     "output_type": "stream",
     "text": [
      "[1. 2. 3. 4.]\n",
      "[2.71828183e+00 5.45981500e+01 8.10308393e+03 8.88611052e+06]\n",
      "30\n",
      "7.5\n",
      "5.678908345800274\n"
     ]
    }
   ],
   "source": [
    "data  = np.array([1, 4, 9, 16])\n",
    "\n",
    "print(np.sqrt(data))    # 제곱근\n",
    "print(np.exp(data))     # 지수함수\n",
    "print(np.sum(data))     # 합\n",
    "print(np.mean(data))    # 평균\n",
    "print(np.std(data))     # 표준편차"
   ]
  },
  {
   "cell_type": "code",
   "execution_count": 35,
   "id": "b33ea30c",
   "metadata": {},
   "outputs": [
    {
     "name": "stdout",
     "output_type": "stream",
     "text": [
      "[12 24 36]\n",
      "[False  True False]\n",
      "[False  True  True]\n",
      "[False  True False]\n"
     ]
    }
   ],
   "source": [
    "# 도전하기\n",
    "a = np.array([1, 2, 3])\n",
    "b = np.array([10, 20, 30])\n",
    "\n",
    "print(2 * a + b)\n",
    "print(a == 2)\n",
    "print(b > 10)\n",
    "print((a == 2) & (b > 10))"
   ]
  },
  {
   "cell_type": "code",
   "execution_count": 36,
   "id": "421f3709",
   "metadata": {},
   "outputs": [
    {
     "name": "stdout",
     "output_type": "stream",
     "text": [
      "[[0 1 2]\n",
      " [3 4 5]]\n",
      "(2, 3)\n"
     ]
    }
   ],
   "source": [
    "# 2차원 배열 만들고 행과 열의 개수 구하기\n",
    "\n",
    "c = np.array([[0, 1, 2], [3, 4, 5]])\n",
    "print(c)\n",
    "print(c.shape)"
   ]
  },
  {
   "cell_type": "code",
   "execution_count": 37,
   "id": "abf987a5",
   "metadata": {},
   "outputs": [
    {
     "name": "stdout",
     "output_type": "stream",
     "text": [
      "[[[ 1  2  3  4]\n",
      "  [ 5  6  7  8]\n",
      "  [ 9 10 11 12]]\n",
      "\n",
      " [[11 12 13 14]\n",
      "  [15 16 17 18]\n",
      "  [19 20 21 22]]]\n",
      "(2, 3, 4)\n"
     ]
    }
   ],
   "source": [
    "# 3차원 배열 만들고 깊이(차원),행과 열의 개수 구하기\n",
    "d = np.array([[[1, 2, 3, 4],\n",
    "               [5, 6, 7, 8],\n",
    "               [9, 10, 11, 12]],\n",
    "              [[11, 12, 13, 14],\n",
    "               [15, 16, 17, 18],\n",
    "               [19, 20, 21, 22]]])\n",
    "\n",
    "print(d)\n",
    "print(d.shape)      # 3차원(차원, 행, 열)"
   ]
  },
  {
   "cell_type": "code",
   "execution_count": 38,
   "id": "cde98578",
   "metadata": {},
   "outputs": [
    {
     "name": "stdout",
     "output_type": "stream",
     "text": [
      "1\n",
      "(3,)\n",
      "3\n"
     ]
    }
   ],
   "source": [
    "# 배열의 차원과 크기 알아내기\n",
    "a = np.array([1, 2, 3])\n",
    "print(a.ndim)       # 배열의 차원\n",
    "print(a.shape)      # 배열의 모양\n",
    "print(a.size)       # 배열에 들어있는 총 요소의 개수"
   ]
  },
  {
   "cell_type": "code",
   "execution_count": 39,
   "id": "63b318a2",
   "metadata": {},
   "outputs": [
    {
     "name": "stdout",
     "output_type": "stream",
     "text": [
      "2\n",
      "(2, 3)\n",
      "6\n"
     ]
    }
   ],
   "source": [
    "# 배열의 차원과 크기 알아내기2\n",
    "c = np.array([[0, 1, 2], [3, 4, 5]])\n",
    "print(c.ndim)\n",
    "print(c.shape)\n",
    "print(c.size)"
   ]
  },
  {
   "cell_type": "code",
   "execution_count": 40,
   "id": "edf70f68",
   "metadata": {},
   "outputs": [
    {
     "name": "stdout",
     "output_type": "stream",
     "text": [
      "3\n",
      "(2, 3, 4)\n",
      "24\n"
     ]
    }
   ],
   "source": [
    "# 배열의 차원과 크기 알아내기3\n",
    "d = np.array([[[1, 2, 3, 4],\n",
    "               [5, 6, 7, 8],\n",
    "               [9, 10, 11, 12]],\n",
    "              [[11, 12, 13, 14],\n",
    "               [15, 16, 17, 18],\n",
    "               [19, 20, 21, 22]]])\n",
    "\n",
    "print(d.ndim)\n",
    "print(d.shape)\n",
    "print(d.size)"
   ]
  },
  {
   "cell_type": "code",
   "execution_count": 41,
   "id": "f64c9ac9",
   "metadata": {},
   "outputs": [
    {
     "name": "stdout",
     "output_type": "stream",
     "text": [
      "2\n",
      "4\n"
     ]
    }
   ],
   "source": [
    "# 배열의 인덱싱\n",
    "a = np.array([0, 1, 2, 3, 4])\n",
    "print(a[2])\n",
    "print(a[-1])"
   ]
  },
  {
   "cell_type": "code",
   "execution_count": 42,
   "id": "a312f88e",
   "metadata": {},
   "outputs": [
    {
     "name": "stdout",
     "output_type": "stream",
     "text": [
      "0 1 5\n"
     ]
    }
   ],
   "source": [
    "# 배열의 인덱싱2\n",
    "# 0, 1, 5만 출력\n",
    "a = np.array([[0, 1, 2], [3, 4, 5]])\n",
    "print(a[0][0], a[0][1], a[1][2])"
   ]
  },
  {
   "cell_type": "code",
   "execution_count": 43,
   "id": "8cc7a6c3",
   "metadata": {},
   "outputs": [
    {
     "name": "stdout",
     "output_type": "stream",
     "text": [
      "[0 1 2]\n"
     ]
    }
   ],
   "source": [
    "# 배열의 슬라이싱\n",
    "# 0, 1, 2만 출력\n",
    "a = np.array([[0, 1, 2, 3], [4, 5, 6, 7]])\n",
    "print(a[0, 0:3])"
   ]
  },
  {
   "cell_type": "code",
   "execution_count": 44,
   "id": "7e397201",
   "metadata": {},
   "outputs": [
    {
     "name": "stdout",
     "output_type": "stream",
     "text": [
      "[1 5]\n",
      "[1 5]\n"
     ]
    }
   ],
   "source": [
    "# 배열의 슬라이싱2\n",
    "# 1, 5만 출력\n",
    "a = np.array([[0, 1, 2, 3], [4, 5, 6, 7]])\n",
    "print(a[:, 1])\n",
    "print(a[0:2, 1])"
   ]
  },
  {
   "cell_type": "code",
   "execution_count": 45,
   "id": "ab61e2ad",
   "metadata": {},
   "outputs": [
    {
     "name": "stdout",
     "output_type": "stream",
     "text": [
      "[5 6 7]\n"
     ]
    }
   ],
   "source": [
    "# 배열의 슬라이싱3\n",
    "# 5, 6, 7 출력\n",
    "a = np.array([[0, 1, 2, 3], [4, 5, 6, 7]])\n",
    "print(a[1, 1:4])"
   ]
  },
  {
   "cell_type": "code",
   "execution_count": 46,
   "id": "fe9cdd10",
   "metadata": {},
   "outputs": [
    {
     "name": "stdout",
     "output_type": "stream",
     "text": [
      "[[0 1]\n",
      " [4 5]]\n"
     ]
    }
   ],
   "source": [
    "# 배열의 슬라이싱4\n",
    "# 0, 1, 4, 5 출력\n",
    "a = np.array([[0, 1, 2, 3], [4, 5, 6, 7]])\n",
    "print(a[0:2, 0:2])"
   ]
  },
  {
   "cell_type": "markdown",
   "id": "7d5e980c",
   "metadata": {},
   "source": [
    "펜시 인덱싱(fancy indexing)\n",
    "- 데이터베이스의 질의(Query) 기능을 수행\n",
    "- 대괄호 안의 인덱스 정보로 숫자나 슬라이스가 아니라,  \n",
    "  위치 정보를 나타내는 또 다른 ndarray 배열을 받을 수 있음\n",
    "- 불리언(Boolean) 배열 방식과 정수 배열 방식"
   ]
  },
  {
   "cell_type": "code",
   "execution_count": 47,
   "id": "035c0be7",
   "metadata": {},
   "outputs": [
    {
     "data": {
      "text/plain": [
       "array([0, 2, 4, 6, 8])"
      ]
     },
     "execution_count": 47,
     "metadata": {},
     "output_type": "execute_result"
    }
   ],
   "source": [
    "# 팬시 인덱싱\n",
    "# 불리언 방식\n",
    "a = np.array([0, 1, 2, 3, 4, 5, 6, 7, 8, 9])\n",
    "idx = np.array([True, False, True, False, True,\n",
    "               False, True, False, True, False])\n",
    "a[idx]"
   ]
  },
  {
   "cell_type": "code",
   "execution_count": 48,
   "id": "e2510217",
   "metadata": {},
   "outputs": [
    {
     "name": "stdout",
     "output_type": "stream",
     "text": [
      "[ True False  True False  True False  True False  True False]\n",
      "[0 2 4 6 8]\n"
     ]
    }
   ],
   "source": [
    "# 팬시 인덱싱\n",
    "# 조건문 연산을 사용하여 짝수인 원소만 출력\n",
    "# 조건문 연산: 참, 거짓을 판단 (주로 논리, 비교 연산자)\n",
    "a = np.array([0, 1, 2, 3, 4, 5, 6, 7, 8, 9])\n",
    "even = a % 2 == 0\n",
    "print(even)\n",
    "print(a[even])"
   ]
  },
  {
   "cell_type": "code",
   "execution_count": 49,
   "id": "6b7e5e3a",
   "metadata": {},
   "outputs": [
    {
     "data": {
      "text/plain": [
       "array([11, 33, 55, 77, 99])"
      ]
     },
     "execution_count": 49,
     "metadata": {},
     "output_type": "execute_result"
    }
   ],
   "source": [
    "# 팬시 인덱싱\n",
    "# 정수 배열 인덱싱\n",
    "a = np.array([11, 22, 33, 44, 55, 66, 77, 88, 99])\n",
    "idx = np.array([0, 2, 4, 6, 8])\n",
    "a[idx]"
   ]
  },
  {
   "cell_type": "code",
   "execution_count": 50,
   "id": "0d26a7d5",
   "metadata": {},
   "outputs": [
    {
     "data": {
      "text/plain": [
       "array([11, 11, 11, 11, 11, 11, 22, 22, 22, 22, 22, 33, 33, 33, 33, 33])"
      ]
     },
     "execution_count": 50,
     "metadata": {},
     "output_type": "execute_result"
    }
   ],
   "source": [
    "# 팬시 인덱싱\n",
    "# 정수 배열 인덱싱2\n",
    "a = np.array([11, 22, 33, 44, 55, 66, 77, 88, 99])\n",
    "idx = np.array([0, 0, 0, 0, 0, 0, 1, 1, 1, 1, 1, 2, 2, 2, 2, 2])\n",
    "a[idx]"
   ]
  },
  {
   "cell_type": "code",
   "execution_count": 51,
   "id": "872b0f28",
   "metadata": {},
   "outputs": [
    {
     "name": "stdout",
     "output_type": "stream",
     "text": [
      "[[ 1  4]\n",
      " [ 5  8]\n",
      " [ 9 12]]\n"
     ]
    }
   ],
   "source": [
    "# 팬시 인덱싱\n",
    "# 1, 4, 5, 8, 9, 12 출력\n",
    "a = np.array([[1, 2, 3, 4], [5, 6, 7, 8], [9, 10, 11, 12]])\n",
    "print(a[ : , [0,3]])\n"
   ]
  },
  {
   "cell_type": "code",
   "execution_count": 52,
   "id": "2102a3fc",
   "metadata": {},
   "outputs": [
    {
     "name": "stdout",
     "output_type": "stream",
     "text": [
      "[[ 9 10 11 12]\n",
      " [ 1  2  3  4]\n",
      " [ 5  6  7  8]]\n"
     ]
    }
   ],
   "source": [
    "# 팬시 인덱싱\n",
    "# 행 위치 변경\n",
    "a = np.array([[1, 2, 3, 4], [5, 6, 7, 8], [9, 10, 11, 12]])\n",
    "print(a[[2, 0, 1]])"
   ]
  },
  {
   "cell_type": "code",
   "execution_count": 53,
   "id": "932bbaf2",
   "metadata": {},
   "outputs": [
    {
     "name": "stdout",
     "output_type": "stream",
     "text": [
      "[ 3  6  9 12 15 18]\n",
      "[ 1  5  9 13 17]\n",
      "[9]\n"
     ]
    }
   ],
   "source": [
    "# 도전하기\n",
    "x = np.array([1, 2, 3, 4, 5, 6, 7, 8, 9, 10, 11, 12, 13, 14, 15, 16, 17, 18, 19, 20])\n",
    "\n",
    "# 3의 배수 출력\n",
    "num1 = x % 3 == 0\n",
    "print(x[num1])\n",
    "\n",
    "# 4로 나누면 1이 남는 수\n",
    "num2 = x % 4 == 1\n",
    "print(x[num2])\n",
    "\n",
    "# 3으로 나눠지고, 4로 나누면 1이 남는 수\n",
    "num3 = num1 & num2\n",
    "print(x[num3])"
   ]
  },
  {
   "cell_type": "code",
   "execution_count": 54,
   "id": "82aac2c0",
   "metadata": {},
   "outputs": [
    {
     "data": {
      "text/plain": [
       "dtype('float64')"
      ]
     },
     "execution_count": 54,
     "metadata": {},
     "output_type": "execute_result"
    }
   ],
   "source": [
    "# 넘파이 자료형\n",
    "x = np.array([1, 2, 3.0])\n",
    "x.dtype"
   ]
  },
  {
   "cell_type": "code",
   "execution_count": 55,
   "id": "2c458ceb",
   "metadata": {},
   "outputs": [
    {
     "data": {
      "text/plain": [
       "np.float64(4.0)"
      ]
     },
     "execution_count": 55,
     "metadata": {},
     "output_type": "execute_result"
    }
   ],
   "source": [
    "# 넘파이 자료형2\n",
    "x = np.array([1, 2, 3.0])\n",
    "x[0] + x[2]"
   ]
  },
  {
   "cell_type": "code",
   "execution_count": 56,
   "id": "57176475",
   "metadata": {},
   "outputs": [
    {
     "data": {
      "text/plain": [
       "array([[ 0,  1,  2,  3],\n",
       "       [ 4,  5,  6,  7],\n",
       "       [ 8,  9, 10, 11]])"
      ]
     },
     "execution_count": 56,
     "metadata": {},
     "output_type": "execute_result"
    }
   ],
   "source": [
    "# 배열의 내부 데이터는 그대로 둔 채 형태만 바꿀 때\n",
    "a = np.arange(12)\n",
    "a\n",
    "\n",
    "b = a.reshape(3, 4)\n",
    "b"
   ]
  },
  {
   "cell_type": "code",
   "execution_count": 57,
   "id": "46dab56d",
   "metadata": {},
   "outputs": [
    {
     "data": {
      "text/plain": [
       "array([[ 0,  1,  2,  3],\n",
       "       [ 4,  5,  6,  7],\n",
       "       [ 8,  9, 10, 11]])"
      ]
     },
     "execution_count": 57,
     "metadata": {},
     "output_type": "execute_result"
    }
   ],
   "source": [
    "# 배열의 내부 데이터는 그대로 둔 채 형태만 바꿀 때2\n",
    "a = np.arange(12)\n",
    "a.reshape(3, -1)     # -1은 NumPy가 배열의 크기를 자동으로 계산(열의 수 자동 결정)"
   ]
  },
  {
   "cell_type": "code",
   "execution_count": 58,
   "id": "0d05a5e1",
   "metadata": {},
   "outputs": [
    {
     "data": {
      "text/plain": [
       "array([[[ 0,  1,  2],\n",
       "        [ 3,  4,  5]],\n",
       "\n",
       "       [[ 6,  7,  8],\n",
       "        [ 9, 10, 11]]])"
      ]
     },
     "execution_count": 58,
     "metadata": {},
     "output_type": "execute_result"
    }
   ],
   "source": [
    "# 배열의 내부 데이터는 그대로 둔 채 형태만 바꿀 때3\n",
    "a = np.arange(12)\n",
    "b = a.reshape(2, 2, -1)\n",
    "b"
   ]
  },
  {
   "cell_type": "code",
   "execution_count": 59,
   "id": "fc862656",
   "metadata": {},
   "outputs": [
    {
     "data": {
      "text/plain": [
       "array([[[ 0,  1],\n",
       "        [ 2,  3],\n",
       "        [ 4,  5]],\n",
       "\n",
       "       [[ 6,  7],\n",
       "        [ 8,  9],\n",
       "        [10, 11]]])"
      ]
     },
     "execution_count": 59,
     "metadata": {},
     "output_type": "execute_result"
    }
   ],
   "source": [
    "# 배열의 내부 데이터는 그대로 둔 채 형태만 바꿀 때4\n",
    "a = np.arange(12)\n",
    "b = a.reshape(2, -1, 2)\n",
    "b"
   ]
  },
  {
   "cell_type": "code",
   "execution_count": 60,
   "id": "f1846786",
   "metadata": {},
   "outputs": [
    {
     "data": {
      "text/plain": [
       "array([ 0,  1,  2,  3,  4,  5,  6,  7,  8,  9, 10, 11])"
      ]
     },
     "execution_count": 60,
     "metadata": {},
     "output_type": "execute_result"
    }
   ],
   "source": [
    "# 배열의 내부 데이터는 그대로 둔 채 형태만 바꿀 때4\n",
    "b.flatten()"
   ]
  },
  {
   "cell_type": "code",
   "execution_count": 61,
   "id": "3b279789",
   "metadata": {},
   "outputs": [
    {
     "data": {
      "text/plain": [
       "array([10002, 10004, 10006, 10008, 10010, 10012, 10014, 10016, 10018,\n",
       "       10020])"
      ]
     },
     "execution_count": 61,
     "metadata": {},
     "output_type": "execute_result"
    }
   ],
   "source": [
    "# 벡터화 연산\n",
    "x = np.arange(1, 10001)\n",
    "y = np.arange(10001, 20001)\n",
    "z = np.zeros_like(x)    # x 배열과 동일한 형태와 자료형을 가진 배열 생성한 후 모든 요소는 0\n",
    " \n",
    "for i in range(10000):\n",
    "    z[i] = x[i] + y[i]\n",
    "z[:10]"
   ]
  },
  {
   "cell_type": "code",
   "execution_count": 62,
   "id": "b7c98cad",
   "metadata": {},
   "outputs": [
    {
     "data": {
      "text/plain": [
       "array([10002, 10004, 10006, 10008, 10010, 10012, 10014, 10016, 10018,\n",
       "       10020])"
      ]
     },
     "execution_count": 62,
     "metadata": {},
     "output_type": "execute_result"
    }
   ],
   "source": [
    "# 벡터화 연산2\n",
    "x = np.arange(1, 10001)\n",
    "y = np.arange(10001, 20001)\n",
    "\n",
    "z = x + y\n",
    "z[:10]"
   ]
  },
  {
   "cell_type": "code",
   "execution_count": 63,
   "id": "6d775221",
   "metadata": {},
   "outputs": [
    {
     "name": "stdout",
     "output_type": "stream",
     "text": [
      "For 루프 방식 실행 시간: 0.002008 초\n",
      "벡터화 연산 방식 실행 시간: 0.000000 초\n"
     ]
    }
   ],
   "source": [
    "# 벡터화 연산3\n",
    "x = np.arange(1, 10001)\n",
    "y = np.arange(10001, 20001)\n",
    "\n",
    "# for 루프 시간 측정\n",
    "import time\n",
    "start_time = time.time()\n",
    "\n",
    "z = np.zeros_like(x)\n",
    "for i in range(10000):\n",
    "    z[i] = x[i] + y[i]\n",
    "end_time = time.time()\n",
    "\n",
    "print(f\"For 루프 방식 실행 시간: {end_time - start_time:.6f} 초\")\n",
    "\n",
    "# 벡터화 연산 시간 측정\n",
    "start_time = time.time()\n",
    "\n",
    "z = x + y\n",
    "\n",
    "end_time = time.time()\n",
    "print(f\"벡터화 연산 방식 실행 시간: {end_time - start_time:.6f} 초\")"
   ]
  },
  {
   "cell_type": "code",
   "execution_count": 64,
   "id": "80d04f55",
   "metadata": {},
   "outputs": [
    {
     "name": "stdout",
     "output_type": "stream",
     "text": [
      "[False  True False  True]\n",
      "[False  True  True  True]\n"
     ]
    }
   ],
   "source": [
    "# 벡터화 연산4\n",
    "a = np.array([1, 2, 3, 4])\n",
    "b = np.array([4, 2, 2, 4])\n",
    "\n",
    "print(a == b)\n",
    "print(a >= b)"
   ]
  },
  {
   "cell_type": "code",
   "execution_count": 65,
   "id": "e434535a",
   "metadata": {},
   "outputs": [
    {
     "name": "stdout",
     "output_type": "stream",
     "text": [
      "False\n",
      "True\n"
     ]
    }
   ],
   "source": [
    "# 벡터화 연산5\n",
    "a = np.array([1, 2, 3, 4])\n",
    "b = np.array([4, 2, 2, 4])\n",
    "c = np.array([1, 2, 3, 4])\n",
    "\n",
    "print(np.all(a == b))\n",
    "print(np.all(a == c))"
   ]
  },
  {
   "cell_type": "code",
   "execution_count": 66,
   "id": "cf06e176",
   "metadata": {},
   "outputs": [
    {
     "data": {
      "text/plain": [
       "array([1, 2, 3, 4, 5])"
      ]
     },
     "execution_count": 66,
     "metadata": {},
     "output_type": "execute_result"
    }
   ],
   "source": [
    "# 벡터화 연산6\n",
    "x = np.arange(5)\n",
    "x + 1"
   ]
  },
  {
   "cell_type": "code",
   "execution_count": 67,
   "id": "5cfe651f",
   "metadata": {},
   "outputs": [
    {
     "name": "stdout",
     "output_type": "stream",
     "text": [
      "10\n",
      "1\n",
      "0\n",
      "2.5\n"
     ]
    }
   ],
   "source": [
    "# 유니버셜 함수\n",
    "x = np.array([1, 2, 3, 4])\n",
    "\n",
    "print(x.sum())\n",
    "print(x.min())\n",
    "print(x.argmin())   # 배열 x에서 가장 작은 값의 인덱스 반환\n",
    "print(x.mean())"
   ]
  },
  {
   "cell_type": "markdown",
   "id": "b3258e0b",
   "metadata": {},
   "source": [
    "* 여러가지 Numpy 구성요소\n",
    "\n",
    "https://numpy.org/doc/stable/user/quickstart.html\n",
    "\n",
    "< 함수 >\n",
    "\n",
    "- np.zeros( ), np.ones( )\t- 모든 요소가 0 또는 1인 배열 생성\n",
    "- np.full( ) - 모든 요소가 특정 값인 배열 생성\n",
    "- np.arange( ) - 간격(step)을 기준으로 연속된 값 생성\n",
    "- np.linspace( )\t- 개수(num)를 기준으로 균일한 간격 생성\n",
    "- np.eye( ) - 단위 행렬 생성\n",
    "- np.random.*( ) - 무작위 값을 가진 배열 생성\n",
    "\n",
    "< 유니버설 함수 >\n",
    "\n",
    "- np.add(x, y) -두 배열의 요소별 덧셈 수행 (x + y와 동일)\n",
    "- np.subtract(x, y)\t- 뺄셈 (x - y)\n",
    "- np.multiply(x, y)\t- 곱셈 (x * y)\n",
    "- np.divide(x, y) - 나눗셈 (x / y)\n",
    "- np.sqrt(x) - 각 요소의 제곱근 계산\n",
    "- np.exp(x)\t- 지수 함수(ex) 적용\n",
    "- np.log(x), np.log10(x) - 자연로그(ln), 상용로그(log10) 게산\n",
    "- np.sin(x), np.cos(x) - 사인, 코사인 등 삼각함수 적용\n",
    "- np.maximum(x, y) - 두 배열의 같은 위치 요소 중 더 큰 값 선택\n",
    "- np.sum(x)\t- arr.sum( ) 메소드와 기능적으로 동일\n",
    "- np.sort(x) - 배열을 정렬한 복사본을 반환 (원본 유지)\n",
    "\n",
    "< 메소드 >\n",
    "\n",
    "- sum( )\t- 배열의 모든 요소의 합계, axis로 특정 축 지정 가능\n",
    "- mean( ) - 배열의 모든 요소의 평균 계산\n",
    "- std( ), var( ) - 표준편차(standard deviation), 분산(variance) 계산\n",
    "- min( ), max( ) - 최솟값, 최댓값\n",
    "- argmin( ), argmax( ) - 최솟값, 최댓값이 있는 곳의 인덱스 반환\n",
    "- reshape(shape) - 원본 데이터는 유지한 채, 배열의 형태(shape) 변경\n",
    "- sort( ) - 배열의 요소를 제자리에서(in-place) 정렬 (원본 변경)\n",
    "- flatten( )\t- 배열을 1차원으로 펼치며 복사본 반환 (원본 유지)\n",
    "- T\t- 배열의 행과 열을 바꾼 전치(Transpose) 배열 반환\n",
    "- copy( ) - 배열의 완전한 복사본 생성 (원본과 독립)"
   ]
  },
  {
   "cell_type": "markdown",
   "id": "61f9e795",
   "metadata": {},
   "source": [
    "#### 판다스(Pandas)"
   ]
  },
  {
   "cell_type": "markdown",
   "id": "a4482145",
   "metadata": {},
   "source": [
    "Pandas(Python Data Analysis Library)\n",
    "\n",
    "- 데이터를 조작/분석하기 위한 라이브러리\n",
    "- 다양한 데이터 분석 함수 제공\n",
    "- 행과 열로 이루어진 데이터 객체를 만들고 다룸\n",
    "- 판다스 공식 사이트 (https://pandas.pydata.org/)\n",
    "\n",
    "Pandas 데이터 구조\n",
    "- 시리즈(Series)와 데이터프레임(DataFrame)이 존재\n",
    "\n",
    "**시리즈(Series)**\n",
    "- 1차원 배열의 형태\n",
    "- 한 가지 형의 데이터로 구성\n",
    "- 인덱스는 문자로 지정 가능하고 특별히 지정하지 않으면 숫자 0부터 시작\n",
    "\n",
    "**데이터프레임(DataFrame)**\n",
    "- 2차원 배열의 형태(엑셀시트와 비슷)\n",
    "- 인덱스와 컬럼이라는 두 가지 기준에 의해 표 형태처럼 데이터가 저장\n",
    "- 시리즈가 합쳐진 형태\n",
    "- 행은 axis = 1, 열은 axis = 0"
   ]
  },
  {
   "cell_type": "markdown",
   "id": "8a23af64",
   "metadata": {},
   "source": [
    "데이터 프레임 생성\n",
    "- 이중 리스트나 딕셔너리로 생성 가능\n",
    "- 딕셔너리로 데이터 프레임을 만들면 키(key)가 컬럼명으로 지정되어 만들어짐"
   ]
  },
  {
   "cell_type": "code",
   "execution_count": 68,
   "id": "20dbd986",
   "metadata": {},
   "outputs": [],
   "source": [
    "# 시작하기 전 패키지 실행\n",
    "import pandas as pd"
   ]
  },
  {
   "cell_type": "code",
   "execution_count": 69,
   "id": "c9dca6dc",
   "metadata": {},
   "outputs": [
    {
     "data": {
      "text/html": [
       "<div>\n",
       "<style scoped>\n",
       "    .dataframe tbody tr th:only-of-type {\n",
       "        vertical-align: middle;\n",
       "    }\n",
       "\n",
       "    .dataframe tbody tr th {\n",
       "        vertical-align: top;\n",
       "    }\n",
       "\n",
       "    .dataframe thead th {\n",
       "        text-align: right;\n",
       "    }\n",
       "</style>\n",
       "<table border=\"1\" class=\"dataframe\">\n",
       "  <thead>\n",
       "    <tr style=\"text-align: right;\">\n",
       "      <th></th>\n",
       "      <th>0</th>\n",
       "      <th>1</th>\n",
       "      <th>2</th>\n",
       "    </tr>\n",
       "  </thead>\n",
       "  <tbody>\n",
       "    <tr>\n",
       "      <th>0</th>\n",
       "      <td>부산광역시</td>\n",
       "      <td>051</td>\n",
       "      <td>3364358</td>\n",
       "    </tr>\n",
       "    <tr>\n",
       "      <th>1</th>\n",
       "      <td>전라남도</td>\n",
       "      <td>061</td>\n",
       "      <td>1840921</td>\n",
       "    </tr>\n",
       "    <tr>\n",
       "      <th>2</th>\n",
       "      <td>강원도</td>\n",
       "      <td>033</td>\n",
       "      <td>1535530</td>\n",
       "    </tr>\n",
       "  </tbody>\n",
       "</table>\n",
       "</div>"
      ],
      "text/plain": [
       "       0    1        2\n",
       "0  부산광역시  051  3364358\n",
       "1   전라남도  061  1840921\n",
       "2    강원도  033  1535530"
      ]
     },
     "execution_count": 69,
     "metadata": {},
     "output_type": "execute_result"
    }
   ],
   "source": [
    "# 리스트로 데이터프레임 생성\n",
    "# 컬럼명 지정 X\n",
    "df = pd.DataFrame([['부산광역시','051','3364358'],\n",
    "                ['전라남도', '061', '1840921'],\n",
    "                ['강원도','033','1535530']])\n",
    "\n",
    "df"
   ]
  },
  {
   "cell_type": "code",
   "execution_count": 70,
   "id": "9d3b81f6",
   "metadata": {},
   "outputs": [
    {
     "data": {
      "text/html": [
       "<div>\n",
       "<style scoped>\n",
       "    .dataframe tbody tr th:only-of-type {\n",
       "        vertical-align: middle;\n",
       "    }\n",
       "\n",
       "    .dataframe tbody tr th {\n",
       "        vertical-align: top;\n",
       "    }\n",
       "\n",
       "    .dataframe thead th {\n",
       "        text-align: right;\n",
       "    }\n",
       "</style>\n",
       "<table border=\"1\" class=\"dataframe\">\n",
       "  <thead>\n",
       "    <tr style=\"text-align: right;\">\n",
       "      <th></th>\n",
       "      <th>Division</th>\n",
       "      <th>Code</th>\n",
       "      <th>Population</th>\n",
       "    </tr>\n",
       "  </thead>\n",
       "  <tbody>\n",
       "    <tr>\n",
       "      <th>0</th>\n",
       "      <td>부산광역시</td>\n",
       "      <td>051</td>\n",
       "      <td>3364358</td>\n",
       "    </tr>\n",
       "    <tr>\n",
       "      <th>1</th>\n",
       "      <td>전라남도</td>\n",
       "      <td>061</td>\n",
       "      <td>1840921</td>\n",
       "    </tr>\n",
       "    <tr>\n",
       "      <th>2</th>\n",
       "      <td>강원도</td>\n",
       "      <td>033</td>\n",
       "      <td>1535530</td>\n",
       "    </tr>\n",
       "  </tbody>\n",
       "</table>\n",
       "</div>"
      ],
      "text/plain": [
       "  Division Code Population\n",
       "0    부산광역시  051    3364358\n",
       "1     전라남도  061    1840921\n",
       "2      강원도  033    1535530"
      ]
     },
     "execution_count": 70,
     "metadata": {},
     "output_type": "execute_result"
    }
   ],
   "source": [
    "# 딕셔너리로 데이터프레임 생성\n",
    "# 컬럼명 지정\n",
    "df = pd.DataFrame({'Division':['부산광역시', '전라남도', '강원도'],\n",
    "                'Code':['051', '061', '033'],\n",
    "                'Population':['3364358', '1840921', '1535530'] })\n",
    "\n",
    "df"
   ]
  },
  {
   "cell_type": "markdown",
   "id": "e36bda0a",
   "metadata": {},
   "source": [
    "데이터 프레임 칼럼명 지정\n",
    "- 데이터프레임의 컬럼명 확인\n",
    "> df.columns\n",
    "\n",
    "- 데이터프레임의 컬럼명 지정\n",
    "> df.columns = ['컬럼1 명', '컬럼2 명', ... '컬럼n 명']"
   ]
  },
  {
   "cell_type": "code",
   "execution_count": 71,
   "id": "27749032",
   "metadata": {},
   "outputs": [
    {
     "data": {
      "text/html": [
       "<div>\n",
       "<style scoped>\n",
       "    .dataframe tbody tr th:only-of-type {\n",
       "        vertical-align: middle;\n",
       "    }\n",
       "\n",
       "    .dataframe tbody tr th {\n",
       "        vertical-align: top;\n",
       "    }\n",
       "\n",
       "    .dataframe thead th {\n",
       "        text-align: right;\n",
       "    }\n",
       "</style>\n",
       "<table border=\"1\" class=\"dataframe\">\n",
       "  <thead>\n",
       "    <tr style=\"text-align: right;\">\n",
       "      <th></th>\n",
       "      <th>Division</th>\n",
       "      <th>Code</th>\n",
       "      <th>Population</th>\n",
       "    </tr>\n",
       "  </thead>\n",
       "  <tbody>\n",
       "    <tr>\n",
       "      <th>0</th>\n",
       "      <td>부산광역시</td>\n",
       "      <td>051</td>\n",
       "      <td>3364358</td>\n",
       "    </tr>\n",
       "    <tr>\n",
       "      <th>1</th>\n",
       "      <td>전라남도</td>\n",
       "      <td>061</td>\n",
       "      <td>1840921</td>\n",
       "    </tr>\n",
       "    <tr>\n",
       "      <th>2</th>\n",
       "      <td>강원도</td>\n",
       "      <td>033</td>\n",
       "      <td>1535530</td>\n",
       "    </tr>\n",
       "  </tbody>\n",
       "</table>\n",
       "</div>"
      ],
      "text/plain": [
       "  Division Code Population\n",
       "0    부산광역시  051    3364358\n",
       "1     전라남도  061    1840921\n",
       "2      강원도  033    1535530"
      ]
     },
     "execution_count": 71,
     "metadata": {},
     "output_type": "execute_result"
    }
   ],
   "source": [
    "df"
   ]
  },
  {
   "cell_type": "code",
   "execution_count": 72,
   "id": "59e82e4d",
   "metadata": {},
   "outputs": [
    {
     "data": {
      "text/plain": [
       "Index(['Division', 'Code', 'Population'], dtype='object')"
      ]
     },
     "execution_count": 72,
     "metadata": {},
     "output_type": "execute_result"
    }
   ],
   "source": [
    "# 컬럼명 확인\n",
    "df.columns"
   ]
  },
  {
   "cell_type": "markdown",
   "id": "78678d27",
   "metadata": {},
   "source": [
    "데이터 프레임 인덱스 지정\n",
    "- 데이터프레임의 인덱스 확인\n",
    "> df.index\n",
    "- 인덱스를 지정하지 않으면 자동으로 0부터 시작하는 숫자 인덱스가 생성  \n",
    "\n",
    "- 데이터프레임의 인덱스 이름을 지정\n",
    "> df.index = ['인덱스1 명', '인덱스2 명', ... '인덱스n 명']\n",
    "<br>\n",
    "- 데이터프레임의 특정 열(columns)을 인덱스로 지정\n",
    "> df.index = df['컬럼명']   \n",
    "\n",
    "> df.set_index('컬럼명') < - 원본 df는 두고, 새로운 df 반환"
   ]
  },
  {
   "cell_type": "code",
   "execution_count": 73,
   "id": "dc166870",
   "metadata": {},
   "outputs": [
    {
     "data": {
      "text/html": [
       "<div>\n",
       "<style scoped>\n",
       "    .dataframe tbody tr th:only-of-type {\n",
       "        vertical-align: middle;\n",
       "    }\n",
       "\n",
       "    .dataframe tbody tr th {\n",
       "        vertical-align: top;\n",
       "    }\n",
       "\n",
       "    .dataframe thead th {\n",
       "        text-align: right;\n",
       "    }\n",
       "</style>\n",
       "<table border=\"1\" class=\"dataframe\">\n",
       "  <thead>\n",
       "    <tr style=\"text-align: right;\">\n",
       "      <th></th>\n",
       "      <th>Division</th>\n",
       "      <th>Code</th>\n",
       "      <th>Population</th>\n",
       "    </tr>\n",
       "  </thead>\n",
       "  <tbody>\n",
       "    <tr>\n",
       "      <th>0</th>\n",
       "      <td>부산광역시</td>\n",
       "      <td>051</td>\n",
       "      <td>3364358</td>\n",
       "    </tr>\n",
       "    <tr>\n",
       "      <th>1</th>\n",
       "      <td>전라남도</td>\n",
       "      <td>061</td>\n",
       "      <td>1840921</td>\n",
       "    </tr>\n",
       "    <tr>\n",
       "      <th>2</th>\n",
       "      <td>강원도</td>\n",
       "      <td>033</td>\n",
       "      <td>1535530</td>\n",
       "    </tr>\n",
       "  </tbody>\n",
       "</table>\n",
       "</div>"
      ],
      "text/plain": [
       "  Division Code Population\n",
       "0    부산광역시  051    3364358\n",
       "1     전라남도  061    1840921\n",
       "2      강원도  033    1535530"
      ]
     },
     "execution_count": 73,
     "metadata": {},
     "output_type": "execute_result"
    }
   ],
   "source": [
    "df"
   ]
  },
  {
   "cell_type": "code",
   "execution_count": 74,
   "id": "4fd4a037",
   "metadata": {},
   "outputs": [
    {
     "data": {
      "text/plain": [
       "RangeIndex(start=0, stop=3, step=1)"
      ]
     },
     "execution_count": 74,
     "metadata": {},
     "output_type": "execute_result"
    }
   ],
   "source": [
    "# 인덱스 확인\n",
    "df.index"
   ]
  },
  {
   "cell_type": "code",
   "execution_count": 75,
   "id": "2038957d",
   "metadata": {},
   "outputs": [
    {
     "data": {
      "text/html": [
       "<div>\n",
       "<style scoped>\n",
       "    .dataframe tbody tr th:only-of-type {\n",
       "        vertical-align: middle;\n",
       "    }\n",
       "\n",
       "    .dataframe tbody tr th {\n",
       "        vertical-align: top;\n",
       "    }\n",
       "\n",
       "    .dataframe thead th {\n",
       "        text-align: right;\n",
       "    }\n",
       "</style>\n",
       "<table border=\"1\" class=\"dataframe\">\n",
       "  <thead>\n",
       "    <tr style=\"text-align: right;\">\n",
       "      <th></th>\n",
       "      <th>Division</th>\n",
       "      <th>Code</th>\n",
       "      <th>Population</th>\n",
       "    </tr>\n",
       "    <tr>\n",
       "      <th>Division</th>\n",
       "      <th></th>\n",
       "      <th></th>\n",
       "      <th></th>\n",
       "    </tr>\n",
       "  </thead>\n",
       "  <tbody>\n",
       "    <tr>\n",
       "      <th>부산광역시</th>\n",
       "      <td>부산광역시</td>\n",
       "      <td>051</td>\n",
       "      <td>3364358</td>\n",
       "    </tr>\n",
       "    <tr>\n",
       "      <th>전라남도</th>\n",
       "      <td>전라남도</td>\n",
       "      <td>061</td>\n",
       "      <td>1840921</td>\n",
       "    </tr>\n",
       "    <tr>\n",
       "      <th>강원도</th>\n",
       "      <td>강원도</td>\n",
       "      <td>033</td>\n",
       "      <td>1535530</td>\n",
       "    </tr>\n",
       "  </tbody>\n",
       "</table>\n",
       "</div>"
      ],
      "text/plain": [
       "         Division Code Population\n",
       "Division                         \n",
       "부산광역시       부산광역시  051    3364358\n",
       "전라남도         전라남도  061    1840921\n",
       "강원도           강원도  033    1535530"
      ]
     },
     "execution_count": 75,
     "metadata": {},
     "output_type": "execute_result"
    }
   ],
   "source": [
    "# 인덱스 지정\n",
    "df.index = df['Division']\n",
    "df"
   ]
  },
  {
   "cell_type": "code",
   "execution_count": 76,
   "id": "e235c128",
   "metadata": {},
   "outputs": [
    {
     "data": {
      "text/html": [
       "<div>\n",
       "<style scoped>\n",
       "    .dataframe tbody tr th:only-of-type {\n",
       "        vertical-align: middle;\n",
       "    }\n",
       "\n",
       "    .dataframe tbody tr th {\n",
       "        vertical-align: top;\n",
       "    }\n",
       "\n",
       "    .dataframe thead th {\n",
       "        text-align: right;\n",
       "    }\n",
       "</style>\n",
       "<table border=\"1\" class=\"dataframe\">\n",
       "  <thead>\n",
       "    <tr style=\"text-align: right;\">\n",
       "      <th></th>\n",
       "      <th>Code</th>\n",
       "      <th>Population</th>\n",
       "    </tr>\n",
       "    <tr>\n",
       "      <th>Division</th>\n",
       "      <th></th>\n",
       "      <th></th>\n",
       "    </tr>\n",
       "  </thead>\n",
       "  <tbody>\n",
       "    <tr>\n",
       "      <th>부산광역시</th>\n",
       "      <td>051</td>\n",
       "      <td>3364358</td>\n",
       "    </tr>\n",
       "    <tr>\n",
       "      <th>전라남도</th>\n",
       "      <td>061</td>\n",
       "      <td>1840921</td>\n",
       "    </tr>\n",
       "    <tr>\n",
       "      <th>강원도</th>\n",
       "      <td>033</td>\n",
       "      <td>1535530</td>\n",
       "    </tr>\n",
       "  </tbody>\n",
       "</table>\n",
       "</div>"
      ],
      "text/plain": [
       "         Code Population\n",
       "Division                \n",
       "부산광역시     051    3364358\n",
       "전라남도      061    1840921\n",
       "강원도       033    1535530"
      ]
     },
     "execution_count": 76,
     "metadata": {},
     "output_type": "execute_result"
    }
   ],
   "source": [
    "# columns을 인덱스로 지정\n",
    "new_df = df.set_index('Division')\n",
    "new_df"
   ]
  },
  {
   "cell_type": "markdown",
   "id": "d2839df9",
   "metadata": {},
   "source": [
    "데이터 파일: CSV\n",
    "- 하나의 파일로 관리 가능한 크기의 데이터라면 일반적으로 csv포맷을 활용\n",
    "- 데이터가 콤마로 분리되어 저장\n",
    "- 한글이 포함된 경우 인코딩 방식을 UTF-8로 해야 한글이 깨지지 않게 불러옴"
   ]
  },
  {
   "cell_type": "markdown",
   "id": "5fdc2b5a",
   "metadata": {},
   "source": [
    "CSV 데이터 파일 읽어오기\n",
    "- 데이터 파일의 이름을 적어줄 때 같은 폴더 안에 위치하지 않다면 경로명까지 적어줌\n",
    "- csv 파일을 읽어서 데이터프레임 객체로 만들어 반환 (보통 df라는 변수명 사용)\n",
    "> pd.read_csv('파일 이름')"
   ]
  },
  {
   "cell_type": "code",
   "execution_count": 77,
   "id": "967e7e75",
   "metadata": {},
   "outputs": [
    {
     "data": {
      "text/html": [
       "<div>\n",
       "<style scoped>\n",
       "    .dataframe tbody tr th:only-of-type {\n",
       "        vertical-align: middle;\n",
       "    }\n",
       "\n",
       "    .dataframe tbody tr th {\n",
       "        vertical-align: top;\n",
       "    }\n",
       "\n",
       "    .dataframe thead th {\n",
       "        text-align: right;\n",
       "    }\n",
       "</style>\n",
       "<table border=\"1\" class=\"dataframe\">\n",
       "  <thead>\n",
       "    <tr style=\"text-align: right;\">\n",
       "      <th></th>\n",
       "      <th>이름</th>\n",
       "      <th>나이</th>\n",
       "      <th>직업</th>\n",
       "      <th>국적</th>\n",
       "      <th>키</th>\n",
       "      <th>재산</th>\n",
       "    </tr>\n",
       "  </thead>\n",
       "  <tbody>\n",
       "    <tr>\n",
       "      <th>0</th>\n",
       "      <td>아이언맨</td>\n",
       "      <td>58</td>\n",
       "      <td>CEO</td>\n",
       "      <td>미국</td>\n",
       "      <td>174</td>\n",
       "      <td>1.150000e+13</td>\n",
       "    </tr>\n",
       "    <tr>\n",
       "      <th>1</th>\n",
       "      <td>토르</td>\n",
       "      <td>45</td>\n",
       "      <td>신</td>\n",
       "      <td>아스가르드</td>\n",
       "      <td>190</td>\n",
       "      <td>NaN</td>\n",
       "    </tr>\n",
       "    <tr>\n",
       "      <th>2</th>\n",
       "      <td>스파이더맨</td>\n",
       "      <td>18</td>\n",
       "      <td>고등학생</td>\n",
       "      <td>미국</td>\n",
       "      <td>177</td>\n",
       "      <td>6.000000e+02</td>\n",
       "    </tr>\n",
       "    <tr>\n",
       "      <th>3</th>\n",
       "      <td>원더우먼</td>\n",
       "      <td>27</td>\n",
       "      <td>공주</td>\n",
       "      <td>데미스키라</td>\n",
       "      <td>178</td>\n",
       "      <td>NaN</td>\n",
       "    </tr>\n",
       "    <tr>\n",
       "      <th>4</th>\n",
       "      <td>헐크</td>\n",
       "      <td>33</td>\n",
       "      <td>핵물리학자</td>\n",
       "      <td>미국</td>\n",
       "      <td>270</td>\n",
       "      <td>1.000000e+09</td>\n",
       "    </tr>\n",
       "    <tr>\n",
       "      <th>5</th>\n",
       "      <td>캡틴마블</td>\n",
       "      <td>25</td>\n",
       "      <td>파일럿</td>\n",
       "      <td>미국</td>\n",
       "      <td>170</td>\n",
       "      <td>3.400000e+08</td>\n",
       "    </tr>\n",
       "    <tr>\n",
       "      <th>6</th>\n",
       "      <td>블랙위도우</td>\n",
       "      <td>32</td>\n",
       "      <td>스파이</td>\n",
       "      <td>러시아</td>\n",
       "      <td>170</td>\n",
       "      <td>5.000000e+07</td>\n",
       "    </tr>\n",
       "  </tbody>\n",
       "</table>\n",
       "</div>"
      ],
      "text/plain": [
       "      이름  나이     직업     국적    키            재산\n",
       "0   아이언맨  58    CEO     미국  174  1.150000e+13\n",
       "1     토르  45      신  아스가르드  190           NaN\n",
       "2  스파이더맨  18   고등학생     미국  177  6.000000e+02\n",
       "3   원더우먼  27     공주  데미스키라  178           NaN\n",
       "4     헐크  33  핵물리학자     미국  270  1.000000e+09\n",
       "5   캡틴마블  25    파일럿     미국  170  3.400000e+08\n",
       "6  블랙위도우  32    스파이    러시아  170  5.000000e+07"
      ]
     },
     "execution_count": 77,
     "metadata": {},
     "output_type": "execute_result"
    }
   ],
   "source": [
    "# csv 데이터 파일 불러오기\n",
    "df = pd.read_csv('heroes.csv')\n",
    "df"
   ]
  },
  {
   "cell_type": "code",
   "execution_count": 78,
   "id": "8d6b15b6",
   "metadata": {},
   "outputs": [
    {
     "data": {
      "text/html": [
       "<div>\n",
       "<style scoped>\n",
       "    .dataframe tbody tr th:only-of-type {\n",
       "        vertical-align: middle;\n",
       "    }\n",
       "\n",
       "    .dataframe tbody tr th {\n",
       "        vertical-align: top;\n",
       "    }\n",
       "\n",
       "    .dataframe thead th {\n",
       "        text-align: right;\n",
       "    }\n",
       "</style>\n",
       "<table border=\"1\" class=\"dataframe\">\n",
       "  <thead>\n",
       "    <tr style=\"text-align: right;\">\n",
       "      <th></th>\n",
       "      <th>이름</th>\n",
       "      <th>나이</th>\n",
       "      <th>직업</th>\n",
       "      <th>국적</th>\n",
       "      <th>키</th>\n",
       "      <th>재산</th>\n",
       "    </tr>\n",
       "  </thead>\n",
       "  <tbody>\n",
       "    <tr>\n",
       "      <th>0</th>\n",
       "      <td>아이언맨</td>\n",
       "      <td>58</td>\n",
       "      <td>CEO</td>\n",
       "      <td>미국</td>\n",
       "      <td>174</td>\n",
       "      <td>11500000000000</td>\n",
       "    </tr>\n",
       "    <tr>\n",
       "      <th>1</th>\n",
       "      <td>토르</td>\n",
       "      <td>45</td>\n",
       "      <td>신</td>\n",
       "      <td>아스가르드</td>\n",
       "      <td>190</td>\n",
       "      <td>NaN</td>\n",
       "    </tr>\n",
       "    <tr>\n",
       "      <th>2</th>\n",
       "      <td>스파이더맨</td>\n",
       "      <td>18</td>\n",
       "      <td>고등학생</td>\n",
       "      <td>미국</td>\n",
       "      <td>177</td>\n",
       "      <td>600</td>\n",
       "    </tr>\n",
       "    <tr>\n",
       "      <th>3</th>\n",
       "      <td>원더우먼</td>\n",
       "      <td>27</td>\n",
       "      <td>공주</td>\n",
       "      <td>데미스키라</td>\n",
       "      <td>178</td>\n",
       "      <td>NaN</td>\n",
       "    </tr>\n",
       "    <tr>\n",
       "      <th>4</th>\n",
       "      <td>헐크</td>\n",
       "      <td>33</td>\n",
       "      <td>핵물리학자</td>\n",
       "      <td>미국</td>\n",
       "      <td>270</td>\n",
       "      <td>1000000000</td>\n",
       "    </tr>\n",
       "    <tr>\n",
       "      <th>5</th>\n",
       "      <td>캡틴마블</td>\n",
       "      <td>25</td>\n",
       "      <td>파일럿</td>\n",
       "      <td>미국</td>\n",
       "      <td>170</td>\n",
       "      <td>340000000</td>\n",
       "    </tr>\n",
       "    <tr>\n",
       "      <th>6</th>\n",
       "      <td>블랙위도우</td>\n",
       "      <td>32</td>\n",
       "      <td>스파이</td>\n",
       "      <td>러시아</td>\n",
       "      <td>170</td>\n",
       "      <td>50000000</td>\n",
       "    </tr>\n",
       "  </tbody>\n",
       "</table>\n",
       "</div>"
      ],
      "text/plain": [
       "      이름  나이     직업     국적    키             재산\n",
       "0   아이언맨  58    CEO     미국  174 11500000000000\n",
       "1     토르  45      신  아스가르드  190            NaN\n",
       "2  스파이더맨  18   고등학생     미국  177            600\n",
       "3   원더우먼  27     공주  데미스키라  178            NaN\n",
       "4     헐크  33  핵물리학자     미국  270     1000000000\n",
       "5   캡틴마블  25    파일럿     미국  170      340000000\n",
       "6  블랙위도우  32    스파이    러시아  170       50000000"
      ]
     },
     "execution_count": 78,
     "metadata": {},
     "output_type": "execute_result"
    }
   ],
   "source": [
    "# 아라비아 숫자로 변경 (원본 변경 x)\n",
    "pd.options.display.float_format = '{:.0f}'.format\n",
    "df"
   ]
  },
  {
   "cell_type": "markdown",
   "id": "dd49fe21",
   "metadata": {},
   "source": [
    "데이터 정보 확인\n",
    "> 데이터프레임명.info()  \n",
    "\n",
    "- 행과 열의 크기, 컬럼명, 컬럼을 구성하는 값의 자료형 등을 요약하여 정보 출력"
   ]
  },
  {
   "cell_type": "code",
   "execution_count": 79,
   "id": "82e8ccbd",
   "metadata": {},
   "outputs": [
    {
     "name": "stdout",
     "output_type": "stream",
     "text": [
      "<class 'pandas.core.frame.DataFrame'>\n",
      "RangeIndex: 7 entries, 0 to 6\n",
      "Data columns (total 6 columns):\n",
      " #   Column  Non-Null Count  Dtype  \n",
      "---  ------  --------------  -----  \n",
      " 0   이름      7 non-null      object \n",
      " 1   나이      7 non-null      int64  \n",
      " 2   직업      7 non-null      object \n",
      " 3   국적      7 non-null      object \n",
      " 4   키       7 non-null      int64  \n",
      " 5   재산      5 non-null      float64\n",
      "dtypes: float64(1), int64(2), object(3)\n",
      "memory usage: 464.0+ bytes\n"
     ]
    }
   ],
   "source": [
    "# 데이터 정보 확인\n",
    "df.info()"
   ]
  },
  {
   "cell_type": "markdown",
   "id": "5ed96b38",
   "metadata": {},
   "source": [
    "컬럼별 통계량\n",
    "> 데이터프레임명.describe()\n",
    "\n",
    "- 숫자형 변수에 대한 기초 통계량 출력"
   ]
  },
  {
   "cell_type": "code",
   "execution_count": 80,
   "id": "cc29cb44",
   "metadata": {},
   "outputs": [
    {
     "data": {
      "text/html": [
       "<div>\n",
       "<style scoped>\n",
       "    .dataframe tbody tr th:only-of-type {\n",
       "        vertical-align: middle;\n",
       "    }\n",
       "\n",
       "    .dataframe tbody tr th {\n",
       "        vertical-align: top;\n",
       "    }\n",
       "\n",
       "    .dataframe thead th {\n",
       "        text-align: right;\n",
       "    }\n",
       "</style>\n",
       "<table border=\"1\" class=\"dataframe\">\n",
       "  <thead>\n",
       "    <tr style=\"text-align: right;\">\n",
       "      <th></th>\n",
       "      <th>나이</th>\n",
       "      <th>키</th>\n",
       "      <th>재산</th>\n",
       "    </tr>\n",
       "  </thead>\n",
       "  <tbody>\n",
       "    <tr>\n",
       "      <th>count</th>\n",
       "      <td>7</td>\n",
       "      <td>7</td>\n",
       "      <td>5</td>\n",
       "    </tr>\n",
       "    <tr>\n",
       "      <th>mean</th>\n",
       "      <td>34</td>\n",
       "      <td>190</td>\n",
       "      <td>2300278000120</td>\n",
       "    </tr>\n",
       "    <tr>\n",
       "      <th>std</th>\n",
       "      <td>13</td>\n",
       "      <td>36</td>\n",
       "      <td>5142800956894</td>\n",
       "    </tr>\n",
       "    <tr>\n",
       "      <th>min</th>\n",
       "      <td>18</td>\n",
       "      <td>170</td>\n",
       "      <td>600</td>\n",
       "    </tr>\n",
       "    <tr>\n",
       "      <th>25%</th>\n",
       "      <td>26</td>\n",
       "      <td>172</td>\n",
       "      <td>50000000</td>\n",
       "    </tr>\n",
       "    <tr>\n",
       "      <th>50%</th>\n",
       "      <td>32</td>\n",
       "      <td>177</td>\n",
       "      <td>340000000</td>\n",
       "    </tr>\n",
       "    <tr>\n",
       "      <th>75%</th>\n",
       "      <td>39</td>\n",
       "      <td>184</td>\n",
       "      <td>1000000000</td>\n",
       "    </tr>\n",
       "    <tr>\n",
       "      <th>max</th>\n",
       "      <td>58</td>\n",
       "      <td>270</td>\n",
       "      <td>11500000000000</td>\n",
       "    </tr>\n",
       "  </tbody>\n",
       "</table>\n",
       "</div>"
      ],
      "text/plain": [
       "       나이   키             재산\n",
       "count   7   7              5\n",
       "mean   34 190  2300278000120\n",
       "std    13  36  5142800956894\n",
       "min    18 170            600\n",
       "25%    26 172       50000000\n",
       "50%    32 177      340000000\n",
       "75%    39 184     1000000000\n",
       "max    58 270 11500000000000"
      ]
     },
     "execution_count": 80,
     "metadata": {},
     "output_type": "execute_result"
    }
   ],
   "source": [
    "# 기초 통계량 출력\n",
    "df.describe()"
   ]
  },
  {
   "cell_type": "markdown",
   "id": "0718505d",
   "metadata": {},
   "source": [
    "데이터 상위 일부 확인\n",
    "> 데이터프레임명.head()     # 기본 5개"
   ]
  },
  {
   "cell_type": "code",
   "execution_count": 81,
   "id": "c8e5e545",
   "metadata": {},
   "outputs": [
    {
     "data": {
      "text/html": [
       "<div>\n",
       "<style scoped>\n",
       "    .dataframe tbody tr th:only-of-type {\n",
       "        vertical-align: middle;\n",
       "    }\n",
       "\n",
       "    .dataframe tbody tr th {\n",
       "        vertical-align: top;\n",
       "    }\n",
       "\n",
       "    .dataframe thead th {\n",
       "        text-align: right;\n",
       "    }\n",
       "</style>\n",
       "<table border=\"1\" class=\"dataframe\">\n",
       "  <thead>\n",
       "    <tr style=\"text-align: right;\">\n",
       "      <th></th>\n",
       "      <th>이름</th>\n",
       "      <th>나이</th>\n",
       "      <th>직업</th>\n",
       "      <th>국적</th>\n",
       "      <th>키</th>\n",
       "      <th>재산</th>\n",
       "    </tr>\n",
       "  </thead>\n",
       "  <tbody>\n",
       "    <tr>\n",
       "      <th>0</th>\n",
       "      <td>아이언맨</td>\n",
       "      <td>58</td>\n",
       "      <td>CEO</td>\n",
       "      <td>미국</td>\n",
       "      <td>174</td>\n",
       "      <td>11500000000000</td>\n",
       "    </tr>\n",
       "    <tr>\n",
       "      <th>1</th>\n",
       "      <td>토르</td>\n",
       "      <td>45</td>\n",
       "      <td>신</td>\n",
       "      <td>아스가르드</td>\n",
       "      <td>190</td>\n",
       "      <td>NaN</td>\n",
       "    </tr>\n",
       "    <tr>\n",
       "      <th>2</th>\n",
       "      <td>스파이더맨</td>\n",
       "      <td>18</td>\n",
       "      <td>고등학생</td>\n",
       "      <td>미국</td>\n",
       "      <td>177</td>\n",
       "      <td>600</td>\n",
       "    </tr>\n",
       "    <tr>\n",
       "      <th>3</th>\n",
       "      <td>원더우먼</td>\n",
       "      <td>27</td>\n",
       "      <td>공주</td>\n",
       "      <td>데미스키라</td>\n",
       "      <td>178</td>\n",
       "      <td>NaN</td>\n",
       "    </tr>\n",
       "    <tr>\n",
       "      <th>4</th>\n",
       "      <td>헐크</td>\n",
       "      <td>33</td>\n",
       "      <td>핵물리학자</td>\n",
       "      <td>미국</td>\n",
       "      <td>270</td>\n",
       "      <td>1000000000</td>\n",
       "    </tr>\n",
       "  </tbody>\n",
       "</table>\n",
       "</div>"
      ],
      "text/plain": [
       "      이름  나이     직업     국적    키             재산\n",
       "0   아이언맨  58    CEO     미국  174 11500000000000\n",
       "1     토르  45      신  아스가르드  190            NaN\n",
       "2  스파이더맨  18   고등학생     미국  177            600\n",
       "3   원더우먼  27     공주  데미스키라  178            NaN\n",
       "4     헐크  33  핵물리학자     미국  270     1000000000"
      ]
     },
     "execution_count": 81,
     "metadata": {},
     "output_type": "execute_result"
    }
   ],
   "source": [
    "# 데이터 프레임 상위 일부 출력\n",
    "df.head()"
   ]
  },
  {
   "cell_type": "markdown",
   "id": "6b3ca069",
   "metadata": {},
   "source": [
    "데이터 하위 일부 확인\n",
    "> 데이터프레임명.tail()"
   ]
  },
  {
   "cell_type": "code",
   "execution_count": 82,
   "id": "46b6382f",
   "metadata": {},
   "outputs": [
    {
     "data": {
      "text/html": [
       "<div>\n",
       "<style scoped>\n",
       "    .dataframe tbody tr th:only-of-type {\n",
       "        vertical-align: middle;\n",
       "    }\n",
       "\n",
       "    .dataframe tbody tr th {\n",
       "        vertical-align: top;\n",
       "    }\n",
       "\n",
       "    .dataframe thead th {\n",
       "        text-align: right;\n",
       "    }\n",
       "</style>\n",
       "<table border=\"1\" class=\"dataframe\">\n",
       "  <thead>\n",
       "    <tr style=\"text-align: right;\">\n",
       "      <th></th>\n",
       "      <th>이름</th>\n",
       "      <th>나이</th>\n",
       "      <th>직업</th>\n",
       "      <th>국적</th>\n",
       "      <th>키</th>\n",
       "      <th>재산</th>\n",
       "    </tr>\n",
       "  </thead>\n",
       "  <tbody>\n",
       "    <tr>\n",
       "      <th>2</th>\n",
       "      <td>스파이더맨</td>\n",
       "      <td>18</td>\n",
       "      <td>고등학생</td>\n",
       "      <td>미국</td>\n",
       "      <td>177</td>\n",
       "      <td>600</td>\n",
       "    </tr>\n",
       "    <tr>\n",
       "      <th>3</th>\n",
       "      <td>원더우먼</td>\n",
       "      <td>27</td>\n",
       "      <td>공주</td>\n",
       "      <td>데미스키라</td>\n",
       "      <td>178</td>\n",
       "      <td>NaN</td>\n",
       "    </tr>\n",
       "    <tr>\n",
       "      <th>4</th>\n",
       "      <td>헐크</td>\n",
       "      <td>33</td>\n",
       "      <td>핵물리학자</td>\n",
       "      <td>미국</td>\n",
       "      <td>270</td>\n",
       "      <td>1000000000</td>\n",
       "    </tr>\n",
       "    <tr>\n",
       "      <th>5</th>\n",
       "      <td>캡틴마블</td>\n",
       "      <td>25</td>\n",
       "      <td>파일럿</td>\n",
       "      <td>미국</td>\n",
       "      <td>170</td>\n",
       "      <td>340000000</td>\n",
       "    </tr>\n",
       "    <tr>\n",
       "      <th>6</th>\n",
       "      <td>블랙위도우</td>\n",
       "      <td>32</td>\n",
       "      <td>스파이</td>\n",
       "      <td>러시아</td>\n",
       "      <td>170</td>\n",
       "      <td>50000000</td>\n",
       "    </tr>\n",
       "  </tbody>\n",
       "</table>\n",
       "</div>"
      ],
      "text/plain": [
       "      이름  나이     직업     국적    키         재산\n",
       "2  스파이더맨  18   고등학생     미국  177        600\n",
       "3   원더우먼  27     공주  데미스키라  178        NaN\n",
       "4     헐크  33  핵물리학자     미국  270 1000000000\n",
       "5   캡틴마블  25    파일럿     미국  170  340000000\n",
       "6  블랙위도우  32    스파이    러시아  170   50000000"
      ]
     },
     "execution_count": 82,
     "metadata": {},
     "output_type": "execute_result"
    }
   ],
   "source": [
    "# 데이터 프레임 하위 일부 출력\n",
    "df.tail()"
   ]
  },
  {
   "cell_type": "markdown",
   "id": "31f1e729",
   "metadata": {},
   "source": [
    "데이터 프레임의 특정 컬럼의 고유한 값 출력\n",
    "- 특정 컬럼의 데이터 중 중복을 제외한 고유한 값 \n",
    "> 데이터프레임명.['컬럼명'].unique()\n",
    "\n",
    "> 데이터 프레임명.['컬럼명'].value_counts()"
   ]
  },
  {
   "cell_type": "code",
   "execution_count": 83,
   "id": "f59f9a08",
   "metadata": {},
   "outputs": [
    {
     "data": {
      "text/plain": [
       "0       미국\n",
       "1    아스가르드\n",
       "2       미국\n",
       "3    데미스키라\n",
       "4       미국\n",
       "5       미국\n",
       "6      러시아\n",
       "Name: 국적, dtype: object"
      ]
     },
     "execution_count": 83,
     "metadata": {},
     "output_type": "execute_result"
    }
   ],
   "source": [
    "# 데이터프레임 중 특정 컬럼만 출력\n",
    "df['국적']"
   ]
  },
  {
   "cell_type": "code",
   "execution_count": 84,
   "id": "eb22790c",
   "metadata": {},
   "outputs": [
    {
     "data": {
      "text/plain": [
       "pandas.core.series.Series"
      ]
     },
     "execution_count": 84,
     "metadata": {},
     "output_type": "execute_result"
    }
   ],
   "source": [
    "# 특정 컬럼의 dtype 확인\n",
    "type(df['국적'])"
   ]
  },
  {
   "cell_type": "code",
   "execution_count": 85,
   "id": "7885b7e0",
   "metadata": {},
   "outputs": [
    {
     "data": {
      "text/plain": [
       "array(['미국', '아스가르드', '데미스키라', '러시아'], dtype=object)"
      ]
     },
     "execution_count": 85,
     "metadata": {},
     "output_type": "execute_result"
    }
   ],
   "source": [
    "# 특정 컬럼의 고유한 값 출력\n",
    "df['국적'].unique()"
   ]
  },
  {
   "cell_type": "code",
   "execution_count": 86,
   "id": "46670364",
   "metadata": {},
   "outputs": [
    {
     "data": {
      "text/plain": [
       "국적\n",
       "미국       4\n",
       "아스가르드    1\n",
       "데미스키라    1\n",
       "러시아      1\n",
       "Name: count, dtype: int64"
      ]
     },
     "execution_count": 86,
     "metadata": {},
     "output_type": "execute_result"
    }
   ],
   "source": [
    "# 특정 컬럼의 고유한 값의 각각의 갯수 출력 (분포도 확인)\n",
    "df['국적'].value_counts()"
   ]
  },
  {
   "cell_type": "markdown",
   "id": "b026c3c2",
   "metadata": {},
   "source": [
    "제일 큰 값 순서대로 보여주기\n",
    "- 기준 컬럼으로 정렬했을 때 상위 몇 개까지 나타낼 지 지정\n",
    "> 데이터프레임명.nlargest(n, 기준 컬럼)"
   ]
  },
  {
   "cell_type": "code",
   "execution_count": 87,
   "id": "d99b8c17",
   "metadata": {},
   "outputs": [
    {
     "data": {
      "text/plain": [
       "0    58\n",
       "1    45\n",
       "4    33\n",
       "6    32\n",
       "3    27\n",
       "Name: 나이, dtype: int64"
      ]
     },
     "execution_count": 87,
     "metadata": {},
     "output_type": "execute_result"
    }
   ],
   "source": [
    "# 나이를 높은 순으로 출력\n",
    "df['나이'].nlargest()"
   ]
  },
  {
   "cell_type": "code",
   "execution_count": 88,
   "id": "aa8143e2",
   "metadata": {},
   "outputs": [
    {
     "data": {
      "text/html": [
       "<div>\n",
       "<style scoped>\n",
       "    .dataframe tbody tr th:only-of-type {\n",
       "        vertical-align: middle;\n",
       "    }\n",
       "\n",
       "    .dataframe tbody tr th {\n",
       "        vertical-align: top;\n",
       "    }\n",
       "\n",
       "    .dataframe thead th {\n",
       "        text-align: right;\n",
       "    }\n",
       "</style>\n",
       "<table border=\"1\" class=\"dataframe\">\n",
       "  <thead>\n",
       "    <tr style=\"text-align: right;\">\n",
       "      <th></th>\n",
       "      <th>이름</th>\n",
       "      <th>나이</th>\n",
       "      <th>직업</th>\n",
       "      <th>국적</th>\n",
       "      <th>키</th>\n",
       "      <th>재산</th>\n",
       "    </tr>\n",
       "  </thead>\n",
       "  <tbody>\n",
       "    <tr>\n",
       "      <th>0</th>\n",
       "      <td>아이언맨</td>\n",
       "      <td>58</td>\n",
       "      <td>CEO</td>\n",
       "      <td>미국</td>\n",
       "      <td>174</td>\n",
       "      <td>11500000000000</td>\n",
       "    </tr>\n",
       "    <tr>\n",
       "      <th>1</th>\n",
       "      <td>토르</td>\n",
       "      <td>45</td>\n",
       "      <td>신</td>\n",
       "      <td>아스가르드</td>\n",
       "      <td>190</td>\n",
       "      <td>NaN</td>\n",
       "    </tr>\n",
       "    <tr>\n",
       "      <th>4</th>\n",
       "      <td>헐크</td>\n",
       "      <td>33</td>\n",
       "      <td>핵물리학자</td>\n",
       "      <td>미국</td>\n",
       "      <td>270</td>\n",
       "      <td>1000000000</td>\n",
       "    </tr>\n",
       "    <tr>\n",
       "      <th>6</th>\n",
       "      <td>블랙위도우</td>\n",
       "      <td>32</td>\n",
       "      <td>스파이</td>\n",
       "      <td>러시아</td>\n",
       "      <td>170</td>\n",
       "      <td>50000000</td>\n",
       "    </tr>\n",
       "    <tr>\n",
       "      <th>3</th>\n",
       "      <td>원더우먼</td>\n",
       "      <td>27</td>\n",
       "      <td>공주</td>\n",
       "      <td>데미스키라</td>\n",
       "      <td>178</td>\n",
       "      <td>NaN</td>\n",
       "    </tr>\n",
       "    <tr>\n",
       "      <th>5</th>\n",
       "      <td>캡틴마블</td>\n",
       "      <td>25</td>\n",
       "      <td>파일럿</td>\n",
       "      <td>미국</td>\n",
       "      <td>170</td>\n",
       "      <td>340000000</td>\n",
       "    </tr>\n",
       "    <tr>\n",
       "      <th>2</th>\n",
       "      <td>스파이더맨</td>\n",
       "      <td>18</td>\n",
       "      <td>고등학생</td>\n",
       "      <td>미국</td>\n",
       "      <td>177</td>\n",
       "      <td>600</td>\n",
       "    </tr>\n",
       "  </tbody>\n",
       "</table>\n",
       "</div>"
      ],
      "text/plain": [
       "      이름  나이     직업     국적    키             재산\n",
       "0   아이언맨  58    CEO     미국  174 11500000000000\n",
       "1     토르  45      신  아스가르드  190            NaN\n",
       "4     헐크  33  핵물리학자     미국  270     1000000000\n",
       "6  블랙위도우  32    스파이    러시아  170       50000000\n",
       "3   원더우먼  27     공주  데미스키라  178            NaN\n",
       "5   캡틴마블  25    파일럿     미국  170      340000000\n",
       "2  스파이더맨  18   고등학생     미국  177            600"
      ]
     },
     "execution_count": 88,
     "metadata": {},
     "output_type": "execute_result"
    }
   ],
   "source": [
    "# 나이를 높은 순으로 7개 출력\n",
    "df.nlargest(7, '나이')"
   ]
  },
  {
   "cell_type": "code",
   "execution_count": 89,
   "id": "2d391d79",
   "metadata": {},
   "outputs": [
    {
     "data": {
      "text/html": [
       "<div>\n",
       "<style scoped>\n",
       "    .dataframe tbody tr th:only-of-type {\n",
       "        vertical-align: middle;\n",
       "    }\n",
       "\n",
       "    .dataframe tbody tr th {\n",
       "        vertical-align: top;\n",
       "    }\n",
       "\n",
       "    .dataframe thead th {\n",
       "        text-align: right;\n",
       "    }\n",
       "</style>\n",
       "<table border=\"1\" class=\"dataframe\">\n",
       "  <thead>\n",
       "    <tr style=\"text-align: right;\">\n",
       "      <th></th>\n",
       "      <th>이름</th>\n",
       "      <th>나이</th>\n",
       "      <th>직업</th>\n",
       "      <th>국적</th>\n",
       "      <th>키</th>\n",
       "      <th>재산</th>\n",
       "    </tr>\n",
       "  </thead>\n",
       "  <tbody>\n",
       "    <tr>\n",
       "      <th>4</th>\n",
       "      <td>헐크</td>\n",
       "      <td>33</td>\n",
       "      <td>핵물리학자</td>\n",
       "      <td>미국</td>\n",
       "      <td>270</td>\n",
       "      <td>1000000000</td>\n",
       "    </tr>\n",
       "    <tr>\n",
       "      <th>1</th>\n",
       "      <td>토르</td>\n",
       "      <td>45</td>\n",
       "      <td>신</td>\n",
       "      <td>아스가르드</td>\n",
       "      <td>190</td>\n",
       "      <td>NaN</td>\n",
       "    </tr>\n",
       "    <tr>\n",
       "      <th>3</th>\n",
       "      <td>원더우먼</td>\n",
       "      <td>27</td>\n",
       "      <td>공주</td>\n",
       "      <td>데미스키라</td>\n",
       "      <td>178</td>\n",
       "      <td>NaN</td>\n",
       "    </tr>\n",
       "    <tr>\n",
       "      <th>2</th>\n",
       "      <td>스파이더맨</td>\n",
       "      <td>18</td>\n",
       "      <td>고등학생</td>\n",
       "      <td>미국</td>\n",
       "      <td>177</td>\n",
       "      <td>600</td>\n",
       "    </tr>\n",
       "    <tr>\n",
       "      <th>0</th>\n",
       "      <td>아이언맨</td>\n",
       "      <td>58</td>\n",
       "      <td>CEO</td>\n",
       "      <td>미국</td>\n",
       "      <td>174</td>\n",
       "      <td>11500000000000</td>\n",
       "    </tr>\n",
       "    <tr>\n",
       "      <th>5</th>\n",
       "      <td>캡틴마블</td>\n",
       "      <td>25</td>\n",
       "      <td>파일럿</td>\n",
       "      <td>미국</td>\n",
       "      <td>170</td>\n",
       "      <td>340000000</td>\n",
       "    </tr>\n",
       "    <tr>\n",
       "      <th>6</th>\n",
       "      <td>블랙위도우</td>\n",
       "      <td>32</td>\n",
       "      <td>스파이</td>\n",
       "      <td>러시아</td>\n",
       "      <td>170</td>\n",
       "      <td>50000000</td>\n",
       "    </tr>\n",
       "  </tbody>\n",
       "</table>\n",
       "</div>"
      ],
      "text/plain": [
       "      이름  나이     직업     국적    키             재산\n",
       "4     헐크  33  핵물리학자     미국  270     1000000000\n",
       "1     토르  45      신  아스가르드  190            NaN\n",
       "3   원더우먼  27     공주  데미스키라  178            NaN\n",
       "2  스파이더맨  18   고등학생     미국  177            600\n",
       "0   아이언맨  58    CEO     미국  174 11500000000000\n",
       "5   캡틴마블  25    파일럿     미국  170      340000000\n",
       "6  블랙위도우  32    스파이    러시아  170       50000000"
      ]
     },
     "execution_count": 89,
     "metadata": {},
     "output_type": "execute_result"
    }
   ],
   "source": [
    "# 키가 큰 순으로 정렬\n",
    "df.nlargest(7, '키')"
   ]
  },
  {
   "cell_type": "markdown",
   "id": "64411899",
   "metadata": {},
   "source": [
    "데이터프레임명[컬럼명] : 컬럼 데이터 가져오기\n",
    "- 하나의 칼럼 가져오기\n",
    "> 데이터프레임명['컬럼명']\n",
    "- 여러 개의 컬럼 가져오기: 조회하려는 컬럼명을 리스트로 만든 후 조회\n",
    "> 데이터프레임명[['컬럼명1', '컬럼명2', ..., '컬럼명n']]"
   ]
  },
  {
   "cell_type": "code",
   "execution_count": 90,
   "id": "45c25cea",
   "metadata": {},
   "outputs": [
    {
     "data": {
      "text/plain": [
       "0     아이언맨\n",
       "1       토르\n",
       "2    스파이더맨\n",
       "3     원더우먼\n",
       "4       헐크\n",
       "Name: 이름, dtype: object"
      ]
     },
     "execution_count": 90,
     "metadata": {},
     "output_type": "execute_result"
    }
   ],
   "source": [
    "# 이름만 상위 5개 출력\n",
    "df['이름'][:5]"
   ]
  },
  {
   "cell_type": "markdown",
   "id": "6df60da9",
   "metadata": {},
   "source": [
    "< 특정 데이터 조회해서 가져오기 >\n",
    "1. > 데이터프레임명[ ]    &nbsp;&nbsp; # 간단히 사용하기 좋지만 간혹 헷갈릴 수 있음"
   ]
  },
  {
   "cell_type": "code",
   "execution_count": 91,
   "id": "de0bcf56",
   "metadata": {},
   "outputs": [
    {
     "data": {
      "text/html": [
       "<div>\n",
       "<style scoped>\n",
       "    .dataframe tbody tr th:only-of-type {\n",
       "        vertical-align: middle;\n",
       "    }\n",
       "\n",
       "    .dataframe tbody tr th {\n",
       "        vertical-align: top;\n",
       "    }\n",
       "\n",
       "    .dataframe thead th {\n",
       "        text-align: right;\n",
       "    }\n",
       "</style>\n",
       "<table border=\"1\" class=\"dataframe\">\n",
       "  <thead>\n",
       "    <tr style=\"text-align: right;\">\n",
       "      <th></th>\n",
       "      <th>이름</th>\n",
       "      <th>나이</th>\n",
       "      <th>직업</th>\n",
       "      <th>국적</th>\n",
       "      <th>키</th>\n",
       "      <th>재산</th>\n",
       "    </tr>\n",
       "  </thead>\n",
       "  <tbody>\n",
       "    <tr>\n",
       "      <th>0</th>\n",
       "      <td>아이언맨</td>\n",
       "      <td>58</td>\n",
       "      <td>CEO</td>\n",
       "      <td>미국</td>\n",
       "      <td>174</td>\n",
       "      <td>11500000000000</td>\n",
       "    </tr>\n",
       "    <tr>\n",
       "      <th>1</th>\n",
       "      <td>토르</td>\n",
       "      <td>45</td>\n",
       "      <td>신</td>\n",
       "      <td>아스가르드</td>\n",
       "      <td>190</td>\n",
       "      <td>NaN</td>\n",
       "    </tr>\n",
       "    <tr>\n",
       "      <th>2</th>\n",
       "      <td>스파이더맨</td>\n",
       "      <td>18</td>\n",
       "      <td>고등학생</td>\n",
       "      <td>미국</td>\n",
       "      <td>177</td>\n",
       "      <td>600</td>\n",
       "    </tr>\n",
       "  </tbody>\n",
       "</table>\n",
       "</div>"
      ],
      "text/plain": [
       "      이름  나이    직업     국적    키             재산\n",
       "0   아이언맨  58   CEO     미국  174 11500000000000\n",
       "1     토르  45     신  아스가르드  190            NaN\n",
       "2  스파이더맨  18  고등학생     미국  177            600"
      ]
     },
     "execution_count": 91,
     "metadata": {},
     "output_type": "execute_result"
    }
   ],
   "source": [
    "# 데이터프레임명[행번호]\n",
    "df[:3] "
   ]
  },
  {
   "cell_type": "markdown",
   "id": "3a4d72d8",
   "metadata": {},
   "source": [
    "2. > 데이터프레임명.iloc[행 번호, 열 번호] &nbsp;&nbsp; # i는 번호(인덱스)로 접근, 위치 기반"
   ]
  },
  {
   "cell_type": "code",
   "execution_count": 92,
   "id": "e4b8ac62",
   "metadata": {},
   "outputs": [
    {
     "data": {
      "text/plain": [
       "'아이언맨'"
      ]
     },
     "execution_count": 92,
     "metadata": {},
     "output_type": "execute_result"
    }
   ],
   "source": [
    "# 0행 0번 출력\n",
    "df.iloc[0, 0]"
   ]
  },
  {
   "cell_type": "code",
   "execution_count": 93,
   "id": "26ce550c",
   "metadata": {},
   "outputs": [
    {
     "data": {
      "text/html": [
       "<div>\n",
       "<style scoped>\n",
       "    .dataframe tbody tr th:only-of-type {\n",
       "        vertical-align: middle;\n",
       "    }\n",
       "\n",
       "    .dataframe tbody tr th {\n",
       "        vertical-align: top;\n",
       "    }\n",
       "\n",
       "    .dataframe thead th {\n",
       "        text-align: right;\n",
       "    }\n",
       "</style>\n",
       "<table border=\"1\" class=\"dataframe\">\n",
       "  <thead>\n",
       "    <tr style=\"text-align: right;\">\n",
       "      <th></th>\n",
       "      <th>이름</th>\n",
       "      <th>나이</th>\n",
       "      <th>직업</th>\n",
       "      <th>국적</th>\n",
       "      <th>키</th>\n",
       "      <th>재산</th>\n",
       "    </tr>\n",
       "  </thead>\n",
       "  <tbody>\n",
       "    <tr>\n",
       "      <th>1</th>\n",
       "      <td>토르</td>\n",
       "      <td>45</td>\n",
       "      <td>신</td>\n",
       "      <td>아스가르드</td>\n",
       "      <td>190</td>\n",
       "      <td>NaN</td>\n",
       "    </tr>\n",
       "    <tr>\n",
       "      <th>2</th>\n",
       "      <td>스파이더맨</td>\n",
       "      <td>18</td>\n",
       "      <td>고등학생</td>\n",
       "      <td>미국</td>\n",
       "      <td>177</td>\n",
       "      <td>600</td>\n",
       "    </tr>\n",
       "    <tr>\n",
       "      <th>3</th>\n",
       "      <td>원더우먼</td>\n",
       "      <td>27</td>\n",
       "      <td>공주</td>\n",
       "      <td>데미스키라</td>\n",
       "      <td>178</td>\n",
       "      <td>NaN</td>\n",
       "    </tr>\n",
       "  </tbody>\n",
       "</table>\n",
       "</div>"
      ],
      "text/plain": [
       "      이름  나이    직업     국적    키  재산\n",
       "1     토르  45     신  아스가르드  190 NaN\n",
       "2  스파이더맨  18  고등학생     미국  177 600\n",
       "3   원더우먼  27    공주  데미스키라  178 NaN"
      ]
     },
     "execution_count": 93,
     "metadata": {},
     "output_type": "execute_result"
    }
   ],
   "source": [
    "# 인덱스 1에서 3번까지 출력\n",
    "df.iloc[1:4]"
   ]
  },
  {
   "cell_type": "code",
   "execution_count": 94,
   "id": "41b6c1d9",
   "metadata": {},
   "outputs": [
    {
     "data": {
      "text/html": [
       "<div>\n",
       "<style scoped>\n",
       "    .dataframe tbody tr th:only-of-type {\n",
       "        vertical-align: middle;\n",
       "    }\n",
       "\n",
       "    .dataframe tbody tr th {\n",
       "        vertical-align: top;\n",
       "    }\n",
       "\n",
       "    .dataframe thead th {\n",
       "        text-align: right;\n",
       "    }\n",
       "</style>\n",
       "<table border=\"1\" class=\"dataframe\">\n",
       "  <thead>\n",
       "    <tr style=\"text-align: right;\">\n",
       "      <th></th>\n",
       "      <th>이름</th>\n",
       "      <th>나이</th>\n",
       "      <th>직업</th>\n",
       "      <th>국적</th>\n",
       "      <th>키</th>\n",
       "      <th>재산</th>\n",
       "    </tr>\n",
       "  </thead>\n",
       "  <tbody>\n",
       "    <tr>\n",
       "      <th>1</th>\n",
       "      <td>토르</td>\n",
       "      <td>45</td>\n",
       "      <td>신</td>\n",
       "      <td>아스가르드</td>\n",
       "      <td>190</td>\n",
       "      <td>NaN</td>\n",
       "    </tr>\n",
       "    <tr>\n",
       "      <th>3</th>\n",
       "      <td>원더우먼</td>\n",
       "      <td>27</td>\n",
       "      <td>공주</td>\n",
       "      <td>데미스키라</td>\n",
       "      <td>178</td>\n",
       "      <td>NaN</td>\n",
       "    </tr>\n",
       "    <tr>\n",
       "      <th>6</th>\n",
       "      <td>블랙위도우</td>\n",
       "      <td>32</td>\n",
       "      <td>스파이</td>\n",
       "      <td>러시아</td>\n",
       "      <td>170</td>\n",
       "      <td>50000000</td>\n",
       "    </tr>\n",
       "  </tbody>\n",
       "</table>\n",
       "</div>"
      ],
      "text/plain": [
       "      이름  나이   직업     국적    키       재산\n",
       "1     토르  45    신  아스가르드  190      NaN\n",
       "3   원더우먼  27   공주  데미스키라  178      NaN\n",
       "6  블랙위도우  32  스파이    러시아  170 50000000"
      ]
     },
     "execution_count": 94,
     "metadata": {},
     "output_type": "execute_result"
    }
   ],
   "source": [
    "# 데이터프레임명[인덱스명]\n",
    "# 인덱스 1, 3, 6번 출력\n",
    "df.iloc[[1, 3, 6]]"
   ]
  },
  {
   "cell_type": "code",
   "execution_count": 95,
   "id": "faa15682",
   "metadata": {},
   "outputs": [
    {
     "data": {
      "text/html": [
       "<div>\n",
       "<style scoped>\n",
       "    .dataframe tbody tr th:only-of-type {\n",
       "        vertical-align: middle;\n",
       "    }\n",
       "\n",
       "    .dataframe tbody tr th {\n",
       "        vertical-align: top;\n",
       "    }\n",
       "\n",
       "    .dataframe thead th {\n",
       "        text-align: right;\n",
       "    }\n",
       "</style>\n",
       "<table border=\"1\" class=\"dataframe\">\n",
       "  <thead>\n",
       "    <tr style=\"text-align: right;\">\n",
       "      <th></th>\n",
       "      <th>이름</th>\n",
       "      <th>나이</th>\n",
       "      <th>직업</th>\n",
       "    </tr>\n",
       "  </thead>\n",
       "  <tbody>\n",
       "    <tr>\n",
       "      <th>0</th>\n",
       "      <td>아이언맨</td>\n",
       "      <td>58</td>\n",
       "      <td>CEO</td>\n",
       "    </tr>\n",
       "    <tr>\n",
       "      <th>1</th>\n",
       "      <td>토르</td>\n",
       "      <td>45</td>\n",
       "      <td>신</td>\n",
       "    </tr>\n",
       "    <tr>\n",
       "      <th>2</th>\n",
       "      <td>스파이더맨</td>\n",
       "      <td>18</td>\n",
       "      <td>고등학생</td>\n",
       "    </tr>\n",
       "    <tr>\n",
       "      <th>3</th>\n",
       "      <td>원더우먼</td>\n",
       "      <td>27</td>\n",
       "      <td>공주</td>\n",
       "    </tr>\n",
       "    <tr>\n",
       "      <th>4</th>\n",
       "      <td>헐크</td>\n",
       "      <td>33</td>\n",
       "      <td>핵물리학자</td>\n",
       "    </tr>\n",
       "  </tbody>\n",
       "</table>\n",
       "</div>"
      ],
      "text/plain": [
       "      이름  나이     직업\n",
       "0   아이언맨  58    CEO\n",
       "1     토르  45      신\n",
       "2  스파이더맨  18   고등학생\n",
       "3   원더우먼  27     공주\n",
       "4     헐크  33  핵물리학자"
      ]
     },
     "execution_count": 95,
     "metadata": {},
     "output_type": "execute_result"
    }
   ],
   "source": [
    "# 데이터프레임 5행 3열까지 출력\n",
    "df.iloc[:5, :3]"
   ]
  },
  {
   "cell_type": "markdown",
   "id": "a1b65356",
   "metadata": {},
   "source": [
    "3. > 데이터프레임명.loc[인덱스 명, 컬럼명] &nbsp;&nbsp; # 라벨을 통한 인덱싱"
   ]
  },
  {
   "cell_type": "code",
   "execution_count": 96,
   "id": "ebf92a2a",
   "metadata": {},
   "outputs": [
    {
     "data": {
      "text/plain": [
       "이름    스파이더맨\n",
       "나이       18\n",
       "직업     고등학생\n",
       "국적       미국\n",
       "키       177\n",
       "재산      600\n",
       "Name: 2, dtype: object"
      ]
     },
     "execution_count": 96,
     "metadata": {},
     "output_type": "execute_result"
    }
   ],
   "source": [
    "# 2번 인덱스 출력\n",
    "df.loc[2]"
   ]
  },
  {
   "cell_type": "code",
   "execution_count": 97,
   "id": "8f24390f",
   "metadata": {},
   "outputs": [
    {
     "data": {
      "text/plain": [
       "'미국'"
      ]
     },
     "execution_count": 97,
     "metadata": {},
     "output_type": "execute_result"
    }
   ],
   "source": [
    "# 2번 인덱스의 국적 출력\n",
    "df.loc[2, '국적']"
   ]
  },
  {
   "cell_type": "code",
   "execution_count": 98,
   "id": "07ee40e4",
   "metadata": {},
   "outputs": [
    {
     "data": {
      "text/html": [
       "<div>\n",
       "<style scoped>\n",
       "    .dataframe tbody tr th:only-of-type {\n",
       "        vertical-align: middle;\n",
       "    }\n",
       "\n",
       "    .dataframe tbody tr th {\n",
       "        vertical-align: top;\n",
       "    }\n",
       "\n",
       "    .dataframe thead th {\n",
       "        text-align: right;\n",
       "    }\n",
       "</style>\n",
       "<table border=\"1\" class=\"dataframe\">\n",
       "  <thead>\n",
       "    <tr style=\"text-align: right;\">\n",
       "      <th></th>\n",
       "      <th>이름</th>\n",
       "      <th>나이</th>\n",
       "      <th>직업</th>\n",
       "      <th>국적</th>\n",
       "      <th>키</th>\n",
       "      <th>재산</th>\n",
       "    </tr>\n",
       "  </thead>\n",
       "  <tbody>\n",
       "    <tr>\n",
       "      <th>2</th>\n",
       "      <td>스파이더맨</td>\n",
       "      <td>18</td>\n",
       "      <td>고등학생</td>\n",
       "      <td>미국</td>\n",
       "      <td>177</td>\n",
       "      <td>600</td>\n",
       "    </tr>\n",
       "    <tr>\n",
       "      <th>3</th>\n",
       "      <td>원더우먼</td>\n",
       "      <td>27</td>\n",
       "      <td>공주</td>\n",
       "      <td>데미스키라</td>\n",
       "      <td>178</td>\n",
       "      <td>NaN</td>\n",
       "    </tr>\n",
       "    <tr>\n",
       "      <th>4</th>\n",
       "      <td>헐크</td>\n",
       "      <td>33</td>\n",
       "      <td>핵물리학자</td>\n",
       "      <td>미국</td>\n",
       "      <td>270</td>\n",
       "      <td>1000000000</td>\n",
       "    </tr>\n",
       "    <tr>\n",
       "      <th>5</th>\n",
       "      <td>캡틴마블</td>\n",
       "      <td>25</td>\n",
       "      <td>파일럿</td>\n",
       "      <td>미국</td>\n",
       "      <td>170</td>\n",
       "      <td>340000000</td>\n",
       "    </tr>\n",
       "  </tbody>\n",
       "</table>\n",
       "</div>"
      ],
      "text/plain": [
       "      이름  나이     직업     국적    키         재산\n",
       "2  스파이더맨  18   고등학생     미국  177        600\n",
       "3   원더우먼  27     공주  데미스키라  178        NaN\n",
       "4     헐크  33  핵물리학자     미국  270 1000000000\n",
       "5   캡틴마블  25    파일럿     미국  170  340000000"
      ]
     },
     "execution_count": 98,
     "metadata": {},
     "output_type": "execute_result"
    }
   ],
   "source": [
    "# 2~5번 인덱스 출력\n",
    "df.loc[2:5]"
   ]
  },
  {
   "cell_type": "code",
   "execution_count": 99,
   "id": "00f56763",
   "metadata": {},
   "outputs": [
    {
     "data": {
      "text/html": [
       "<div>\n",
       "<style scoped>\n",
       "    .dataframe tbody tr th:only-of-type {\n",
       "        vertical-align: middle;\n",
       "    }\n",
       "\n",
       "    .dataframe tbody tr th {\n",
       "        vertical-align: top;\n",
       "    }\n",
       "\n",
       "    .dataframe thead th {\n",
       "        text-align: right;\n",
       "    }\n",
       "</style>\n",
       "<table border=\"1\" class=\"dataframe\">\n",
       "  <thead>\n",
       "    <tr style=\"text-align: right;\">\n",
       "      <th></th>\n",
       "      <th>국적</th>\n",
       "      <th>키</th>\n",
       "      <th>재산</th>\n",
       "    </tr>\n",
       "  </thead>\n",
       "  <tbody>\n",
       "    <tr>\n",
       "      <th>3</th>\n",
       "      <td>데미스키라</td>\n",
       "      <td>178</td>\n",
       "      <td>NaN</td>\n",
       "    </tr>\n",
       "    <tr>\n",
       "      <th>4</th>\n",
       "      <td>미국</td>\n",
       "      <td>270</td>\n",
       "      <td>1000000000</td>\n",
       "    </tr>\n",
       "    <tr>\n",
       "      <th>5</th>\n",
       "      <td>미국</td>\n",
       "      <td>170</td>\n",
       "      <td>340000000</td>\n",
       "    </tr>\n",
       "    <tr>\n",
       "      <th>6</th>\n",
       "      <td>러시아</td>\n",
       "      <td>170</td>\n",
       "      <td>50000000</td>\n",
       "    </tr>\n",
       "  </tbody>\n",
       "</table>\n",
       "</div>"
      ],
      "text/plain": [
       "      국적    키         재산\n",
       "3  데미스키라  178        NaN\n",
       "4     미국  270 1000000000\n",
       "5     미국  170  340000000\n",
       "6    러시아  170   50000000"
      ]
     },
     "execution_count": 99,
     "metadata": {},
     "output_type": "execute_result"
    }
   ],
   "source": [
    "# 3번부터 끝까지 중 국적, 키, 재산 출력\n",
    "df.loc[3:, '국적': '재산']"
   ]
  },
  {
   "cell_type": "code",
   "execution_count": 100,
   "id": "91d81239",
   "metadata": {},
   "outputs": [
    {
     "data": {
      "text/html": [
       "<div>\n",
       "<style scoped>\n",
       "    .dataframe tbody tr th:only-of-type {\n",
       "        vertical-align: middle;\n",
       "    }\n",
       "\n",
       "    .dataframe tbody tr th {\n",
       "        vertical-align: top;\n",
       "    }\n",
       "\n",
       "    .dataframe thead th {\n",
       "        text-align: right;\n",
       "    }\n",
       "</style>\n",
       "<table border=\"1\" class=\"dataframe\">\n",
       "  <thead>\n",
       "    <tr style=\"text-align: right;\">\n",
       "      <th></th>\n",
       "      <th>이름</th>\n",
       "      <th>직업</th>\n",
       "    </tr>\n",
       "  </thead>\n",
       "  <tbody>\n",
       "    <tr>\n",
       "      <th>0</th>\n",
       "      <td>아이언맨</td>\n",
       "      <td>CEO</td>\n",
       "    </tr>\n",
       "    <tr>\n",
       "      <th>1</th>\n",
       "      <td>토르</td>\n",
       "      <td>신</td>\n",
       "    </tr>\n",
       "    <tr>\n",
       "      <th>2</th>\n",
       "      <td>스파이더맨</td>\n",
       "      <td>고등학생</td>\n",
       "    </tr>\n",
       "  </tbody>\n",
       "</table>\n",
       "</div>"
      ],
      "text/plain": [
       "      이름    직업\n",
       "0   아이언맨   CEO\n",
       "1     토르     신\n",
       "2  스파이더맨  고등학생"
      ]
     },
     "execution_count": 100,
     "metadata": {},
     "output_type": "execute_result"
    }
   ],
   "source": [
    "# 처음부터 3번까지 중 이름, 직업 출력\n",
    "df.loc[:2,['이름', '직업']]"
   ]
  },
  {
   "cell_type": "markdown",
   "id": "5437d1bd",
   "metadata": {},
   "source": [
    "데이터프레임에 값이 없는 데이터가 있는가?\n",
    "- 빈 값에 True를 출력\n",
    "> 데이터프레임명.isnull( )"
   ]
  },
  {
   "cell_type": "code",
   "execution_count": 101,
   "id": "b8373b2d",
   "metadata": {},
   "outputs": [
    {
     "data": {
      "text/html": [
       "<div>\n",
       "<style scoped>\n",
       "    .dataframe tbody tr th:only-of-type {\n",
       "        vertical-align: middle;\n",
       "    }\n",
       "\n",
       "    .dataframe tbody tr th {\n",
       "        vertical-align: top;\n",
       "    }\n",
       "\n",
       "    .dataframe thead th {\n",
       "        text-align: right;\n",
       "    }\n",
       "</style>\n",
       "<table border=\"1\" class=\"dataframe\">\n",
       "  <thead>\n",
       "    <tr style=\"text-align: right;\">\n",
       "      <th></th>\n",
       "      <th>이름</th>\n",
       "      <th>나이</th>\n",
       "      <th>직업</th>\n",
       "      <th>국적</th>\n",
       "      <th>키</th>\n",
       "      <th>재산</th>\n",
       "    </tr>\n",
       "  </thead>\n",
       "  <tbody>\n",
       "    <tr>\n",
       "      <th>0</th>\n",
       "      <td>False</td>\n",
       "      <td>False</td>\n",
       "      <td>False</td>\n",
       "      <td>False</td>\n",
       "      <td>False</td>\n",
       "      <td>False</td>\n",
       "    </tr>\n",
       "    <tr>\n",
       "      <th>1</th>\n",
       "      <td>False</td>\n",
       "      <td>False</td>\n",
       "      <td>False</td>\n",
       "      <td>False</td>\n",
       "      <td>False</td>\n",
       "      <td>True</td>\n",
       "    </tr>\n",
       "    <tr>\n",
       "      <th>2</th>\n",
       "      <td>False</td>\n",
       "      <td>False</td>\n",
       "      <td>False</td>\n",
       "      <td>False</td>\n",
       "      <td>False</td>\n",
       "      <td>False</td>\n",
       "    </tr>\n",
       "    <tr>\n",
       "      <th>3</th>\n",
       "      <td>False</td>\n",
       "      <td>False</td>\n",
       "      <td>False</td>\n",
       "      <td>False</td>\n",
       "      <td>False</td>\n",
       "      <td>True</td>\n",
       "    </tr>\n",
       "    <tr>\n",
       "      <th>4</th>\n",
       "      <td>False</td>\n",
       "      <td>False</td>\n",
       "      <td>False</td>\n",
       "      <td>False</td>\n",
       "      <td>False</td>\n",
       "      <td>False</td>\n",
       "    </tr>\n",
       "    <tr>\n",
       "      <th>5</th>\n",
       "      <td>False</td>\n",
       "      <td>False</td>\n",
       "      <td>False</td>\n",
       "      <td>False</td>\n",
       "      <td>False</td>\n",
       "      <td>False</td>\n",
       "    </tr>\n",
       "    <tr>\n",
       "      <th>6</th>\n",
       "      <td>False</td>\n",
       "      <td>False</td>\n",
       "      <td>False</td>\n",
       "      <td>False</td>\n",
       "      <td>False</td>\n",
       "      <td>False</td>\n",
       "    </tr>\n",
       "  </tbody>\n",
       "</table>\n",
       "</div>"
      ],
      "text/plain": [
       "      이름     나이     직업     국적      키     재산\n",
       "0  False  False  False  False  False  False\n",
       "1  False  False  False  False  False   True\n",
       "2  False  False  False  False  False  False\n",
       "3  False  False  False  False  False   True\n",
       "4  False  False  False  False  False  False\n",
       "5  False  False  False  False  False  False\n",
       "6  False  False  False  False  False  False"
      ]
     },
     "execution_count": 101,
     "metadata": {},
     "output_type": "execute_result"
    }
   ],
   "source": [
    "# 데이터프레임에 빈 값이 있는지 확인\n",
    "df.isnull()"
   ]
  },
  {
   "cell_type": "code",
   "execution_count": 102,
   "id": "bf821bb4",
   "metadata": {},
   "outputs": [
    {
     "data": {
      "text/plain": [
       "이름    0\n",
       "나이    0\n",
       "직업    0\n",
       "국적    0\n",
       "키     0\n",
       "재산    2\n",
       "dtype: int64"
      ]
     },
     "execution_count": 102,
     "metadata": {},
     "output_type": "execute_result"
    }
   ],
   "source": [
    "# 컬럼별로 null이 몇 개 있는 지 확인\n",
    "df.isnull().sum()"
   ]
  },
  {
   "cell_type": "markdown",
   "id": "c89db860",
   "metadata": {},
   "source": [
    "값이 없는 데이터 가져오기\n",
    "- 해당 컬럼에서 값이 null인 데이터들을 가져옴\n",
    "> 데이터프레임명[컬럼명.isnull( )]"
   ]
  },
  {
   "cell_type": "code",
   "execution_count": 103,
   "id": "3374964d",
   "metadata": {},
   "outputs": [
    {
     "data": {
      "text/html": [
       "<div>\n",
       "<style scoped>\n",
       "    .dataframe tbody tr th:only-of-type {\n",
       "        vertical-align: middle;\n",
       "    }\n",
       "\n",
       "    .dataframe tbody tr th {\n",
       "        vertical-align: top;\n",
       "    }\n",
       "\n",
       "    .dataframe thead th {\n",
       "        text-align: right;\n",
       "    }\n",
       "</style>\n",
       "<table border=\"1\" class=\"dataframe\">\n",
       "  <thead>\n",
       "    <tr style=\"text-align: right;\">\n",
       "      <th></th>\n",
       "      <th>이름</th>\n",
       "      <th>나이</th>\n",
       "      <th>직업</th>\n",
       "      <th>국적</th>\n",
       "      <th>키</th>\n",
       "      <th>재산</th>\n",
       "    </tr>\n",
       "  </thead>\n",
       "  <tbody>\n",
       "    <tr>\n",
       "      <th>1</th>\n",
       "      <td>토르</td>\n",
       "      <td>45</td>\n",
       "      <td>신</td>\n",
       "      <td>아스가르드</td>\n",
       "      <td>190</td>\n",
       "      <td>NaN</td>\n",
       "    </tr>\n",
       "    <tr>\n",
       "      <th>3</th>\n",
       "      <td>원더우먼</td>\n",
       "      <td>27</td>\n",
       "      <td>공주</td>\n",
       "      <td>데미스키라</td>\n",
       "      <td>178</td>\n",
       "      <td>NaN</td>\n",
       "    </tr>\n",
       "  </tbody>\n",
       "</table>\n",
       "</div>"
      ],
      "text/plain": [
       "     이름  나이  직업     국적    키  재산\n",
       "1    토르  45   신  아스가르드  190 NaN\n",
       "3  원더우먼  27  공주  데미스키라  178 NaN"
      ]
     },
     "execution_count": 103,
     "metadata": {},
     "output_type": "execute_result"
    }
   ],
   "source": [
    "# 재산에 null값이 있는 데이터 출력\n",
    "df[df['재산'].isnull()]"
   ]
  },
  {
   "cell_type": "markdown",
   "id": "122c4ba6",
   "metadata": {},
   "source": [
    "조건에 따른 데이터 출력: 불리언 인덱싱(필터링)\n",
    "- 조건을 제시하고 조건이 True인 요소만을 조회\n",
    "> 데이터프레임명[조건]\n",
    "\n",
    "- 여러 개의 조건을 and연산(&) 하거나 or연산(|) 할 수 있음\n",
    "- 조건식은 소괄호( ) 안에 넣어줌\n",
    "> 데이터프레임명[(조건 1) [& , |] (조건 2)]"
   ]
  },
  {
   "cell_type": "markdown",
   "id": "4f9858ec",
   "metadata": {},
   "source": [
    "조건이 참인 행 중에 열에 해당하는 데이터 가져오기\n",
    "> 데이터프레임명.loc[(조건식), 열]"
   ]
  },
  {
   "cell_type": "code",
   "execution_count": 104,
   "id": "cb4a28cd",
   "metadata": {},
   "outputs": [
    {
     "data": {
      "text/plain": [
       "0     True\n",
       "1     True\n",
       "2    False\n",
       "3    False\n",
       "4     True\n",
       "5    False\n",
       "6     True\n",
       "Name: 나이, dtype: bool"
      ]
     },
     "execution_count": 104,
     "metadata": {},
     "output_type": "execute_result"
    }
   ],
   "source": [
    "# 나이가 30이상 인지 확인\n",
    "df['나이'] > 30"
   ]
  },
  {
   "cell_type": "code",
   "execution_count": 105,
   "id": "cea8bf0e",
   "metadata": {},
   "outputs": [
    {
     "data": {
      "text/html": [
       "<div>\n",
       "<style scoped>\n",
       "    .dataframe tbody tr th:only-of-type {\n",
       "        vertical-align: middle;\n",
       "    }\n",
       "\n",
       "    .dataframe tbody tr th {\n",
       "        vertical-align: top;\n",
       "    }\n",
       "\n",
       "    .dataframe thead th {\n",
       "        text-align: right;\n",
       "    }\n",
       "</style>\n",
       "<table border=\"1\" class=\"dataframe\">\n",
       "  <thead>\n",
       "    <tr style=\"text-align: right;\">\n",
       "      <th></th>\n",
       "      <th>이름</th>\n",
       "      <th>나이</th>\n",
       "      <th>직업</th>\n",
       "      <th>국적</th>\n",
       "      <th>키</th>\n",
       "      <th>재산</th>\n",
       "    </tr>\n",
       "  </thead>\n",
       "  <tbody>\n",
       "    <tr>\n",
       "      <th>0</th>\n",
       "      <td>아이언맨</td>\n",
       "      <td>58</td>\n",
       "      <td>CEO</td>\n",
       "      <td>미국</td>\n",
       "      <td>174</td>\n",
       "      <td>11500000000000</td>\n",
       "    </tr>\n",
       "    <tr>\n",
       "      <th>1</th>\n",
       "      <td>토르</td>\n",
       "      <td>45</td>\n",
       "      <td>신</td>\n",
       "      <td>아스가르드</td>\n",
       "      <td>190</td>\n",
       "      <td>NaN</td>\n",
       "    </tr>\n",
       "    <tr>\n",
       "      <th>4</th>\n",
       "      <td>헐크</td>\n",
       "      <td>33</td>\n",
       "      <td>핵물리학자</td>\n",
       "      <td>미국</td>\n",
       "      <td>270</td>\n",
       "      <td>1000000000</td>\n",
       "    </tr>\n",
       "    <tr>\n",
       "      <th>6</th>\n",
       "      <td>블랙위도우</td>\n",
       "      <td>32</td>\n",
       "      <td>스파이</td>\n",
       "      <td>러시아</td>\n",
       "      <td>170</td>\n",
       "      <td>50000000</td>\n",
       "    </tr>\n",
       "  </tbody>\n",
       "</table>\n",
       "</div>"
      ],
      "text/plain": [
       "      이름  나이     직업     국적    키             재산\n",
       "0   아이언맨  58    CEO     미국  174 11500000000000\n",
       "1     토르  45      신  아스가르드  190            NaN\n",
       "4     헐크  33  핵물리학자     미국  270     1000000000\n",
       "6  블랙위도우  32    스파이    러시아  170       50000000"
      ]
     },
     "execution_count": 105,
     "metadata": {},
     "output_type": "execute_result"
    }
   ],
   "source": [
    "# 나이가 30이상인 데이터프레임 출력\n",
    "df[df['나이'] > 30]"
   ]
  },
  {
   "cell_type": "code",
   "execution_count": 106,
   "id": "9a4e1beb",
   "metadata": {},
   "outputs": [
    {
     "data": {
      "text/html": [
       "<div>\n",
       "<style scoped>\n",
       "    .dataframe tbody tr th:only-of-type {\n",
       "        vertical-align: middle;\n",
       "    }\n",
       "\n",
       "    .dataframe tbody tr th {\n",
       "        vertical-align: top;\n",
       "    }\n",
       "\n",
       "    .dataframe thead th {\n",
       "        text-align: right;\n",
       "    }\n",
       "</style>\n",
       "<table border=\"1\" class=\"dataframe\">\n",
       "  <thead>\n",
       "    <tr style=\"text-align: right;\">\n",
       "      <th></th>\n",
       "      <th>이름</th>\n",
       "      <th>나이</th>\n",
       "      <th>직업</th>\n",
       "      <th>국적</th>\n",
       "      <th>키</th>\n",
       "      <th>재산</th>\n",
       "    </tr>\n",
       "  </thead>\n",
       "  <tbody>\n",
       "    <tr>\n",
       "      <th>1</th>\n",
       "      <td>토르</td>\n",
       "      <td>45</td>\n",
       "      <td>신</td>\n",
       "      <td>아스가르드</td>\n",
       "      <td>190</td>\n",
       "      <td>NaN</td>\n",
       "    </tr>\n",
       "    <tr>\n",
       "      <th>4</th>\n",
       "      <td>헐크</td>\n",
       "      <td>33</td>\n",
       "      <td>핵물리학자</td>\n",
       "      <td>미국</td>\n",
       "      <td>270</td>\n",
       "      <td>1000000000</td>\n",
       "    </tr>\n",
       "    <tr>\n",
       "      <th>6</th>\n",
       "      <td>블랙위도우</td>\n",
       "      <td>32</td>\n",
       "      <td>스파이</td>\n",
       "      <td>러시아</td>\n",
       "      <td>170</td>\n",
       "      <td>50000000</td>\n",
       "    </tr>\n",
       "  </tbody>\n",
       "</table>\n",
       "</div>"
      ],
      "text/plain": [
       "      이름  나이     직업     국적    키         재산\n",
       "1     토르  45      신  아스가르드  190        NaN\n",
       "4     헐크  33  핵물리학자     미국  270 1000000000\n",
       "6  블랙위도우  32    스파이    러시아  170   50000000"
      ]
     },
     "execution_count": 106,
     "metadata": {},
     "output_type": "execute_result"
    }
   ],
   "source": [
    "# 나이가 30이상 이거나 50미만인 데이터프레임 출력\n",
    "df[(df['나이'] > 30) & (df['나이'] < 50)]"
   ]
  },
  {
   "cell_type": "code",
   "execution_count": 107,
   "id": "2b926861",
   "metadata": {},
   "outputs": [
    {
     "data": {
      "text/html": [
       "<div>\n",
       "<style scoped>\n",
       "    .dataframe tbody tr th:only-of-type {\n",
       "        vertical-align: middle;\n",
       "    }\n",
       "\n",
       "    .dataframe tbody tr th {\n",
       "        vertical-align: top;\n",
       "    }\n",
       "\n",
       "    .dataframe thead th {\n",
       "        text-align: right;\n",
       "    }\n",
       "</style>\n",
       "<table border=\"1\" class=\"dataframe\">\n",
       "  <thead>\n",
       "    <tr style=\"text-align: right;\">\n",
       "      <th></th>\n",
       "      <th>이름</th>\n",
       "      <th>나이</th>\n",
       "    </tr>\n",
       "  </thead>\n",
       "  <tbody>\n",
       "    <tr>\n",
       "      <th>1</th>\n",
       "      <td>토르</td>\n",
       "      <td>45</td>\n",
       "    </tr>\n",
       "    <tr>\n",
       "      <th>4</th>\n",
       "      <td>헐크</td>\n",
       "      <td>33</td>\n",
       "    </tr>\n",
       "  </tbody>\n",
       "</table>\n",
       "</div>"
      ],
      "text/plain": [
       "   이름  나이\n",
       "1  토르  45\n",
       "4  헐크  33"
      ]
     },
     "execution_count": 107,
     "metadata": {},
     "output_type": "execute_result"
    }
   ],
   "source": [
    "# 키가 180 이상인 레코드의 이름과 나이 컬럼만 출력\n",
    "df.loc[df['키'] >= 180, ['이름', '나이']]"
   ]
  },
  {
   "cell_type": "markdown",
   "id": "2e145af1",
   "metadata": {},
   "source": [
    "컬럼별 정렬\n",
    "- 컬럼의 값을 기준으로 데이터프레임 정렬\n",
    "> 데이터프레임명.sort_values('컬럼명')"
   ]
  },
  {
   "cell_type": "code",
   "execution_count": 108,
   "id": "9a953d24",
   "metadata": {},
   "outputs": [
    {
     "data": {
      "text/html": [
       "<div>\n",
       "<style scoped>\n",
       "    .dataframe tbody tr th:only-of-type {\n",
       "        vertical-align: middle;\n",
       "    }\n",
       "\n",
       "    .dataframe tbody tr th {\n",
       "        vertical-align: top;\n",
       "    }\n",
       "\n",
       "    .dataframe thead th {\n",
       "        text-align: right;\n",
       "    }\n",
       "</style>\n",
       "<table border=\"1\" class=\"dataframe\">\n",
       "  <thead>\n",
       "    <tr style=\"text-align: right;\">\n",
       "      <th></th>\n",
       "      <th>이름</th>\n",
       "      <th>나이</th>\n",
       "      <th>직업</th>\n",
       "      <th>국적</th>\n",
       "      <th>키</th>\n",
       "      <th>재산</th>\n",
       "    </tr>\n",
       "  </thead>\n",
       "  <tbody>\n",
       "    <tr>\n",
       "      <th>2</th>\n",
       "      <td>스파이더맨</td>\n",
       "      <td>18</td>\n",
       "      <td>고등학생</td>\n",
       "      <td>미국</td>\n",
       "      <td>177</td>\n",
       "      <td>600</td>\n",
       "    </tr>\n",
       "    <tr>\n",
       "      <th>5</th>\n",
       "      <td>캡틴마블</td>\n",
       "      <td>25</td>\n",
       "      <td>파일럿</td>\n",
       "      <td>미국</td>\n",
       "      <td>170</td>\n",
       "      <td>340000000</td>\n",
       "    </tr>\n",
       "    <tr>\n",
       "      <th>3</th>\n",
       "      <td>원더우먼</td>\n",
       "      <td>27</td>\n",
       "      <td>공주</td>\n",
       "      <td>데미스키라</td>\n",
       "      <td>178</td>\n",
       "      <td>NaN</td>\n",
       "    </tr>\n",
       "    <tr>\n",
       "      <th>6</th>\n",
       "      <td>블랙위도우</td>\n",
       "      <td>32</td>\n",
       "      <td>스파이</td>\n",
       "      <td>러시아</td>\n",
       "      <td>170</td>\n",
       "      <td>50000000</td>\n",
       "    </tr>\n",
       "    <tr>\n",
       "      <th>4</th>\n",
       "      <td>헐크</td>\n",
       "      <td>33</td>\n",
       "      <td>핵물리학자</td>\n",
       "      <td>미국</td>\n",
       "      <td>270</td>\n",
       "      <td>1000000000</td>\n",
       "    </tr>\n",
       "    <tr>\n",
       "      <th>1</th>\n",
       "      <td>토르</td>\n",
       "      <td>45</td>\n",
       "      <td>신</td>\n",
       "      <td>아스가르드</td>\n",
       "      <td>190</td>\n",
       "      <td>NaN</td>\n",
       "    </tr>\n",
       "    <tr>\n",
       "      <th>0</th>\n",
       "      <td>아이언맨</td>\n",
       "      <td>58</td>\n",
       "      <td>CEO</td>\n",
       "      <td>미국</td>\n",
       "      <td>174</td>\n",
       "      <td>11500000000000</td>\n",
       "    </tr>\n",
       "  </tbody>\n",
       "</table>\n",
       "</div>"
      ],
      "text/plain": [
       "      이름  나이     직업     국적    키             재산\n",
       "2  스파이더맨  18   고등학생     미국  177            600\n",
       "5   캡틴마블  25    파일럿     미국  170      340000000\n",
       "3   원더우먼  27     공주  데미스키라  178            NaN\n",
       "6  블랙위도우  32    스파이    러시아  170       50000000\n",
       "4     헐크  33  핵물리학자     미국  270     1000000000\n",
       "1     토르  45      신  아스가르드  190            NaN\n",
       "0   아이언맨  58    CEO     미국  174 11500000000000"
      ]
     },
     "execution_count": 108,
     "metadata": {},
     "output_type": "execute_result"
    }
   ],
   "source": [
    "# 나이 오름차순 정렬\n",
    "df.sort_values('나이')"
   ]
  },
  {
   "cell_type": "code",
   "execution_count": 109,
   "id": "800b7180",
   "metadata": {},
   "outputs": [
    {
     "data": {
      "text/html": [
       "<div>\n",
       "<style scoped>\n",
       "    .dataframe tbody tr th:only-of-type {\n",
       "        vertical-align: middle;\n",
       "    }\n",
       "\n",
       "    .dataframe tbody tr th {\n",
       "        vertical-align: top;\n",
       "    }\n",
       "\n",
       "    .dataframe thead th {\n",
       "        text-align: right;\n",
       "    }\n",
       "</style>\n",
       "<table border=\"1\" class=\"dataframe\">\n",
       "  <thead>\n",
       "    <tr style=\"text-align: right;\">\n",
       "      <th></th>\n",
       "      <th>이름</th>\n",
       "      <th>나이</th>\n",
       "      <th>직업</th>\n",
       "      <th>국적</th>\n",
       "      <th>키</th>\n",
       "      <th>재산</th>\n",
       "    </tr>\n",
       "  </thead>\n",
       "  <tbody>\n",
       "    <tr>\n",
       "      <th>0</th>\n",
       "      <td>아이언맨</td>\n",
       "      <td>58</td>\n",
       "      <td>CEO</td>\n",
       "      <td>미국</td>\n",
       "      <td>174</td>\n",
       "      <td>11500000000000</td>\n",
       "    </tr>\n",
       "    <tr>\n",
       "      <th>1</th>\n",
       "      <td>토르</td>\n",
       "      <td>45</td>\n",
       "      <td>신</td>\n",
       "      <td>아스가르드</td>\n",
       "      <td>190</td>\n",
       "      <td>NaN</td>\n",
       "    </tr>\n",
       "    <tr>\n",
       "      <th>4</th>\n",
       "      <td>헐크</td>\n",
       "      <td>33</td>\n",
       "      <td>핵물리학자</td>\n",
       "      <td>미국</td>\n",
       "      <td>270</td>\n",
       "      <td>1000000000</td>\n",
       "    </tr>\n",
       "    <tr>\n",
       "      <th>6</th>\n",
       "      <td>블랙위도우</td>\n",
       "      <td>32</td>\n",
       "      <td>스파이</td>\n",
       "      <td>러시아</td>\n",
       "      <td>170</td>\n",
       "      <td>50000000</td>\n",
       "    </tr>\n",
       "    <tr>\n",
       "      <th>3</th>\n",
       "      <td>원더우먼</td>\n",
       "      <td>27</td>\n",
       "      <td>공주</td>\n",
       "      <td>데미스키라</td>\n",
       "      <td>178</td>\n",
       "      <td>NaN</td>\n",
       "    </tr>\n",
       "    <tr>\n",
       "      <th>5</th>\n",
       "      <td>캡틴마블</td>\n",
       "      <td>25</td>\n",
       "      <td>파일럿</td>\n",
       "      <td>미국</td>\n",
       "      <td>170</td>\n",
       "      <td>340000000</td>\n",
       "    </tr>\n",
       "    <tr>\n",
       "      <th>2</th>\n",
       "      <td>스파이더맨</td>\n",
       "      <td>18</td>\n",
       "      <td>고등학생</td>\n",
       "      <td>미국</td>\n",
       "      <td>177</td>\n",
       "      <td>600</td>\n",
       "    </tr>\n",
       "  </tbody>\n",
       "</table>\n",
       "</div>"
      ],
      "text/plain": [
       "      이름  나이     직업     국적    키             재산\n",
       "0   아이언맨  58    CEO     미국  174 11500000000000\n",
       "1     토르  45      신  아스가르드  190            NaN\n",
       "4     헐크  33  핵물리학자     미국  270     1000000000\n",
       "6  블랙위도우  32    스파이    러시아  170       50000000\n",
       "3   원더우먼  27     공주  데미스키라  178            NaN\n",
       "5   캡틴마블  25    파일럿     미국  170      340000000\n",
       "2  스파이더맨  18   고등학생     미국  177            600"
      ]
     },
     "execution_count": 109,
     "metadata": {},
     "output_type": "execute_result"
    }
   ],
   "source": [
    "# 나이 내림차순 정렬\n",
    "df.sort_values('나이', ascending = False)"
   ]
  },
  {
   "cell_type": "markdown",
   "id": "df9c0a59",
   "metadata": {},
   "source": [
    "데이터 수정 및 추가\n",
    "- 컬럼이 있다면 값이 수정\n",
    "- 컬럼이 없다면 새로운 컬럼 추가\n",
    "\n",
    "> 데이터프레임명['컬럼명'] = 데이터    &nbsp;&nbsp; # 새로운 컬럼 추가\n",
    "\n",
    "> 데이터프레임명.index = ['인덱스1', ..., '인덱스n 명']    &nbsp;&nbsp; # 인덱스명 수정\n",
    "\n",
    "> 데이터프레임명.columns = ['컬럼명1', ..., '컬럼명n']    &nbsp;&nbsp; # 컬럼명 수정"
   ]
  },
  {
   "cell_type": "code",
   "execution_count": 110,
   "id": "8976d412",
   "metadata": {},
   "outputs": [
    {
     "data": {
      "text/html": [
       "<div>\n",
       "<style scoped>\n",
       "    .dataframe tbody tr th:only-of-type {\n",
       "        vertical-align: middle;\n",
       "    }\n",
       "\n",
       "    .dataframe tbody tr th {\n",
       "        vertical-align: top;\n",
       "    }\n",
       "\n",
       "    .dataframe thead th {\n",
       "        text-align: right;\n",
       "    }\n",
       "</style>\n",
       "<table border=\"1\" class=\"dataframe\">\n",
       "  <thead>\n",
       "    <tr style=\"text-align: right;\">\n",
       "      <th></th>\n",
       "      <th>이름</th>\n",
       "      <th>나이</th>\n",
       "      <th>직업</th>\n",
       "      <th>국적</th>\n",
       "      <th>키</th>\n",
       "      <th>재산</th>\n",
       "      <th>전투력</th>\n",
       "    </tr>\n",
       "  </thead>\n",
       "  <tbody>\n",
       "    <tr>\n",
       "      <th>0</th>\n",
       "      <td>아이언맨</td>\n",
       "      <td>58</td>\n",
       "      <td>CEO</td>\n",
       "      <td>미국</td>\n",
       "      <td>174</td>\n",
       "      <td>11500000000000</td>\n",
       "      <td>98</td>\n",
       "    </tr>\n",
       "    <tr>\n",
       "      <th>1</th>\n",
       "      <td>토르</td>\n",
       "      <td>45</td>\n",
       "      <td>신</td>\n",
       "      <td>아스가르드</td>\n",
       "      <td>190</td>\n",
       "      <td>NaN</td>\n",
       "      <td>98</td>\n",
       "    </tr>\n",
       "    <tr>\n",
       "      <th>2</th>\n",
       "      <td>스파이더맨</td>\n",
       "      <td>18</td>\n",
       "      <td>고등학생</td>\n",
       "      <td>미국</td>\n",
       "      <td>177</td>\n",
       "      <td>600</td>\n",
       "      <td>98</td>\n",
       "    </tr>\n",
       "    <tr>\n",
       "      <th>3</th>\n",
       "      <td>원더우먼</td>\n",
       "      <td>27</td>\n",
       "      <td>공주</td>\n",
       "      <td>데미스키라</td>\n",
       "      <td>178</td>\n",
       "      <td>NaN</td>\n",
       "      <td>98</td>\n",
       "    </tr>\n",
       "    <tr>\n",
       "      <th>4</th>\n",
       "      <td>헐크</td>\n",
       "      <td>33</td>\n",
       "      <td>핵물리학자</td>\n",
       "      <td>미국</td>\n",
       "      <td>270</td>\n",
       "      <td>1000000000</td>\n",
       "      <td>98</td>\n",
       "    </tr>\n",
       "    <tr>\n",
       "      <th>5</th>\n",
       "      <td>캡틴마블</td>\n",
       "      <td>25</td>\n",
       "      <td>파일럿</td>\n",
       "      <td>미국</td>\n",
       "      <td>170</td>\n",
       "      <td>340000000</td>\n",
       "      <td>98</td>\n",
       "    </tr>\n",
       "    <tr>\n",
       "      <th>6</th>\n",
       "      <td>블랙위도우</td>\n",
       "      <td>32</td>\n",
       "      <td>스파이</td>\n",
       "      <td>러시아</td>\n",
       "      <td>170</td>\n",
       "      <td>50000000</td>\n",
       "      <td>98</td>\n",
       "    </tr>\n",
       "  </tbody>\n",
       "</table>\n",
       "</div>"
      ],
      "text/plain": [
       "      이름  나이     직업     국적    키             재산  전투력\n",
       "0   아이언맨  58    CEO     미국  174 11500000000000   98\n",
       "1     토르  45      신  아스가르드  190            NaN   98\n",
       "2  스파이더맨  18   고등학생     미국  177            600   98\n",
       "3   원더우먼  27     공주  데미스키라  178            NaN   98\n",
       "4     헐크  33  핵물리학자     미국  270     1000000000   98\n",
       "5   캡틴마블  25    파일럿     미국  170      340000000   98\n",
       "6  블랙위도우  32    스파이    러시아  170       50000000   98"
      ]
     },
     "execution_count": 110,
     "metadata": {},
     "output_type": "execute_result"
    }
   ],
   "source": [
    "# 전투력 컬럼 추가\n",
    "df['전투력'] = 98\n",
    "df"
   ]
  },
  {
   "cell_type": "code",
   "execution_count": 111,
   "id": "5b2b8394",
   "metadata": {},
   "outputs": [
    {
     "data": {
      "text/html": [
       "<div>\n",
       "<style scoped>\n",
       "    .dataframe tbody tr th:only-of-type {\n",
       "        vertical-align: middle;\n",
       "    }\n",
       "\n",
       "    .dataframe tbody tr th {\n",
       "        vertical-align: top;\n",
       "    }\n",
       "\n",
       "    .dataframe thead th {\n",
       "        text-align: right;\n",
       "    }\n",
       "</style>\n",
       "<table border=\"1\" class=\"dataframe\">\n",
       "  <thead>\n",
       "    <tr style=\"text-align: right;\">\n",
       "      <th></th>\n",
       "      <th>이름</th>\n",
       "      <th>나이</th>\n",
       "      <th>직업</th>\n",
       "      <th>국적</th>\n",
       "      <th>키</th>\n",
       "      <th>재산</th>\n",
       "      <th>전투력</th>\n",
       "    </tr>\n",
       "  </thead>\n",
       "  <tbody>\n",
       "    <tr>\n",
       "      <th>0</th>\n",
       "      <td>아이언맨</td>\n",
       "      <td>58</td>\n",
       "      <td>CEO</td>\n",
       "      <td>미국</td>\n",
       "      <td>174</td>\n",
       "      <td>11500000000000</td>\n",
       "      <td>93</td>\n",
       "    </tr>\n",
       "    <tr>\n",
       "      <th>1</th>\n",
       "      <td>토르</td>\n",
       "      <td>45</td>\n",
       "      <td>신</td>\n",
       "      <td>아스가르드</td>\n",
       "      <td>190</td>\n",
       "      <td>NaN</td>\n",
       "      <td>93</td>\n",
       "    </tr>\n",
       "    <tr>\n",
       "      <th>2</th>\n",
       "      <td>스파이더맨</td>\n",
       "      <td>18</td>\n",
       "      <td>고등학생</td>\n",
       "      <td>미국</td>\n",
       "      <td>177</td>\n",
       "      <td>600</td>\n",
       "      <td>93</td>\n",
       "    </tr>\n",
       "    <tr>\n",
       "      <th>3</th>\n",
       "      <td>원더우먼</td>\n",
       "      <td>27</td>\n",
       "      <td>공주</td>\n",
       "      <td>데미스키라</td>\n",
       "      <td>178</td>\n",
       "      <td>NaN</td>\n",
       "      <td>93</td>\n",
       "    </tr>\n",
       "    <tr>\n",
       "      <th>4</th>\n",
       "      <td>헐크</td>\n",
       "      <td>33</td>\n",
       "      <td>핵물리학자</td>\n",
       "      <td>미국</td>\n",
       "      <td>270</td>\n",
       "      <td>1000000000</td>\n",
       "      <td>93</td>\n",
       "    </tr>\n",
       "    <tr>\n",
       "      <th>5</th>\n",
       "      <td>캡틴마블</td>\n",
       "      <td>25</td>\n",
       "      <td>파일럿</td>\n",
       "      <td>미국</td>\n",
       "      <td>170</td>\n",
       "      <td>340000000</td>\n",
       "      <td>93</td>\n",
       "    </tr>\n",
       "    <tr>\n",
       "      <th>6</th>\n",
       "      <td>블랙위도우</td>\n",
       "      <td>32</td>\n",
       "      <td>스파이</td>\n",
       "      <td>러시아</td>\n",
       "      <td>170</td>\n",
       "      <td>50000000</td>\n",
       "      <td>93</td>\n",
       "    </tr>\n",
       "  </tbody>\n",
       "</table>\n",
       "</div>"
      ],
      "text/plain": [
       "      이름  나이     직업     국적    키             재산  전투력\n",
       "0   아이언맨  58    CEO     미국  174 11500000000000   93\n",
       "1     토르  45      신  아스가르드  190            NaN   93\n",
       "2  스파이더맨  18   고등학생     미국  177            600   93\n",
       "3   원더우먼  27     공주  데미스키라  178            NaN   93\n",
       "4     헐크  33  핵물리학자     미국  270     1000000000   93\n",
       "5   캡틴마블  25    파일럿     미국  170      340000000   93\n",
       "6  블랙위도우  32    스파이    러시아  170       50000000   93"
      ]
     },
     "execution_count": 111,
     "metadata": {},
     "output_type": "execute_result"
    }
   ],
   "source": [
    "# 전투력 컬럼의 값 변경\n",
    "df['전투력'] = df['전투력'] - 5\n",
    "df"
   ]
  },
  {
   "cell_type": "markdown",
   "id": "59ffcbe8",
   "metadata": {},
   "source": [
    "데이터 삭제\n",
    "- 데이터 행 삭제\n",
    "> 데이터프레임명.drop(index=[삭제할 인덱스])\n",
    "\n",
    "- 컬럼 삭제\n",
    "> 데이터프레임명.drop(columns=[삭제할 컬럼명])\n",
    "\n",
    "원본에서 삭제하려면 inplace 값을 True로 설정하거나 데이터프레임에 다시 할당"
   ]
  },
  {
   "cell_type": "code",
   "execution_count": 112,
   "id": "656f82d3",
   "metadata": {},
   "outputs": [
    {
     "data": {
      "text/html": [
       "<div>\n",
       "<style scoped>\n",
       "    .dataframe tbody tr th:only-of-type {\n",
       "        vertical-align: middle;\n",
       "    }\n",
       "\n",
       "    .dataframe tbody tr th {\n",
       "        vertical-align: top;\n",
       "    }\n",
       "\n",
       "    .dataframe thead th {\n",
       "        text-align: right;\n",
       "    }\n",
       "</style>\n",
       "<table border=\"1\" class=\"dataframe\">\n",
       "  <thead>\n",
       "    <tr style=\"text-align: right;\">\n",
       "      <th></th>\n",
       "      <th>이름</th>\n",
       "      <th>나이</th>\n",
       "      <th>직업</th>\n",
       "      <th>국적</th>\n",
       "      <th>키</th>\n",
       "      <th>재산</th>\n",
       "    </tr>\n",
       "  </thead>\n",
       "  <tbody>\n",
       "    <tr>\n",
       "      <th>0</th>\n",
       "      <td>아이언맨</td>\n",
       "      <td>58</td>\n",
       "      <td>CEO</td>\n",
       "      <td>미국</td>\n",
       "      <td>174</td>\n",
       "      <td>11500000000000</td>\n",
       "    </tr>\n",
       "    <tr>\n",
       "      <th>1</th>\n",
       "      <td>토르</td>\n",
       "      <td>45</td>\n",
       "      <td>신</td>\n",
       "      <td>아스가르드</td>\n",
       "      <td>190</td>\n",
       "      <td>NaN</td>\n",
       "    </tr>\n",
       "    <tr>\n",
       "      <th>2</th>\n",
       "      <td>스파이더맨</td>\n",
       "      <td>18</td>\n",
       "      <td>고등학생</td>\n",
       "      <td>미국</td>\n",
       "      <td>177</td>\n",
       "      <td>600</td>\n",
       "    </tr>\n",
       "    <tr>\n",
       "      <th>3</th>\n",
       "      <td>원더우먼</td>\n",
       "      <td>27</td>\n",
       "      <td>공주</td>\n",
       "      <td>데미스키라</td>\n",
       "      <td>178</td>\n",
       "      <td>NaN</td>\n",
       "    </tr>\n",
       "    <tr>\n",
       "      <th>4</th>\n",
       "      <td>헐크</td>\n",
       "      <td>33</td>\n",
       "      <td>핵물리학자</td>\n",
       "      <td>미국</td>\n",
       "      <td>270</td>\n",
       "      <td>1000000000</td>\n",
       "    </tr>\n",
       "    <tr>\n",
       "      <th>5</th>\n",
       "      <td>캡틴마블</td>\n",
       "      <td>25</td>\n",
       "      <td>파일럿</td>\n",
       "      <td>미국</td>\n",
       "      <td>170</td>\n",
       "      <td>340000000</td>\n",
       "    </tr>\n",
       "    <tr>\n",
       "      <th>6</th>\n",
       "      <td>블랙위도우</td>\n",
       "      <td>32</td>\n",
       "      <td>스파이</td>\n",
       "      <td>러시아</td>\n",
       "      <td>170</td>\n",
       "      <td>50000000</td>\n",
       "    </tr>\n",
       "  </tbody>\n",
       "</table>\n",
       "</div>"
      ],
      "text/plain": [
       "      이름  나이     직업     국적    키             재산\n",
       "0   아이언맨  58    CEO     미국  174 11500000000000\n",
       "1     토르  45      신  아스가르드  190            NaN\n",
       "2  스파이더맨  18   고등학생     미국  177            600\n",
       "3   원더우먼  27     공주  데미스키라  178            NaN\n",
       "4     헐크  33  핵물리학자     미국  270     1000000000\n",
       "5   캡틴마블  25    파일럿     미국  170      340000000\n",
       "6  블랙위도우  32    스파이    러시아  170       50000000"
      ]
     },
     "execution_count": 112,
     "metadata": {},
     "output_type": "execute_result"
    }
   ],
   "source": [
    "# 전투력 컬럼 삭제\n",
    "df.drop(columns = ['전투력'])   # 임시로 삭제 (원본 삭제 x)"
   ]
  },
  {
   "cell_type": "code",
   "execution_count": 113,
   "id": "5a795412",
   "metadata": {},
   "outputs": [
    {
     "data": {
      "text/html": [
       "<div>\n",
       "<style scoped>\n",
       "    .dataframe tbody tr th:only-of-type {\n",
       "        vertical-align: middle;\n",
       "    }\n",
       "\n",
       "    .dataframe tbody tr th {\n",
       "        vertical-align: top;\n",
       "    }\n",
       "\n",
       "    .dataframe thead th {\n",
       "        text-align: right;\n",
       "    }\n",
       "</style>\n",
       "<table border=\"1\" class=\"dataframe\">\n",
       "  <thead>\n",
       "    <tr style=\"text-align: right;\">\n",
       "      <th></th>\n",
       "      <th>이름</th>\n",
       "      <th>나이</th>\n",
       "      <th>직업</th>\n",
       "      <th>국적</th>\n",
       "      <th>키</th>\n",
       "      <th>재산</th>\n",
       "    </tr>\n",
       "  </thead>\n",
       "  <tbody>\n",
       "    <tr>\n",
       "      <th>0</th>\n",
       "      <td>아이언맨</td>\n",
       "      <td>58</td>\n",
       "      <td>CEO</td>\n",
       "      <td>미국</td>\n",
       "      <td>174</td>\n",
       "      <td>11500000000000</td>\n",
       "    </tr>\n",
       "    <tr>\n",
       "      <th>1</th>\n",
       "      <td>토르</td>\n",
       "      <td>45</td>\n",
       "      <td>신</td>\n",
       "      <td>아스가르드</td>\n",
       "      <td>190</td>\n",
       "      <td>NaN</td>\n",
       "    </tr>\n",
       "    <tr>\n",
       "      <th>2</th>\n",
       "      <td>스파이더맨</td>\n",
       "      <td>18</td>\n",
       "      <td>고등학생</td>\n",
       "      <td>미국</td>\n",
       "      <td>177</td>\n",
       "      <td>600</td>\n",
       "    </tr>\n",
       "    <tr>\n",
       "      <th>3</th>\n",
       "      <td>원더우먼</td>\n",
       "      <td>27</td>\n",
       "      <td>공주</td>\n",
       "      <td>데미스키라</td>\n",
       "      <td>178</td>\n",
       "      <td>NaN</td>\n",
       "    </tr>\n",
       "    <tr>\n",
       "      <th>4</th>\n",
       "      <td>헐크</td>\n",
       "      <td>33</td>\n",
       "      <td>핵물리학자</td>\n",
       "      <td>미국</td>\n",
       "      <td>270</td>\n",
       "      <td>1000000000</td>\n",
       "    </tr>\n",
       "    <tr>\n",
       "      <th>5</th>\n",
       "      <td>캡틴마블</td>\n",
       "      <td>25</td>\n",
       "      <td>파일럿</td>\n",
       "      <td>미국</td>\n",
       "      <td>170</td>\n",
       "      <td>340000000</td>\n",
       "    </tr>\n",
       "    <tr>\n",
       "      <th>6</th>\n",
       "      <td>블랙위도우</td>\n",
       "      <td>32</td>\n",
       "      <td>스파이</td>\n",
       "      <td>러시아</td>\n",
       "      <td>170</td>\n",
       "      <td>50000000</td>\n",
       "    </tr>\n",
       "  </tbody>\n",
       "</table>\n",
       "</div>"
      ],
      "text/plain": [
       "      이름  나이     직업     국적    키             재산\n",
       "0   아이언맨  58    CEO     미국  174 11500000000000\n",
       "1     토르  45      신  아스가르드  190            NaN\n",
       "2  스파이더맨  18   고등학생     미국  177            600\n",
       "3   원더우먼  27     공주  데미스키라  178            NaN\n",
       "4     헐크  33  핵물리학자     미국  270     1000000000\n",
       "5   캡틴마블  25    파일럿     미국  170      340000000\n",
       "6  블랙위도우  32    스파이    러시아  170       50000000"
      ]
     },
     "execution_count": 113,
     "metadata": {},
     "output_type": "execute_result"
    }
   ],
   "source": [
    "# 전투력 컬럼 원본에서 완전히 삭제\n",
    "df.drop(columns = ['전투력'], inplace = True)\n",
    "df"
   ]
  },
  {
   "cell_type": "code",
   "execution_count": 114,
   "id": "a2c3fe90",
   "metadata": {},
   "outputs": [
    {
     "data": {
      "text/html": [
       "<div>\n",
       "<style scoped>\n",
       "    .dataframe tbody tr th:only-of-type {\n",
       "        vertical-align: middle;\n",
       "    }\n",
       "\n",
       "    .dataframe tbody tr th {\n",
       "        vertical-align: top;\n",
       "    }\n",
       "\n",
       "    .dataframe thead th {\n",
       "        text-align: right;\n",
       "    }\n",
       "</style>\n",
       "<table border=\"1\" class=\"dataframe\">\n",
       "  <thead>\n",
       "    <tr style=\"text-align: right;\">\n",
       "      <th></th>\n",
       "      <th>이름</th>\n",
       "      <th>나이</th>\n",
       "      <th>직업</th>\n",
       "      <th>국적</th>\n",
       "      <th>키</th>\n",
       "      <th>재산</th>\n",
       "    </tr>\n",
       "  </thead>\n",
       "  <tbody>\n",
       "    <tr>\n",
       "      <th>0</th>\n",
       "      <td>아이언맨</td>\n",
       "      <td>58</td>\n",
       "      <td>CEO</td>\n",
       "      <td>미국</td>\n",
       "      <td>174</td>\n",
       "      <td>11500000000000</td>\n",
       "    </tr>\n",
       "    <tr>\n",
       "      <th>1</th>\n",
       "      <td>토르</td>\n",
       "      <td>45</td>\n",
       "      <td>신</td>\n",
       "      <td>아스가르드</td>\n",
       "      <td>190</td>\n",
       "      <td>NaN</td>\n",
       "    </tr>\n",
       "    <tr>\n",
       "      <th>2</th>\n",
       "      <td>스파이더맨</td>\n",
       "      <td>18</td>\n",
       "      <td>고등학생</td>\n",
       "      <td>미국</td>\n",
       "      <td>177</td>\n",
       "      <td>600</td>\n",
       "    </tr>\n",
       "    <tr>\n",
       "      <th>3</th>\n",
       "      <td>원더우먼</td>\n",
       "      <td>27</td>\n",
       "      <td>공주</td>\n",
       "      <td>데미스키라</td>\n",
       "      <td>178</td>\n",
       "      <td>NaN</td>\n",
       "    </tr>\n",
       "    <tr>\n",
       "      <th>4</th>\n",
       "      <td>헐크</td>\n",
       "      <td>33</td>\n",
       "      <td>핵물리학자</td>\n",
       "      <td>미국</td>\n",
       "      <td>270</td>\n",
       "      <td>1000000000</td>\n",
       "    </tr>\n",
       "    <tr>\n",
       "      <th>5</th>\n",
       "      <td>캡틴마블</td>\n",
       "      <td>25</td>\n",
       "      <td>파일럿</td>\n",
       "      <td>미국</td>\n",
       "      <td>170</td>\n",
       "      <td>340000000</td>\n",
       "    </tr>\n",
       "    <tr>\n",
       "      <th>6</th>\n",
       "      <td>블랙위도우</td>\n",
       "      <td>32</td>\n",
       "      <td>스파이</td>\n",
       "      <td>러시아</td>\n",
       "      <td>170</td>\n",
       "      <td>50000000</td>\n",
       "    </tr>\n",
       "  </tbody>\n",
       "</table>\n",
       "</div>"
      ],
      "text/plain": [
       "      이름  나이     직업     국적    키             재산\n",
       "0   아이언맨  58    CEO     미국  174 11500000000000\n",
       "1     토르  45      신  아스가르드  190            NaN\n",
       "2  스파이더맨  18   고등학생     미국  177            600\n",
       "3   원더우먼  27     공주  데미스키라  178            NaN\n",
       "4     헐크  33  핵물리학자     미국  270     1000000000\n",
       "5   캡틴마블  25    파일럿     미국  170      340000000\n",
       "6  블랙위도우  32    스파이    러시아  170       50000000"
      ]
     },
     "execution_count": 114,
     "metadata": {},
     "output_type": "execute_result"
    }
   ],
   "source": [
    "# 전투력 컬럼 원본에서 완전히 삭제2\n",
    "df['전투력'] = 98\n",
    "df = df.drop(columns = ['전투력'])\n",
    "df"
   ]
  },
  {
   "cell_type": "markdown",
   "id": "1aa3dc14",
   "metadata": {},
   "source": [
    "결측치 삭제\n",
    "- 빈 값이 있는 데이터가 있는 행 삭제 (axis=0이 기본값)\n",
    "> 데이터프레임명.dropna()\n",
    "\n",
    "- 빈 값이 있는 데이터가 있는 열 삭제 \n",
    "> 데이터프레임명.dropna(axis = 1)"
   ]
  },
  {
   "cell_type": "code",
   "execution_count": 115,
   "id": "bb464a8d",
   "metadata": {},
   "outputs": [
    {
     "name": "stdout",
     "output_type": "stream",
     "text": [
      "<class 'pandas.core.frame.DataFrame'>\n",
      "RangeIndex: 7 entries, 0 to 6\n",
      "Data columns (total 6 columns):\n",
      " #   Column  Non-Null Count  Dtype  \n",
      "---  ------  --------------  -----  \n",
      " 0   이름      7 non-null      object \n",
      " 1   나이      7 non-null      int64  \n",
      " 2   직업      7 non-null      object \n",
      " 3   국적      7 non-null      object \n",
      " 4   키       7 non-null      int64  \n",
      " 5   재산      5 non-null      float64\n",
      "dtypes: float64(1), int64(2), object(3)\n",
      "memory usage: 464.0+ bytes\n"
     ]
    }
   ],
   "source": [
    "# 결측치 있는 지 확인\n",
    "df.info()"
   ]
  },
  {
   "cell_type": "code",
   "execution_count": 116,
   "id": "1ddb6fa1",
   "metadata": {},
   "outputs": [
    {
     "data": {
      "text/plain": [
       "0    False\n",
       "1     True\n",
       "2    False\n",
       "3     True\n",
       "4    False\n",
       "5    False\n",
       "6    False\n",
       "Name: 재산, dtype: bool"
      ]
     },
     "execution_count": 116,
     "metadata": {},
     "output_type": "execute_result"
    }
   ],
   "source": [
    "# 재산에 있는게 결측치 인지 확인\n",
    "df['재산'].isnull()"
   ]
  },
  {
   "cell_type": "code",
   "execution_count": 117,
   "id": "c61d1ff3",
   "metadata": {},
   "outputs": [
    {
     "data": {
      "text/plain": [
       "이름    0\n",
       "나이    0\n",
       "직업    0\n",
       "국적    0\n",
       "키     0\n",
       "재산    2\n",
       "dtype: int64"
      ]
     },
     "execution_count": 117,
     "metadata": {},
     "output_type": "execute_result"
    }
   ],
   "source": [
    "# 결측치가 총 몇 개인지 확인\n",
    "df.isnull().sum()"
   ]
  },
  {
   "cell_type": "code",
   "execution_count": 118,
   "id": "7506c7f0",
   "metadata": {},
   "outputs": [
    {
     "data": {
      "text/html": [
       "<div>\n",
       "<style scoped>\n",
       "    .dataframe tbody tr th:only-of-type {\n",
       "        vertical-align: middle;\n",
       "    }\n",
       "\n",
       "    .dataframe tbody tr th {\n",
       "        vertical-align: top;\n",
       "    }\n",
       "\n",
       "    .dataframe thead th {\n",
       "        text-align: right;\n",
       "    }\n",
       "</style>\n",
       "<table border=\"1\" class=\"dataframe\">\n",
       "  <thead>\n",
       "    <tr style=\"text-align: right;\">\n",
       "      <th></th>\n",
       "      <th>이름</th>\n",
       "      <th>나이</th>\n",
       "      <th>직업</th>\n",
       "      <th>국적</th>\n",
       "      <th>키</th>\n",
       "      <th>재산</th>\n",
       "    </tr>\n",
       "  </thead>\n",
       "  <tbody>\n",
       "    <tr>\n",
       "      <th>1</th>\n",
       "      <td>토르</td>\n",
       "      <td>45</td>\n",
       "      <td>신</td>\n",
       "      <td>아스가르드</td>\n",
       "      <td>190</td>\n",
       "      <td>NaN</td>\n",
       "    </tr>\n",
       "    <tr>\n",
       "      <th>3</th>\n",
       "      <td>원더우먼</td>\n",
       "      <td>27</td>\n",
       "      <td>공주</td>\n",
       "      <td>데미스키라</td>\n",
       "      <td>178</td>\n",
       "      <td>NaN</td>\n",
       "    </tr>\n",
       "  </tbody>\n",
       "</table>\n",
       "</div>"
      ],
      "text/plain": [
       "     이름  나이  직업     국적    키  재산\n",
       "1    토르  45   신  아스가르드  190 NaN\n",
       "3  원더우먼  27  공주  데미스키라  178 NaN"
      ]
     },
     "execution_count": 118,
     "metadata": {},
     "output_type": "execute_result"
    }
   ],
   "source": [
    "# 재산의 결측치에 있는 데이터가 무엇인지 확인\n",
    "df[df['재산'].isnull()]"
   ]
  },
  {
   "cell_type": "code",
   "execution_count": 119,
   "id": "e6abf578",
   "metadata": {},
   "outputs": [
    {
     "data": {
      "text/html": [
       "<div>\n",
       "<style scoped>\n",
       "    .dataframe tbody tr th:only-of-type {\n",
       "        vertical-align: middle;\n",
       "    }\n",
       "\n",
       "    .dataframe tbody tr th {\n",
       "        vertical-align: top;\n",
       "    }\n",
       "\n",
       "    .dataframe thead th {\n",
       "        text-align: right;\n",
       "    }\n",
       "</style>\n",
       "<table border=\"1\" class=\"dataframe\">\n",
       "  <thead>\n",
       "    <tr style=\"text-align: right;\">\n",
       "      <th></th>\n",
       "      <th>이름</th>\n",
       "      <th>나이</th>\n",
       "      <th>직업</th>\n",
       "      <th>국적</th>\n",
       "      <th>키</th>\n",
       "      <th>재산</th>\n",
       "    </tr>\n",
       "  </thead>\n",
       "  <tbody>\n",
       "    <tr>\n",
       "      <th>0</th>\n",
       "      <td>아이언맨</td>\n",
       "      <td>58</td>\n",
       "      <td>CEO</td>\n",
       "      <td>미국</td>\n",
       "      <td>174</td>\n",
       "      <td>11500000000000</td>\n",
       "    </tr>\n",
       "    <tr>\n",
       "      <th>2</th>\n",
       "      <td>스파이더맨</td>\n",
       "      <td>18</td>\n",
       "      <td>고등학생</td>\n",
       "      <td>미국</td>\n",
       "      <td>177</td>\n",
       "      <td>600</td>\n",
       "    </tr>\n",
       "    <tr>\n",
       "      <th>4</th>\n",
       "      <td>헐크</td>\n",
       "      <td>33</td>\n",
       "      <td>핵물리학자</td>\n",
       "      <td>미국</td>\n",
       "      <td>270</td>\n",
       "      <td>1000000000</td>\n",
       "    </tr>\n",
       "    <tr>\n",
       "      <th>5</th>\n",
       "      <td>캡틴마블</td>\n",
       "      <td>25</td>\n",
       "      <td>파일럿</td>\n",
       "      <td>미국</td>\n",
       "      <td>170</td>\n",
       "      <td>340000000</td>\n",
       "    </tr>\n",
       "    <tr>\n",
       "      <th>6</th>\n",
       "      <td>블랙위도우</td>\n",
       "      <td>32</td>\n",
       "      <td>스파이</td>\n",
       "      <td>러시아</td>\n",
       "      <td>170</td>\n",
       "      <td>50000000</td>\n",
       "    </tr>\n",
       "  </tbody>\n",
       "</table>\n",
       "</div>"
      ],
      "text/plain": [
       "      이름  나이     직업   국적    키             재산\n",
       "0   아이언맨  58    CEO   미국  174 11500000000000\n",
       "2  스파이더맨  18   고등학생   미국  177            600\n",
       "4     헐크  33  핵물리학자   미국  270     1000000000\n",
       "5   캡틴마블  25    파일럿   미국  170      340000000\n",
       "6  블랙위도우  32    스파이  러시아  170       50000000"
      ]
     },
     "execution_count": 119,
     "metadata": {},
     "output_type": "execute_result"
    }
   ],
   "source": [
    "# 결측치가 있는 행 삭제\n",
    "df.dropna() # 임시로 삭제 (원본 삭제 x)"
   ]
  },
  {
   "cell_type": "markdown",
   "id": "869f7da1",
   "metadata": {},
   "source": [
    "결측치에 값 채우기\n",
    "- 결측치에 어떤 값으로 채우기\n",
    "> 데이터프레임명.fillna( )"
   ]
  },
  {
   "cell_type": "code",
   "execution_count": 120,
   "id": "869394b9",
   "metadata": {},
   "outputs": [
    {
     "data": {
      "text/plain": [
       "0   11500000000000\n",
       "1    2300278000120\n",
       "2              600\n",
       "3    2300278000120\n",
       "4       1000000000\n",
       "5        340000000\n",
       "6         50000000\n",
       "Name: 재산, dtype: float64"
      ]
     },
     "execution_count": 120,
     "metadata": {},
     "output_type": "execute_result"
    }
   ],
   "source": [
    "# 결측값을 평균값으로 채우기\n",
    "df['재산'].fillna(df['재산'].mean())    # (원본 x)"
   ]
  },
  {
   "cell_type": "code",
   "execution_count": 121,
   "id": "865131f2",
   "metadata": {},
   "outputs": [
    {
     "name": "stderr",
     "output_type": "stream",
     "text": [
      "C:\\Users\\EL087\\AppData\\Local\\Temp\\ipykernel_11724\\916192087.py:2: FutureWarning: DataFrame.fillna with 'method' is deprecated and will raise in a future version. Use obj.ffill() or obj.bfill() instead.\n",
      "  df.fillna(method = 'ffill')     # 원본 X\n"
     ]
    },
    {
     "data": {
      "text/html": [
       "<div>\n",
       "<style scoped>\n",
       "    .dataframe tbody tr th:only-of-type {\n",
       "        vertical-align: middle;\n",
       "    }\n",
       "\n",
       "    .dataframe tbody tr th {\n",
       "        vertical-align: top;\n",
       "    }\n",
       "\n",
       "    .dataframe thead th {\n",
       "        text-align: right;\n",
       "    }\n",
       "</style>\n",
       "<table border=\"1\" class=\"dataframe\">\n",
       "  <thead>\n",
       "    <tr style=\"text-align: right;\">\n",
       "      <th></th>\n",
       "      <th>이름</th>\n",
       "      <th>나이</th>\n",
       "      <th>직업</th>\n",
       "      <th>국적</th>\n",
       "      <th>키</th>\n",
       "      <th>재산</th>\n",
       "    </tr>\n",
       "  </thead>\n",
       "  <tbody>\n",
       "    <tr>\n",
       "      <th>0</th>\n",
       "      <td>아이언맨</td>\n",
       "      <td>58</td>\n",
       "      <td>CEO</td>\n",
       "      <td>미국</td>\n",
       "      <td>174</td>\n",
       "      <td>11500000000000</td>\n",
       "    </tr>\n",
       "    <tr>\n",
       "      <th>1</th>\n",
       "      <td>토르</td>\n",
       "      <td>45</td>\n",
       "      <td>신</td>\n",
       "      <td>아스가르드</td>\n",
       "      <td>190</td>\n",
       "      <td>11500000000000</td>\n",
       "    </tr>\n",
       "    <tr>\n",
       "      <th>2</th>\n",
       "      <td>스파이더맨</td>\n",
       "      <td>18</td>\n",
       "      <td>고등학생</td>\n",
       "      <td>미국</td>\n",
       "      <td>177</td>\n",
       "      <td>600</td>\n",
       "    </tr>\n",
       "    <tr>\n",
       "      <th>3</th>\n",
       "      <td>원더우먼</td>\n",
       "      <td>27</td>\n",
       "      <td>공주</td>\n",
       "      <td>데미스키라</td>\n",
       "      <td>178</td>\n",
       "      <td>600</td>\n",
       "    </tr>\n",
       "    <tr>\n",
       "      <th>4</th>\n",
       "      <td>헐크</td>\n",
       "      <td>33</td>\n",
       "      <td>핵물리학자</td>\n",
       "      <td>미국</td>\n",
       "      <td>270</td>\n",
       "      <td>1000000000</td>\n",
       "    </tr>\n",
       "    <tr>\n",
       "      <th>5</th>\n",
       "      <td>캡틴마블</td>\n",
       "      <td>25</td>\n",
       "      <td>파일럿</td>\n",
       "      <td>미국</td>\n",
       "      <td>170</td>\n",
       "      <td>340000000</td>\n",
       "    </tr>\n",
       "    <tr>\n",
       "      <th>6</th>\n",
       "      <td>블랙위도우</td>\n",
       "      <td>32</td>\n",
       "      <td>스파이</td>\n",
       "      <td>러시아</td>\n",
       "      <td>170</td>\n",
       "      <td>50000000</td>\n",
       "    </tr>\n",
       "  </tbody>\n",
       "</table>\n",
       "</div>"
      ],
      "text/plain": [
       "      이름  나이     직업     국적    키             재산\n",
       "0   아이언맨  58    CEO     미국  174 11500000000000\n",
       "1     토르  45      신  아스가르드  190 11500000000000\n",
       "2  스파이더맨  18   고등학생     미국  177            600\n",
       "3   원더우먼  27     공주  데미스키라  178            600\n",
       "4     헐크  33  핵물리학자     미국  270     1000000000\n",
       "5   캡틴마블  25    파일럿     미국  170      340000000\n",
       "6  블랙위도우  32    스파이    러시아  170       50000000"
      ]
     },
     "execution_count": 121,
     "metadata": {},
     "output_type": "execute_result"
    }
   ],
   "source": [
    "# 결측치를 앞에 있는 값으로 채움\n",
    "df.fillna(method = 'ffill')     # 원본 X"
   ]
  },
  {
   "cell_type": "code",
   "execution_count": 122,
   "id": "d752fa12",
   "metadata": {},
   "outputs": [
    {
     "name": "stderr",
     "output_type": "stream",
     "text": [
      "C:\\Users\\EL087\\AppData\\Local\\Temp\\ipykernel_11724\\1367382012.py:2: FutureWarning: DataFrame.fillna with 'method' is deprecated and will raise in a future version. Use obj.ffill() or obj.bfill() instead.\n",
      "  df.fillna(method = 'bfill')     # 원본 X\n"
     ]
    },
    {
     "data": {
      "text/html": [
       "<div>\n",
       "<style scoped>\n",
       "    .dataframe tbody tr th:only-of-type {\n",
       "        vertical-align: middle;\n",
       "    }\n",
       "\n",
       "    .dataframe tbody tr th {\n",
       "        vertical-align: top;\n",
       "    }\n",
       "\n",
       "    .dataframe thead th {\n",
       "        text-align: right;\n",
       "    }\n",
       "</style>\n",
       "<table border=\"1\" class=\"dataframe\">\n",
       "  <thead>\n",
       "    <tr style=\"text-align: right;\">\n",
       "      <th></th>\n",
       "      <th>이름</th>\n",
       "      <th>나이</th>\n",
       "      <th>직업</th>\n",
       "      <th>국적</th>\n",
       "      <th>키</th>\n",
       "      <th>재산</th>\n",
       "    </tr>\n",
       "  </thead>\n",
       "  <tbody>\n",
       "    <tr>\n",
       "      <th>0</th>\n",
       "      <td>아이언맨</td>\n",
       "      <td>58</td>\n",
       "      <td>CEO</td>\n",
       "      <td>미국</td>\n",
       "      <td>174</td>\n",
       "      <td>11500000000000</td>\n",
       "    </tr>\n",
       "    <tr>\n",
       "      <th>1</th>\n",
       "      <td>토르</td>\n",
       "      <td>45</td>\n",
       "      <td>신</td>\n",
       "      <td>아스가르드</td>\n",
       "      <td>190</td>\n",
       "      <td>600</td>\n",
       "    </tr>\n",
       "    <tr>\n",
       "      <th>2</th>\n",
       "      <td>스파이더맨</td>\n",
       "      <td>18</td>\n",
       "      <td>고등학생</td>\n",
       "      <td>미국</td>\n",
       "      <td>177</td>\n",
       "      <td>600</td>\n",
       "    </tr>\n",
       "    <tr>\n",
       "      <th>3</th>\n",
       "      <td>원더우먼</td>\n",
       "      <td>27</td>\n",
       "      <td>공주</td>\n",
       "      <td>데미스키라</td>\n",
       "      <td>178</td>\n",
       "      <td>1000000000</td>\n",
       "    </tr>\n",
       "    <tr>\n",
       "      <th>4</th>\n",
       "      <td>헐크</td>\n",
       "      <td>33</td>\n",
       "      <td>핵물리학자</td>\n",
       "      <td>미국</td>\n",
       "      <td>270</td>\n",
       "      <td>1000000000</td>\n",
       "    </tr>\n",
       "    <tr>\n",
       "      <th>5</th>\n",
       "      <td>캡틴마블</td>\n",
       "      <td>25</td>\n",
       "      <td>파일럿</td>\n",
       "      <td>미국</td>\n",
       "      <td>170</td>\n",
       "      <td>340000000</td>\n",
       "    </tr>\n",
       "    <tr>\n",
       "      <th>6</th>\n",
       "      <td>블랙위도우</td>\n",
       "      <td>32</td>\n",
       "      <td>스파이</td>\n",
       "      <td>러시아</td>\n",
       "      <td>170</td>\n",
       "      <td>50000000</td>\n",
       "    </tr>\n",
       "  </tbody>\n",
       "</table>\n",
       "</div>"
      ],
      "text/plain": [
       "      이름  나이     직업     국적    키             재산\n",
       "0   아이언맨  58    CEO     미국  174 11500000000000\n",
       "1     토르  45      신  아스가르드  190            600\n",
       "2  스파이더맨  18   고등학생     미국  177            600\n",
       "3   원더우먼  27     공주  데미스키라  178     1000000000\n",
       "4     헐크  33  핵물리학자     미국  270     1000000000\n",
       "5   캡틴마블  25    파일럿     미국  170      340000000\n",
       "6  블랙위도우  32    스파이    러시아  170       50000000"
      ]
     },
     "execution_count": 122,
     "metadata": {},
     "output_type": "execute_result"
    }
   ],
   "source": [
    "# 결측치를 뒤에 있는 값으로 채움\n",
    "df.fillna(method = 'bfill')     # 원본 X"
   ]
  },
  {
   "cell_type": "code",
   "execution_count": 123,
   "id": "e860a73e",
   "metadata": {},
   "outputs": [
    {
     "name": "stderr",
     "output_type": "stream",
     "text": [
      "C:\\Users\\EL087\\AppData\\Local\\Temp\\ipykernel_11724\\4203895847.py:2: FutureWarning: DataFrame.fillna with 'method' is deprecated and will raise in a future version. Use obj.ffill() or obj.bfill() instead.\n",
      "  df = df.fillna(method = 'ffill')\n"
     ]
    },
    {
     "data": {
      "text/html": [
       "<div>\n",
       "<style scoped>\n",
       "    .dataframe tbody tr th:only-of-type {\n",
       "        vertical-align: middle;\n",
       "    }\n",
       "\n",
       "    .dataframe tbody tr th {\n",
       "        vertical-align: top;\n",
       "    }\n",
       "\n",
       "    .dataframe thead th {\n",
       "        text-align: right;\n",
       "    }\n",
       "</style>\n",
       "<table border=\"1\" class=\"dataframe\">\n",
       "  <thead>\n",
       "    <tr style=\"text-align: right;\">\n",
       "      <th></th>\n",
       "      <th>이름</th>\n",
       "      <th>나이</th>\n",
       "      <th>직업</th>\n",
       "      <th>국적</th>\n",
       "      <th>키</th>\n",
       "      <th>재산</th>\n",
       "    </tr>\n",
       "  </thead>\n",
       "  <tbody>\n",
       "    <tr>\n",
       "      <th>0</th>\n",
       "      <td>아이언맨</td>\n",
       "      <td>58</td>\n",
       "      <td>CEO</td>\n",
       "      <td>미국</td>\n",
       "      <td>174</td>\n",
       "      <td>11500000000000</td>\n",
       "    </tr>\n",
       "    <tr>\n",
       "      <th>1</th>\n",
       "      <td>토르</td>\n",
       "      <td>45</td>\n",
       "      <td>신</td>\n",
       "      <td>아스가르드</td>\n",
       "      <td>190</td>\n",
       "      <td>11500000000000</td>\n",
       "    </tr>\n",
       "    <tr>\n",
       "      <th>2</th>\n",
       "      <td>스파이더맨</td>\n",
       "      <td>18</td>\n",
       "      <td>고등학생</td>\n",
       "      <td>미국</td>\n",
       "      <td>177</td>\n",
       "      <td>600</td>\n",
       "    </tr>\n",
       "    <tr>\n",
       "      <th>3</th>\n",
       "      <td>원더우먼</td>\n",
       "      <td>27</td>\n",
       "      <td>공주</td>\n",
       "      <td>데미스키라</td>\n",
       "      <td>178</td>\n",
       "      <td>600</td>\n",
       "    </tr>\n",
       "    <tr>\n",
       "      <th>4</th>\n",
       "      <td>헐크</td>\n",
       "      <td>33</td>\n",
       "      <td>핵물리학자</td>\n",
       "      <td>미국</td>\n",
       "      <td>270</td>\n",
       "      <td>1000000000</td>\n",
       "    </tr>\n",
       "    <tr>\n",
       "      <th>5</th>\n",
       "      <td>캡틴마블</td>\n",
       "      <td>25</td>\n",
       "      <td>파일럿</td>\n",
       "      <td>미국</td>\n",
       "      <td>170</td>\n",
       "      <td>340000000</td>\n",
       "    </tr>\n",
       "    <tr>\n",
       "      <th>6</th>\n",
       "      <td>블랙위도우</td>\n",
       "      <td>32</td>\n",
       "      <td>스파이</td>\n",
       "      <td>러시아</td>\n",
       "      <td>170</td>\n",
       "      <td>50000000</td>\n",
       "    </tr>\n",
       "  </tbody>\n",
       "</table>\n",
       "</div>"
      ],
      "text/plain": [
       "      이름  나이     직업     국적    키             재산\n",
       "0   아이언맨  58    CEO     미국  174 11500000000000\n",
       "1     토르  45      신  아스가르드  190 11500000000000\n",
       "2  스파이더맨  18   고등학생     미국  177            600\n",
       "3   원더우먼  27     공주  데미스키라  178            600\n",
       "4     헐크  33  핵물리학자     미국  270     1000000000\n",
       "5   캡틴마블  25    파일럿     미국  170      340000000\n",
       "6  블랙위도우  32    스파이    러시아  170       50000000"
      ]
     },
     "execution_count": 123,
     "metadata": {},
     "output_type": "execute_result"
    }
   ],
   "source": [
    "# 결측치의 값을 앞의 값으로 완전히 채움\n",
    "df = df.fillna(method = 'ffill')\n",
    "df"
   ]
  },
  {
   "cell_type": "code",
   "execution_count": 124,
   "id": "9e3c3042",
   "metadata": {},
   "outputs": [
    {
     "data": {
      "text/html": [
       "<div>\n",
       "<style scoped>\n",
       "    .dataframe tbody tr th:only-of-type {\n",
       "        vertical-align: middle;\n",
       "    }\n",
       "\n",
       "    .dataframe tbody tr th {\n",
       "        vertical-align: top;\n",
       "    }\n",
       "\n",
       "    .dataframe thead th {\n",
       "        text-align: right;\n",
       "    }\n",
       "</style>\n",
       "<table border=\"1\" class=\"dataframe\">\n",
       "  <thead>\n",
       "    <tr style=\"text-align: right;\">\n",
       "      <th></th>\n",
       "      <th>이름</th>\n",
       "      <th>나이</th>\n",
       "      <th>직업</th>\n",
       "      <th>국적</th>\n",
       "      <th>키</th>\n",
       "      <th>재산</th>\n",
       "    </tr>\n",
       "  </thead>\n",
       "  <tbody>\n",
       "    <tr>\n",
       "      <th>0</th>\n",
       "      <td>아이언맨</td>\n",
       "      <td>58</td>\n",
       "      <td>CEO</td>\n",
       "      <td>미국</td>\n",
       "      <td>174</td>\n",
       "      <td>11500000000000</td>\n",
       "    </tr>\n",
       "    <tr>\n",
       "      <th>1</th>\n",
       "      <td>토르</td>\n",
       "      <td>45</td>\n",
       "      <td>신</td>\n",
       "      <td>아스가르드</td>\n",
       "      <td>190</td>\n",
       "      <td>11500000000000</td>\n",
       "    </tr>\n",
       "    <tr>\n",
       "      <th>2</th>\n",
       "      <td>스파이더맨</td>\n",
       "      <td>18</td>\n",
       "      <td>고등학생</td>\n",
       "      <td>미국</td>\n",
       "      <td>177</td>\n",
       "      <td>600</td>\n",
       "    </tr>\n",
       "    <tr>\n",
       "      <th>3</th>\n",
       "      <td>원더우먼</td>\n",
       "      <td>27</td>\n",
       "      <td>공주</td>\n",
       "      <td>데미스키라</td>\n",
       "      <td>178</td>\n",
       "      <td>600</td>\n",
       "    </tr>\n",
       "    <tr>\n",
       "      <th>4</th>\n",
       "      <td>헐크</td>\n",
       "      <td>33</td>\n",
       "      <td>핵물리학자</td>\n",
       "      <td>미국</td>\n",
       "      <td>270</td>\n",
       "      <td>1000000000</td>\n",
       "    </tr>\n",
       "    <tr>\n",
       "      <th>5</th>\n",
       "      <td>캡틴마블</td>\n",
       "      <td>NaN</td>\n",
       "      <td>파일럿</td>\n",
       "      <td>미국</td>\n",
       "      <td>170</td>\n",
       "      <td>340000000</td>\n",
       "    </tr>\n",
       "    <tr>\n",
       "      <th>6</th>\n",
       "      <td>블랙위도우</td>\n",
       "      <td>32</td>\n",
       "      <td>스파이</td>\n",
       "      <td>러시아</td>\n",
       "      <td>170</td>\n",
       "      <td>50000000</td>\n",
       "    </tr>\n",
       "  </tbody>\n",
       "</table>\n",
       "</div>"
      ],
      "text/plain": [
       "      이름  나이     직업     국적    키             재산\n",
       "0   아이언맨  58    CEO     미국  174 11500000000000\n",
       "1     토르  45      신  아스가르드  190 11500000000000\n",
       "2  스파이더맨  18   고등학생     미국  177            600\n",
       "3   원더우먼  27     공주  데미스키라  178            600\n",
       "4     헐크  33  핵물리학자     미국  270     1000000000\n",
       "5   캡틴마블 NaN    파일럿     미국  170      340000000\n",
       "6  블랙위도우  32    스파이    러시아  170       50000000"
      ]
     },
     "execution_count": 124,
     "metadata": {},
     "output_type": "execute_result"
    }
   ],
   "source": [
    "# 결측치 생성\n",
    "df.iloc[5, 1] = np.nan\n",
    "df"
   ]
  },
  {
   "cell_type": "code",
   "execution_count": 125,
   "id": "f556b0b5",
   "metadata": {},
   "outputs": [
    {
     "data": {
      "text/html": [
       "<div>\n",
       "<style scoped>\n",
       "    .dataframe tbody tr th:only-of-type {\n",
       "        vertical-align: middle;\n",
       "    }\n",
       "\n",
       "    .dataframe tbody tr th {\n",
       "        vertical-align: top;\n",
       "    }\n",
       "\n",
       "    .dataframe thead th {\n",
       "        text-align: right;\n",
       "    }\n",
       "</style>\n",
       "<table border=\"1\" class=\"dataframe\">\n",
       "  <thead>\n",
       "    <tr style=\"text-align: right;\">\n",
       "      <th></th>\n",
       "      <th>이름</th>\n",
       "      <th>나이</th>\n",
       "      <th>직업</th>\n",
       "      <th>국적</th>\n",
       "      <th>키</th>\n",
       "      <th>재산</th>\n",
       "    </tr>\n",
       "  </thead>\n",
       "  <tbody>\n",
       "    <tr>\n",
       "      <th>0</th>\n",
       "      <td>아이언맨</td>\n",
       "      <td>58</td>\n",
       "      <td>CEO</td>\n",
       "      <td>미국</td>\n",
       "      <td>174</td>\n",
       "      <td>11500000000000</td>\n",
       "    </tr>\n",
       "    <tr>\n",
       "      <th>1</th>\n",
       "      <td>토르</td>\n",
       "      <td>45</td>\n",
       "      <td>신</td>\n",
       "      <td>아스가르드</td>\n",
       "      <td>190</td>\n",
       "      <td>11500000000000</td>\n",
       "    </tr>\n",
       "    <tr>\n",
       "      <th>2</th>\n",
       "      <td>스파이더맨</td>\n",
       "      <td>18</td>\n",
       "      <td>고등학생</td>\n",
       "      <td>미국</td>\n",
       "      <td>177</td>\n",
       "      <td>600</td>\n",
       "    </tr>\n",
       "    <tr>\n",
       "      <th>3</th>\n",
       "      <td>원더우먼</td>\n",
       "      <td>27</td>\n",
       "      <td>공주</td>\n",
       "      <td>데미스키라</td>\n",
       "      <td>178</td>\n",
       "      <td>600</td>\n",
       "    </tr>\n",
       "    <tr>\n",
       "      <th>4</th>\n",
       "      <td>헐크</td>\n",
       "      <td>33</td>\n",
       "      <td>핵물리학자</td>\n",
       "      <td>미국</td>\n",
       "      <td>270</td>\n",
       "      <td>1000000000</td>\n",
       "    </tr>\n",
       "    <tr>\n",
       "      <th>5</th>\n",
       "      <td>캡틴마블</td>\n",
       "      <td>36</td>\n",
       "      <td>파일럿</td>\n",
       "      <td>미국</td>\n",
       "      <td>170</td>\n",
       "      <td>340000000</td>\n",
       "    </tr>\n",
       "    <tr>\n",
       "      <th>6</th>\n",
       "      <td>블랙위도우</td>\n",
       "      <td>32</td>\n",
       "      <td>스파이</td>\n",
       "      <td>러시아</td>\n",
       "      <td>170</td>\n",
       "      <td>50000000</td>\n",
       "    </tr>\n",
       "  </tbody>\n",
       "</table>\n",
       "</div>"
      ],
      "text/plain": [
       "      이름  나이     직업     국적    키             재산\n",
       "0   아이언맨  58    CEO     미국  174 11500000000000\n",
       "1     토르  45      신  아스가르드  190 11500000000000\n",
       "2  스파이더맨  18   고등학생     미국  177            600\n",
       "3   원더우먼  27     공주  데미스키라  178            600\n",
       "4     헐크  33  핵물리학자     미국  270     1000000000\n",
       "5   캡틴마블  36    파일럿     미국  170      340000000\n",
       "6  블랙위도우  32    스파이    러시아  170       50000000"
      ]
     },
     "execution_count": 125,
     "metadata": {},
     "output_type": "execute_result"
    }
   ],
   "source": [
    "# 나이의 평균값으로 결측치 채움\n",
    "df = df.fillna(df['나이'].mean())\n",
    "df"
   ]
  },
  {
   "cell_type": "markdown",
   "id": "30325339",
   "metadata": {},
   "source": [
    "그룹별 데이터 집계\n",
    "- 컬럼 데이터를 기준으로 데이터를 집계\n",
    "> 데이터프레임명.groupby('컬럼명').통계함수( )"
   ]
  },
  {
   "cell_type": "code",
   "execution_count": 126,
   "id": "a4375125",
   "metadata": {},
   "outputs": [
    {
     "data": {
      "text/plain": [
       "국적\n",
       "데미스키라   27\n",
       "러시아     32\n",
       "미국      36\n",
       "아스가르드   45\n",
       "Name: 나이, dtype: float64"
      ]
     },
     "execution_count": 126,
     "metadata": {},
     "output_type": "execute_result"
    }
   ],
   "source": [
    "# 나라별 히어로들의 평균 나이\n",
    "df.groupby('국적')['나이'].mean()"
   ]
  },
  {
   "cell_type": "markdown",
   "id": "76f9b0aa",
   "metadata": {},
   "source": [
    "함수 적용\n",
    "- 컬럼에 함수를 일괄 적용\n",
    "> 데이터프레임명['컬럼명'].apply(함수명)"
   ]
  },
  {
   "cell_type": "code",
   "execution_count": 127,
   "id": "a32b3862",
   "metadata": {},
   "outputs": [
    {
     "data": {
      "text/html": [
       "<div>\n",
       "<style scoped>\n",
       "    .dataframe tbody tr th:only-of-type {\n",
       "        vertical-align: middle;\n",
       "    }\n",
       "\n",
       "    .dataframe tbody tr th {\n",
       "        vertical-align: top;\n",
       "    }\n",
       "\n",
       "    .dataframe thead th {\n",
       "        text-align: right;\n",
       "    }\n",
       "</style>\n",
       "<table border=\"1\" class=\"dataframe\">\n",
       "  <thead>\n",
       "    <tr style=\"text-align: right;\">\n",
       "      <th></th>\n",
       "      <th>이름</th>\n",
       "      <th>나이</th>\n",
       "      <th>직업</th>\n",
       "      <th>국적</th>\n",
       "      <th>키</th>\n",
       "      <th>재산</th>\n",
       "    </tr>\n",
       "  </thead>\n",
       "  <tbody>\n",
       "    <tr>\n",
       "      <th>0</th>\n",
       "      <td>아이언맨</td>\n",
       "      <td>58</td>\n",
       "      <td>CEO</td>\n",
       "      <td>미국</td>\n",
       "      <td>174cm</td>\n",
       "      <td>11500000000000</td>\n",
       "    </tr>\n",
       "    <tr>\n",
       "      <th>1</th>\n",
       "      <td>토르</td>\n",
       "      <td>45</td>\n",
       "      <td>신</td>\n",
       "      <td>아스가르드</td>\n",
       "      <td>190cm</td>\n",
       "      <td>11500000000000</td>\n",
       "    </tr>\n",
       "    <tr>\n",
       "      <th>2</th>\n",
       "      <td>스파이더맨</td>\n",
       "      <td>18</td>\n",
       "      <td>고등학생</td>\n",
       "      <td>미국</td>\n",
       "      <td>177cm</td>\n",
       "      <td>600</td>\n",
       "    </tr>\n",
       "    <tr>\n",
       "      <th>3</th>\n",
       "      <td>원더우먼</td>\n",
       "      <td>27</td>\n",
       "      <td>공주</td>\n",
       "      <td>데미스키라</td>\n",
       "      <td>178cm</td>\n",
       "      <td>600</td>\n",
       "    </tr>\n",
       "    <tr>\n",
       "      <th>4</th>\n",
       "      <td>헐크</td>\n",
       "      <td>33</td>\n",
       "      <td>핵물리학자</td>\n",
       "      <td>미국</td>\n",
       "      <td>270cm</td>\n",
       "      <td>1000000000</td>\n",
       "    </tr>\n",
       "    <tr>\n",
       "      <th>5</th>\n",
       "      <td>캡틴마블</td>\n",
       "      <td>36</td>\n",
       "      <td>파일럿</td>\n",
       "      <td>미국</td>\n",
       "      <td>170cm</td>\n",
       "      <td>340000000</td>\n",
       "    </tr>\n",
       "    <tr>\n",
       "      <th>6</th>\n",
       "      <td>블랙위도우</td>\n",
       "      <td>32</td>\n",
       "      <td>스파이</td>\n",
       "      <td>러시아</td>\n",
       "      <td>170cm</td>\n",
       "      <td>50000000</td>\n",
       "    </tr>\n",
       "  </tbody>\n",
       "</table>\n",
       "</div>"
      ],
      "text/plain": [
       "      이름  나이     직업     국적      키             재산\n",
       "0   아이언맨  58    CEO     미국  174cm 11500000000000\n",
       "1     토르  45      신  아스가르드  190cm 11500000000000\n",
       "2  스파이더맨  18   고등학생     미국  177cm            600\n",
       "3   원더우먼  27     공주  데미스키라  178cm            600\n",
       "4     헐크  33  핵물리학자     미국  270cm     1000000000\n",
       "5   캡틴마블  36    파일럿     미국  170cm      340000000\n",
       "6  블랙위도우  32    스파이    러시아  170cm       50000000"
      ]
     },
     "execution_count": 127,
     "metadata": {},
     "output_type": "execute_result"
    }
   ],
   "source": [
    "def add_cm(height):\n",
    "    return str(height) + 'cm'\n",
    "\n",
    "df['키']= df['키'].apply(add_cm)\n",
    "df"
   ]
  }
 ],
 "metadata": {
  "kernelspec": {
   "display_name": "Python 3",
   "language": "python",
   "name": "python3"
  },
  "language_info": {
   "codemirror_mode": {
    "name": "ipython",
    "version": 3
   },
   "file_extension": ".py",
   "mimetype": "text/x-python",
   "name": "python",
   "nbconvert_exporter": "python",
   "pygments_lexer": "ipython3",
   "version": "3.10.11"
  }
 },
 "nbformat": 4,
 "nbformat_minor": 5
}
