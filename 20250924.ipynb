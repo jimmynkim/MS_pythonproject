{
 "cells": [
  {
   "cell_type": "markdown",
   "id": "b8364910",
   "metadata": {},
   "source": [
    "## 파이썬 기본3"
   ]
  },
  {
   "cell_type": "markdown",
   "id": "c62258f1",
   "metadata": {},
   "source": [
    "### Numpy, Pandas, Matplotlib"
   ]
  },
  {
   "cell_type": "markdown",
   "id": "ff88cb52",
   "metadata": {},
   "source": [
    "#### Numpy"
   ]
  },
  {
   "cell_type": "markdown",
   "id": "a2666a57",
   "metadata": {},
   "source": [
    "넘파이(Numpy)\n",
    "\n",
    "- 대수, 행렬, 통계 등 수학 및 과학 연산을 위한 라이브러리\n",
    "- ndarray라는 다차원 배열을 데이터로 나타내고 처리하는데 특화\n",
    "- **실행속도가 빠르고 짧고 간결한 코드 구현**이 가능\n",
    "- Numpy는 외부 라이브러리이므로, 설치 후 사용 가능\n",
    "\n",
    "Numpy 배열과 파이썬 리스트의 차이\n",
    "\n",
    "- 파이썬 리스트는 배열에 실제 데이터의 주소가 담겨져 있음\n",
    "- 이것으로 인해 서로 다른 데이터타입을 리스트 요소로 넣을 수 있음\n",
    "- 반면 numpy 배열은 실제 데이터가 배열에 들어 있음\n",
    "- 리스트는 데이터를 읽고 쓰기에 numpy 배열보다 2배의 시간이 걸림\n",
    "- 대량의 배열 연산 또는 행렬 연산에는 numpy가 유리함\n",
    "\n",
    "넘파이 배열(Numpy Array)\n",
    "\n",
    "- 넘파이는 다차원 배열을 지원함 (1차원: Vector, 2차원: Matrix, 3차원 이상: Tensor)\n",
    "- 넘파이 배열은 한 가지 자료형 데이터를 요소로 가짐"
   ]
  },
  {
   "cell_type": "code",
   "execution_count": 1,
   "id": "655a992a",
   "metadata": {},
   "outputs": [],
   "source": [
    "# 시작하기 전 패키지 실행\n",
    "import numpy\n",
    "from bs4 import BeautifulSoup"
   ]
  },
  {
   "cell_type": "code",
   "execution_count": 2,
   "id": "092a86fb",
   "metadata": {},
   "outputs": [],
   "source": [
    "# numpy를 간결하게 별명 붙이기\n",
    "import numpy as np"
   ]
  },
  {
   "cell_type": "markdown",
   "id": "c7ce34f9",
   "metadata": {},
   "source": [
    "넘파이 배열 직접 생성\n",
    "- 리스트 데이터를 넘파이 배열로 바꾸어 생성\n",
    "> np.array(리스트)"
   ]
  },
  {
   "cell_type": "code",
   "execution_count": 3,
   "id": "13e2d881",
   "metadata": {},
   "outputs": [
    {
     "name": "stdout",
     "output_type": "stream",
     "text": [
      "[1 2 3 4]\n"
     ]
    }
   ],
   "source": [
    "num_list = [1, 2, 3, 4]\n",
    "int_arr2 = np.array(num_list)\n",
    "print(int_arr2)     # 넘파이 배열은 ',' 없이 공백으로 데이터 구분"
   ]
  },
  {
   "cell_type": "markdown",
   "id": "a8efb3d7",
   "metadata": {},
   "source": [
    "배열의 범위를 지정하여 생성\n",
    "- 시작 인덱스부터 시작하여 끝 인덱스 전까지, 간격만큼 더해 넘파이 배열 생성\n",
    "> np.arange (시작 인덱스, 끝 인덱스, 간격)"
   ]
  },
  {
   "cell_type": "code",
   "execution_count": 4,
   "id": "b9a654f6",
   "metadata": {},
   "outputs": [
    {
     "data": {
      "text/plain": [
       "array([0, 1, 2, 3, 4, 5, 6, 7, 8, 9])"
      ]
     },
     "execution_count": 4,
     "metadata": {},
     "output_type": "execute_result"
    }
   ],
   "source": [
    "arr1 = np.arange(0, 10)\n",
    "arr1"
   ]
  },
  {
   "cell_type": "code",
   "execution_count": 5,
   "id": "6d1ec71a",
   "metadata": {},
   "outputs": [
    {
     "data": {
      "text/plain": [
       "array([0, 2, 4, 6, 8])"
      ]
     },
     "execution_count": 5,
     "metadata": {},
     "output_type": "execute_result"
    }
   ],
   "source": [
    "arr2 = np.arange(0, 10, 2)\n",
    "arr2"
   ]
  },
  {
   "cell_type": "code",
   "execution_count": 6,
   "id": "831a6a31",
   "metadata": {},
   "outputs": [
    {
     "data": {
      "text/plain": [
       "array([0, 1, 2, 3, 4])"
      ]
     },
     "execution_count": 6,
     "metadata": {},
     "output_type": "execute_result"
    }
   ],
   "source": [
    "arr3 = np.arange(5)\n",
    "arr3"
   ]
  },
  {
   "cell_type": "markdown",
   "id": "30a4b45a",
   "metadata": {},
   "source": [
    "넘파이 배열에 들어가는 자료형\n",
    "- 한 가지 데이터 타입으로 통일되어 처리됨\n"
   ]
  },
  {
   "cell_type": "code",
   "execution_count": 7,
   "id": "128cbec7",
   "metadata": {},
   "outputs": [
    {
     "name": "stdout",
     "output_type": "stream",
     "text": [
      "['1' '2' '3']\n"
     ]
    }
   ],
   "source": [
    "list_data = [1, '2', 3]\n",
    "arr = np.array(list_data)   # 문자열형으로 통일\n",
    "print(arr)  "
   ]
  },
  {
   "cell_type": "code",
   "execution_count": 8,
   "id": "430ab64d",
   "metadata": {},
   "outputs": [
    {
     "name": "stdout",
     "output_type": "stream",
     "text": [
      "[1. 2. 3.]\n"
     ]
    }
   ],
   "source": [
    "list_data = [1, 2., 3]\n",
    "arr = np.array(list_data)    # 실수형으로 통일\n",
    "print(arr)                   # 넘파이는 소수점 아래 0이 계속 되는 경우 이를 생략\n",
    "                             # 소수점만 표시해 해당 원소가 실수형임을 알림"
   ]
  },
  {
   "cell_type": "markdown",
   "id": "759bbd9a",
   "metadata": {},
   "source": [
    "2차원 배열 생성\n",
    "- 2차원 배열은 행렬(matrix)이라고 함\n",
    "- 가로줄은 행(row), 세로줄은 열(column)"
   ]
  },
  {
   "cell_type": "code",
   "execution_count": 9,
   "id": "db022998",
   "metadata": {},
   "outputs": [
    {
     "name": "stdout",
     "output_type": "stream",
     "text": [
      "[[ 1  2  3  4]\n",
      " [ 5  6  7  8]\n",
      " [ 9 10 11 12]]\n"
     ]
    }
   ],
   "source": [
    "arr = np.array([[1, 2, 3, 4], [5, 6, 7, 8], [9, 10, 11, 12]])  # 중첩된 2차원 리스트\n",
    "print(arr)"
   ]
  },
  {
   "cell_type": "markdown",
   "id": "a47cc44f",
   "metadata": {},
   "source": [
    "3차원 배열 생성\n",
    "- 3차원 이상의 배열은 tensor이라고 함"
   ]
  },
  {
   "cell_type": "code",
   "execution_count": 10,
   "id": "78f6cbc8",
   "metadata": {},
   "outputs": [
    {
     "name": "stdout",
     "output_type": "stream",
     "text": [
      "[[[ 1  2  3  4]\n",
      "  [ 5  6  7  8]]\n",
      "\n",
      " [[ 9 10 11 12]\n",
      "  [13 14 15 16]]\n",
      "\n",
      " [[17 18 19 20]\n",
      "  [21 22 23 24]]]\n"
     ]
    }
   ],
   "source": [
    "arr = np.array([[[1, 2, 3, 4], [5, 6, 7, 8]], \n",
    "                [[9, 10, 11, 12], [13, 14, 15, 16]],\n",
    "                [[17, 18, 19, 20], [21, 22, 23, 24]]])\n",
    "print(arr)"
   ]
  },
  {
   "cell_type": "markdown",
   "id": "19a30574",
   "metadata": {},
   "source": [
    "넘파이 배열의 차원\n",
    "> 넘파이 배열명.ndim"
   ]
  },
  {
   "cell_type": "code",
   "execution_count": 11,
   "id": "e2b9be29",
   "metadata": {},
   "outputs": [
    {
     "name": "stdout",
     "output_type": "stream",
     "text": [
      "[1 2 3 4]\n",
      "1\n"
     ]
    }
   ],
   "source": [
    "arr = np.array([1, 2, 3, 4])    # 1차원 리스트\n",
    "\n",
    "print(arr)\n",
    "print(arr.ndim)    "
   ]
  },
  {
   "cell_type": "code",
   "execution_count": 12,
   "id": "95ac250c",
   "metadata": {},
   "outputs": [
    {
     "name": "stdout",
     "output_type": "stream",
     "text": [
      "[[1 2 3 4]\n",
      " [5 6 7 8]]\n",
      "2\n"
     ]
    }
   ],
   "source": [
    "arr = np.array([[1, 2, 3, 4], [5, 6, 7, 8]])  # 중첩된 2차원 리스트\n",
    "print(arr)\n",
    "print(arr.ndim) "
   ]
  },
  {
   "cell_type": "markdown",
   "id": "3eaca262",
   "metadata": {},
   "source": [
    "넘파이 배열의 크기\n",
    "> 넘파이 배열명.shape"
   ]
  },
  {
   "cell_type": "code",
   "execution_count": 13,
   "id": "3073eba3",
   "metadata": {},
   "outputs": [
    {
     "name": "stdout",
     "output_type": "stream",
     "text": [
      "[1 2 3 4]\n",
      "(4,)\n"
     ]
    }
   ],
   "source": [
    "arr = np.array([1, 2, 3, 4])    # 1차원 요소수가 4개\n",
    "\n",
    "print(arr)\n",
    "print(arr.shape) "
   ]
  },
  {
   "cell_type": "code",
   "execution_count": 14,
   "id": "dba4e2e4",
   "metadata": {},
   "outputs": [
    {
     "name": "stdout",
     "output_type": "stream",
     "text": [
      "[[1 2 3 4]\n",
      " [5 6 7 8]]\n",
      "(2, 4)\n"
     ]
    }
   ],
   "source": [
    "arr = np.array([[1, 2, 3, 4], [5, 6, 7, 8]])  # 2차원 (2행 4열)\n",
    "print(arr)\n",
    "print(arr.shape) "
   ]
  },
  {
   "cell_type": "markdown",
   "id": "dab378db",
   "metadata": {},
   "source": [
    "넘파이 배열의 차원 변경\n",
    "> 넘파이 배열명.reshape(크기)"
   ]
  },
  {
   "cell_type": "code",
   "execution_count": 15,
   "id": "3a0236be",
   "metadata": {},
   "outputs": [
    {
     "name": "stdout",
     "output_type": "stream",
     "text": [
      "1\n",
      "(10,)\n",
      "[[ 1  2  3  4  5]\n",
      " [ 6  7  8  9 10]]\n",
      "2\n",
      "(2, 5)\n"
     ]
    }
   ],
   "source": [
    "arr = np.array([1, 2, 3, 4, 5, 6, 7, 8, 9, 10])\n",
    "print(arr.ndim)\n",
    "print(arr.shape)\n",
    "\n",
    "arr2 = arr.reshape(2, 5)    # 2행 5열로 변경\n",
    "print(arr2)\n",
    "print(arr2.ndim)\n",
    "print(arr2.shape)"
   ]
  },
  {
   "cell_type": "code",
   "execution_count": 16,
   "id": "c6616f6a",
   "metadata": {},
   "outputs": [
    {
     "name": "stdout",
     "output_type": "stream",
     "text": [
      "[[ 1  2  3  4  5]\n",
      " [ 6  7  8  9 10]]\n",
      "2\n",
      "(2, 5)\n"
     ]
    }
   ],
   "source": [
    "arr = np.array([1, 2, 3, 4, 5, 6, 7, 8, 9, 10])\n",
    "\n",
    "arr2 = arr.reshape(2, -1)   # -1은 NumPy가 배열의 크기를 자동으로 계산(열의 수 자동 결정)\n",
    "print(arr2)\n",
    "print(arr2.ndim)\n",
    "print(arr2.shape)"
   ]
  },
  {
   "cell_type": "code",
   "execution_count": 17,
   "id": "80819d46",
   "metadata": {},
   "outputs": [
    {
     "name": "stdout",
     "output_type": "stream",
     "text": [
      "[[ 1  2]\n",
      " [ 3  4]\n",
      " [ 5  6]\n",
      " [ 7  8]\n",
      " [ 9 10]]\n",
      "2\n",
      "(5, 2)\n"
     ]
    }
   ],
   "source": [
    "arr = np.array([1, 2, 3, 4, 5, 6, 7, 8, 9, 10])\n",
    "\n",
    "arr2 = arr.reshape(5, -1) \n",
    "print(arr2)\n",
    "print(arr2.ndim)\n",
    "print(arr2.shape)"
   ]
  },
  {
   "cell_type": "markdown",
   "id": "0d777bc1",
   "metadata": {},
   "source": [
    "넘파이 연산\n",
    "- shape이 같다면 덧셈, 뺄셈, 곱셈, 나눗셈 연산 가능"
   ]
  },
  {
   "cell_type": "code",
   "execution_count": 18,
   "id": "bc0cfb0d",
   "metadata": {},
   "outputs": [
    {
     "name": "stdout",
     "output_type": "stream",
     "text": [
      "[5 7 9]\n",
      "[-3 -3 -3]\n",
      "[ 4 10 18]\n",
      "[0.25 0.4  0.5 ]\n"
     ]
    }
   ],
   "source": [
    "a = np.array([1, 2, 3])     # 동일한 인덱스끼리 연산\n",
    "b = np.array([4, 5, 6])\n",
    "\n",
    "print(a + b)\n",
    "print(a - b)\n",
    "print(a * b)\n",
    "print(a / b)"
   ]
  },
  {
   "cell_type": "code",
   "execution_count": 19,
   "id": "cf4c1ec5",
   "metadata": {},
   "outputs": [
    {
     "name": "stdout",
     "output_type": "stream",
     "text": [
      "[2 3 4]\n",
      "[0 1 2]\n",
      "[3 6 9]\n",
      "[0.5 1.  1.5]\n"
     ]
    }
   ],
   "source": [
    "# 벡터화 연산 (모든 요소에 일괄적으로 연산 적용)\n",
    "a = np.array([1, 2, 3])\n",
    "\n",
    "print(a + 1)\n",
    "print(a - 1)\n",
    "print(a * 3)\n",
    "print(a / 2)"
   ]
  },
  {
   "cell_type": "markdown",
   "id": "c26cc39c",
   "metadata": {},
   "source": [
    "배열의 범위와 개수를 지정하여 생성\n",
    "- 시작 인덱스부터 끝 인덱스까지 n개의 요소를 갖는 넘파이을 생성\n",
    "> np.linspace(시작 인덱스, 끝 인덱스, 개수 n)"
   ]
  },
  {
   "cell_type": "code",
   "execution_count": 20,
   "id": "db0d64a0",
   "metadata": {},
   "outputs": [
    {
     "name": "stdout",
     "output_type": "stream",
     "text": [
      "[ 1.  2.  3.  4.  5.  6.  7.  8.  9. 10.]\n",
      "float64\n"
     ]
    }
   ],
   "source": [
    "arr = np.linspace(1, 10, 10)\n",
    "\n",
    "print(arr)\n",
    "print(arr.dtype)"
   ]
  },
  {
   "cell_type": "code",
   "execution_count": 21,
   "id": "374abe1d",
   "metadata": {},
   "outputs": [
    {
     "name": "stdout",
     "output_type": "stream",
     "text": [
      "[0.         0.34906585 0.6981317  1.04719755 1.3962634  1.74532925\n",
      " 2.0943951  2.44346095 2.7925268  3.14159265]\n",
      "float64\n"
     ]
    }
   ],
   "source": [
    "arr = np.linspace(0, np.pi, 10)     # 0부터 파이까지 동일한 간격으로 10개의 데이터 생성\n",
    "\n",
    "print(arr)\n",
    "print(arr.dtype)"
   ]
  },
  {
   "cell_type": "markdown",
   "id": "8e27aa26",
   "metadata": {},
   "source": [
    "< 특별한 값을 갖는 배열 생성 >"
   ]
  },
  {
   "cell_type": "markdown",
   "id": "551bc00d",
   "metadata": {},
   "source": [
    "np.zeros( ): 모든 요소가 0인 배열을 생성\n",
    "> np.zeros(shape, dtype=float)"
   ]
  },
  {
   "cell_type": "code",
   "execution_count": 22,
   "id": "82ba0827",
   "metadata": {},
   "outputs": [
    {
     "name": "stdout",
     "output_type": "stream",
     "text": [
      "[0. 0. 0. 0. 0. 0. 0. 0. 0. 0.]\n"
     ]
    }
   ],
   "source": [
    "# np.zeros()\n",
    "arr = np.zeros(10)\n",
    "print(arr)"
   ]
  },
  {
   "cell_type": "code",
   "execution_count": 23,
   "id": "0319665a",
   "metadata": {},
   "outputs": [
    {
     "name": "stdout",
     "output_type": "stream",
     "text": [
      "[0 0 0 0 0 0 0 0 0 0]\n"
     ]
    }
   ],
   "source": [
    "arr = np.zeros(10, dtype = int)\n",
    "print(arr)"
   ]
  },
  {
   "cell_type": "code",
   "execution_count": 24,
   "id": "7d987dad",
   "metadata": {},
   "outputs": [
    {
     "name": "stdout",
     "output_type": "stream",
     "text": [
      "[[0. 0. 0. 0. 0.]\n",
      " [0. 0. 0. 0. 0.]]\n"
     ]
    }
   ],
   "source": [
    "arr = np.zeros((2, 5))\n",
    "print(arr)"
   ]
  },
  {
   "cell_type": "markdown",
   "id": "93206a4b",
   "metadata": {},
   "source": [
    "np.ones( ): 모든 요소가 1인 배열을 생성\n",
    "> np.ones(shape, dtype=float)\n"
   ]
  },
  {
   "cell_type": "code",
   "execution_count": 25,
   "id": "afbd7b15",
   "metadata": {},
   "outputs": [
    {
     "name": "stdout",
     "output_type": "stream",
     "text": [
      "[1. 1. 1. 1. 1. 1. 1. 1. 1. 1.]\n"
     ]
    }
   ],
   "source": [
    "# np.ones()\n",
    "arr = np.ones(10)\n",
    "print(arr)"
   ]
  },
  {
   "cell_type": "code",
   "execution_count": 26,
   "id": "a00db6d3",
   "metadata": {},
   "outputs": [
    {
     "name": "stdout",
     "output_type": "stream",
     "text": [
      "[1 1 1 1 1 1 1 1 1 1]\n"
     ]
    }
   ],
   "source": [
    "arr = np.ones(10, dtype = int)\n",
    "print(arr)"
   ]
  },
  {
   "cell_type": "code",
   "execution_count": 27,
   "id": "ef0b2477",
   "metadata": {},
   "outputs": [
    {
     "name": "stdout",
     "output_type": "stream",
     "text": [
      "[[1. 1. 1. 1. 1.]\n",
      " [1. 1. 1. 1. 1.]]\n"
     ]
    }
   ],
   "source": [
    "arr = np.ones((2, 5))\n",
    "print(arr)"
   ]
  },
  {
   "cell_type": "markdown",
   "id": "c4670f88",
   "metadata": {},
   "source": [
    "np.eye( ): 단위 행렬을 생성\n",
    "- 단위 행렬은 주 대각선의 요소가 1, 나머지 요소는 모두 0인 정사각 행렬\n",
    "- 행렬 연산에서 곱셈의 항등원 역할\n",
    "> np.eye(N, M=None, k=0, dtype=float)\n",
    "\n",
    "N: 행의 개수  \n",
    "M: 열의 개수, N과 동일하게 지정하면 정사각 행렬, 생략 가능  \n",
    "k: 주 대각선의 위치를 지정, k=0이 기본값이며, k>0은 대각선을 위로, k<0은 아래로 이동시킴"
   ]
  },
  {
   "cell_type": "code",
   "execution_count": 28,
   "id": "7a875406",
   "metadata": {},
   "outputs": [
    {
     "name": "stdout",
     "output_type": "stream",
     "text": [
      "[[1. 0. 0. 0. 0.]\n",
      " [0. 1. 0. 0. 0.]\n",
      " [0. 0. 1. 0. 0.]\n",
      " [0. 0. 0. 1. 0.]\n",
      " [0. 0. 0. 0. 1.]]\n"
     ]
    }
   ],
   "source": [
    "# np.eye()\n",
    "arr = np.eye(5)\n",
    "print(arr)"
   ]
  },
  {
   "cell_type": "code",
   "execution_count": 29,
   "id": "999d5b01",
   "metadata": {},
   "outputs": [
    {
     "name": "stdout",
     "output_type": "stream",
     "text": [
      "[[1 0 0 0 0]\n",
      " [0 1 0 0 0]\n",
      " [0 0 1 0 0]\n",
      " [0 0 0 1 0]\n",
      " [0 0 0 0 1]]\n"
     ]
    }
   ],
   "source": [
    "arr = np.eye(5, dtype = int)\n",
    "print(arr)"
   ]
  },
  {
   "cell_type": "markdown",
   "id": "83938d4b",
   "metadata": {},
   "source": [
    "Numpy 배열 연산하기\n",
    "\n",
    "- 벡터화 연산(vectorized operation)을 지원\n",
    "- 배열의 각 원소에 대한 반복 연산을 하나의 명령어로 처리"
   ]
  },
  {
   "cell_type": "code",
   "execution_count": 30,
   "id": "f5cfc39b",
   "metadata": {},
   "outputs": [
    {
     "data": {
      "text/plain": [
       "array([ 0,  2,  4,  6,  8, 10, 12, 14, 16, 18])"
      ]
     },
     "execution_count": 30,
     "metadata": {},
     "output_type": "execute_result"
    }
   ],
   "source": [
    "# data의 값을 2배로 변경\n",
    "data = [0, 1, 2, 3, 4, 5, 6, 7, 8, 9]\n",
    "x = np.array(data)\n",
    "2*x"
   ]
  },
  {
   "cell_type": "code",
   "execution_count": 31,
   "id": "b33ea30c",
   "metadata": {},
   "outputs": [
    {
     "name": "stdout",
     "output_type": "stream",
     "text": [
      "[12 24 36]\n",
      "[False  True False]\n",
      "[False  True  True]\n",
      "[False  True False]\n"
     ]
    }
   ],
   "source": [
    "# 도전하기\n",
    "a = np.array([1, 2, 3])\n",
    "b = np.array([10, 20, 30])\n",
    "\n",
    "print(2 * a + b)\n",
    "print(a == 2)\n",
    "print(b > 10)\n",
    "print((a == 2) & (b > 10))"
   ]
  },
  {
   "cell_type": "code",
   "execution_count": 32,
   "id": "421f3709",
   "metadata": {},
   "outputs": [
    {
     "name": "stdout",
     "output_type": "stream",
     "text": [
      "[[0 1 2]\n",
      " [3 4 5]]\n",
      "(2, 3)\n"
     ]
    }
   ],
   "source": [
    "# 2차원 배열 만들고 행과 열의 개수 구하기\n",
    "\n",
    "c = np.array([[0, 1, 2], [3, 4, 5]])\n",
    "print(c)\n",
    "print(c.shape)"
   ]
  },
  {
   "cell_type": "code",
   "execution_count": 33,
   "id": "abf987a5",
   "metadata": {},
   "outputs": [
    {
     "name": "stdout",
     "output_type": "stream",
     "text": [
      "[[[ 1  2  3  4]\n",
      "  [ 5  6  7  8]\n",
      "  [ 9 10 11 12]]\n",
      "\n",
      " [[11 12 13 14]\n",
      "  [15 16 17 18]\n",
      "  [19 20 21 22]]]\n",
      "(2, 3, 4)\n"
     ]
    }
   ],
   "source": [
    "# 3차원 배열 만들고 깊이(차원),행과 열의 개수 구하기\n",
    "d = np.array([[[1, 2, 3, 4],\n",
    "               [5, 6, 7, 8],\n",
    "               [9, 10, 11, 12]],\n",
    "              [[11, 12, 13, 14],\n",
    "               [15, 16, 17, 18],\n",
    "               [19, 20, 21, 22]]])\n",
    "\n",
    "print(d)\n",
    "print(d.shape)      # 3차원(차원, 행, 열)"
   ]
  },
  {
   "cell_type": "code",
   "execution_count": 34,
   "id": "cde98578",
   "metadata": {},
   "outputs": [
    {
     "name": "stdout",
     "output_type": "stream",
     "text": [
      "1\n",
      "(3,)\n",
      "3\n"
     ]
    }
   ],
   "source": [
    "# 배열의 차원과 크기 알아내기\n",
    "a = np.array([1, 2, 3])\n",
    "print(a.ndim)       # 배열의 차원\n",
    "print(a.shape)      # 배열의 모양\n",
    "print(a.size)       # 배열에 들어있는 총 요소의 개수"
   ]
  },
  {
   "cell_type": "code",
   "execution_count": 35,
   "id": "63b318a2",
   "metadata": {},
   "outputs": [
    {
     "name": "stdout",
     "output_type": "stream",
     "text": [
      "2\n",
      "(2, 3)\n",
      "6\n"
     ]
    }
   ],
   "source": [
    "# 배열의 차원과 크기 알아내기2\n",
    "c = np.array([[0, 1, 2], [3, 4, 5]])\n",
    "print(c.ndim)\n",
    "print(c.shape)\n",
    "print(c.size)"
   ]
  },
  {
   "cell_type": "code",
   "execution_count": 36,
   "id": "edf70f68",
   "metadata": {},
   "outputs": [
    {
     "name": "stdout",
     "output_type": "stream",
     "text": [
      "3\n",
      "(2, 3, 4)\n",
      "24\n"
     ]
    }
   ],
   "source": [
    "# 배열의 차원과 크기 알아내기3\n",
    "d = np.array([[[1, 2, 3, 4],\n",
    "               [5, 6, 7, 8],\n",
    "               [9, 10, 11, 12]],\n",
    "              [[11, 12, 13, 14],\n",
    "               [15, 16, 17, 18],\n",
    "               [19, 20, 21, 22]]])\n",
    "\n",
    "print(d.ndim)\n",
    "print(d.shape)\n",
    "print(d.size)"
   ]
  },
  {
   "cell_type": "code",
   "execution_count": 37,
   "id": "f64c9ac9",
   "metadata": {},
   "outputs": [
    {
     "name": "stdout",
     "output_type": "stream",
     "text": [
      "2\n",
      "4\n"
     ]
    }
   ],
   "source": [
    "# 배열의 인덱싱\n",
    "a = np.array([0, 1, 2, 3, 4])\n",
    "print(a[2])\n",
    "print(a[-1])"
   ]
  },
  {
   "cell_type": "code",
   "execution_count": 38,
   "id": "a312f88e",
   "metadata": {},
   "outputs": [
    {
     "name": "stdout",
     "output_type": "stream",
     "text": [
      "0 1 5\n"
     ]
    }
   ],
   "source": [
    "# 배열의 인덱싱2\n",
    "# 0, 1, 5만 출력\n",
    "a = np.array([[0, 1, 2], [3, 4, 5]])\n",
    "print(a[0][0], a[0][1], a[1][2])"
   ]
  },
  {
   "cell_type": "code",
   "execution_count": 39,
   "id": "8cc7a6c3",
   "metadata": {},
   "outputs": [
    {
     "name": "stdout",
     "output_type": "stream",
     "text": [
      "[0 1 2]\n"
     ]
    }
   ],
   "source": [
    "# 배열의 슬라이싱\n",
    "# 0, 1, 2만 출력\n",
    "a = np.array([[0, 1, 2, 3], [4, 5, 6, 7]])\n",
    "print(a[0, 0:3])"
   ]
  },
  {
   "cell_type": "code",
   "execution_count": 40,
   "id": "7e397201",
   "metadata": {},
   "outputs": [
    {
     "name": "stdout",
     "output_type": "stream",
     "text": [
      "[1 5]\n",
      "[1 5]\n"
     ]
    }
   ],
   "source": [
    "# 배열의 슬라이싱2\n",
    "# 1, 5만 출력\n",
    "a = np.array([[0, 1, 2, 3], [4, 5, 6, 7]])\n",
    "print(a[:, 1])\n",
    "print(a[0:2, 1])"
   ]
  },
  {
   "cell_type": "code",
   "execution_count": 41,
   "id": "ab61e2ad",
   "metadata": {},
   "outputs": [
    {
     "name": "stdout",
     "output_type": "stream",
     "text": [
      "[5 6 7]\n"
     ]
    }
   ],
   "source": [
    "# 배열의 슬라이싱3\n",
    "# 5, 6, 7 출력\n",
    "a = np.array([[0, 1, 2, 3], [4, 5, 6, 7]])\n",
    "print(a[1, 1:4])"
   ]
  },
  {
   "cell_type": "code",
   "execution_count": 42,
   "id": "fe9cdd10",
   "metadata": {},
   "outputs": [
    {
     "name": "stdout",
     "output_type": "stream",
     "text": [
      "[[0 1]\n",
      " [4 5]]\n"
     ]
    }
   ],
   "source": [
    "# 배열의 슬라이싱4\n",
    "# 0, 1, 4, 5 출력\n",
    "a = np.array([[0, 1, 2, 3], [4, 5, 6, 7]])\n",
    "print(a[0:2, 0:2])"
   ]
  },
  {
   "cell_type": "markdown",
   "id": "7d5e980c",
   "metadata": {},
   "source": [
    "펜시 인덱싱(fancy indexing)\n",
    "- 데이터베이스의 질의(Query) 기능을 수행\n",
    "- 대괄호 안의 인덱스 정보로 숫자나 슬라이스가 아니라,  \n",
    "  위치 정보를 나타내는 또 다른 ndarray 배열을 받을 수 있음\n",
    "- 불리언(Boolean) 배열 방식과 정수 배열 방식"
   ]
  },
  {
   "cell_type": "code",
   "execution_count": 43,
   "id": "035c0be7",
   "metadata": {},
   "outputs": [
    {
     "data": {
      "text/plain": [
       "array([0, 2, 4, 6, 8])"
      ]
     },
     "execution_count": 43,
     "metadata": {},
     "output_type": "execute_result"
    }
   ],
   "source": [
    "# 팬시 인덱싱\n",
    "# 불리언 방식\n",
    "a = np.array([0, 1, 2, 3, 4, 5, 6, 7, 8, 9])\n",
    "idx = np.array([True, False, True, False, True,\n",
    "               False, True, False, True, False])\n",
    "a[idx]"
   ]
  },
  {
   "cell_type": "code",
   "execution_count": 44,
   "id": "e2510217",
   "metadata": {},
   "outputs": [
    {
     "name": "stdout",
     "output_type": "stream",
     "text": [
      "[ True False  True False  True False  True False  True False]\n",
      "[0 2 4 6 8]\n"
     ]
    }
   ],
   "source": [
    "# 팬시 인덱싱\n",
    "# 조건문 연산을 사용하여 짝수인 원소만 출력\n",
    "# 조건문 연산: 참, 거짓을 판단 (주로 논리, 비교 연산자)\n",
    "a = np.array([0, 1, 2, 3, 4, 5, 6, 7, 8, 9])\n",
    "even = a % 2 == 0\n",
    "print(even)\n",
    "print(a[even])"
   ]
  },
  {
   "cell_type": "code",
   "execution_count": 45,
   "id": "6b7e5e3a",
   "metadata": {},
   "outputs": [
    {
     "data": {
      "text/plain": [
       "array([11, 33, 55, 77, 99])"
      ]
     },
     "execution_count": 45,
     "metadata": {},
     "output_type": "execute_result"
    }
   ],
   "source": [
    "# 팬시 인덱싱\n",
    "# 정수 배열 인덱싱\n",
    "a = np.array([11, 22, 33, 44, 55, 66, 77, 88, 99])\n",
    "idx = np.array([0, 2, 4, 6, 8])\n",
    "a[idx]"
   ]
  },
  {
   "cell_type": "code",
   "execution_count": 46,
   "id": "0d26a7d5",
   "metadata": {},
   "outputs": [
    {
     "data": {
      "text/plain": [
       "array([11, 11, 11, 11, 11, 11, 22, 22, 22, 22, 22, 33, 33, 33, 33, 33])"
      ]
     },
     "execution_count": 46,
     "metadata": {},
     "output_type": "execute_result"
    }
   ],
   "source": [
    "# 팬시 인덱싱\n",
    "# 정수 배열 인덱싱2\n",
    "a = np.array([11, 22, 33, 44, 55, 66, 77, 88, 99])\n",
    "idx = np.array([0, 0, 0, 0, 0, 0, 1, 1, 1, 1, 1, 2, 2, 2, 2, 2])\n",
    "a[idx]"
   ]
  },
  {
   "cell_type": "code",
   "execution_count": 47,
   "id": "872b0f28",
   "metadata": {},
   "outputs": [
    {
     "name": "stdout",
     "output_type": "stream",
     "text": [
      "[[ 1  4]\n",
      " [ 5  8]\n",
      " [ 9 12]]\n"
     ]
    }
   ],
   "source": [
    "# 팬시 인덱싱\n",
    "# 1, 4, 5, 8, 9, 12 출력\n",
    "a = np.array([[1, 2, 3, 4], [5, 6, 7, 8], [9, 10, 11, 12]])\n",
    "print(a[ : , [0,3]])\n"
   ]
  },
  {
   "cell_type": "code",
   "execution_count": 48,
   "id": "2102a3fc",
   "metadata": {},
   "outputs": [
    {
     "name": "stdout",
     "output_type": "stream",
     "text": [
      "[[ 9 10 11 12]\n",
      " [ 1  2  3  4]\n",
      " [ 5  6  7  8]]\n"
     ]
    }
   ],
   "source": [
    "# 팬시 인덱싱\n",
    "# 행 위치 변경\n",
    "a = np.array([[1, 2, 3, 4], [5, 6, 7, 8], [9, 10, 11, 12]])\n",
    "print(a[[2, 0, 1]])"
   ]
  },
  {
   "cell_type": "code",
   "execution_count": 49,
   "id": "932bbaf2",
   "metadata": {},
   "outputs": [
    {
     "name": "stdout",
     "output_type": "stream",
     "text": [
      "[ 3  6  9 12 15 18]\n",
      "[ 1  5  9 13 17]\n",
      "[9]\n"
     ]
    }
   ],
   "source": [
    "# 도전하기\n",
    "x = np.array([1, 2, 3, 4, 5, 6, 7, 8, 9, 10, 11, 12, 13, 14, 15, 16, 17, 18, 19, 20])\n",
    "\n",
    "# 3의 배수 출력\n",
    "num1 = x % 3 == 0\n",
    "print(x[num1])\n",
    "\n",
    "# 4로 나누면 1이 남는 수\n",
    "num2 = x % 4 == 1\n",
    "print(x[num2])\n",
    "\n",
    "# 3으로 나눠지고, 4로 나누면 1이 남는 수\n",
    "num3 = num1 & num2\n",
    "print(x[num3])"
   ]
  },
  {
   "cell_type": "code",
   "execution_count": 50,
   "id": "82aac2c0",
   "metadata": {},
   "outputs": [
    {
     "data": {
      "text/plain": [
       "dtype('float64')"
      ]
     },
     "execution_count": 50,
     "metadata": {},
     "output_type": "execute_result"
    }
   ],
   "source": [
    "# 넘파이 자료형\n",
    "x = np.array([1, 2, 3.0])\n",
    "x.dtype"
   ]
  },
  {
   "cell_type": "code",
   "execution_count": 51,
   "id": "2c458ceb",
   "metadata": {},
   "outputs": [
    {
     "data": {
      "text/plain": [
       "np.float64(4.0)"
      ]
     },
     "execution_count": 51,
     "metadata": {},
     "output_type": "execute_result"
    }
   ],
   "source": [
    "# 넘파이 자료형2\n",
    "x = np.array([1, 2, 3.0])\n",
    "x[0] + x[2]"
   ]
  },
  {
   "cell_type": "code",
   "execution_count": 52,
   "id": "57176475",
   "metadata": {},
   "outputs": [
    {
     "data": {
      "text/plain": [
       "array([[ 0,  1,  2,  3],\n",
       "       [ 4,  5,  6,  7],\n",
       "       [ 8,  9, 10, 11]])"
      ]
     },
     "execution_count": 52,
     "metadata": {},
     "output_type": "execute_result"
    }
   ],
   "source": [
    "# 배열의 내부 데이터는 그대로 둔 채 형태만 바꿀 때\n",
    "a = np.arange(12)\n",
    "a\n",
    "\n",
    "b = a.reshape(3, 4)\n",
    "b"
   ]
  },
  {
   "cell_type": "code",
   "execution_count": 53,
   "id": "46dab56d",
   "metadata": {},
   "outputs": [
    {
     "data": {
      "text/plain": [
       "array([[ 0,  1,  2,  3],\n",
       "       [ 4,  5,  6,  7],\n",
       "       [ 8,  9, 10, 11]])"
      ]
     },
     "execution_count": 53,
     "metadata": {},
     "output_type": "execute_result"
    }
   ],
   "source": [
    "# 배열의 내부 데이터는 그대로 둔 채 형태만 바꿀 때2\n",
    "a = np.arange(12)\n",
    "a.reshape(3, -1)     # -1은 NumPy가 배열의 크기를 자동으로 계산(열의 수 자동 결정)"
   ]
  },
  {
   "cell_type": "code",
   "execution_count": 54,
   "id": "0d05a5e1",
   "metadata": {},
   "outputs": [
    {
     "data": {
      "text/plain": [
       "array([[[ 0,  1,  2],\n",
       "        [ 3,  4,  5]],\n",
       "\n",
       "       [[ 6,  7,  8],\n",
       "        [ 9, 10, 11]]])"
      ]
     },
     "execution_count": 54,
     "metadata": {},
     "output_type": "execute_result"
    }
   ],
   "source": [
    "# 배열의 내부 데이터는 그대로 둔 채 형태만 바꿀 때3\n",
    "a = np.arange(12)\n",
    "b = a.reshape(2, 2, -1)\n",
    "b"
   ]
  },
  {
   "cell_type": "code",
   "execution_count": 55,
   "id": "fc862656",
   "metadata": {},
   "outputs": [
    {
     "data": {
      "text/plain": [
       "array([[[ 0,  1],\n",
       "        [ 2,  3],\n",
       "        [ 4,  5]],\n",
       "\n",
       "       [[ 6,  7],\n",
       "        [ 8,  9],\n",
       "        [10, 11]]])"
      ]
     },
     "execution_count": 55,
     "metadata": {},
     "output_type": "execute_result"
    }
   ],
   "source": [
    "# 배열의 내부 데이터는 그대로 둔 채 형태만 바꿀 때4\n",
    "a = np.arange(12)\n",
    "b = a.reshape(2, -1, 2)\n",
    "b"
   ]
  },
  {
   "cell_type": "code",
   "execution_count": 56,
   "id": "f1846786",
   "metadata": {},
   "outputs": [
    {
     "data": {
      "text/plain": [
       "array([ 0,  1,  2,  3,  4,  5,  6,  7,  8,  9, 10, 11])"
      ]
     },
     "execution_count": 56,
     "metadata": {},
     "output_type": "execute_result"
    }
   ],
   "source": [
    "# 배열의 내부 데이터는 그대로 둔 채 형태만 바꿀 때4\n",
    "b.flatten()"
   ]
  },
  {
   "cell_type": "code",
   "execution_count": 57,
   "id": "3b279789",
   "metadata": {},
   "outputs": [
    {
     "data": {
      "text/plain": [
       "array([10002, 10004, 10006, 10008, 10010, 10012, 10014, 10016, 10018,\n",
       "       10020])"
      ]
     },
     "execution_count": 57,
     "metadata": {},
     "output_type": "execute_result"
    }
   ],
   "source": [
    "# 벡터화 연산\n",
    "x = np.arange(1, 10001)\n",
    "y = np.arange(10001, 20001)\n",
    "z = np.zeros_like(x)    # x 배열과 동일한 형태와 자료형을 가진 배열 생성한 후 모든 요소는 0\n",
    " \n",
    "for i in range(10000):\n",
    "    z[i] = x[i] + y[i]\n",
    "z[:10]"
   ]
  },
  {
   "cell_type": "code",
   "execution_count": 58,
   "id": "b7c98cad",
   "metadata": {},
   "outputs": [
    {
     "data": {
      "text/plain": [
       "array([10002, 10004, 10006, 10008, 10010, 10012, 10014, 10016, 10018,\n",
       "       10020])"
      ]
     },
     "execution_count": 58,
     "metadata": {},
     "output_type": "execute_result"
    }
   ],
   "source": [
    "# 벡터화 연산2\n",
    "x = np.arange(1, 10001)\n",
    "y = np.arange(10001, 20001)\n",
    "\n",
    "z = x + y\n",
    "z[:10]"
   ]
  },
  {
   "cell_type": "code",
   "execution_count": 59,
   "id": "6d775221",
   "metadata": {},
   "outputs": [
    {
     "name": "stdout",
     "output_type": "stream",
     "text": [
      "For 루프 방식 실행 시간: 0.000000 초\n",
      "벡터화 연산 방식 실행 시간: 0.000000 초\n"
     ]
    }
   ],
   "source": [
    "# 벡터화 연산3\n",
    "x = np.arange(1, 10001)\n",
    "y = np.arange(10001, 20001)\n",
    "\n",
    "# for 루프 시간 측정\n",
    "import time\n",
    "start_time = time.time()\n",
    "\n",
    "z = np.zeros_like(x)\n",
    "for i in range(10000):\n",
    "    z[i] = x[i] + y[i]\n",
    "end_time = time.time()\n",
    "\n",
    "print(f\"For 루프 방식 실행 시간: {end_time - start_time:.6f} 초\")\n",
    "\n",
    "# 벡터화 연산 시간 측정\n",
    "start_time = time.time()\n",
    "\n",
    "z = x + y\n",
    "\n",
    "end_time = time.time()\n",
    "print(f\"벡터화 연산 방식 실행 시간: {end_time - start_time:.6f} 초\")"
   ]
  },
  {
   "cell_type": "code",
   "execution_count": 60,
   "id": "80d04f55",
   "metadata": {},
   "outputs": [
    {
     "name": "stdout",
     "output_type": "stream",
     "text": [
      "[False  True False  True]\n",
      "[False  True  True  True]\n"
     ]
    }
   ],
   "source": [
    "# 벡터화 연산4\n",
    "a = np.array([1, 2, 3, 4])\n",
    "b = np.array([4, 2, 2, 4])\n",
    "\n",
    "print(a == b)\n",
    "print(a >= b)"
   ]
  },
  {
   "cell_type": "code",
   "execution_count": 61,
   "id": "e434535a",
   "metadata": {},
   "outputs": [
    {
     "name": "stdout",
     "output_type": "stream",
     "text": [
      "False\n",
      "True\n"
     ]
    }
   ],
   "source": [
    "# 벡터화 연산5\n",
    "a = np.array([1, 2, 3, 4])\n",
    "b = np.array([4, 2, 2, 4])\n",
    "c = np.array([1, 2, 3, 4])\n",
    "\n",
    "print(np.all(a == b))\n",
    "print(np.all(a == c))"
   ]
  },
  {
   "cell_type": "code",
   "execution_count": 62,
   "id": "cf06e176",
   "metadata": {},
   "outputs": [
    {
     "data": {
      "text/plain": [
       "array([1, 2, 3, 4, 5])"
      ]
     },
     "execution_count": 62,
     "metadata": {},
     "output_type": "execute_result"
    }
   ],
   "source": [
    "# 벡터화 연산6\n",
    "x = np.arange(5)\n",
    "x + 1"
   ]
  },
  {
   "cell_type": "code",
   "execution_count": 63,
   "id": "5cfe651f",
   "metadata": {},
   "outputs": [
    {
     "name": "stdout",
     "output_type": "stream",
     "text": [
      "10\n",
      "1\n",
      "0\n",
      "2.5\n"
     ]
    }
   ],
   "source": [
    "# 유니버셜 함수\n",
    "x = np.array([1, 2, 3, 4])\n",
    "\n",
    "print(x.sum())\n",
    "print(x.min())\n",
    "print(x.argmin())   # 배열 x에서 가장 작은 값의 인덱스 반환\n",
    "print(x.mean())"
   ]
  }
 ],
 "metadata": {
  "kernelspec": {
   "display_name": "Python 3",
   "language": "python",
   "name": "python3"
  },
  "language_info": {
   "codemirror_mode": {
    "name": "ipython",
    "version": 3
   },
   "file_extension": ".py",
   "mimetype": "text/x-python",
   "name": "python",
   "nbconvert_exporter": "python",
   "pygments_lexer": "ipython3",
   "version": "3.10.11"
  }
 },
 "nbformat": 4,
 "nbformat_minor": 5
}
