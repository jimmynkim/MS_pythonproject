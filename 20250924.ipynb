{
 "cells": [
  {
   "cell_type": "code",
   "execution_count": 1,
   "id": "d9e9e45c",
   "metadata": {},
   "outputs": [
    {
     "name": "stdout",
     "output_type": "stream",
     "text": [
      "Collecting numpy"
     ]
    },
    {
     "name": "stderr",
     "output_type": "stream",
     "text": [
      "\n",
      "[notice] A new release of pip is available: 23.0.1 -> 25.2\n",
      "[notice] To update, run: python.exe -m pip install --upgrade pip\n"
     ]
    },
    {
     "name": "stdout",
     "output_type": "stream",
     "text": [
      "\n",
      "  Downloading numpy-2.2.6-cp310-cp310-win_amd64.whl (12.9 MB)\n",
      "     ---------------------------------------- 0.0/12.9 MB ? eta -:--:--\n",
      "     ---------------------------------------- 0.1/12.9 MB 1.9 MB/s eta 0:00:07\n",
      "     - -------------------------------------- 0.4/12.9 MB 3.9 MB/s eta 0:00:04\n",
      "     --- ------------------------------------ 1.0/12.9 MB 7.9 MB/s eta 0:00:02\n",
      "     -------- ------------------------------- 2.9/12.9 MB 16.7 MB/s eta 0:00:01\n",
      "     ----------------- ---------------------- 5.5/12.9 MB 25.0 MB/s eta 0:00:01\n",
      "     ------------------ --------------------- 6.1/12.9 MB 22.8 MB/s eta 0:00:01\n",
      "     ------------------------- -------------- 8.3/12.9 MB 26.6 MB/s eta 0:00:01\n",
      "     ------------------------------ --------- 9.9/12.9 MB 27.4 MB/s eta 0:00:01\n",
      "     ------------------------------------- - 12.3/12.9 MB 40.9 MB/s eta 0:00:01\n",
      "     --------------------------------------  12.9/12.9 MB 38.5 MB/s eta 0:00:01\n",
      "     --------------------------------------- 12.9/12.9 MB 34.4 MB/s eta 0:00:00\n",
      "Installing collected packages: numpy\n",
      "Successfully installed numpy-2.2.6\n"
     ]
    }
   ],
   "source": [
    "!pip install numpy"
   ]
  },
  {
   "cell_type": "code",
   "execution_count": 2,
   "id": "bb5e2baf",
   "metadata": {},
   "outputs": [
    {
     "name": "stdout",
     "output_type": "stream",
     "text": [
      "Collecting beautifulsoup4\n",
      "  Downloading beautifulsoup4-4.13.5-py3-none-any.whl (105 kB)\n",
      "     ---------------------------------------- 0.0/105.1 kB ? eta -:--:--\n",
      "     -------------------------------------  102.4/105.1 kB 2.0 MB/s eta 0:00:01\n",
      "     -------------------------------------- 105.1/105.1 kB 1.2 MB/s eta 0:00:00\n",
      "Requirement already satisfied: typing-extensions>=4.0.0 in c:\\users\\el087\\appdata\\roaming\\python\\python310\\site-packages (from beautifulsoup4) (4.15.0)\n",
      "Collecting soupsieve>1.2\n",
      "  Downloading soupsieve-2.8-py3-none-any.whl (36 kB)\n",
      "Installing collected packages: soupsieve, beautifulsoup4\n",
      "Successfully installed beautifulsoup4-4.13.5 soupsieve-2.8\n"
     ]
    },
    {
     "name": "stderr",
     "output_type": "stream",
     "text": [
      "\n",
      "[notice] A new release of pip is available: 23.0.1 -> 25.2\n",
      "[notice] To update, run: python.exe -m pip install --upgrade pip\n"
     ]
    }
   ],
   "source": [
    "!pip install beautifulsoup4"
   ]
  },
  {
   "cell_type": "code",
   "execution_count": 3,
   "id": "655a992a",
   "metadata": {},
   "outputs": [],
   "source": [
    "import numpy\n",
    "from bs4 import BeautifulSoup"
   ]
  }
 ],
 "metadata": {
  "kernelspec": {
   "display_name": "Python 3",
   "language": "python",
   "name": "python3"
  },
  "language_info": {
   "codemirror_mode": {
    "name": "ipython",
    "version": 3
   },
   "file_extension": ".py",
   "mimetype": "text/x-python",
   "name": "python",
   "nbconvert_exporter": "python",
   "pygments_lexer": "ipython3",
   "version": "3.10.11"
  }
 },
 "nbformat": 4,
 "nbformat_minor": 5
}
