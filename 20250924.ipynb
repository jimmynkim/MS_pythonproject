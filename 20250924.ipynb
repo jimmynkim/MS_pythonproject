{
 "cells": [
  {
   "cell_type": "markdown",
   "id": "b8364910",
   "metadata": {},
   "source": [
    "## 파이썬 기본3"
   ]
  },
  {
   "cell_type": "markdown",
   "id": "c62258f1",
   "metadata": {},
   "source": [
    "### Numpy, Pandas, Matplotlib"
   ]
  },
  {
   "cell_type": "markdown",
   "id": "ff88cb52",
   "metadata": {},
   "source": [
    "#### Numpy"
   ]
  },
  {
   "cell_type": "markdown",
   "id": "a2666a57",
   "metadata": {},
   "source": [
    "넘파이(Numpy)\n",
    "\n",
    "- 대수, 행렬, 통계 등 수학 및 과학 연산을 위한 라이브러리\n",
    "- ndarray라는 다차원 배열을 데이터로 나타내고 처리하는데 특화\n",
    "- **실행속도가 빠르고 짧고 간결한 코드 구현**이 가능\n",
    "- Numpy는 외부 라이브러리이므로, 설치 후 사용 가능\n",
    "\n",
    "Numpy 배열과 파이썬 리스트의 차이\n",
    "\n",
    "- 파이썬 리스트는 배열에 실제 데이터의 주소가 담겨져 있음\n",
    "- 이것으로 인해 서로 다른 데이터타입을 리스트 요소로 넣을 수 있음\n",
    "- 반면 numpy 배열은 실제 데이터가 배열에 들어 있음\n",
    "- 리스트는 데이터를 읽고 쓰기에 numpy 배열보다 2배의 시간이 걸림\n",
    "- 대량의 배열 연산 또는 행렬 연산에는 numpy가 유리함\n",
    "\n",
    "넘파이 배열(Numpy Array)\n",
    "\n",
    "- 넘파이는 다차원 배열을 지원함 (1차원: Vector, 2차원: Matrix, 3차원 이상: Tensor)\n",
    "- 넘파이 배열은 한 가지 자료형 데이터를 요소로 가짐"
   ]
  },
  {
   "cell_type": "code",
   "execution_count": null,
   "id": "655a992a",
   "metadata": {},
   "outputs": [],
   "source": [
    "# 시작하기 전 패키지 실행\n",
    "import numpy\n",
    "from bs4 import BeautifulSoup"
   ]
  },
  {
   "cell_type": "code",
   "execution_count": null,
   "id": "092a86fb",
   "metadata": {},
   "outputs": [],
   "source": [
    "# numpy를 간결하게 별명 붙이기\n",
    "import numpy as np"
   ]
  },
  {
   "cell_type": "markdown",
   "id": "c7ce34f9",
   "metadata": {},
   "source": [
    "넘파이 배열 직접 생성\n",
    "- 리스트 데이터를 넘파이 배열로 바꾸어 생성\n",
    "> np.array(리스트)"
   ]
  },
  {
   "cell_type": "code",
   "execution_count": 35,
   "id": "13e2d881",
   "metadata": {},
   "outputs": [
    {
     "name": "stdout",
     "output_type": "stream",
     "text": [
      "[1 2 3 4]\n"
     ]
    }
   ],
   "source": [
    "num_list = [1, 2, 3, 4]\n",
    "int_arr2 = np.array(num_list)\n",
    "print(int_arr2)     # 넘파이 배열은 ',' 없이 공백으로 데이터 구분"
   ]
  },
  {
   "cell_type": "markdown",
   "id": "a8efb3d7",
   "metadata": {},
   "source": [
    "배열의 범위를 지정하여 생성\n",
    "- 시작 인덱스부터 시작하여 끝 인덱스 전까지, 간격만큼 더해 넘파이 배열 생성\n",
    "> np.arange (시작 인덱스, 끝 인덱스, 간격)"
   ]
  },
  {
   "cell_type": "code",
   "execution_count": 36,
   "id": "b9a654f6",
   "metadata": {},
   "outputs": [
    {
     "data": {
      "text/plain": [
       "array([0, 1, 2, 3, 4, 5, 6, 7, 8, 9])"
      ]
     },
     "execution_count": 36,
     "metadata": {},
     "output_type": "execute_result"
    }
   ],
   "source": [
    "arr1 = np.arange(0, 10)\n",
    "arr1"
   ]
  },
  {
   "cell_type": "code",
   "execution_count": 29,
   "id": "6d1ec71a",
   "metadata": {},
   "outputs": [
    {
     "data": {
      "text/plain": [
       "array([0, 2, 4, 6, 8])"
      ]
     },
     "execution_count": 29,
     "metadata": {},
     "output_type": "execute_result"
    }
   ],
   "source": [
    "arr2 = np.arange(0, 10, 2)\n",
    "arr2"
   ]
  },
  {
   "cell_type": "code",
   "execution_count": 30,
   "id": "831a6a31",
   "metadata": {},
   "outputs": [
    {
     "data": {
      "text/plain": [
       "array([0, 1, 2, 3, 4])"
      ]
     },
     "execution_count": 30,
     "metadata": {},
     "output_type": "execute_result"
    }
   ],
   "source": [
    "arr3 = np.arange(5)\n",
    "arr3"
   ]
  },
  {
   "cell_type": "markdown",
   "id": "30a4b45a",
   "metadata": {},
   "source": [
    "넘파이 배열에 들어가는 자료형\n",
    "- 한 가지 데이터 타입으로 통일되어 처리됨\n"
   ]
  },
  {
   "cell_type": "code",
   "execution_count": 37,
   "id": "128cbec7",
   "metadata": {},
   "outputs": [
    {
     "name": "stdout",
     "output_type": "stream",
     "text": [
      "['1' '2' '3']\n"
     ]
    }
   ],
   "source": [
    "list_data = [1, '2', 3]\n",
    "arr = np.array(list_data)   # 문자열형으로 통일\n",
    "print(arr)  "
   ]
  },
  {
   "cell_type": "code",
   "execution_count": 34,
   "id": "430ab64d",
   "metadata": {},
   "outputs": [
    {
     "name": "stdout",
     "output_type": "stream",
     "text": [
      "[1. 2. 3.]\n"
     ]
    }
   ],
   "source": [
    "list_data = [1, 2., 3]\n",
    "arr = np.array(list_data)    # 실수형으로 통일\n",
    "print(arr)                   # 넘파이는 소수점 아래 0이 계속 되는 경우 이를 생략\n",
    "                             # 소수점만 표시해 해당 원소가 실수형임을 알림"
   ]
  },
  {
   "cell_type": "markdown",
   "id": "759bbd9a",
   "metadata": {},
   "source": [
    "2차원 배열 생성\n",
    "- 2차원 배열은 행렬(matrix)이라고 함\n",
    "- 가로줄은 행(row), 세로줄은 열(column)"
   ]
  },
  {
   "cell_type": "code",
   "execution_count": 40,
   "id": "db022998",
   "metadata": {},
   "outputs": [
    {
     "name": "stdout",
     "output_type": "stream",
     "text": [
      "[[ 1  2  3  4]\n",
      " [ 5  6  7  8]\n",
      " [ 9 10 11 12]]\n"
     ]
    }
   ],
   "source": [
    "arr = np.array([[1, 2, 3, 4], [5, 6, 7, 8], [9, 10, 11, 12]])  # 중첩된 2차원 리스트\n",
    "print(arr)"
   ]
  },
  {
   "cell_type": "markdown",
   "id": "a47cc44f",
   "metadata": {},
   "source": [
    "3차원 배열 생성\n",
    "- 3차원 이상의 배열은 tensor이라고 함"
   ]
  },
  {
   "cell_type": "code",
   "execution_count": 41,
   "id": "78f6cbc8",
   "metadata": {},
   "outputs": [
    {
     "name": "stdout",
     "output_type": "stream",
     "text": [
      "[[[ 1  2  3  4]\n",
      "  [ 5  6  7  8]]\n",
      "\n",
      " [[ 9 10 11 12]\n",
      "  [13 14 15 16]]\n",
      "\n",
      " [[17 18 19 20]\n",
      "  [21 22 23 24]]]\n"
     ]
    }
   ],
   "source": [
    "arr = np.array([[[1, 2, 3, 4], [5, 6, 7, 8]], \n",
    "                [[9, 10, 11, 12], [13, 14, 15, 16]],\n",
    "                [[17, 18, 19, 20], [21, 22, 23, 24]]])\n",
    "print(arr)"
   ]
  },
  {
   "cell_type": "markdown",
   "id": "19a30574",
   "metadata": {},
   "source": [
    "넘파이 배열의 차원\n",
    "> 넘파이 배열명.ndim"
   ]
  },
  {
   "cell_type": "code",
   "execution_count": null,
   "id": "e2b9be29",
   "metadata": {},
   "outputs": [
    {
     "name": "stdout",
     "output_type": "stream",
     "text": [
      "[1 2 3 4]\n",
      "1\n"
     ]
    }
   ],
   "source": [
    "arr = np.array([1, 2, 3, 4])    # 1차원 리스트\n",
    "\n",
    "print(arr)\n",
    "print(arr.ndim)    "
   ]
  },
  {
   "cell_type": "code",
   "execution_count": 43,
   "id": "95ac250c",
   "metadata": {},
   "outputs": [
    {
     "name": "stdout",
     "output_type": "stream",
     "text": [
      "[[1 2 3 4]\n",
      " [5 6 7 8]]\n",
      "2\n"
     ]
    }
   ],
   "source": [
    "arr = np.array([[1, 2, 3, 4], [5, 6, 7, 8]])  # 중첩된 2차원 리스트\n",
    "print(arr)\n",
    "print(arr.ndim) "
   ]
  },
  {
   "cell_type": "markdown",
   "id": "3eaca262",
   "metadata": {},
   "source": [
    "넘파이 배열의 크기\n",
    "> 넘파이 배열명.shape"
   ]
  },
  {
   "cell_type": "code",
   "execution_count": null,
   "id": "3073eba3",
   "metadata": {},
   "outputs": [
    {
     "name": "stdout",
     "output_type": "stream",
     "text": [
      "[1 2 3 4]\n",
      "(4,)\n"
     ]
    }
   ],
   "source": [
    "arr = np.array([1, 2, 3, 4])    # 1차원 요소수가 4개\n",
    "\n",
    "print(arr)\n",
    "print(arr.shape) "
   ]
  },
  {
   "cell_type": "code",
   "execution_count": 45,
   "id": "dba4e2e4",
   "metadata": {},
   "outputs": [
    {
     "name": "stdout",
     "output_type": "stream",
     "text": [
      "[[1 2 3 4]\n",
      " [5 6 7 8]]\n",
      "(2, 4)\n"
     ]
    }
   ],
   "source": [
    "arr = np.array([[1, 2, 3, 4], [5, 6, 7, 8]])  # 2차원 (2행 4열)\n",
    "print(arr)\n",
    "print(arr.shape) "
   ]
  },
  {
   "cell_type": "markdown",
   "id": "dab378db",
   "metadata": {},
   "source": [
    "넘파이 배열의 차원 변경\n",
    "> 넘파이 배열명.reshape(크기)"
   ]
  },
  {
   "cell_type": "code",
   "execution_count": null,
   "id": "3a0236be",
   "metadata": {},
   "outputs": [
    {
     "name": "stdout",
     "output_type": "stream",
     "text": [
      "1\n",
      "(10,)\n",
      "[[ 1  2  3  4  5]\n",
      " [ 6  7  8  9 10]]\n",
      "2\n",
      "(2, 5)\n"
     ]
    }
   ],
   "source": [
    "arr = np.array([1, 2, 3, 4, 5, 6, 7, 8, 9, 10])\n",
    "print(arr.ndim)\n",
    "print(arr.shape)\n",
    "\n",
    "arr2 = arr.reshape(2, 5)    # 2행 5열로 변경\n",
    "print(arr2)\n",
    "print(arr2.ndim)\n",
    "print(arr2.shape)"
   ]
  },
  {
   "cell_type": "code",
   "execution_count": null,
   "id": "c6616f6a",
   "metadata": {},
   "outputs": [
    {
     "name": "stdout",
     "output_type": "stream",
     "text": [
      "[[ 1  2  3  4  5]\n",
      " [ 6  7  8  9 10]]\n",
      "2\n",
      "(2, 5)\n"
     ]
    }
   ],
   "source": [
    "arr = np.array([1, 2, 3, 4, 5, 6, 7, 8, 9, 10])\n",
    "\n",
    "arr2 = arr.reshape(2, -1)   # -1은 NumPy가 배열의 크기를 자동으로 계산(열의 수 자동 결정)\n",
    "print(arr2)\n",
    "print(arr2.ndim)\n",
    "print(arr2.shape)"
   ]
  },
  {
   "cell_type": "code",
   "execution_count": 48,
   "id": "80819d46",
   "metadata": {},
   "outputs": [
    {
     "name": "stdout",
     "output_type": "stream",
     "text": [
      "[[ 1  2]\n",
      " [ 3  4]\n",
      " [ 5  6]\n",
      " [ 7  8]\n",
      " [ 9 10]]\n",
      "2\n",
      "(5, 2)\n"
     ]
    }
   ],
   "source": [
    "arr = np.array([1, 2, 3, 4, 5, 6, 7, 8, 9, 10])\n",
    "\n",
    "arr2 = arr.reshape(5, -1) \n",
    "print(arr2)\n",
    "print(arr2.ndim)\n",
    "print(arr2.shape)"
   ]
  },
  {
   "cell_type": "markdown",
   "id": "0d777bc1",
   "metadata": {},
   "source": [
    "넘파이 연산\n",
    "- shape이 같다면 덧셈, 뺄셈, 곱셈, 나눗셈 연산 가능"
   ]
  },
  {
   "cell_type": "code",
   "execution_count": null,
   "id": "bc0cfb0d",
   "metadata": {},
   "outputs": [
    {
     "name": "stdout",
     "output_type": "stream",
     "text": [
      "[5 7 9]\n",
      "[-3 -3 -3]\n",
      "[ 4 10 18]\n",
      "[0.25 0.4  0.5 ]\n"
     ]
    }
   ],
   "source": [
    "a = np.array([1, 2, 3])     # 동일한 인덱스끼리 연산\n",
    "b = np.array([4, 5, 6])\n",
    "\n",
    "print(a + b)\n",
    "print(a - b)\n",
    "print(a * b)\n",
    "print(a / b)"
   ]
  },
  {
   "cell_type": "code",
   "execution_count": null,
   "id": "cf4c1ec5",
   "metadata": {},
   "outputs": [
    {
     "name": "stdout",
     "output_type": "stream",
     "text": [
      "[2 3 4]\n",
      "[0 1 2]\n",
      "[3 6 9]\n",
      "[0.5 1.  1.5]\n"
     ]
    }
   ],
   "source": [
    "# 백터화 연산 (모든 요소에 일괄적으로 연산 적용)\n",
    "a = np.array([1, 2, 3])\n",
    "\n",
    "print(a + 1)\n",
    "print(a - 1)\n",
    "print(a * 3)\n",
    "print(a / 2)"
   ]
  },
  {
   "cell_type": "markdown",
   "id": "c26cc39c",
   "metadata": {},
   "source": [
    "배열의 범위와 개수를 지정하여 생성\n",
    "- 시작 인덱스부터 끝 인덱스까지 n개의 요소를 갖는 넘파이을 생성\n",
    "> np.linspace(시작 인덱스, 끝 인덱스, 개수 n)"
   ]
  },
  {
   "cell_type": "code",
   "execution_count": 51,
   "id": "db0d64a0",
   "metadata": {},
   "outputs": [
    {
     "name": "stdout",
     "output_type": "stream",
     "text": [
      "[ 1.  2.  3.  4.  5.  6.  7.  8.  9. 10.]\n",
      "float64\n"
     ]
    }
   ],
   "source": [
    "arr = np.linspace(1, 10, 10)\n",
    "\n",
    "print(arr)\n",
    "print(arr.dtype)"
   ]
  },
  {
   "cell_type": "code",
   "execution_count": null,
   "id": "374abe1d",
   "metadata": {},
   "outputs": [
    {
     "name": "stdout",
     "output_type": "stream",
     "text": [
      "[0.         0.34906585 0.6981317  1.04719755 1.3962634  1.74532925\n",
      " 2.0943951  2.44346095 2.7925268  3.14159265]\n",
      "float64\n"
     ]
    }
   ],
   "source": [
    "arr = np.linspace(0, np.pi, 10)     # 0부터 파이까지 동일한 간격으로 10개의 데이터 생성\n",
    "\n",
    "print(arr)\n",
    "print(arr.dtype)"
   ]
  },
  {
   "cell_type": "markdown",
   "id": "8e27aa26",
   "metadata": {},
   "source": [
    "< 특별한 값을 갖는 배열 생성 >"
   ]
  },
  {
   "cell_type": "markdown",
   "id": "551bc00d",
   "metadata": {},
   "source": [
    "np.zeros( ): 모든 요소가 0인 배열을 생성\n",
    "> np.zeros(shape, dtype=float)"
   ]
  },
  {
   "cell_type": "code",
   "execution_count": 54,
   "id": "82ba0827",
   "metadata": {},
   "outputs": [
    {
     "name": "stdout",
     "output_type": "stream",
     "text": [
      "[0. 0. 0. 0. 0. 0. 0. 0. 0. 0.]\n"
     ]
    }
   ],
   "source": [
    "# np.zeros()\n",
    "arr = np.zeros(10)\n",
    "print(arr)"
   ]
  },
  {
   "cell_type": "code",
   "execution_count": 55,
   "id": "0319665a",
   "metadata": {},
   "outputs": [
    {
     "name": "stdout",
     "output_type": "stream",
     "text": [
      "[0 0 0 0 0 0 0 0 0 0]\n"
     ]
    }
   ],
   "source": [
    "arr = np.zeros(10, dtype = int)\n",
    "print(arr)"
   ]
  },
  {
   "cell_type": "code",
   "execution_count": 56,
   "id": "7d987dad",
   "metadata": {},
   "outputs": [
    {
     "name": "stdout",
     "output_type": "stream",
     "text": [
      "[[0. 0. 0. 0. 0.]\n",
      " [0. 0. 0. 0. 0.]]\n"
     ]
    }
   ],
   "source": [
    "arr = np.zeros((2, 5))\n",
    "print(arr)"
   ]
  },
  {
   "cell_type": "markdown",
   "id": "93206a4b",
   "metadata": {},
   "source": [
    "np.ones( ): 모든 요소가 1인 배열을 생성\n",
    "> np.ones(shape, dtype=float)\n"
   ]
  },
  {
   "cell_type": "code",
   "execution_count": 57,
   "id": "afbd7b15",
   "metadata": {},
   "outputs": [
    {
     "name": "stdout",
     "output_type": "stream",
     "text": [
      "[1. 1. 1. 1. 1. 1. 1. 1. 1. 1.]\n"
     ]
    }
   ],
   "source": [
    "# np.ones()\n",
    "arr = np.ones(10)\n",
    "print(arr)"
   ]
  },
  {
   "cell_type": "code",
   "execution_count": 58,
   "id": "a00db6d3",
   "metadata": {},
   "outputs": [
    {
     "name": "stdout",
     "output_type": "stream",
     "text": [
      "[1 1 1 1 1 1 1 1 1 1]\n"
     ]
    }
   ],
   "source": [
    "arr = np.ones(10, dtype = int)\n",
    "print(arr)"
   ]
  },
  {
   "cell_type": "code",
   "execution_count": 59,
   "id": "ef0b2477",
   "metadata": {},
   "outputs": [
    {
     "name": "stdout",
     "output_type": "stream",
     "text": [
      "[[1. 1. 1. 1. 1.]\n",
      " [1. 1. 1. 1. 1.]]\n"
     ]
    }
   ],
   "source": [
    "arr = np.ones((2, 5))\n",
    "print(arr)"
   ]
  },
  {
   "cell_type": "markdown",
   "id": "c4670f88",
   "metadata": {},
   "source": [
    "np.eye( ): 단위 행렬을 생성\n",
    "- 단위 행렬은 주 대각선의 요소가 1, 나머지 요소는 모두 0인 정사각 행렬\n",
    "- 행렬 연산에서 곱셈의 항등원 역할\n",
    "> np.eye(N, M=None, k=0, dtype=float)\n",
    "\n",
    "N: 행의 개수  \n",
    "M: 열의 개수, N과 동일하게 지정하면 정사각 행렬, 생략 가능  \n",
    "k: 주 대각선의 위치를 지정, k=0이 기본값이며, k>0은 대각선을 위로, k<0은 아래로 이동시킴"
   ]
  },
  {
   "cell_type": "code",
   "execution_count": 60,
   "id": "7a875406",
   "metadata": {},
   "outputs": [
    {
     "name": "stdout",
     "output_type": "stream",
     "text": [
      "[[1. 0. 0. 0. 0.]\n",
      " [0. 1. 0. 0. 0.]\n",
      " [0. 0. 1. 0. 0.]\n",
      " [0. 0. 0. 1. 0.]\n",
      " [0. 0. 0. 0. 1.]]\n"
     ]
    }
   ],
   "source": [
    "# np.eye()\n",
    "arr = np.eye(5)\n",
    "print(arr)"
   ]
  },
  {
   "cell_type": "code",
   "execution_count": 61,
   "id": "999d5b01",
   "metadata": {},
   "outputs": [
    {
     "name": "stdout",
     "output_type": "stream",
     "text": [
      "[[1 0 0 0 0]\n",
      " [0 1 0 0 0]\n",
      " [0 0 1 0 0]\n",
      " [0 0 0 1 0]\n",
      " [0 0 0 0 1]]\n"
     ]
    }
   ],
   "source": [
    "arr = np.eye(5, dtype = int)\n",
    "print(arr)"
   ]
  },
  {
   "cell_type": "code",
   "execution_count": 22,
   "id": "8dda73b3",
   "metadata": {},
   "outputs": [
    {
     "data": {
      "text/plain": [
       "array([[[ 0,  1],\n",
       "        [ 2,  3],\n",
       "        [ 4,  5]],\n",
       "\n",
       "       [[ 6,  7],\n",
       "        [ 8,  9],\n",
       "        [10, 11]]])"
      ]
     },
     "execution_count": 22,
     "metadata": {},
     "output_type": "execute_result"
    }
   ],
   "source": [
    "a = np.arange(12)\n",
    "b = a.reshape(2, -1, 2)\n",
    "b"
   ]
  },
  {
   "cell_type": "code",
   "execution_count": 23,
   "id": "f1846786",
   "metadata": {},
   "outputs": [
    {
     "data": {
      "text/plain": [
       "array([ 0,  1,  2,  3,  4,  5,  6,  7,  8,  9, 10, 11])"
      ]
     },
     "execution_count": 23,
     "metadata": {},
     "output_type": "execute_result"
    }
   ],
   "source": [
    "b.flatten()"
   ]
  },
  {
   "cell_type": "code",
   "execution_count": 19,
   "id": "3b279789",
   "metadata": {},
   "outputs": [
    {
     "data": {
      "text/plain": [
       "array([10002, 10004, 10006, 10008, 10010, 10012, 10014, 10016, 10018,\n",
       "       10020])"
      ]
     },
     "execution_count": 19,
     "metadata": {},
     "output_type": "execute_result"
    }
   ],
   "source": [
    "x = np.arange(1, 10001)\n",
    "y = np.arange(10001, 20001)\n",
    "z = np.zeros_like(x)\n",
    " \n",
    "for i in range(10000):\n",
    "    z[i] = x[i] + y[i]\n",
    "z[:10]"
   ]
  },
  {
   "cell_type": "code",
   "execution_count": 24,
   "id": "e093906d",
   "metadata": {},
   "outputs": [
    {
     "data": {
      "text/plain": [
       "array([0, 2, 4, 6, 8])"
      ]
     },
     "execution_count": 24,
     "metadata": {},
     "output_type": "execute_result"
    }
   ],
   "source": [
    "a = np.array([0, 1, 2, 3, 4, 5, 6, 7, 8, 9])\n",
    "idx = np.array([True, False, True, False, True,\n",
    " False, True, False, True, False])\n",
    "a[idx]"
   ]
  },
  {
   "cell_type": "code",
   "execution_count": 25,
   "id": "e4ba9d55",
   "metadata": {},
   "outputs": [
    {
     "data": {
      "text/plain": [
       "array([11, 33, 55, 77, 99])"
      ]
     },
     "execution_count": 25,
     "metadata": {},
     "output_type": "execute_result"
    }
   ],
   "source": [
    "a = np.array([11, 22, 33, 44, 55, 66, 77, 88, 99])\n",
    "idx = np.array([0, 2, 4, 6, 8])\n",
    "a[idx]"
   ]
  }
 ],
 "metadata": {
  "kernelspec": {
   "display_name": "Python 3",
   "language": "python",
   "name": "python3"
  },
  "language_info": {
   "codemirror_mode": {
    "name": "ipython",
    "version": 3
   },
   "file_extension": ".py",
   "mimetype": "text/x-python",
   "name": "python",
   "nbconvert_exporter": "python",
   "pygments_lexer": "ipython3",
   "version": "3.10.11"
  }
 },
 "nbformat": 4,
 "nbformat_minor": 5
}
