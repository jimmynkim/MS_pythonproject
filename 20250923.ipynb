{
 "cells": [
  {
   "cell_type": "markdown",
   "id": "b5d2d05c",
   "metadata": {},
   "source": [
    "## 파이썬 기본2"
   ]
  },
  {
   "cell_type": "markdown",
   "id": "5394fd73",
   "metadata": {},
   "source": [
    "### 함수와 클래스"
   ]
  },
  {
   "cell_type": "markdown",
   "id": "baf7b1ad",
   "metadata": {},
   "source": [
    "#### 함수 및 사용자 정의 함수"
   ]
  },
  {
   "cell_type": "markdown",
   "id": "a1ebaa8b",
   "metadata": {},
   "source": [
    "함수: 특정 동작을 수행하는 일정한 코드의 모임\n",
    "- 재료(매개변수)를 받아서, 결과(반환 값)를 만들어주는 상자를 만드는 것\n",
    "- 지금까지 파이썬의 다양한 내장함수를 사용해 왔음  ex) print( ), input( ), int( )\n",
    "- 사용자 정의 함수 ex) def( )\n",
    "\n",
    "내장 함수: 프로그래밍을 편리하게 할 수 있도록 미리 만들어진 함수\n",
    "- 별도의 설치과정 없이, 파이썬을 설치하면 바로 사용할 수 있는 함수\n",
    "- ex) print( ), del( ), type( ), input( ), range( ), str( )\n",
    "- 파이썬 내장 함수: https://docs.python.org/ko/3/library/functions.html\n",
    "\n",
    "내장 함수 - map 함수)\n",
    "- map(function, iterable)\n",
    "- function에 iterable의 item들을 인자로 전달하여 실행\n",
    "- function의 parameter 수 만큼 iterable이 전달되어야 함\n",
    "- 결과는 map 타입\n",
    "\n",
    "내장 함수 - zip 함수)\n",
    "- zip(*iterable)\n",
    "- 각 iterable의 동일 인덱스의 item들을 튜플 쌍으로 반환\n",
    "- 결과는 zip 타입이며 iterable들의 길이는 달라도 무방\n",
    "\n",
    "내장함수 - enumerate 함수)\n",
    "- enumerate(iterable[, start = 0])\n",
    "- start는 시작 번호(생략 시 0)이며 결과는 enumerate 타입\n",
    "- item들의 번호를 부여하여 (idex, value)의 튜플 쌍을 생성\n",
    "\n",
    "내장함수 - filter 함수)\n",
    "- 반복 가능한 객체에서 특정 조건에 맞는 요소만 가져옴\n",
    "- filter에 지정한 함수의 반환값이 True일 때만 해당 요소를 가져옴\n",
    "- filter(함수, 반복가능한 객체)"
   ]
  },
  {
   "cell_type": "code",
   "execution_count": null,
   "id": "c93d1886",
   "metadata": {},
   "outputs": [
    {
     "name": "stdout",
     "output_type": "stream",
     "text": [
      "result1: [2, 3, 4, 5, 6]\n",
      "result2: [2, 3, 4, 5, 6]\n"
     ]
    }
   ],
   "source": [
    "# map 함수: 각 리스트의 값에 1씩 더한 값\n",
    "myList = [1, 2, 3, 4, 5]\n",
    "\n",
    "# for 반복문 이용\n",
    "result1 = []\n",
    "for val in myList:\n",
    "    result1.append(val + 1)\n",
    "print(f'result1: {result1}')\n",
    "\n",
    "# map 함수와 lambda 함수를 사용하여 각 요소에 1을 더하기\n",
    "result2 = list(map(lambda val: val + 1, myList))\n",
    "\n",
    "print(f'result2: {result2}')"
   ]
  },
  {
   "cell_type": "code",
   "execution_count": 7,
   "id": "bd3be5bf",
   "metadata": {},
   "outputs": [
    {
     "name": "stdout",
     "output_type": "stream",
     "text": [
      "변환된 정수 값: (3, -6, 100, 26)\n"
     ]
    }
   ],
   "source": [
    "# map 함수2: 각각의 실수 값들을 가까운 정수값으로 변환 (round 이용)\n",
    "f = (3.14, -5.625, 100.4, 25.8)\n",
    "result3 = tuple(map(round, f))\n",
    "\n",
    "print(f'변환된 정수 값: {result3}')"
   ]
  },
  {
   "cell_type": "code",
   "execution_count": 8,
   "id": "8701db1c",
   "metadata": {},
   "outputs": [
    {
     "name": "stdout",
     "output_type": "stream",
     "text": [
      "이 이미지의 rgb 값: [(52, 19, 0), (255, 63, 68), (39, 227, 255), (132, 197, 187)]\n"
     ]
    }
   ],
   "source": [
    "# zip 함수: 이미지의 색상별 데이터를 묶어서 24bpp RGB 이미지 만들기\n",
    "# [조건]: red, green, blue 픽셀 값이 각각의 튜플 r, g, b에 저장\n",
    "# 이 세 개의 튜플에서 같은 인덱스의 값들을 모아 튜플로 (r[0], g[0], b[0])로 구성\n",
    "# 최종적으로 모아진 결과는 list로 만들고 이 내용들을 인쇄\n",
    "# 즉, 최종 결과 list가 img 라면 이 img는 [(r[0],g[0],b[0]), (r[1],g[1],b[1]), …] 형식\n",
    "\n",
    "r = (52, 255, 39, 132)\n",
    "g = (19, 63, 227, 197)\n",
    "b = (0, 68, 255, 187)\n",
    "\n",
    "img = list(zip(r, g, b))\n",
    "\n",
    "print(f'이 이미지의 rgb 값: {img}')"
   ]
  },
  {
   "cell_type": "code",
   "execution_count": 10,
   "id": "496a2226",
   "metadata": {},
   "outputs": [
    {
     "data": {
      "text/plain": [
       "{1: 'apple', 2: 'orange', 3: 'banana', 4: 'mango'}"
      ]
     },
     "execution_count": 10,
     "metadata": {},
     "output_type": "execute_result"
    }
   ],
   "source": [
    "# zip 함수2: 과일 품목별 일련번호 부여하기\n",
    "# # 튜플 f에 있는 과일들을 1번부터 차례대로 인쇄되도록 번호 부여\n",
    "# zip과 range를 이용하는 방법\n",
    "# 단, 결과는 dict로 생성되어야 함\n",
    "\n",
    "f = ('apple', 'orange', 'banana', 'mango')\n",
    "\n",
    "fruit1 = dict(zip(range(1, len(f) + 1),f))\n",
    "fruit1"
   ]
  },
  {
   "cell_type": "code",
   "execution_count": 11,
   "id": "7a04d84d",
   "metadata": {},
   "outputs": [
    {
     "data": {
      "text/plain": [
       "{1: 'apple', 2: 'orange', 3: 'banana', 4: 'mango'}"
      ]
     },
     "execution_count": 11,
     "metadata": {},
     "output_type": "execute_result"
    }
   ],
   "source": [
    "# enumerate 함수: 과일 품목별 일련번호 부여하기\n",
    "# 튜플 f에 있는 과일들을 1번부터 차례대로 인쇄되도록 번호 부여\n",
    "# 단, 결과는 dict로 생성되어야 함\n",
    "\n",
    "f = ('apple', 'orange', 'banana', 'mango')\n",
    "\n",
    "fruit2 = dict(enumerate(f, start=1))\n",
    "\n",
    "fruit2\n"
   ]
  },
  {
   "cell_type": "code",
   "execution_count": 12,
   "id": "5051d439",
   "metadata": {},
   "outputs": [
    {
     "data": {
      "text/plain": [
       "[8, 7, 9]"
      ]
     },
     "execution_count": 12,
     "metadata": {},
     "output_type": "execute_result"
    }
   ],
   "source": [
    "# filter 함수\n",
    "def f(x):\n",
    "    return x > 5 and x <10\n",
    "a = [8, 3, 2, 10, 15, 7, 1, 9, 0, 11]\n",
    "list(filter(f, a))"
   ]
  },
  {
   "cell_type": "markdown",
   "id": "fc5dcb70",
   "metadata": {},
   "source": [
    "함수 def\n",
    "- 함수는 def* 키워드를 사용해서 정의\n",
    "1. 함수 이름\n",
    "2. 매개 변수\n",
    "3. 수행할 명령\n",
    "4. 반환 값\n",
    "\n",
    "- 매개 변수와 인수  \n",
    "\n",
    "    매개 변수(parameter)는 함수에 입력으로 전달된 값을 받는 변수  \n",
    "    인수(argument)는 함수를 호출할 때 전달하는 입력 값\n",
    "\n",
    "기본 함수: 입력값이 있고 리턴값이 있는 함수\n"
   ]
  },
  {
   "cell_type": "code",
   "execution_count": 13,
   "id": "24d20b33",
   "metadata": {},
   "outputs": [
    {
     "data": {
      "text/plain": [
       "7"
      ]
     },
     "execution_count": 13,
     "metadata": {},
     "output_type": "execute_result"
    }
   ],
   "source": [
    "# 기본 함수: 입력값이 있고 리턴값이 있는 함수\n",
    "\n",
    "def add(a, b):\n",
    "    result = a + b\n",
    "    return result\n",
    "\n",
    "a = add(3, 4)\n",
    "a"
   ]
  },
  {
   "cell_type": "code",
   "execution_count": null,
   "id": "4e9546da",
   "metadata": {},
   "outputs": [
    {
     "name": "stdout",
     "output_type": "stream",
     "text": [
      "3\n",
      "10\n"
     ]
    }
   ],
   "source": [
    "# 합을 리턴해주는 함수 \n",
    "def my_sum(a, b):\n",
    "    result = a + b\n",
    "    return result   # 함수는 값을 '반환'만 하고 출력은 하지 않음\n",
    "\n",
    "print(my_sum(1, 2))\n",
    "print(my_sum(3, 7))"
   ]
  },
  {
   "cell_type": "markdown",
   "id": "95588491",
   "metadata": {},
   "source": [
    "입력값이 없는 함수\n",
    "\n",
    "- 고정된 결과를 반환할 때: 항상 같은 값을 반환해야 할 때 \n",
    "- 특정 작업을 시작할 때: 게임 시작이나 프로그램 초기화 등 단순히 특정 동작을 실행시킬 때\n",
    "- 내부 상태를 변경할 때: 함수가 외부로부터 값을 받지 않고, 클래스나 모듈 내의 변수를 변경할 때"
   ]
  },
  {
   "cell_type": "code",
   "execution_count": null,
   "id": "dfe39fd9",
   "metadata": {},
   "outputs": [
    {
     "data": {
      "text/plain": [
       "'Hi'"
      ]
     },
     "execution_count": 14,
     "metadata": {},
     "output_type": "execute_result"
    }
   ],
   "source": [
    "# 입력값이 없는 함수\n",
    "\n",
    "def say():          # 괄호 안에 어떠한 값도 요구하지 않음\n",
    "    return 'Hi'\n",
    "\n",
    "a = say()\n",
    "a"
   ]
  },
  {
   "cell_type": "markdown",
   "id": "e167ec7e",
   "metadata": {},
   "source": [
    "리턴값이 없는 함수\n",
    "\n",
    "- 특정 작업을 수행하는데 주로 사용\n",
    "- 어떤 상태를 변경하거나 외부 시스템과 상호작용하는 등의 부수적인 효과\n",
    "- 예로 화면 출력, 파일 쓰기, 데이터베이스 조작, 상태 변경 등\n",
    "- '무엇인가를 해라'라는 명령을 내릴 때 유용하게 쓰임"
   ]
  },
  {
   "cell_type": "code",
   "execution_count": 15,
   "id": "47e7b2ea",
   "metadata": {},
   "outputs": [
    {
     "name": "stdout",
     "output_type": "stream",
     "text": [
      "3, 4의 합은 7입니다.\n"
     ]
    }
   ],
   "source": [
    "# 리턴값이 없는 함수\n",
    "\n",
    "def add(a, b):\n",
    "    print(\"%d, %d의 합은 %d입니다.\" %(a, b, a+b))\n",
    "\n",
    "add(3, 4)"
   ]
  },
  {
   "cell_type": "code",
   "execution_count": null,
   "id": "a1fa6405",
   "metadata": {},
   "outputs": [],
   "source": [
    "# 입력 값을 포함한 함수 생성\n",
    "def my_func(a):\n",
    "    print(f\"{a}, 내가 만든 함수입니다.\")\n",
    "\n",
    "my_func('Hey')\n",
    "my_func('Hello')\n",
    "my_func('Hi')"
   ]
  },
  {
   "cell_type": "code",
   "execution_count": 1,
   "id": "c195bd1b",
   "metadata": {},
   "outputs": [
    {
     "name": "stdout",
     "output_type": "stream",
     "text": [
      "1와 2의 합은 3입니다.\n",
      "3와 7의 합은 10입니다.\n"
     ]
    }
   ],
   "source": [
    "# 합을 리턴해주는 함수\n",
    "def my_sum(a, b):\n",
    "    result = a + b\n",
    "    print(f\"{a}와 {b}의 합은 {result}입니다.\")\n",
    "\n",
    "my_sum(1, 2)\n",
    "my_sum(3, 7)"
   ]
  },
  {
   "cell_type": "markdown",
   "id": "d23281cb",
   "metadata": {},
   "source": [
    "입력값도 리턴값도 없는 함수\n",
    "\n",
    "- 특정 작업을 실행하고 그 결과를 반환하지 않는 경우\n",
    "- 예로 GUI 이벤트 처리, 파일 로깅 및 저장, 상태 변경 등\n",
    "- '무엇인가를 해라'라는 단순 명령을 수행할 때 유용하며 오직 정해진 행동만을 수행하는 함수"
   ]
  },
  {
   "cell_type": "code",
   "execution_count": 16,
   "id": "a3895648",
   "metadata": {},
   "outputs": [
    {
     "name": "stdout",
     "output_type": "stream",
     "text": [
      "Hi\n"
     ]
    }
   ],
   "source": [
    "# 입력값도 리턴값도 없는 함수\n",
    "def say():\n",
    "    print(\"Hi\")\n",
    "\n",
    "say()"
   ]
  },
  {
   "cell_type": "code",
   "execution_count": null,
   "id": "6ad1073e",
   "metadata": {},
   "outputs": [],
   "source": [
    "# 함수 생성\n",
    "def my_func():\n",
    "    print(\"내가 만든 함수입니다.\")\n",
    "\n",
    "# 함수 호출\n",
    "my_func()"
   ]
  },
  {
   "cell_type": "markdown",
   "id": "2f0eab03",
   "metadata": {},
   "source": [
    "여러 개의 입력값을 받는 함수\n",
    "\n",
    "def 함수이름(*변수):  \n",
    "\n",
    "*변수는 입력받은 변수들을 모두 모아서 튜플로 만듦\n"
   ]
  },
  {
   "cell_type": "code",
   "execution_count": 10,
   "id": "21c99d4d",
   "metadata": {},
   "outputs": [
    {
     "name": "stdout",
     "output_type": "stream",
     "text": [
      "(1, 2)\n",
      "(1, 2, 3)\n"
     ]
    }
   ],
   "source": [
    "# 여러 개의 입력값을 받는 함수\n",
    "def add_many(*args):\n",
    "    print(args)\n",
    "\n",
    "add_many(1, 2)\n",
    "add_many(1, 2, 3)"
   ]
  },
  {
   "cell_type": "code",
   "execution_count": 20,
   "id": "ebdaab59",
   "metadata": {},
   "outputs": [
    {
     "name": "stdout",
     "output_type": "stream",
     "text": [
      "3\n"
     ]
    },
    {
     "data": {
      "text/plain": [
       "6"
      ]
     },
     "execution_count": 20,
     "metadata": {},
     "output_type": "execute_result"
    }
   ],
   "source": [
    "# 여러 개의 입력값을 받는 함수2\n",
    "def add_many(*args):\n",
    "    sum = 0\n",
    "    for i in args:\n",
    "        sum = sum + i\n",
    "    return sum\n",
    "\n",
    "print(add_many(1, 2))\n",
    "add_many(1, 2, 3)"
   ]
  },
  {
   "cell_type": "code",
   "execution_count": 21,
   "id": "dea2f949",
   "metadata": {},
   "outputs": [
    {
     "name": "stdout",
     "output_type": "stream",
     "text": [
      "15\n"
     ]
    },
    {
     "data": {
      "text/plain": [
       "6"
      ]
     },
     "execution_count": 21,
     "metadata": {},
     "output_type": "execute_result"
    }
   ],
   "source": [
    "# 여러 개의 입력값을 받는 함수3\n",
    "# 합과 곱을 구하는 함수\n",
    "def add_mul(choice, *args):\n",
    "    if choice == 'add':\n",
    "        result = 0\n",
    "        for i in args:\n",
    "            result = result + i\n",
    "        pass\n",
    "    elif choice == 'mul':\n",
    "        result = 1\n",
    "        for i in args:\n",
    "            result = result * i\n",
    "        pass\n",
    "    else:\n",
    "        print(\"연산자 종류 확인 요망!\")\n",
    "        result = None\n",
    "    return result\n",
    "\n",
    "print(add_mul('add', 1, 2, 3, 4, 5))\n",
    "add_mul('mul', 1, 2, 3)\n"
   ]
  },
  {
   "cell_type": "code",
   "execution_count": 23,
   "id": "8c81fee6",
   "metadata": {},
   "outputs": [
    {
     "data": {
      "text/plain": [
       "(7, 12)"
      ]
     },
     "execution_count": 23,
     "metadata": {},
     "output_type": "execute_result"
    }
   ],
   "source": [
    "def add_and_mul(a, b):\n",
    "    return a+b, a*b\n",
    "\n",
    "add_and_mul(3, 4)   # 변수 이름이 하나이므로, 하나의 값만 리턴받음(튜플형식)"
   ]
  },
  {
   "cell_type": "code",
   "execution_count": 24,
   "id": "fd92d3e0",
   "metadata": {},
   "outputs": [
    {
     "name": "stdout",
     "output_type": "stream",
     "text": [
      "7\n"
     ]
    },
    {
     "data": {
      "text/plain": [
       "12"
      ]
     },
     "execution_count": 24,
     "metadata": {},
     "output_type": "execute_result"
    }
   ],
   "source": [
    "result1, result2 = add_and_mul(3, 4) \n",
    "print(result1)\n",
    "result2"
   ]
  },
  {
   "cell_type": "code",
   "execution_count": 31,
   "id": "6a525488",
   "metadata": {},
   "outputs": [
    {
     "name": "stdout",
     "output_type": "stream",
     "text": [
      "박지민, 29\n",
      "남자\n"
     ]
    }
   ],
   "source": [
    "# 매개변수를 초기화하여 구현 가능\n",
    "def say_myself(name, age, man=True):    # 성별을 적지 않아도 디폴트로 남자\n",
    "    print(f'{name}, {age}')\n",
    "    if man:\n",
    "        print(\"남자\")\n",
    "    else:\n",
    "        print(\"여자\")\n",
    "\n",
    "say_myself('박지민', 29)\n"
   ]
  },
  {
   "cell_type": "code",
   "execution_count": 32,
   "id": "51a746bd",
   "metadata": {},
   "outputs": [
    {
     "name": "stdout",
     "output_type": "stream",
     "text": [
      "김지민, 26\n",
      "여자\n"
     ]
    }
   ],
   "source": [
    "say_myself('김지민', 26, man=False)"
   ]
  },
  {
   "cell_type": "code",
   "execution_count": 11,
   "id": "3ed988a2",
   "metadata": {},
   "outputs": [
    {
     "data": {
      "text/plain": [
       "7"
      ]
     },
     "execution_count": 11,
     "metadata": {},
     "output_type": "execute_result"
    }
   ],
   "source": [
    "## 미션: 세 개의 숫자를 입력받아 가장 큰 수를 출력하는 num_max 함수\n",
    "\n",
    "def max_num(a, b, c):\n",
    "    max_val = a\n",
    "    if b > max_val:\n",
    "        max_val = b\n",
    "    if c > max_val:\n",
    "        max_val = c\n",
    "    return max_val\n",
    "\n",
    "num = max_num (3, 7, 0)\n",
    "num"
   ]
  },
  {
   "cell_type": "code",
   "execution_count": 10,
   "id": "618735b3",
   "metadata": {},
   "outputs": [
    {
     "data": {
      "text/plain": [
       "24"
      ]
     },
     "execution_count": 10,
     "metadata": {},
     "output_type": "execute_result"
    }
   ],
   "source": [
    "## 미션: 숫자들의 배열을 입력하면 가장 작은 값을 구하는 min_num 함수\n",
    "def min_num(arr):\n",
    "    answer = arr[0]\n",
    "    for i in arr:\n",
    "        if answer > i:\n",
    "            answer = i\n",
    "    return answer\n",
    "\n",
    "min_num([52, 273, 32, 103, 275, 24, 57])\n"
   ]
  },
  {
   "cell_type": "code",
   "execution_count": null,
   "id": "a441436b",
   "metadata": {},
   "outputs": [
    {
     "data": {
      "text/plain": [
       "'hello'"
      ]
     },
     "execution_count": 12,
     "metadata": {},
     "output_type": "execute_result"
    }
   ],
   "source": [
    "# 모스부호 함수로 만들기\n",
    "\n",
    "def morse_to_string(letter):\n",
    "    \n",
    "    morse = { \n",
    "\n",
    "    '.-':'a','-...':'b','-.-.':'c','-..':'d','.':'e','..-.':'f', \n",
    "\n",
    "    '--.':'g','....':'h','..':'i','.---':'j','-.-':'k','.-..':'l', \n",
    "\n",
    "    '--':'m','-.':'n','---':'o','.--.':'p','--.-':'q','.-.':'r', \n",
    "\n",
    "    '...':'s','-':'t','..-':'u','...-':'v','.--':'w','-..-':'x', \n",
    "\n",
    "    '-.--':'y','--..':'z' \n",
    "    } \n",
    "\n",
    "    a = letter.split()  # 인수를 지정하지 않으면 공백을 기준으로 나눔\n",
    "\n",
    "    answer = \"\"\n",
    "\n",
    "    for i in a:     # a의 값을 반복해서 i 변수에 할당\n",
    "        answer = answer + morse[i] # 기존의 answer에 morse 딕셔너리에서 찾은 모스 부호를 이어붙임\n",
    "\n",
    "    return answer\n",
    "\n",
    "letter = \".... . .-.. .-.. ---\" \n",
    "morse_to_string(letter)"
   ]
  },
  {
   "cell_type": "markdown",
   "id": "1d56254d",
   "metadata": {},
   "source": [
    "#### 모듈과 표준모듈"
   ]
  },
  {
   "cell_type": "markdown",
   "id": "7102bbce",
   "metadata": {},
   "source": [
    "#### 클래스 / 객체 / 메소드"
   ]
  },
  {
   "cell_type": "markdown",
   "id": "ac509cd0",
   "metadata": {},
   "source": [
    "사용자 정의 모듈"
   ]
  },
  {
   "cell_type": "code",
   "execution_count": 13,
   "id": "93cec261",
   "metadata": {},
   "outputs": [
    {
     "name": "stdout",
     "output_type": "stream",
     "text": [
      "10\n",
      "-2\n"
     ]
    }
   ],
   "source": [
    "import mymodule as mm\n",
    "\n",
    "print(mm.my_add(7, 3))\n",
    "print(mm.my_sub(3, 5))\n"
   ]
  }
 ],
 "metadata": {
  "kernelspec": {
   "display_name": "Python 3",
   "language": "python",
   "name": "python3"
  },
  "language_info": {
   "codemirror_mode": {
    "name": "ipython",
    "version": 3
   },
   "file_extension": ".py",
   "mimetype": "text/x-python",
   "name": "python",
   "nbconvert_exporter": "python",
   "pygments_lexer": "ipython3",
   "version": "3.10.11"
  }
 },
 "nbformat": 4,
 "nbformat_minor": 5
}
